{
 "cells": [
  {
   "cell_type": "code",
   "execution_count": null,
   "id": "1a740c3f",
   "metadata": {},
   "outputs": [],
   "source": [
    "import pandas as pd\n",
    "import numpy as np\n",
    "from architector import view_structures\n",
    "import architector\n",
    "import architector.io_core as io_core\n",
    "import architector.io_obabel as io_obabel\n",
    "import architector.io_ptable as io_ptable\n",
    "import architector.io_molecule as io_molecule\n",
    "from ase.atoms import Atoms\n",
    "from ase.atom import Atom"
   ]
  },
  {
   "cell_type": "code",
   "execution_count": null,
   "id": "9fdaecb5",
   "metadata": {},
   "outputs": [],
   "source": [
    "# Load in the core geometries and rescale to Fe for viewing purposes.\n",
    "core_geos = io_core.Geometries()\n",
    "core_geos.rescale_refgeos('Ce') # Scale to Fe"
   ]
  },
  {
   "cell_type": "code",
   "execution_count": null,
   "id": "340b9969",
   "metadata": {},
   "outputs": [],
   "source": [
    "# Utility function to visualize the cores.\n",
    "def build_core_ase(core):\n",
    "    at = Atom('Ce',(0.0,0.0,0.0))\n",
    "    ats = Atoms([at])\n",
    "    for item in core:\n",
    "        tmpat = Atom('Ne',item)\n",
    "        ats.append(tmpat)\n",
    "    return ats"
   ]
  },
  {
   "cell_type": "code",
   "execution_count": null,
   "id": "d05a114a",
   "metadata": {
    "scrolled": true
   },
   "outputs": [],
   "source": [
    "# Sort and view the structures by coordination number\n",
    "core_atoms = []\n",
    "core_labels = []\n",
    "cns = []\n",
    "for key,val in core_geos.geometry_dict.items():\n",
    "    core_atoms.append(build_core_ase(val))\n",
    "    cns.append(len(core_atoms[-1]))\n",
    "    core_labels.append(key)\n",
    "order = np.argsort(cns)\n",
    "core_atoms = np.array(core_atoms,dtype='object')[order]\n",
    "core_labels = np.array(core_labels)[order]\n",
    "print('Ideal cores sorted by coordination number: (metal in light yellow, coordination sites in light blue):')\n",
    "view_structures(core_atoms,w=200,h=200,labels=core_labels,labelsize=10,representation='stick',labelinds=True)"
   ]
  },
  {
   "cell_type": "code",
   "execution_count": null,
   "id": "631c7198",
   "metadata": {
    "scrolled": true
   },
   "outputs": [],
   "source": [
    "# Show the reference data for ligTypes.\n",
    "# Pull out the datapath for the ligand reference structures:\n",
    "ref_data_path = '/'.join(architector.__file__.split('/')[0:-1]) + '/data/angle_stats_datasource.csv'\n",
    "\n",
    "ligdf = pd.read_csv(ref_data_path)\n",
    "\n",
    "print('Showing examples of each ligand Type (geometry) label!')\n",
    "print('Note that \"m\" indicates the metal in each - some will not show if M-L bonds are longer than cutoff radii.')\n",
    "print('####################################################################################')\n",
    "ligtypes = ligdf.geotype_label.value_counts().index.values\n",
    "cns = [ligdf[ligdf.geotype_label == x].cn.values[0] for x in ligtypes]\n",
    "order = np.argsort(cns)\n",
    "for i in order:\n",
    "    print(\"Ligand label - 'ligType':\", \"'\" + ligtypes[i] + \"'\")\n",
    "    print('Ligand denticity: ', int(cns[i]))\n",
    "    tdf = ligdf[ligdf.geotype_label == ligtypes[i]].sample(4)\n",
    "    view_structures(tdf.mol2string,labels=['m']*4)\n",
    "    print('####################################################################################')"
   ]
  },
  {
   "cell_type": "code",
   "execution_count": null,
   "id": "d4a62451",
   "metadata": {},
   "outputs": [],
   "source": []
  }
 ],
 "metadata": {
  "kernelspec": {
   "display_name": "Python 3.7.11",
   "language": "python",
   "name": "python3"
  },
  "language_info": {
   "codemirror_mode": {
    "name": "ipython",
    "version": 3
   },
   "file_extension": ".py",
   "mimetype": "text/x-python",
   "name": "python",
   "nbconvert_exporter": "python",
   "pygments_lexer": "ipython3",
   "version": "3.7.11"
  },
  "vscode": {
   "interpreter": {
    "hash": "ca5dc30295e7d5bb5c46e3d5d2bbba73f1a4a9cb4dece04e67d8a04853ce1214"
   }
  }
 },
 "nbformat": 4,
 "nbformat_minor": 5
}
