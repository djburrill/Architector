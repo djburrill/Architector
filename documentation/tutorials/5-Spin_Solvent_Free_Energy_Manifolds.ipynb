{
 "cells": [
  {
   "cell_type": "markdown",
   "id": "099c8db2",
   "metadata": {},
   "source": [
    "# 5- Spin, Solvent, and Free Energy Manifold Modelling\n",
    "\n",
    "We already have covered a big chunk of Architector functionality. Here we further expand and highlight Architector's capability to hand spin and solvent-dependent properties of molecular systems.\n",
    "\n",
    "In this tutorial we will cover:\n",
    "\n",
    "**(A)** Spin-state dependent geometry search.\n",
    "\n",
    "**(B)** Solvent effects in geometry search.\n",
    "\n",
    "**(C)** Free energy analysis after geometry searches."
   ]
  },
  {
   "cell_type": "markdown",
   "id": "5fe62a70",
   "metadata": {},
   "source": [
    "\n",
    "### An interesting test case for spin-state structure dependence is [this study](https://dx.doi.org/10.1021/jacs.0c02355), where light-induced spin state transition enables catalytic activity.\n",
    "\n",
    "We are going to simulate the nitrogen-based ligand from this study with bipyridine (bipy): 'C1=CC=NC(=C1)C2=CC=CC=N2'. \n",
    "\n",
    "We start by importing our basic utilites again:"
   ]
  },
  {
   "cell_type": "code",
   "execution_count": 1,
   "id": "963df31f",
   "metadata": {},
   "outputs": [],
   "source": [
    "from architector import build_complex,view_structures\n",
    "import copy"
   ]
  },
  {
   "cell_type": "markdown",
   "id": "05d99a6b",
   "metadata": {},
   "source": [
    "Looking at the chemistry and repeating some of the functions from tutorial 2 - we can generate a replication of the complexes in the study!"
   ]
  },
  {
   "cell_type": "code",
   "execution_count": 2,
   "id": "191cead8",
   "metadata": {
    "scrolled": true
   },
   "outputs": [
    {
     "data": {
      "text/plain": [
       "{'core': {'metal': 'Ni', 'coreCN': 4},\n",
       " 'ligands': [{'smiles': 'C1=CC=NC(=C1)C2=CC=CC=N2',\n",
       "   'coordList': [3, 11],\n",
       "   'ligType': 'bi_cis'},\n",
       "  {'smiles': '[Br-]', 'coordList': [0]}],\n",
       " 'parameters': {'metal_spin': 0}}"
      ]
     },
     "execution_count": 2,
     "metadata": {},
     "output_type": "execute_result"
    }
   ],
   "source": [
    "inputDict_LS = {\n",
    "    'core':{'metal':'Ni',\n",
    "            'coreCN':4}, # Visual inspection reveals 4-coordinate Ni in the study\n",
    "    'ligands':[\n",
    "        {'smiles':'C1=CC=NC(=C1)C2=CC=CC=N2', # Bipy Ligand SMILES\n",
    "         'coordList':[3,11], # Manually ID'ed coordination by the nitrogens in bipy (see tutorial 2!)\n",
    "         'ligType':'bi_cis'},\n",
    "        {'smiles':'[Br-]', # Bromide is the other ligand!\n",
    "         'coordList':[0]} # Note that we don't need a ligType for monodentate ligands!\n",
    "    ], # Additionally, remember the 4th coordination site is filled by water by default in Architector.\n",
    "    'parameters':{\n",
    "        'metal_spin':0\n",
    "    } # Start with low-spin (LS) Ni\n",
    "}\n",
    "inputDict_LS"
   ]
  },
  {
   "cell_type": "markdown",
   "id": "478b60b2",
   "metadata": {},
   "source": [
    "Now we can build the structures:"
   ]
  },
  {
   "cell_type": "code",
   "execution_count": 3,
   "id": "f746cf05",
   "metadata": {
    "scrolled": true
   },
   "outputs": [
    {
     "name": "stdout",
     "output_type": "stream",
     "text": [
      "                 Step     Time          Energy         fmax\n",
      "*Force-consistent energies used in optimization.\n",
      "LBFGSLineSearch:    0 11:49:51    -1222.614047*       4.2586\n",
      "LBFGSLineSearch:    1 11:49:51    -1222.883950*       1.8396\n",
      "LBFGSLineSearch:    2 11:49:52    -1223.095768*       1.5942\n",
      "LBFGSLineSearch:    3 11:49:52    -1223.173540*       0.9421\n",
      "LBFGSLineSearch:    4 11:49:52    -1223.263950*       0.8877\n",
      "LBFGSLineSearch:    5 11:49:53    -1223.363684*       0.7654\n",
      "LBFGSLineSearch:    6 11:49:53    -1223.409080*       0.7382\n",
      "LBFGSLineSearch:    7 11:49:54    -1223.455955*       0.6671\n",
      "LBFGSLineSearch:    8 11:49:54    -1223.486722*       0.4949\n",
      "LBFGSLineSearch:    9 11:49:54    -1223.538647*       0.6950\n",
      "LBFGSLineSearch:   10 11:49:55    -1223.574281*       0.3916\n",
      "LBFGSLineSearch:   11 11:49:55    -1223.598872*       0.2440\n",
      "LBFGSLineSearch:   12 11:49:55    -1223.616970*       0.4727\n",
      "LBFGSLineSearch:   13 11:49:56    -1223.650279*       0.5748\n",
      "LBFGSLineSearch:   14 11:49:56    -1223.666651*       0.2984\n",
      "LBFGSLineSearch:   15 11:49:57    -1223.691383*       0.5080\n",
      "LBFGSLineSearch:   16 11:49:57    -1223.728725*       0.3660\n",
      "LBFGSLineSearch:   17 11:49:57    -1223.746651*       0.3103\n",
      "LBFGSLineSearch:   18 11:49:58    -1223.767436*       0.2826\n",
      "LBFGSLineSearch:   19 11:49:58    -1223.782576*       0.2872\n",
      "LBFGSLineSearch:   20 11:49:58    -1223.799273*       0.3349\n",
      "LBFGSLineSearch:   21 11:49:59    -1223.813603*       0.5208\n",
      "LBFGSLineSearch:   22 11:49:59    -1223.824210*       0.3837\n",
      "LBFGSLineSearch:   23 11:49:59    -1223.833566*       0.2916\n",
      "LBFGSLineSearch:   24 11:50:00    -1223.851977*       0.4908\n",
      "LBFGSLineSearch:   25 11:50:00    -1223.863941*       0.3022\n",
      "LBFGSLineSearch:   26 11:50:00    -1223.884450*       0.7432\n",
      "LBFGSLineSearch:   27 11:50:00    -1223.903829*       0.3326\n",
      "LBFGSLineSearch:   28 11:50:01    -1223.916296*       0.4799\n",
      "LBFGSLineSearch:   29 11:50:01    -1223.922670*       0.2731\n",
      "LBFGSLineSearch:   30 11:50:01    -1223.929971*       0.1955\n",
      "LBFGSLineSearch:   31 11:50:02    -1223.939579*       0.4638\n",
      "LBFGSLineSearch:   32 11:50:02    -1223.945935*       0.1851\n",
      "LBFGSLineSearch:   33 11:50:02    -1223.953621*       0.1558\n",
      "LBFGSLineSearch:   34 11:50:02    -1223.960376*       0.1831\n",
      "LBFGSLineSearch:   35 11:50:02    -1223.964661*       0.1899\n",
      "LBFGSLineSearch:   36 11:50:03    -1223.969923*       0.1518\n",
      "LBFGSLineSearch:   37 11:50:03    -1223.974840*       0.1818\n",
      "LBFGSLineSearch:   38 11:50:03    -1223.981324*       0.1795\n",
      "LBFGSLineSearch:   39 11:50:04    -1223.986130*       0.2982\n",
      "LBFGSLineSearch:   40 11:50:04    -1223.992830*       0.1729\n",
      "LBFGSLineSearch:   41 11:50:04    -1223.997773*       0.1623\n",
      "LBFGSLineSearch:   42 11:50:05    -1224.005066*       0.2431\n",
      "LBFGSLineSearch:   43 11:50:05    -1224.012765*       0.2707\n",
      "LBFGSLineSearch:   44 11:50:06    -1224.020021*       0.2538\n",
      "LBFGSLineSearch:   45 11:50:06    -1224.029059*       0.2083\n",
      "LBFGSLineSearch:   46 11:50:06    -1224.034270*       0.1759\n",
      "LBFGSLineSearch:   47 11:50:07    -1224.040677*       0.1760\n",
      "LBFGSLineSearch:   48 11:50:07    -1224.044486*       0.1201\n",
      "LBFGSLineSearch:   49 11:50:07    -1224.048533*       0.1312\n",
      "LBFGSLineSearch:   50 11:50:07    -1224.053459*       0.1822\n",
      "LBFGSLineSearch:   51 11:50:08    -1224.059904*       0.1544\n",
      "LBFGSLineSearch:   52 11:50:08    -1224.062508*       0.0993\n",
      "                 Step     Time          Energy         fmax\n",
      "*Force-consistent energies used in optimization.\n",
      "LBFGSLineSearch:    0 11:50:21    -1223.325994*       3.4605\n",
      "LBFGSLineSearch:    1 11:50:22    -1223.564706*       1.7695\n",
      "LBFGSLineSearch:    2 11:50:22    -1223.685530*       0.9865\n",
      "LBFGSLineSearch:    3 11:50:23    -1223.759824*       0.5654\n",
      "LBFGSLineSearch:    4 11:50:24    -1223.794291*       0.6931\n",
      "LBFGSLineSearch:    5 11:50:25    -1223.859334*       0.7968\n",
      "LBFGSLineSearch:    6 11:50:26    -1223.919129*       0.6364\n",
      "LBFGSLineSearch:    7 11:50:27    -1223.968352*       0.5557\n",
      "LBFGSLineSearch:    8 11:50:27    -1223.984639*       0.3509\n",
      "LBFGSLineSearch:    9 11:50:28    -1224.008141*       0.5678\n",
      "LBFGSLineSearch:   10 11:50:29    -1224.040149*       0.6549\n",
      "LBFGSLineSearch:   11 11:50:29    -1224.052244*       0.2630\n",
      "LBFGSLineSearch:   12 11:50:30    -1224.060328*       0.2927\n",
      "LBFGSLineSearch:   13 11:50:30    -1224.065550*       0.1817\n",
      "LBFGSLineSearch:   14 11:50:31    -1224.070105*       0.1939\n",
      "LBFGSLineSearch:   15 11:50:32    -1224.074887*       0.2197\n",
      "LBFGSLineSearch:   16 11:50:32    -1224.078404*       0.1324\n",
      "LBFGSLineSearch:   17 11:50:33    -1224.080533*       0.1732\n",
      "LBFGSLineSearch:   18 11:50:34    -1224.084531*       0.1509\n",
      "LBFGSLineSearch:   19 11:50:34    -1224.087491*       0.1996\n",
      "LBFGSLineSearch:   20 11:50:35    -1224.090797*       0.1576\n",
      "LBFGSLineSearch:   21 11:50:36    -1224.093261*       0.1597\n",
      "LBFGSLineSearch:   22 11:50:36    -1224.095092*       0.0864\n",
      "                 Step     Time          Energy         fmax\n",
      "*Force-consistent energies used in optimization.\n",
      "LBFGSLineSearch:    0 11:50:51    -1221.999681*       5.0071\n",
      "LBFGSLineSearch:    1 11:50:51    -1222.487116*       2.7969\n",
      "LBFGSLineSearch:    2 11:50:52    -1222.957327*       2.0166\n",
      "LBFGSLineSearch:    3 11:50:52    -1223.132587*       1.2355\n",
      "LBFGSLineSearch:    4 11:50:53    -1223.287974*       0.9335\n",
      "LBFGSLineSearch:    5 11:50:53    -1223.426062*       1.4779\n",
      "LBFGSLineSearch:    6 11:50:53    -1223.558126*       0.7767\n",
      "LBFGSLineSearch:    7 11:50:54    -1223.588666*       0.4553\n",
      "LBFGSLineSearch:    8 11:50:54    -1223.614282*       0.3367\n",
      "LBFGSLineSearch:    9 11:50:54    -1223.632012*       0.2910\n",
      "LBFGSLineSearch:   10 11:50:54    -1223.653669*       0.4357\n",
      "LBFGSLineSearch:   11 11:50:55    -1223.689329*       0.4247\n",
      "LBFGSLineSearch:   12 11:50:55    -1223.698886*       0.3241\n",
      "LBFGSLineSearch:   13 11:50:55    -1223.713034*       0.3972\n",
      "LBFGSLineSearch:   14 11:50:56    -1223.730560*       0.3501\n",
      "LBFGSLineSearch:   15 11:50:56    -1223.742507*       0.4821\n",
      "LBFGSLineSearch:   16 11:50:57    -1223.755750*       0.3172\n",
      "LBFGSLineSearch:   17 11:50:57    -1223.769086*       0.2525\n",
      "LBFGSLineSearch:   18 11:50:57    -1223.775222*       0.2566\n",
      "LBFGSLineSearch:   19 11:50:58    -1223.783606*       0.3698\n",
      "LBFGSLineSearch:   20 11:50:58    -1223.793737*       0.1762\n",
      "LBFGSLineSearch:   21 11:50:58    -1223.795938*       0.1027\n",
      "LBFGSLineSearch:   22 11:50:58    -1223.798790*       0.1964\n",
      "LBFGSLineSearch:   23 11:50:59    -1223.800765*       0.0778\n"
     ]
    }
   ],
   "source": [
    "out_LS_dict = build_complex(inputDict_LS)"
   ]
  },
  {
   "cell_type": "markdown",
   "id": "fc0e65f4",
   "metadata": {},
   "source": [
    "And visualize the structures. Here we will pull out the XTB energies as labels:"
   ]
  },
  {
   "cell_type": "code",
   "execution_count": 4,
   "id": "280e8d97",
   "metadata": {},
   "outputs": [
    {
     "data": {
      "application/3dmoljs_load.v0": "<div id=\"3dmolviewer_1669747861799247\"  style=\"position: relative; width: 800px; height: 200px\">\n        <p id=\"3dmolwarning_1669747861799247\" style=\"background-color:#ffcccc;color:black\">You appear to be running in JupyterLab (or JavaScript failed to load for some other reason).  You need to install the 3dmol extension: <br>\n        <tt>jupyter labextension install jupyterlab_3dmol</tt></p>\n        </div>\n<script>\n\nvar loadScriptAsync = function(uri){\n  return new Promise((resolve, reject) => {\n    var tag = document.createElement('script');\n    tag.src = uri;\n    tag.async = true;\n    tag.onload = () => {\n      resolve();\n    };\n  var firstScriptTag = document.getElementsByTagName('script')[0];\n  firstScriptTag.parentNode.insertBefore(tag, firstScriptTag);\n});\n};\n\nif(typeof $3Dmolpromise === 'undefined') {\n$3Dmolpromise = null;\n  $3Dmolpromise = loadScriptAsync('https://cdn.jsdelivr.net/npm/3dmol@latest/build/3Dmol-min.min.js');\n}\n\nvar viewer_1669747861799247 = null;\nvar warn = document.getElementById(\"3dmolwarning_1669747861799247\");\nif(warn) {\n    warn.parentNode.removeChild(warn);\n}\n$3Dmolpromise.then(function() {\nvar viewergrid_1669747861799247 = null;\nviewergrid_1669747861799247 = $3Dmol.createViewerGrid($(\"#3dmolviewer_1669747861799247\"),{rows: 1, cols: 4, control_all: false},{backgroundColor:\"white\"});\nviewer_1669747861799247 = viewergrid_1669747861799247[0][0];\nviewergrid_1669747861799247[0][0].zoomTo();viewergrid_1669747861799247[0][1].zoomTo();viewergrid_1669747861799247[0][2].zoomTo();viewergrid_1669747861799247[0][3].zoomTo();\tviewergrid_1669747861799247[0][0].addModel(\"@<TRIPOS>MOLECULE\\ntmp.mol2\\n    25    27     1     0     0\\nSMALL\\nNoCharges\\n****\\nGenerated from Architector\\n\\n@<TRIPOS>ATOM\\n     1 Ni1      -0.0502   -0.0476   -0.0123   Ni        1 RES1   0.0000\\n     2 C1        4.6121    0.5049    0.0001   C.ar      1 RES1   0.0000\\n     3 C2        4.1018   -0.7817    0.0007   C.ar      1 RES1   0.0000\\n     4 C3        2.7286   -0.9703    0.0010   C.ar      1 RES1   0.0000\\n     5 N1        1.8571    0.0390   -0.0007   N.ar      1 RES1   0.0000\\n     6 C4        2.3455    1.3039    0.0012   C.ar      1 RES1   0.0000\\n     7 C5        3.7130    1.5577    0.0025   C.ar      1 RES1   0.0000\\n     8 C6        1.3270    2.3564    0.0008   C.ar      1 RES1   0.0000\\n     9 C7        1.5931    3.7204    0.0024   C.ar      1 RES1   0.0000\\n    10 C8        0.5370    4.6170    0.0009   C.ar      1 RES1   0.0000\\n    11 C9       -0.7592    4.1269   -0.0018   C.ar      1 RES1   0.0000\\n    12 C10      -0.9496    2.7549   -0.0042   C.ar      1 RES1   0.0000\\n    13 N2        0.0607    1.8938   -0.0024   N.ar      1 RES1   0.0000\\n    14 H1        5.6770    0.6814   -0.0022   H         1 RES1   0.0000\\n    15 H2        4.7428   -1.6465    0.0001   H         1 RES1   0.0000\\n    16 H3        2.3389   -1.9784    0.0022   H         1 RES1   0.0000\\n    17 H4        4.0802    2.5686    0.0046   H         1 RES1   0.0000\\n    18 H5        2.6115    4.0714    0.0043   H         1 RES1   0.0000\\n    19 H6        0.7254    5.6797    0.0002   H         1 RES1   0.0000\\n    20 H7       -1.6096    4.7878   -0.0030   H         1 RES1   0.0000\\n    21 H8       -1.9520    2.3435   -0.0120   H         1 RES1   0.0000\\n    22 O1       -2.1124    0.0452   -0.0454   O.3       1 RES1   0.0000\\n    23 H9       -2.4717   -0.5549   -0.7177   H         1 RES1   0.0000\\n    24 H10      -2.5089   -0.2304    0.7951   H         1 RES1   0.0000\\n    25 Br1      -0.2417   -2.2294   -0.0145   Br        1 RES1   0.0000\\n@<TRIPOS>BOND\\n     1     1     5    1\\n     2     1    13    1\\n     3     1    22    1\\n     4     1    25    1\\n     5     2     3    2\\n     6     2     7    1\\n     7     2    14    1\\n     8     3     4    1\\n     9     3    15    1\\n    10     4     5    2\\n    11     4    16    1\\n    12     5     6    1\\n    13     6     7    2\\n    14     6     8    1\\n    15     7    17    1\\n    16     8     9    2\\n    17     8    13    1\\n    18     9    10    1\\n    19     9    18    1\\n    20    10    11    2\\n    21    10    19    1\\n    22    11    12    1\\n    23    11    20    1\\n    24    12    13    2\\n    25    12    21    1\\n    26    22    23    1\\n    27    22    24    1\\n@<TRIPOS>SUBSTRUCTURE\\n     1 RES1       25 GROUP             0 ****  ****    0  \\n\",\"mol2\");\n\tviewergrid_1669747861799247[0][0].setStyle({\"stick\": {\"colorscheme\": \"Jmol\"}});\n\tviewergrid_1669747861799247[0][0].addLabel(\"-1224.095092016905\",{\"position\": {\"x\": \"-0.0502\", \"y\": \"-0.0476\", \"z\": \"-0.0123\"}, \"backgroundColor\": \"'black'\", \"backgroundOpacity\": \"0.5\", \"fontOpacity\": \"1\", \"fontSize\": \"12\", \"fontColor\": \"white\", \"inFront\": \"true\"});\n\tviewergrid_1669747861799247[0][0].zoomTo();\n\tviewergrid_1669747861799247[0][1].addModel(\"@<TRIPOS>MOLECULE\\ntmp.mol2\\n    25    27     1     0     0\\nSMALL\\nNoCharges\\n****\\nGenerated from Architector\\n\\n@<TRIPOS>ATOM\\n     1 Ni1      -0.1160    0.1978   -0.2663   Ni        1 RES1   0.0000\\n     2 C1       -1.1046   -3.9703   -2.0234   C.ar      1 RES1   0.0000\\n     3 C2       -2.0798   -3.3134   -1.2892   C.ar      1 RES1   0.0000\\n     4 C3       -1.7636   -2.0980   -0.7012   C.ar      1 RES1   0.0000\\n     5 N1       -0.5599   -1.5515   -0.8190   N.ar      1 RES1   0.0000\\n     6 C4        0.4127   -2.1896   -1.5100   C.ar      1 RES1   0.0000\\n     7 C5        0.1590   -3.4096   -2.1278   C.ar      1 RES1   0.0000\\n     8 C6        1.6781   -1.4516   -1.5115   C.ar      1 RES1   0.0000\\n     9 C7        2.8644   -1.8420   -2.1232   C.ar      1 RES1   0.0000\\n    10 C8        3.9803   -1.0248   -2.0167   C.ar      1 RES1   0.0000\\n    11 C9        3.8932    0.1484   -1.2832   C.ar      1 RES1   0.0000\\n    12 C10       2.6788    0.4843   -0.7052   C.ar      1 RES1   0.0000\\n    13 N2        1.6028   -0.2840   -0.8304   N.ar      1 RES1   0.0000\\n    14 H1       -1.3297   -4.9042   -2.5137   H         1 RES1   0.0000\\n    15 H2       -3.0683   -3.7273   -1.1745   H         1 RES1   0.0000\\n    16 H3       -2.4991   -1.5538   -0.1215   H         1 RES1   0.0000\\n    17 H4        0.9306   -3.9065   -2.6912   H         1 RES1   0.0000\\n    18 H5        2.9137   -2.7634   -2.6808   H         1 RES1   0.0000\\n    19 H6        4.9049   -1.2976   -2.5023   H         1 RES1   0.0000\\n    20 H7        4.7477    0.7972   -1.1605   H         1 RES1   0.0000\\n    21 H8        2.5730    1.3929   -0.1242   H         1 RES1   0.0000\\n    22 O1        0.0305    0.0851    1.9762   O.3       1 RES1   0.0000\\n    23 H9        0.2213   -0.6638    2.5457   H         1 RES1   0.0000\\n    24 H10      -0.3302    0.7909    2.5244   H         1 RES1   0.0000\\n    25 Br1      -1.1234    2.0780   -0.4103   Br        1 RES1   0.0000\\n@<TRIPOS>BOND\\n     1     1     5    1\\n     2     1    13    1\\n     3     1    22    1\\n     4     1    25    1\\n     5     2     3    2\\n     6     2     7    1\\n     7     2    14    1\\n     8     3     4    1\\n     9     3    15    1\\n    10     4     5    2\\n    11     4    16    1\\n    12     5     6    1\\n    13     6     7    2\\n    14     6     8    1\\n    15     7    17    1\\n    16     8     9    2\\n    17     8    13    1\\n    18     9    10    1\\n    19     9    18    1\\n    20    10    11    2\\n    21    10    19    1\\n    22    11    12    1\\n    23    11    20    1\\n    24    12    13    2\\n    25    12    21    1\\n    26    22    23    1\\n    27    22    24    1\\n@<TRIPOS>SUBSTRUCTURE\\n     1 RES1       25 GROUP             0 ****  ****    0  \\n\",\"mol2\");\n\tviewergrid_1669747861799247[0][1].setStyle({\"stick\": {\"colorscheme\": \"Jmol\"}});\n\tviewergrid_1669747861799247[0][1].addLabel(\"-1223.8007651581422\",{\"position\": {\"x\": \"-0.116\", \"y\": \"0.1978\", \"z\": \"-0.2663\"}, \"backgroundColor\": \"'black'\", \"backgroundOpacity\": \"0.5\", \"fontOpacity\": \"1\", \"fontSize\": \"12\", \"fontColor\": \"white\", \"inFront\": \"true\"});\n\tviewergrid_1669747861799247[0][1].zoomTo();\nviewergrid_1669747861799247[0][3].render();\nviewergrid_1669747861799247[0][2].render();\nviewergrid_1669747861799247[0][1].render();\nviewergrid_1669747861799247[0][0].render();\n});\n</script>",
      "text/html": [
       "<div id=\"3dmolviewer_1669747861799247\"  style=\"position: relative; width: 800px; height: 200px\">\n",
       "        <p id=\"3dmolwarning_1669747861799247\" style=\"background-color:#ffcccc;color:black\">You appear to be running in JupyterLab (or JavaScript failed to load for some other reason).  You need to install the 3dmol extension: <br>\n",
       "        <tt>jupyter labextension install jupyterlab_3dmol</tt></p>\n",
       "        </div>\n",
       "<script>\n",
       "\n",
       "var loadScriptAsync = function(uri){\n",
       "  return new Promise((resolve, reject) => {\n",
       "    var tag = document.createElement('script');\n",
       "    tag.src = uri;\n",
       "    tag.async = true;\n",
       "    tag.onload = () => {\n",
       "      resolve();\n",
       "    };\n",
       "  var firstScriptTag = document.getElementsByTagName('script')[0];\n",
       "  firstScriptTag.parentNode.insertBefore(tag, firstScriptTag);\n",
       "});\n",
       "};\n",
       "\n",
       "if(typeof $3Dmolpromise === 'undefined') {\n",
       "$3Dmolpromise = null;\n",
       "  $3Dmolpromise = loadScriptAsync('https://cdn.jsdelivr.net/npm/3dmol@latest/build/3Dmol-min.min.js');\n",
       "}\n",
       "\n",
       "var viewer_1669747861799247 = null;\n",
       "var warn = document.getElementById(\"3dmolwarning_1669747861799247\");\n",
       "if(warn) {\n",
       "    warn.parentNode.removeChild(warn);\n",
       "}\n",
       "$3Dmolpromise.then(function() {\n",
       "var viewergrid_1669747861799247 = null;\n",
       "viewergrid_1669747861799247 = $3Dmol.createViewerGrid($(\"#3dmolviewer_1669747861799247\"),{rows: 1, cols: 4, control_all: false},{backgroundColor:\"white\"});\n",
       "viewer_1669747861799247 = viewergrid_1669747861799247[0][0];\n",
       "viewergrid_1669747861799247[0][0].zoomTo();viewergrid_1669747861799247[0][1].zoomTo();viewergrid_1669747861799247[0][2].zoomTo();viewergrid_1669747861799247[0][3].zoomTo();\tviewergrid_1669747861799247[0][0].addModel(\"@<TRIPOS>MOLECULE\\ntmp.mol2\\n    25    27     1     0     0\\nSMALL\\nNoCharges\\n****\\nGenerated from Architector\\n\\n@<TRIPOS>ATOM\\n     1 Ni1      -0.0502   -0.0476   -0.0123   Ni        1 RES1   0.0000\\n     2 C1        4.6121    0.5049    0.0001   C.ar      1 RES1   0.0000\\n     3 C2        4.1018   -0.7817    0.0007   C.ar      1 RES1   0.0000\\n     4 C3        2.7286   -0.9703    0.0010   C.ar      1 RES1   0.0000\\n     5 N1        1.8571    0.0390   -0.0007   N.ar      1 RES1   0.0000\\n     6 C4        2.3455    1.3039    0.0012   C.ar      1 RES1   0.0000\\n     7 C5        3.7130    1.5577    0.0025   C.ar      1 RES1   0.0000\\n     8 C6        1.3270    2.3564    0.0008   C.ar      1 RES1   0.0000\\n     9 C7        1.5931    3.7204    0.0024   C.ar      1 RES1   0.0000\\n    10 C8        0.5370    4.6170    0.0009   C.ar      1 RES1   0.0000\\n    11 C9       -0.7592    4.1269   -0.0018   C.ar      1 RES1   0.0000\\n    12 C10      -0.9496    2.7549   -0.0042   C.ar      1 RES1   0.0000\\n    13 N2        0.0607    1.8938   -0.0024   N.ar      1 RES1   0.0000\\n    14 H1        5.6770    0.6814   -0.0022   H         1 RES1   0.0000\\n    15 H2        4.7428   -1.6465    0.0001   H         1 RES1   0.0000\\n    16 H3        2.3389   -1.9784    0.0022   H         1 RES1   0.0000\\n    17 H4        4.0802    2.5686    0.0046   H         1 RES1   0.0000\\n    18 H5        2.6115    4.0714    0.0043   H         1 RES1   0.0000\\n    19 H6        0.7254    5.6797    0.0002   H         1 RES1   0.0000\\n    20 H7       -1.6096    4.7878   -0.0030   H         1 RES1   0.0000\\n    21 H8       -1.9520    2.3435   -0.0120   H         1 RES1   0.0000\\n    22 O1       -2.1124    0.0452   -0.0454   O.3       1 RES1   0.0000\\n    23 H9       -2.4717   -0.5549   -0.7177   H         1 RES1   0.0000\\n    24 H10      -2.5089   -0.2304    0.7951   H         1 RES1   0.0000\\n    25 Br1      -0.2417   -2.2294   -0.0145   Br        1 RES1   0.0000\\n@<TRIPOS>BOND\\n     1     1     5    1\\n     2     1    13    1\\n     3     1    22    1\\n     4     1    25    1\\n     5     2     3    2\\n     6     2     7    1\\n     7     2    14    1\\n     8     3     4    1\\n     9     3    15    1\\n    10     4     5    2\\n    11     4    16    1\\n    12     5     6    1\\n    13     6     7    2\\n    14     6     8    1\\n    15     7    17    1\\n    16     8     9    2\\n    17     8    13    1\\n    18     9    10    1\\n    19     9    18    1\\n    20    10    11    2\\n    21    10    19    1\\n    22    11    12    1\\n    23    11    20    1\\n    24    12    13    2\\n    25    12    21    1\\n    26    22    23    1\\n    27    22    24    1\\n@<TRIPOS>SUBSTRUCTURE\\n     1 RES1       25 GROUP             0 ****  ****    0  \\n\",\"mol2\");\n",
       "\tviewergrid_1669747861799247[0][0].setStyle({\"stick\": {\"colorscheme\": \"Jmol\"}});\n",
       "\tviewergrid_1669747861799247[0][0].addLabel(\"-1224.095092016905\",{\"position\": {\"x\": \"-0.0502\", \"y\": \"-0.0476\", \"z\": \"-0.0123\"}, \"backgroundColor\": \"'black'\", \"backgroundOpacity\": \"0.5\", \"fontOpacity\": \"1\", \"fontSize\": \"12\", \"fontColor\": \"white\", \"inFront\": \"true\"});\n",
       "\tviewergrid_1669747861799247[0][0].zoomTo();\n",
       "\tviewergrid_1669747861799247[0][1].addModel(\"@<TRIPOS>MOLECULE\\ntmp.mol2\\n    25    27     1     0     0\\nSMALL\\nNoCharges\\n****\\nGenerated from Architector\\n\\n@<TRIPOS>ATOM\\n     1 Ni1      -0.1160    0.1978   -0.2663   Ni        1 RES1   0.0000\\n     2 C1       -1.1046   -3.9703   -2.0234   C.ar      1 RES1   0.0000\\n     3 C2       -2.0798   -3.3134   -1.2892   C.ar      1 RES1   0.0000\\n     4 C3       -1.7636   -2.0980   -0.7012   C.ar      1 RES1   0.0000\\n     5 N1       -0.5599   -1.5515   -0.8190   N.ar      1 RES1   0.0000\\n     6 C4        0.4127   -2.1896   -1.5100   C.ar      1 RES1   0.0000\\n     7 C5        0.1590   -3.4096   -2.1278   C.ar      1 RES1   0.0000\\n     8 C6        1.6781   -1.4516   -1.5115   C.ar      1 RES1   0.0000\\n     9 C7        2.8644   -1.8420   -2.1232   C.ar      1 RES1   0.0000\\n    10 C8        3.9803   -1.0248   -2.0167   C.ar      1 RES1   0.0000\\n    11 C9        3.8932    0.1484   -1.2832   C.ar      1 RES1   0.0000\\n    12 C10       2.6788    0.4843   -0.7052   C.ar      1 RES1   0.0000\\n    13 N2        1.6028   -0.2840   -0.8304   N.ar      1 RES1   0.0000\\n    14 H1       -1.3297   -4.9042   -2.5137   H         1 RES1   0.0000\\n    15 H2       -3.0683   -3.7273   -1.1745   H         1 RES1   0.0000\\n    16 H3       -2.4991   -1.5538   -0.1215   H         1 RES1   0.0000\\n    17 H4        0.9306   -3.9065   -2.6912   H         1 RES1   0.0000\\n    18 H5        2.9137   -2.7634   -2.6808   H         1 RES1   0.0000\\n    19 H6        4.9049   -1.2976   -2.5023   H         1 RES1   0.0000\\n    20 H7        4.7477    0.7972   -1.1605   H         1 RES1   0.0000\\n    21 H8        2.5730    1.3929   -0.1242   H         1 RES1   0.0000\\n    22 O1        0.0305    0.0851    1.9762   O.3       1 RES1   0.0000\\n    23 H9        0.2213   -0.6638    2.5457   H         1 RES1   0.0000\\n    24 H10      -0.3302    0.7909    2.5244   H         1 RES1   0.0000\\n    25 Br1      -1.1234    2.0780   -0.4103   Br        1 RES1   0.0000\\n@<TRIPOS>BOND\\n     1     1     5    1\\n     2     1    13    1\\n     3     1    22    1\\n     4     1    25    1\\n     5     2     3    2\\n     6     2     7    1\\n     7     2    14    1\\n     8     3     4    1\\n     9     3    15    1\\n    10     4     5    2\\n    11     4    16    1\\n    12     5     6    1\\n    13     6     7    2\\n    14     6     8    1\\n    15     7    17    1\\n    16     8     9    2\\n    17     8    13    1\\n    18     9    10    1\\n    19     9    18    1\\n    20    10    11    2\\n    21    10    19    1\\n    22    11    12    1\\n    23    11    20    1\\n    24    12    13    2\\n    25    12    21    1\\n    26    22    23    1\\n    27    22    24    1\\n@<TRIPOS>SUBSTRUCTURE\\n     1 RES1       25 GROUP             0 ****  ****    0  \\n\",\"mol2\");\n",
       "\tviewergrid_1669747861799247[0][1].setStyle({\"stick\": {\"colorscheme\": \"Jmol\"}});\n",
       "\tviewergrid_1669747861799247[0][1].addLabel(\"-1223.8007651581422\",{\"position\": {\"x\": \"-0.116\", \"y\": \"0.1978\", \"z\": \"-0.2663\"}, \"backgroundColor\": \"'black'\", \"backgroundOpacity\": \"0.5\", \"fontOpacity\": \"1\", \"fontSize\": \"12\", \"fontColor\": \"white\", \"inFront\": \"true\"});\n",
       "\tviewergrid_1669747861799247[0][1].zoomTo();\n",
       "viewergrid_1669747861799247[0][3].render();\n",
       "viewergrid_1669747861799247[0][2].render();\n",
       "viewergrid_1669747861799247[0][1].render();\n",
       "viewergrid_1669747861799247[0][0].render();\n",
       "});\n",
       "</script>"
      ]
     },
     "metadata": {},
     "output_type": "display_data"
    }
   ],
   "source": [
    "keys = list(out_LS_dict.keys())\n",
    "labels = [out_LS_dict[key]['energy'] for key in keys]\n",
    "view_structures(out_LS_dict,labels=labels)"
   ]
  },
  {
   "cell_type": "markdown",
   "id": "cbcffc0b",
   "metadata": {},
   "source": [
    "## For (A), note that in the LS configuration the planar geometry is lower than the tetrahedral - matching experimental results.\n",
    "\n",
    "Now we can test the HS configuration to see if this matches as well:"
   ]
  },
  {
   "cell_type": "code",
   "execution_count": 5,
   "id": "e1b0dd94",
   "metadata": {},
   "outputs": [
    {
     "data": {
      "text/plain": [
       "{'core': {'metal': 'Ni', 'coreCN': 4, 'smiles': '[Ni]'},\n",
       " 'ligands': [{'smiles': 'C1=CC=NC(=C1)C2=CC=CC=N2',\n",
       "   'coordList': [3, 11],\n",
       "   'ligType': 'bi_cis'},\n",
       "  {'smiles': '[Br-]', 'coordList': [0]}],\n",
       " 'parameters': {'metal_spin': 2, 'is_actinide': False, 'original_metal': 'Ni'}}"
      ]
     },
     "execution_count": 5,
     "metadata": {},
     "output_type": "execute_result"
    }
   ],
   "source": [
    "inputDict_HS = copy.deepcopy(inputDict_LS) # Copy LS inputDict\n",
    "\n",
    "inputDict_HS['parameters']['metal_spin'] = 2 # For Ni, HS is a triplet (2 unpaired electrons)\n",
    "\n",
    "inputDict_HS"
   ]
  },
  {
   "cell_type": "code",
   "execution_count": 6,
   "id": "5b96d748",
   "metadata": {
    "scrolled": true
   },
   "outputs": [
    {
     "name": "stdout",
     "output_type": "stream",
     "text": [
      "                 Step     Time          Energy         fmax\n",
      "*Force-consistent energies used in optimization.\n",
      "LBFGSLineSearch:    0 11:51:28    -1221.791582*       4.8646\n",
      "LBFGSLineSearch:    1 11:51:28    -1222.202195*       1.4921\n",
      "LBFGSLineSearch:    2 11:51:29    -1222.436373*       2.1636\n",
      "LBFGSLineSearch:    3 11:51:29    -1222.539243*       0.9999\n",
      "LBFGSLineSearch:    4 11:51:30    -1222.686943*       1.0559\n",
      "LBFGSLineSearch:    5 11:51:30    -1222.829065*       0.9364\n",
      "LBFGSLineSearch:    6 11:51:30    -1222.895143*       0.6494\n",
      "LBFGSLineSearch:    7 11:51:31    -1222.965752*       0.8324\n",
      "LBFGSLineSearch:    8 11:51:32    -1223.024952*       0.6686\n",
      "LBFGSLineSearch:    9 11:51:32    -1223.051620*       0.5577\n",
      "LBFGSLineSearch:   10 11:51:33    -1223.084425*       0.3912\n",
      "LBFGSLineSearch:   11 11:51:33    -1223.095717*       0.2566\n",
      "LBFGSLineSearch:   12 11:51:34    -1223.107032*       0.4325\n",
      "LBFGSLineSearch:   13 11:51:34    -1223.123798*       0.4208\n",
      "LBFGSLineSearch:   14 11:51:35    -1223.131114*       0.1938\n",
      "LBFGSLineSearch:   15 11:51:35    -1223.140156*       0.3895\n",
      "LBFGSLineSearch:   16 11:51:36    -1223.155997*       0.3343\n",
      "LBFGSLineSearch:   17 11:51:36    -1223.166673*       0.3607\n",
      "LBFGSLineSearch:   18 11:51:37    -1223.185145*       0.2093\n",
      "LBFGSLineSearch:   19 11:51:38    -1223.189700*       0.2002\n",
      "LBFGSLineSearch:   20 11:51:39    -1223.196700*       0.2256\n",
      "LBFGSLineSearch:   21 11:51:39    -1223.201281*       0.1580\n",
      "LBFGSLineSearch:   22 11:51:39    -1223.204513*       0.2142\n",
      "LBFGSLineSearch:   23 11:51:40    -1223.207747*       0.1591\n",
      "LBFGSLineSearch:   24 11:51:40    -1223.215599*       0.1768\n",
      "LBFGSLineSearch:   25 11:51:41    -1223.222304*       0.3089\n",
      "LBFGSLineSearch:   26 11:51:41    -1223.225798*       0.1861\n",
      "LBFGSLineSearch:   27 11:51:41    -1223.233037*       0.2790\n",
      "LBFGSLineSearch:   28 11:51:42    -1223.236647*       0.1049\n",
      "LBFGSLineSearch:   29 11:51:42    -1223.239009*       0.1500\n",
      "LBFGSLineSearch:   30 11:51:42    -1223.241051*       0.1607\n",
      "LBFGSLineSearch:   31 11:51:43    -1223.242793*       0.1168\n",
      "LBFGSLineSearch:   32 11:51:43    -1223.244481*       0.1053\n",
      "LBFGSLineSearch:   33 11:51:44    -1223.246758*       0.1360\n",
      "LBFGSLineSearch:   34 11:51:44    -1223.250825*       0.1361\n",
      "LBFGSLineSearch:   35 11:51:45    -1223.253163*       0.1616\n",
      "LBFGSLineSearch:   36 11:51:45    -1223.255861*       0.1034\n",
      "LBFGSLineSearch:   37 11:51:46    -1223.260928*       0.1463\n",
      "LBFGSLineSearch:   38 11:51:46    -1223.262747*       0.0714\n",
      "                 Step     Time          Energy         fmax\n",
      "*Force-consistent energies used in optimization.\n",
      "LBFGSLineSearch:    0 11:52:01    -1221.334336*       5.1745\n",
      "LBFGSLineSearch:    1 11:52:02    -1221.852621*       1.9877\n",
      "LBFGSLineSearch:    2 11:52:02    -1222.138673*       1.6856\n",
      "LBFGSLineSearch:    3 11:52:03    -1222.343184*       1.0856\n",
      "LBFGSLineSearch:    4 11:52:03    -1222.508365*       1.1539\n",
      "LBFGSLineSearch:    5 11:52:04    -1222.697291*       1.0787\n",
      "LBFGSLineSearch:    6 11:52:04    -1222.798257*       0.5565\n",
      "LBFGSLineSearch:    7 11:52:05    -1222.851685*       0.5520\n",
      "LBFGSLineSearch:    8 11:52:05    -1222.895167*       0.4207\n",
      "LBFGSLineSearch:    9 11:52:05    -1222.924775*       0.3637\n",
      "LBFGSLineSearch:   10 11:52:06    -1222.947885*       0.4859\n",
      "LBFGSLineSearch:   11 11:52:07    -1222.993268*       0.6582\n",
      "LBFGSLineSearch:   12 11:52:07    -1223.017557*       0.3935\n",
      "LBFGSLineSearch:   13 11:52:07    -1223.039633*       0.4247\n",
      "LBFGSLineSearch:   14 11:52:08    -1223.064469*       0.4108\n",
      "LBFGSLineSearch:   15 11:52:09    -1223.086818*       0.3866\n",
      "LBFGSLineSearch:   16 11:52:09    -1223.091932*       0.1745\n",
      "LBFGSLineSearch:   17 11:52:09    -1223.096842*       0.1306\n",
      "LBFGSLineSearch:   18 11:52:10    -1223.099494*       0.2419\n",
      "LBFGSLineSearch:   19 11:52:10    -1223.102489*       0.1605\n",
      "LBFGSLineSearch:   20 11:52:11    -1223.106049*       0.1454\n",
      "LBFGSLineSearch:   21 11:52:11    -1223.107152*       0.0613\n",
      "                 Step     Time          Energy         fmax\n",
      "*Force-consistent energies used in optimization.\n",
      "LBFGSLineSearch:    0 11:52:26    -1221.908204*       4.7506\n",
      "LBFGSLineSearch:    1 11:52:27    -1222.338796*       2.7358\n",
      "LBFGSLineSearch:    2 11:52:27    -1222.682306*       2.4778\n",
      "LBFGSLineSearch:    3 11:52:27    -1222.816620*       1.0195\n",
      "LBFGSLineSearch:    4 11:52:28    -1222.909890*       0.9854\n",
      "LBFGSLineSearch:    5 11:52:28    -1223.041625*       1.2135\n",
      "LBFGSLineSearch:    6 11:52:29    -1223.183713*       0.7839\n",
      "LBFGSLineSearch:    7 11:52:29    -1223.225548*       0.4306\n",
      "LBFGSLineSearch:    8 11:52:29    -1223.251587*       0.3388\n",
      "LBFGSLineSearch:    9 11:52:30    -1223.261214*       0.2426\n",
      "LBFGSLineSearch:   10 11:52:30    -1223.272261*       0.4208\n",
      "LBFGSLineSearch:   11 11:52:31    -1223.285882*       0.2240\n",
      "LBFGSLineSearch:   12 11:52:31    -1223.292335*       0.2270\n",
      "LBFGSLineSearch:   13 11:52:32    -1223.298420*       0.2181\n",
      "LBFGSLineSearch:   14 11:52:32    -1223.303149*       0.1715\n",
      "LBFGSLineSearch:   15 11:52:32    -1223.305721*       0.1463\n",
      "LBFGSLineSearch:   16 11:52:33    -1223.308765*       0.1424\n",
      "LBFGSLineSearch:   17 11:52:33    -1223.312902*       0.1069\n",
      "LBFGSLineSearch:   18 11:52:34    -1223.314193*       0.1166\n",
      "LBFGSLineSearch:   19 11:52:34    -1223.315837*       0.1363\n",
      "LBFGSLineSearch:   20 11:52:35    -1223.318953*       0.0581\n"
     ]
    }
   ],
   "source": [
    "out_HS_dict = build_complex(inputDict_HS)"
   ]
  },
  {
   "cell_type": "markdown",
   "id": "41411f96",
   "metadata": {},
   "source": [
    "Now we can visualize the HS configurations:"
   ]
  },
  {
   "cell_type": "code",
   "execution_count": 7,
   "id": "4fe6b26b",
   "metadata": {},
   "outputs": [
    {
     "data": {
      "application/3dmoljs_load.v0": "<div id=\"3dmolviewer_16697479595939279\"  style=\"position: relative; width: 800px; height: 200px\">\n        <p id=\"3dmolwarning_16697479595939279\" style=\"background-color:#ffcccc;color:black\">You appear to be running in JupyterLab (or JavaScript failed to load for some other reason).  You need to install the 3dmol extension: <br>\n        <tt>jupyter labextension install jupyterlab_3dmol</tt></p>\n        </div>\n<script>\n\nvar loadScriptAsync = function(uri){\n  return new Promise((resolve, reject) => {\n    var tag = document.createElement('script');\n    tag.src = uri;\n    tag.async = true;\n    tag.onload = () => {\n      resolve();\n    };\n  var firstScriptTag = document.getElementsByTagName('script')[0];\n  firstScriptTag.parentNode.insertBefore(tag, firstScriptTag);\n});\n};\n\nif(typeof $3Dmolpromise === 'undefined') {\n$3Dmolpromise = null;\n  $3Dmolpromise = loadScriptAsync('https://cdn.jsdelivr.net/npm/3dmol@latest/build/3Dmol-min.min.js');\n}\n\nvar viewer_16697479595939279 = null;\nvar warn = document.getElementById(\"3dmolwarning_16697479595939279\");\nif(warn) {\n    warn.parentNode.removeChild(warn);\n}\n$3Dmolpromise.then(function() {\nvar viewergrid_16697479595939279 = null;\nviewergrid_16697479595939279 = $3Dmol.createViewerGrid($(\"#3dmolviewer_16697479595939279\"),{rows: 1, cols: 4, control_all: false},{backgroundColor:\"white\"});\nviewer_16697479595939279 = viewergrid_16697479595939279[0][0];\nviewergrid_16697479595939279[0][0].zoomTo();viewergrid_16697479595939279[0][1].zoomTo();viewergrid_16697479595939279[0][2].zoomTo();viewergrid_16697479595939279[0][3].zoomTo();\tviewergrid_16697479595939279[0][0].addModel(\"@<TRIPOS>MOLECULE\\ntmp.mol2\\n    25    27     1     0     0\\nSMALL\\nNoCharges\\n****\\nGenerated from Architector\\n\\n@<TRIPOS>ATOM\\n     1 Ni1      -0.1812    0.3140   -0.0413   Ni        1 RES1   0.0000\\n     2 C1        3.9558   -1.0586   -2.0453   C.ar      1 RES1   0.0000\\n     3 C2        3.9386    0.1237   -1.3224   C.ar      1 RES1   0.0000\\n     4 C3        2.7590    0.5025   -0.6977   C.ar      1 RES1   0.0000\\n     5 N1        1.6522   -0.2275   -0.7671   N.ar      1 RES1   0.0000\\n     6 C4        1.6527   -1.3869   -1.4549   C.ar      1 RES1   0.0000\\n     7 C5        2.8026   -1.8239   -2.1077   C.ar      1 RES1   0.0000\\n     8 C6        0.3760   -2.1235   -1.4553   C.ar      1 RES1   0.0000\\n     9 C7        0.1790   -3.3385   -2.1070   C.ar      1 RES1   0.0000\\n    10 C8       -1.0603   -3.9536   -2.0443   C.ar      1 RES1   0.0000\\n    11 C9       -2.0757   -3.3470   -1.3214   C.ar      1 RES1   0.0000\\n    12 C10      -1.8134   -2.1351   -0.6983   C.ar      1 RES1   0.0000\\n    13 N2       -0.6283   -1.5423   -0.7691   N.ar      1 RES1   0.0000\\n    14 H1        4.8503   -1.3841   -2.5534   H         1 RES1   0.0000\\n    15 H2        4.8187    0.7404   -1.2397   H         1 RES1   0.0000\\n    16 H3        2.7014    1.4202   -0.1243   H         1 RES1   0.0000\\n    17 H4        2.7995   -2.7508   -2.6572   H         1 RES1   0.0000\\n    18 H5        0.9834   -3.8002   -2.6561   H         1 RES1   0.0000\\n    19 H6       -1.2264   -4.8913   -2.5518   H         1 RES1   0.0000\\n    20 H7       -3.0496   -3.8007   -1.2378   H         1 RES1   0.0000\\n    21 H8       -2.5787   -1.6256   -0.1247   H         1 RES1   0.0000\\n    22 O1       -0.0509    0.0410    2.0562   O.3       1 RES1   0.0000\\n    23 H9       -0.4359    0.6513    2.6935   H         1 RES1   0.0000\\n    24 H10       0.4374   -0.6293    2.5393   H         1 RES1   0.0000\\n    25 Br1      -1.1902    2.0488   -0.8520   Br        1 RES1   0.0000\\n@<TRIPOS>BOND\\n     1     1     5    1\\n     2     1    13    1\\n     3     1    22    1\\n     4     1    25    1\\n     5     2     3    2\\n     6     2     7    1\\n     7     2    14    1\\n     8     3     4    1\\n     9     3    15    1\\n    10     4     5    2\\n    11     4    16    1\\n    12     5     6    1\\n    13     6     7    2\\n    14     6     8    1\\n    15     7    17    1\\n    16     8     9    2\\n    17     8    13    1\\n    18     9    10    1\\n    19     9    18    1\\n    20    10    11    2\\n    21    10    19    1\\n    22    11    12    1\\n    23    11    20    1\\n    24    12    13    2\\n    25    12    21    1\\n    26    22    23    1\\n    27    22    24    1\\n@<TRIPOS>SUBSTRUCTURE\\n     1 RES1       25 GROUP             0 ****  ****    0  \\n\",\"mol2\");\n\tviewergrid_16697479595939279[0][0].setStyle({\"stick\": {\"colorscheme\": \"Jmol\"}});\n\tviewergrid_16697479595939279[0][0].addLabel(\"-1223.3189534096398\",{\"position\": {\"x\": \"-0.1812\", \"y\": \"0.314\", \"z\": \"-0.0413\"}, \"backgroundColor\": \"'black'\", \"backgroundOpacity\": \"0.5\", \"fontOpacity\": \"1\", \"fontSize\": \"12\", \"fontColor\": \"white\", \"inFront\": \"true\"});\n\tviewergrid_16697479595939279[0][0].zoomTo();\n\tviewergrid_16697479595939279[0][1].addModel(\"@<TRIPOS>MOLECULE\\ntmp.mol2\\n    25    27     1     0     0\\nSMALL\\nNoCharges\\n****\\nGenerated from Architector\\n\\n@<TRIPOS>ATOM\\n     1 Ni1      -0.1614    0.3502    0.0277   Ni        1 RES1   0.0000\\n     2 C1        4.5940   -0.0316    0.5136   C.ar      1 RES1   0.0000\\n     3 C2        4.0762   -0.0073   -0.7712   C.ar      1 RES1   0.0000\\n     4 C3        2.6996    0.0288   -0.9335   C.ar      1 RES1   0.0000\\n     5 N1        1.8668    0.0217    0.0989   N.ar      1 RES1   0.0000\\n     6 C4        2.3538   -0.0127    1.3554   C.ar      1 RES1   0.0000\\n     7 C5        3.7239   -0.0345    1.5901   C.ar      1 RES1   0.0000\\n     8 C6        1.3517   -0.0203    2.4317   C.ar      1 RES1   0.0000\\n     9 C7        1.6670   -0.0464    3.7874   C.ar      1 RES1   0.0000\\n    10 C8        0.6413   -0.0433    4.7178   C.ar      1 RES1   0.0000\\n    11 C9       -0.6734   -0.0394    4.2803   C.ar      1 RES1   0.0000\\n    12 C10      -0.9130   -0.0033    2.9149   C.ar      1 RES1   0.0000\\n    13 N2        0.0686    0.0178    2.0252   N.ar      1 RES1   0.0000\\n    14 H1        5.6586   -0.0486    0.6833   H         1 RES1   0.0000\\n    15 H2        4.7217   -0.0068   -1.6327   H         1 RES1   0.0000\\n    16 H3        2.2589    0.0511   -1.9231   H         1 RES1   0.0000\\n    17 H4        4.1004   -0.0541    2.5991   H         1 RES1   0.0000\\n    18 H5        2.6912   -0.0529    4.1217   H         1 RES1   0.0000\\n    19 H6        0.8656   -0.0401    5.7724   H         1 RES1   0.0000\\n    20 H7       -1.4966   -0.0480    4.9758   H         1 RES1   0.0000\\n    21 H8       -1.9214    0.0116    2.5214   H         1 RES1   0.0000\\n    22 O1       -2.2628   -0.0327   -0.2552   O.3       1 RES1   0.0000\\n    23 H9       -2.6823    0.7324   -0.6746   H         1 RES1   0.0000\\n    24 H10      -2.6479   -0.8230   -0.6466   H         1 RES1   0.0000\\n    25 Br1      -0.1906    2.4434   -0.6607   Br        1 RES1   0.0000\\n@<TRIPOS>BOND\\n     1     1     5    1\\n     2     1    13    1\\n     3     1    22    1\\n     4     1    25    1\\n     5     2     3    2\\n     6     2     7    1\\n     7     2    14    1\\n     8     3     4    1\\n     9     3    15    1\\n    10     4     5    2\\n    11     4    16    1\\n    12     5     6    1\\n    13     6     7    2\\n    14     6     8    1\\n    15     7    17    1\\n    16     8     9    2\\n    17     8    13    1\\n    18     9    10    1\\n    19     9    18    1\\n    20    10    11    2\\n    21    10    19    1\\n    22    11    12    1\\n    23    11    20    1\\n    24    12    13    2\\n    25    12    21    1\\n    26    22    23    1\\n    27    22    24    1\\n@<TRIPOS>SUBSTRUCTURE\\n     1 RES1       25 GROUP             0 ****  ****    0  \\n\",\"mol2\");\n\tviewergrid_16697479595939279[0][1].setStyle({\"stick\": {\"colorscheme\": \"Jmol\"}});\n\tviewergrid_16697479595939279[0][1].addLabel(\"-1223.2627470584312\",{\"position\": {\"x\": \"-0.1614\", \"y\": \"0.3502\", \"z\": \"0.0277\"}, \"backgroundColor\": \"'black'\", \"backgroundOpacity\": \"0.5\", \"fontOpacity\": \"1\", \"fontSize\": \"12\", \"fontColor\": \"white\", \"inFront\": \"true\"});\n\tviewergrid_16697479595939279[0][1].zoomTo();\n\tviewergrid_16697479595939279[0][2].addModel(\"@<TRIPOS>MOLECULE\\ntmp.mol2\\n    25    27     1     0     0\\nSMALL\\nNoCharges\\n****\\nGenerated from Architector\\n\\n@<TRIPOS>ATOM\\n     1 Ni1      -0.1409   -0.1966   -0.0004   Ni        1 RES1   0.0000\\n     2 C1        4.6898    0.5554   -0.0001   C.ar      1 RES1   0.0000\\n     3 C2        4.2244   -0.7488   -0.0002   C.ar      1 RES1   0.0000\\n     4 C3        2.8550   -0.9684   -0.0014   C.ar      1 RES1   0.0000\\n     5 N1        1.9740    0.0244   -0.0031   N.ar      1 RES1   0.0000\\n     6 C4        2.4079    1.2997   -0.0032   C.ar      1 RES1   0.0000\\n     7 C5        3.7686    1.5904   -0.0013   C.ar      1 RES1   0.0000\\n     8 C6        1.3549    2.3273   -0.0033   C.ar      1 RES1   0.0000\\n     9 C7        1.6087    3.6962   -0.0012   C.ar      1 RES1   0.0000\\n    10 C8        0.5495    4.5896   -0.0009   C.ar      1 RES1   0.0000\\n    11 C9       -0.7418    4.0905    0.0014   C.ar      1 RES1   0.0000\\n    12 C10      -0.9184    2.7155    0.0023   C.ar      1 RES1   0.0000\\n    13 N2        0.0927    1.8577   -0.0029   N.ar      1 RES1   0.0000\\n    14 H1        5.7482    0.7669    0.0010   H         1 RES1   0.0000\\n    15 H2        4.8980   -1.5889    0.0011   H         1 RES1   0.0000\\n    16 H3        2.4630   -1.9766   -0.0006   H         1 RES1   0.0000\\n    17 H4        4.1033    2.6134   -0.0005   H         1 RES1   0.0000\\n    18 H5        2.6195    4.0658    0.0004   H         1 RES1   0.0000\\n    19 H6        0.7315    5.6534   -0.0008   H         1 RES1   0.0000\\n    20 H7       -1.5989    4.7429    0.0035   H         1 RES1   0.0000\\n    21 H8       -1.9114    2.2881    0.0130   H         1 RES1   0.0000\\n    22 O1       -2.3808    0.1238    0.0432   O.3       1 RES1   0.0000\\n    23 H9       -2.8019   -0.1243   -0.7894   H         1 RES1   0.0000\\n    24 H10      -2.8034   -0.4032    0.7332   H         1 RES1   0.0000\\n    25 Br1      -0.3952   -2.3810    0.0103   Br        1 RES1   0.0000\\n@<TRIPOS>BOND\\n     1     1     5    1\\n     2     1    13    1\\n     3     1    22    1\\n     4     1    25    1\\n     5     2     3    2\\n     6     2     7    1\\n     7     2    14    1\\n     8     3     4    1\\n     9     3    15    1\\n    10     4     5    2\\n    11     4    16    1\\n    12     5     6    1\\n    13     6     7    2\\n    14     6     8    1\\n    15     7    17    1\\n    16     8     9    2\\n    17     8    13    1\\n    18     9    10    1\\n    19     9    18    1\\n    20    10    11    2\\n    21    10    19    1\\n    22    11    12    1\\n    23    11    20    1\\n    24    12    13    2\\n    25    12    21    1\\n    26    22    23    1\\n    27    22    24    1\\n@<TRIPOS>SUBSTRUCTURE\\n     1 RES1       25 GROUP             0 ****  ****    0  \\n\",\"mol2\");\n\tviewergrid_16697479595939279[0][2].setStyle({\"stick\": {\"colorscheme\": \"Jmol\"}});\n\tviewergrid_16697479595939279[0][2].addLabel(\"-1223.107151953248\",{\"position\": {\"x\": \"-0.1409\", \"y\": \"-0.1966\", \"z\": \"-0.0004\"}, \"backgroundColor\": \"'black'\", \"backgroundOpacity\": \"0.5\", \"fontOpacity\": \"1\", \"fontSize\": \"12\", \"fontColor\": \"white\", \"inFront\": \"true\"});\n\tviewergrid_16697479595939279[0][2].zoomTo();\nviewergrid_16697479595939279[0][3].render();\nviewergrid_16697479595939279[0][2].render();\nviewergrid_16697479595939279[0][1].render();\nviewergrid_16697479595939279[0][0].render();\n});\n</script>",
      "text/html": [
       "<div id=\"3dmolviewer_16697479595939279\"  style=\"position: relative; width: 800px; height: 200px\">\n",
       "        <p id=\"3dmolwarning_16697479595939279\" style=\"background-color:#ffcccc;color:black\">You appear to be running in JupyterLab (or JavaScript failed to load for some other reason).  You need to install the 3dmol extension: <br>\n",
       "        <tt>jupyter labextension install jupyterlab_3dmol</tt></p>\n",
       "        </div>\n",
       "<script>\n",
       "\n",
       "var loadScriptAsync = function(uri){\n",
       "  return new Promise((resolve, reject) => {\n",
       "    var tag = document.createElement('script');\n",
       "    tag.src = uri;\n",
       "    tag.async = true;\n",
       "    tag.onload = () => {\n",
       "      resolve();\n",
       "    };\n",
       "  var firstScriptTag = document.getElementsByTagName('script')[0];\n",
       "  firstScriptTag.parentNode.insertBefore(tag, firstScriptTag);\n",
       "});\n",
       "};\n",
       "\n",
       "if(typeof $3Dmolpromise === 'undefined') {\n",
       "$3Dmolpromise = null;\n",
       "  $3Dmolpromise = loadScriptAsync('https://cdn.jsdelivr.net/npm/3dmol@latest/build/3Dmol-min.min.js');\n",
       "}\n",
       "\n",
       "var viewer_16697479595939279 = null;\n",
       "var warn = document.getElementById(\"3dmolwarning_16697479595939279\");\n",
       "if(warn) {\n",
       "    warn.parentNode.removeChild(warn);\n",
       "}\n",
       "$3Dmolpromise.then(function() {\n",
       "var viewergrid_16697479595939279 = null;\n",
       "viewergrid_16697479595939279 = $3Dmol.createViewerGrid($(\"#3dmolviewer_16697479595939279\"),{rows: 1, cols: 4, control_all: false},{backgroundColor:\"white\"});\n",
       "viewer_16697479595939279 = viewergrid_16697479595939279[0][0];\n",
       "viewergrid_16697479595939279[0][0].zoomTo();viewergrid_16697479595939279[0][1].zoomTo();viewergrid_16697479595939279[0][2].zoomTo();viewergrid_16697479595939279[0][3].zoomTo();\tviewergrid_16697479595939279[0][0].addModel(\"@<TRIPOS>MOLECULE\\ntmp.mol2\\n    25    27     1     0     0\\nSMALL\\nNoCharges\\n****\\nGenerated from Architector\\n\\n@<TRIPOS>ATOM\\n     1 Ni1      -0.1812    0.3140   -0.0413   Ni        1 RES1   0.0000\\n     2 C1        3.9558   -1.0586   -2.0453   C.ar      1 RES1   0.0000\\n     3 C2        3.9386    0.1237   -1.3224   C.ar      1 RES1   0.0000\\n     4 C3        2.7590    0.5025   -0.6977   C.ar      1 RES1   0.0000\\n     5 N1        1.6522   -0.2275   -0.7671   N.ar      1 RES1   0.0000\\n     6 C4        1.6527   -1.3869   -1.4549   C.ar      1 RES1   0.0000\\n     7 C5        2.8026   -1.8239   -2.1077   C.ar      1 RES1   0.0000\\n     8 C6        0.3760   -2.1235   -1.4553   C.ar      1 RES1   0.0000\\n     9 C7        0.1790   -3.3385   -2.1070   C.ar      1 RES1   0.0000\\n    10 C8       -1.0603   -3.9536   -2.0443   C.ar      1 RES1   0.0000\\n    11 C9       -2.0757   -3.3470   -1.3214   C.ar      1 RES1   0.0000\\n    12 C10      -1.8134   -2.1351   -0.6983   C.ar      1 RES1   0.0000\\n    13 N2       -0.6283   -1.5423   -0.7691   N.ar      1 RES1   0.0000\\n    14 H1        4.8503   -1.3841   -2.5534   H         1 RES1   0.0000\\n    15 H2        4.8187    0.7404   -1.2397   H         1 RES1   0.0000\\n    16 H3        2.7014    1.4202   -0.1243   H         1 RES1   0.0000\\n    17 H4        2.7995   -2.7508   -2.6572   H         1 RES1   0.0000\\n    18 H5        0.9834   -3.8002   -2.6561   H         1 RES1   0.0000\\n    19 H6       -1.2264   -4.8913   -2.5518   H         1 RES1   0.0000\\n    20 H7       -3.0496   -3.8007   -1.2378   H         1 RES1   0.0000\\n    21 H8       -2.5787   -1.6256   -0.1247   H         1 RES1   0.0000\\n    22 O1       -0.0509    0.0410    2.0562   O.3       1 RES1   0.0000\\n    23 H9       -0.4359    0.6513    2.6935   H         1 RES1   0.0000\\n    24 H10       0.4374   -0.6293    2.5393   H         1 RES1   0.0000\\n    25 Br1      -1.1902    2.0488   -0.8520   Br        1 RES1   0.0000\\n@<TRIPOS>BOND\\n     1     1     5    1\\n     2     1    13    1\\n     3     1    22    1\\n     4     1    25    1\\n     5     2     3    2\\n     6     2     7    1\\n     7     2    14    1\\n     8     3     4    1\\n     9     3    15    1\\n    10     4     5    2\\n    11     4    16    1\\n    12     5     6    1\\n    13     6     7    2\\n    14     6     8    1\\n    15     7    17    1\\n    16     8     9    2\\n    17     8    13    1\\n    18     9    10    1\\n    19     9    18    1\\n    20    10    11    2\\n    21    10    19    1\\n    22    11    12    1\\n    23    11    20    1\\n    24    12    13    2\\n    25    12    21    1\\n    26    22    23    1\\n    27    22    24    1\\n@<TRIPOS>SUBSTRUCTURE\\n     1 RES1       25 GROUP             0 ****  ****    0  \\n\",\"mol2\");\n",
       "\tviewergrid_16697479595939279[0][0].setStyle({\"stick\": {\"colorscheme\": \"Jmol\"}});\n",
       "\tviewergrid_16697479595939279[0][0].addLabel(\"-1223.3189534096398\",{\"position\": {\"x\": \"-0.1812\", \"y\": \"0.314\", \"z\": \"-0.0413\"}, \"backgroundColor\": \"'black'\", \"backgroundOpacity\": \"0.5\", \"fontOpacity\": \"1\", \"fontSize\": \"12\", \"fontColor\": \"white\", \"inFront\": \"true\"});\n",
       "\tviewergrid_16697479595939279[0][0].zoomTo();\n",
       "\tviewergrid_16697479595939279[0][1].addModel(\"@<TRIPOS>MOLECULE\\ntmp.mol2\\n    25    27     1     0     0\\nSMALL\\nNoCharges\\n****\\nGenerated from Architector\\n\\n@<TRIPOS>ATOM\\n     1 Ni1      -0.1614    0.3502    0.0277   Ni        1 RES1   0.0000\\n     2 C1        4.5940   -0.0316    0.5136   C.ar      1 RES1   0.0000\\n     3 C2        4.0762   -0.0073   -0.7712   C.ar      1 RES1   0.0000\\n     4 C3        2.6996    0.0288   -0.9335   C.ar      1 RES1   0.0000\\n     5 N1        1.8668    0.0217    0.0989   N.ar      1 RES1   0.0000\\n     6 C4        2.3538   -0.0127    1.3554   C.ar      1 RES1   0.0000\\n     7 C5        3.7239   -0.0345    1.5901   C.ar      1 RES1   0.0000\\n     8 C6        1.3517   -0.0203    2.4317   C.ar      1 RES1   0.0000\\n     9 C7        1.6670   -0.0464    3.7874   C.ar      1 RES1   0.0000\\n    10 C8        0.6413   -0.0433    4.7178   C.ar      1 RES1   0.0000\\n    11 C9       -0.6734   -0.0394    4.2803   C.ar      1 RES1   0.0000\\n    12 C10      -0.9130   -0.0033    2.9149   C.ar      1 RES1   0.0000\\n    13 N2        0.0686    0.0178    2.0252   N.ar      1 RES1   0.0000\\n    14 H1        5.6586   -0.0486    0.6833   H         1 RES1   0.0000\\n    15 H2        4.7217   -0.0068   -1.6327   H         1 RES1   0.0000\\n    16 H3        2.2589    0.0511   -1.9231   H         1 RES1   0.0000\\n    17 H4        4.1004   -0.0541    2.5991   H         1 RES1   0.0000\\n    18 H5        2.6912   -0.0529    4.1217   H         1 RES1   0.0000\\n    19 H6        0.8656   -0.0401    5.7724   H         1 RES1   0.0000\\n    20 H7       -1.4966   -0.0480    4.9758   H         1 RES1   0.0000\\n    21 H8       -1.9214    0.0116    2.5214   H         1 RES1   0.0000\\n    22 O1       -2.2628   -0.0327   -0.2552   O.3       1 RES1   0.0000\\n    23 H9       -2.6823    0.7324   -0.6746   H         1 RES1   0.0000\\n    24 H10      -2.6479   -0.8230   -0.6466   H         1 RES1   0.0000\\n    25 Br1      -0.1906    2.4434   -0.6607   Br        1 RES1   0.0000\\n@<TRIPOS>BOND\\n     1     1     5    1\\n     2     1    13    1\\n     3     1    22    1\\n     4     1    25    1\\n     5     2     3    2\\n     6     2     7    1\\n     7     2    14    1\\n     8     3     4    1\\n     9     3    15    1\\n    10     4     5    2\\n    11     4    16    1\\n    12     5     6    1\\n    13     6     7    2\\n    14     6     8    1\\n    15     7    17    1\\n    16     8     9    2\\n    17     8    13    1\\n    18     9    10    1\\n    19     9    18    1\\n    20    10    11    2\\n    21    10    19    1\\n    22    11    12    1\\n    23    11    20    1\\n    24    12    13    2\\n    25    12    21    1\\n    26    22    23    1\\n    27    22    24    1\\n@<TRIPOS>SUBSTRUCTURE\\n     1 RES1       25 GROUP             0 ****  ****    0  \\n\",\"mol2\");\n",
       "\tviewergrid_16697479595939279[0][1].setStyle({\"stick\": {\"colorscheme\": \"Jmol\"}});\n",
       "\tviewergrid_16697479595939279[0][1].addLabel(\"-1223.2627470584312\",{\"position\": {\"x\": \"-0.1614\", \"y\": \"0.3502\", \"z\": \"0.0277\"}, \"backgroundColor\": \"'black'\", \"backgroundOpacity\": \"0.5\", \"fontOpacity\": \"1\", \"fontSize\": \"12\", \"fontColor\": \"white\", \"inFront\": \"true\"});\n",
       "\tviewergrid_16697479595939279[0][1].zoomTo();\n",
       "\tviewergrid_16697479595939279[0][2].addModel(\"@<TRIPOS>MOLECULE\\ntmp.mol2\\n    25    27     1     0     0\\nSMALL\\nNoCharges\\n****\\nGenerated from Architector\\n\\n@<TRIPOS>ATOM\\n     1 Ni1      -0.1409   -0.1966   -0.0004   Ni        1 RES1   0.0000\\n     2 C1        4.6898    0.5554   -0.0001   C.ar      1 RES1   0.0000\\n     3 C2        4.2244   -0.7488   -0.0002   C.ar      1 RES1   0.0000\\n     4 C3        2.8550   -0.9684   -0.0014   C.ar      1 RES1   0.0000\\n     5 N1        1.9740    0.0244   -0.0031   N.ar      1 RES1   0.0000\\n     6 C4        2.4079    1.2997   -0.0032   C.ar      1 RES1   0.0000\\n     7 C5        3.7686    1.5904   -0.0013   C.ar      1 RES1   0.0000\\n     8 C6        1.3549    2.3273   -0.0033   C.ar      1 RES1   0.0000\\n     9 C7        1.6087    3.6962   -0.0012   C.ar      1 RES1   0.0000\\n    10 C8        0.5495    4.5896   -0.0009   C.ar      1 RES1   0.0000\\n    11 C9       -0.7418    4.0905    0.0014   C.ar      1 RES1   0.0000\\n    12 C10      -0.9184    2.7155    0.0023   C.ar      1 RES1   0.0000\\n    13 N2        0.0927    1.8577   -0.0029   N.ar      1 RES1   0.0000\\n    14 H1        5.7482    0.7669    0.0010   H         1 RES1   0.0000\\n    15 H2        4.8980   -1.5889    0.0011   H         1 RES1   0.0000\\n    16 H3        2.4630   -1.9766   -0.0006   H         1 RES1   0.0000\\n    17 H4        4.1033    2.6134   -0.0005   H         1 RES1   0.0000\\n    18 H5        2.6195    4.0658    0.0004   H         1 RES1   0.0000\\n    19 H6        0.7315    5.6534   -0.0008   H         1 RES1   0.0000\\n    20 H7       -1.5989    4.7429    0.0035   H         1 RES1   0.0000\\n    21 H8       -1.9114    2.2881    0.0130   H         1 RES1   0.0000\\n    22 O1       -2.3808    0.1238    0.0432   O.3       1 RES1   0.0000\\n    23 H9       -2.8019   -0.1243   -0.7894   H         1 RES1   0.0000\\n    24 H10      -2.8034   -0.4032    0.7332   H         1 RES1   0.0000\\n    25 Br1      -0.3952   -2.3810    0.0103   Br        1 RES1   0.0000\\n@<TRIPOS>BOND\\n     1     1     5    1\\n     2     1    13    1\\n     3     1    22    1\\n     4     1    25    1\\n     5     2     3    2\\n     6     2     7    1\\n     7     2    14    1\\n     8     3     4    1\\n     9     3    15    1\\n    10     4     5    2\\n    11     4    16    1\\n    12     5     6    1\\n    13     6     7    2\\n    14     6     8    1\\n    15     7    17    1\\n    16     8     9    2\\n    17     8    13    1\\n    18     9    10    1\\n    19     9    18    1\\n    20    10    11    2\\n    21    10    19    1\\n    22    11    12    1\\n    23    11    20    1\\n    24    12    13    2\\n    25    12    21    1\\n    26    22    23    1\\n    27    22    24    1\\n@<TRIPOS>SUBSTRUCTURE\\n     1 RES1       25 GROUP             0 ****  ****    0  \\n\",\"mol2\");\n",
       "\tviewergrid_16697479595939279[0][2].setStyle({\"stick\": {\"colorscheme\": \"Jmol\"}});\n",
       "\tviewergrid_16697479595939279[0][2].addLabel(\"-1223.107151953248\",{\"position\": {\"x\": \"-0.1409\", \"y\": \"-0.1966\", \"z\": \"-0.0004\"}, \"backgroundColor\": \"'black'\", \"backgroundOpacity\": \"0.5\", \"fontOpacity\": \"1\", \"fontSize\": \"12\", \"fontColor\": \"white\", \"inFront\": \"true\"});\n",
       "\tviewergrid_16697479595939279[0][2].zoomTo();\n",
       "viewergrid_16697479595939279[0][3].render();\n",
       "viewergrid_16697479595939279[0][2].render();\n",
       "viewergrid_16697479595939279[0][1].render();\n",
       "viewergrid_16697479595939279[0][0].render();\n",
       "});\n",
       "</script>"
      ]
     },
     "metadata": {},
     "output_type": "display_data"
    }
   ],
   "source": [
    "keys = list(out_HS_dict.keys())\n",
    "labels = [out_HS_dict[key]['energy'] for key in keys]\n",
    "view_structures(out_HS_dict,labels=labels)"
   ]
  },
  {
   "cell_type": "markdown",
   "id": "ddca5221",
   "metadata": {},
   "source": [
    "### Look at that! For the HS electronic state the tetrahedral structure is much lower in energy than the planar.\n",
    "\n",
    "Without sampling multiple different metal center geometries and spin states, this result is not obvious.\n",
    "\n",
    "## For (B), we are also interested in how solvents can affect energics\n",
    "\n",
    "Luckily in Architector (largely because of XTB!) adding a solvent is as easy as a single keyword"
   ]
  },
  {
   "cell_type": "code",
   "execution_count": 8,
   "id": "de5ea52b",
   "metadata": {},
   "outputs": [
    {
     "data": {
      "text/plain": [
       "{'core': {'metal': 'Ni', 'coreCN': 4, 'smiles': '[Ni]'},\n",
       " 'ligands': [{'smiles': 'C1=CC=NC(=C1)C2=CC=CC=N2',\n",
       "   'coordList': [3, 11],\n",
       "   'ligType': 'bi_cis'},\n",
       "  {'smiles': '[Br-]', 'coordList': [0]}],\n",
       " 'parameters': {'metal_spin': 0,\n",
       "  'is_actinide': False,\n",
       "  'original_metal': 'Ni',\n",
       "  'solvent': 'THF'}}"
      ]
     },
     "execution_count": 8,
     "metadata": {},
     "output_type": "execute_result"
    }
   ],
   "source": [
    "inputDict_LS_THF = copy.deepcopy(inputDict_LS)\n",
    "\n",
    "inputDict_LS_THF['parameters']['solvent'] = 'THF'\n",
    "\n",
    "inputDict_LS_THF"
   ]
  },
  {
   "cell_type": "code",
   "execution_count": 9,
   "id": "141b83a0",
   "metadata": {
    "scrolled": true
   },
   "outputs": [
    {
     "name": "stdout",
     "output_type": "stream",
     "text": [
      "                 Step     Time          Energy         fmax\n",
      "*Force-consistent energies used in optimization.\n",
      "LBFGSLineSearch:    0 11:53:02    -1225.119140*       4.1844\n",
      "LBFGSLineSearch:    1 11:53:02    -1225.374289*       1.5670\n",
      "LBFGSLineSearch:    2 11:53:02    -1225.576063*       1.6069\n",
      "LBFGSLineSearch:    3 11:53:03    -1225.650041*       0.8970\n",
      "LBFGSLineSearch:    4 11:53:03    -1225.730463*       0.8252\n",
      "LBFGSLineSearch:    5 11:53:04    -1225.820656*       0.6672\n",
      "LBFGSLineSearch:    6 11:53:04    -1225.866245*       0.7399\n",
      "LBFGSLineSearch:    7 11:53:04    -1225.920675*       0.7098\n",
      "LBFGSLineSearch:    8 11:53:05    -1225.945393*       0.4510\n",
      "LBFGSLineSearch:    9 11:53:05    -1225.980345*       0.5492\n",
      "LBFGSLineSearch:   10 11:53:06    -1226.038925*       0.5545\n",
      "LBFGSLineSearch:   11 11:53:06    -1226.056956*       0.3145\n",
      "LBFGSLineSearch:   12 11:53:06    -1226.080121*       0.6383\n",
      "LBFGSLineSearch:   13 11:53:07    -1226.113905*       0.4834\n",
      "LBFGSLineSearch:   14 11:53:07    -1226.129270*       0.3145\n",
      "LBFGSLineSearch:   15 11:53:07    -1226.156182*       0.5501\n",
      "LBFGSLineSearch:   16 11:53:08    -1226.193010*       0.4908\n",
      "LBFGSLineSearch:   17 11:53:08    -1226.211434*       0.3847\n",
      "LBFGSLineSearch:   18 11:53:09    -1226.229354*       0.3729\n",
      "LBFGSLineSearch:   19 11:53:09    -1226.244496*       0.5384\n",
      "LBFGSLineSearch:   20 11:53:10    -1226.258515*       0.2655\n",
      "LBFGSLineSearch:   21 11:53:10    -1226.272573*       0.2549\n",
      "LBFGSLineSearch:   22 11:53:10    -1226.287960*       0.2848\n",
      "LBFGSLineSearch:   23 11:53:11    -1226.301208*       0.4256\n",
      "LBFGSLineSearch:   24 11:53:11    -1226.313347*       0.3223\n",
      "LBFGSLineSearch:   25 11:53:11    -1226.322098*       0.2110\n",
      "LBFGSLineSearch:   26 11:53:12    -1226.335379*       0.2199\n",
      "LBFGSLineSearch:   27 11:53:12    -1226.343016*       0.1715\n",
      "LBFGSLineSearch:   28 11:53:12    -1226.347391*       0.2100\n",
      "LBFGSLineSearch:   29 11:53:13    -1226.351644*       0.1727\n",
      "LBFGSLineSearch:   30 11:53:13    -1226.358179*       0.1729\n",
      "LBFGSLineSearch:   31 11:53:13    -1226.361827*       0.2945\n",
      "LBFGSLineSearch:   32 11:53:13    -1226.368939*       0.3617\n",
      "LBFGSLineSearch:   33 11:53:14    -1226.383378*       0.2091\n",
      "LBFGSLineSearch:   34 11:53:15    -1226.388713*       0.2033\n",
      "LBFGSLineSearch:   35 11:53:15    -1226.393554*       0.1845\n",
      "LBFGSLineSearch:   36 11:53:16    -1226.401172*       0.1994\n",
      "LBFGSLineSearch:   37 11:53:17    -1226.406422*       0.1731\n",
      "LBFGSLineSearch:   38 11:53:17    -1226.413973*       0.2322\n",
      "LBFGSLineSearch:   39 11:53:18    -1226.419990*       0.1698\n",
      "LBFGSLineSearch:   40 11:53:18    -1226.425979*       0.2134\n",
      "LBFGSLineSearch:   41 11:53:18    -1226.433203*       0.2190\n",
      "LBFGSLineSearch:   42 11:53:19    -1226.446072*       0.4477\n",
      "LBFGSLineSearch:   43 11:53:19    -1226.452010*       0.2231\n",
      "LBFGSLineSearch:   44 11:53:20    -1226.460514*       0.4088\n",
      "LBFGSLineSearch:   45 11:53:21    -1226.468552*       0.1161\n",
      "LBFGSLineSearch:   46 11:53:21    -1226.473333*       0.1798\n",
      "LBFGSLineSearch:   47 11:53:21    -1226.478151*       0.1641\n",
      "LBFGSLineSearch:   48 11:53:22    -1226.483113*       0.1891\n",
      "LBFGSLineSearch:   49 11:53:22    -1226.487258*       0.1013\n",
      "LBFGSLineSearch:   50 11:53:22    -1226.488622*       0.0961\n",
      "                 Step     Time          Energy         fmax\n",
      "*Force-consistent energies used in optimization.\n",
      "LBFGSLineSearch:    0 11:53:40    -1225.845958*       3.2013\n",
      "LBFGSLineSearch:    1 11:53:40    -1226.050590*       1.5133\n",
      "LBFGSLineSearch:    2 11:53:41    -1226.159414*       0.9310\n",
      "LBFGSLineSearch:    3 11:53:41    -1226.233410*       0.5638\n",
      "LBFGSLineSearch:    4 11:53:42    -1226.272011*       0.7406\n",
      "LBFGSLineSearch:    5 11:53:43    -1226.340965*       0.8223\n",
      "LBFGSLineSearch:    6 11:53:43    -1226.394018*       0.5830\n",
      "LBFGSLineSearch:    7 11:53:44    -1226.432409*       0.4675\n",
      "LBFGSLineSearch:    8 11:53:44    -1226.444134*       0.3261\n",
      "LBFGSLineSearch:    9 11:53:45    -1226.460766*       0.5079\n",
      "LBFGSLineSearch:   10 11:53:45    -1226.484184*       0.5459\n",
      "LBFGSLineSearch:   11 11:53:46    -1226.494922*       0.2386\n",
      "LBFGSLineSearch:   12 11:53:46    -1226.501767*       0.2610\n",
      "LBFGSLineSearch:   13 11:53:46    -1226.505353*       0.1477\n",
      "LBFGSLineSearch:   14 11:53:46    -1226.507428*       0.1234\n",
      "LBFGSLineSearch:   15 11:53:47    -1226.509370*       0.1082\n",
      "LBFGSLineSearch:   16 11:53:47    -1226.511551*       0.1177\n",
      "LBFGSLineSearch:   17 11:53:48    -1226.513823*       0.0840\n",
      "                 Step     Time          Energy         fmax\n",
      "*Force-consistent energies used in optimization.\n",
      "LBFGSLineSearch:    0 11:54:07    -1224.490283*       4.6589\n",
      "LBFGSLineSearch:    1 11:54:07    -1224.954542*       2.7900\n",
      "LBFGSLineSearch:    2 11:54:08    -1225.411786*       2.0741\n",
      "LBFGSLineSearch:    3 11:54:08    -1225.597225*       1.5453\n",
      "LBFGSLineSearch:    4 11:54:08    -1225.743595*       0.8553\n",
      "LBFGSLineSearch:    5 11:54:09    -1225.868365*       1.2676\n",
      "LBFGSLineSearch:    6 11:54:10    -1226.002331*       0.8093\n",
      "LBFGSLineSearch:    7 11:54:10    -1226.039328*       0.4784\n",
      "LBFGSLineSearch:    8 11:54:10    -1226.068264*       0.3505\n",
      "LBFGSLineSearch:    9 11:54:11    -1226.089466*       0.2920\n",
      "LBFGSLineSearch:   10 11:54:11    -1226.112208*       0.5399\n",
      "LBFGSLineSearch:   11 11:54:12    -1226.152707*       0.5455\n",
      "LBFGSLineSearch:   12 11:54:12    -1226.165931*       0.2699\n",
      "LBFGSLineSearch:   13 11:54:12    -1226.181217*       0.4001\n",
      "LBFGSLineSearch:   14 11:54:13    -1226.200079*       0.4427\n",
      "LBFGSLineSearch:   15 11:54:13    -1226.209842*       0.2779\n",
      "LBFGSLineSearch:   16 11:54:14    -1226.220014*       0.1773\n",
      "LBFGSLineSearch:   17 11:54:14    -1226.226935*       0.2093\n",
      "LBFGSLineSearch:   18 11:54:14    -1226.240299*       0.2574\n",
      "LBFGSLineSearch:   19 11:54:15    -1226.248125*       0.2682\n",
      "LBFGSLineSearch:   20 11:54:15    -1226.262098*       0.3048\n",
      "LBFGSLineSearch:   21 11:54:16    -1226.268778*       0.2114\n",
      "LBFGSLineSearch:   22 11:54:16    -1226.272453*       0.1842\n",
      "LBFGSLineSearch:   23 11:54:16    -1226.274638*       0.1058\n",
      "LBFGSLineSearch:   24 11:54:17    -1226.275813*       0.0669\n"
     ]
    }
   ],
   "source": [
    "out_LS_THF_dict = build_complex(inputDict_LS_THF)"
   ]
  },
  {
   "cell_type": "markdown",
   "id": "7fa02d8d",
   "metadata": {},
   "source": [
    "Again viewing the structures reveals slighlty different energetics but similar ordering for the structures:"
   ]
  },
  {
   "cell_type": "code",
   "execution_count": 10,
   "id": "088bce2d",
   "metadata": {},
   "outputs": [
    {
     "data": {
      "application/3dmoljs_load.v0": "<div id=\"3dmolviewer_16697480600564659\"  style=\"position: relative; width: 800px; height: 200px\">\n        <p id=\"3dmolwarning_16697480600564659\" style=\"background-color:#ffcccc;color:black\">You appear to be running in JupyterLab (or JavaScript failed to load for some other reason).  You need to install the 3dmol extension: <br>\n        <tt>jupyter labextension install jupyterlab_3dmol</tt></p>\n        </div>\n<script>\n\nvar loadScriptAsync = function(uri){\n  return new Promise((resolve, reject) => {\n    var tag = document.createElement('script');\n    tag.src = uri;\n    tag.async = true;\n    tag.onload = () => {\n      resolve();\n    };\n  var firstScriptTag = document.getElementsByTagName('script')[0];\n  firstScriptTag.parentNode.insertBefore(tag, firstScriptTag);\n});\n};\n\nif(typeof $3Dmolpromise === 'undefined') {\n$3Dmolpromise = null;\n  $3Dmolpromise = loadScriptAsync('https://cdn.jsdelivr.net/npm/3dmol@latest/build/3Dmol-min.min.js');\n}\n\nvar viewer_16697480600564659 = null;\nvar warn = document.getElementById(\"3dmolwarning_16697480600564659\");\nif(warn) {\n    warn.parentNode.removeChild(warn);\n}\n$3Dmolpromise.then(function() {\nvar viewergrid_16697480600564659 = null;\nviewergrid_16697480600564659 = $3Dmol.createViewerGrid($(\"#3dmolviewer_16697480600564659\"),{rows: 1, cols: 4, control_all: false},{backgroundColor:\"white\"});\nviewer_16697480600564659 = viewergrid_16697480600564659[0][0];\nviewergrid_16697480600564659[0][0].zoomTo();viewergrid_16697480600564659[0][1].zoomTo();viewergrid_16697480600564659[0][2].zoomTo();viewergrid_16697480600564659[0][3].zoomTo();\tviewergrid_16697480600564659[0][0].addModel(\"@<TRIPOS>MOLECULE\\ntmp.mol2\\n    25    27     1     0     0\\nSMALL\\nNoCharges\\n****\\nGenerated from Architector\\n\\n@<TRIPOS>ATOM\\n     1 Ni1      -0.0497   -0.0517   -0.0000   Ni        1 RES1   0.0000\\n     2 C1        4.6163    0.5028   -0.0000   C.ar      1 RES1   0.0000\\n     3 C2        4.1187   -0.7896   -0.0000   C.ar      1 RES1   0.0000\\n     4 C3        2.7446   -0.9803   -0.0000   C.ar      1 RES1   0.0000\\n     5 N1        1.8742    0.0295   -0.0000   N.ar      1 RES1   0.0000\\n     6 C4        2.3529    1.2981   -0.0000   C.ar      1 RES1   0.0000\\n     7 C5        3.7191    1.5587   -0.0000   C.ar      1 RES1   0.0000\\n     8 C6        1.3288    2.3425   -0.0000   C.ar      1 RES1   0.0000\\n     9 C7        1.5810    3.7118    0.0000   C.ar      1 RES1   0.0000\\n    10 C8        0.5141    4.5971    0.0000   C.ar      1 RES1   0.0000\\n    11 C9       -0.7753    4.0902    0.0000   C.ar      1 RES1   0.0000\\n    12 C10      -0.9522    2.7169    0.0000   C.ar      1 RES1   0.0000\\n    13 N2        0.0678    1.8685    0.0000   N.ar      1 RES1   0.0000\\n    14 H1        5.6781    0.6858   -0.0000   H         1 RES1   0.0000\\n    15 H2        4.7729   -1.6457   -0.0000   H         1 RES1   0.0000\\n    16 H3        2.3555   -1.9874   -0.0000   H         1 RES1   0.0000\\n    17 H4        4.0776    2.5740   -0.0000   H         1 RES1   0.0000\\n    18 H5        2.5893    4.0859   -0.0000   H         1 RES1   0.0000\\n    19 H6        0.6895    5.6618    0.0000   H         1 RES1   0.0000\\n    20 H7       -1.6341    4.7388    0.0000   H         1 RES1   0.0000\\n    21 H8       -1.9456    2.2890    0.0000   H         1 RES1   0.0000\\n    22 O1       -2.0648    0.1131    0.0000   O.3       1 RES1   0.0000\\n    23 H9       -2.4988   -0.2722    0.7821   H         1 RES1   0.0000\\n    24 H10      -2.4988   -0.2722   -0.7820   H         1 RES1   0.0000\\n    25 Br1      -0.2650   -2.2522    0.0000   Br        1 RES1   0.0000\\n@<TRIPOS>BOND\\n     1     1     5    1\\n     2     1    13    1\\n     3     1    22    1\\n     4     1    25    1\\n     5     2     3    2\\n     6     2     7    1\\n     7     2    14    1\\n     8     3     4    1\\n     9     3    15    1\\n    10     4     5    2\\n    11     4    16    1\\n    12     5     6    1\\n    13     6     7    2\\n    14     6     8    1\\n    15     7    17    1\\n    16     8     9    2\\n    17     8    13    1\\n    18     9    10    1\\n    19     9    18    1\\n    20    10    11    2\\n    21    10    19    1\\n    22    11    12    1\\n    23    11    20    1\\n    24    12    13    2\\n    25    12    21    1\\n    26    22    23    1\\n    27    22    24    1\\n@<TRIPOS>SUBSTRUCTURE\\n     1 RES1       25 GROUP             0 ****  ****    0  \\n\",\"mol2\");\n\tviewergrid_16697480600564659[0][0].setStyle({\"stick\": {\"colorscheme\": \"Jmol\"}});\n\tviewergrid_16697480600564659[0][0].addLabel(\"-1226.5138229094125\",{\"position\": {\"x\": \"-0.0497\", \"y\": \"-0.0517\", \"z\": \"-0.0\"}, \"backgroundColor\": \"'black'\", \"backgroundOpacity\": \"0.5\", \"fontOpacity\": \"1\", \"fontSize\": \"12\", \"fontColor\": \"white\", \"inFront\": \"true\"});\n\tviewergrid_16697480600564659[0][0].zoomTo();\n\tviewergrid_16697480600564659[0][1].addModel(\"@<TRIPOS>MOLECULE\\ntmp.mol2\\n    25    27     1     0     0\\nSMALL\\nNoCharges\\n****\\nGenerated from Architector\\n\\n@<TRIPOS>ATOM\\n     1 Ni1      -0.1242    0.1862   -0.2458   Ni        1 RES1   0.0000\\n     2 C1       -1.1213   -3.9775   -2.0275   C.ar      1 RES1   0.0000\\n     3 C2       -2.0962   -3.3203   -1.2910   C.ar      1 RES1   0.0000\\n     4 C3       -1.7743   -2.1087   -0.6955   C.ar      1 RES1   0.0000\\n     5 N1       -0.5667   -1.5697   -0.8091   N.ar      1 RES1   0.0000\\n     6 C4        0.4023   -2.2022   -1.5106   C.ar      1 RES1   0.0000\\n     7 C5        0.1442   -3.4177   -2.1348   C.ar      1 RES1   0.0000\\n     8 C6        1.6631   -1.4554   -1.5087   C.ar      1 RES1   0.0000\\n     9 C7        2.8576   -1.8329   -2.1156   C.ar      1 RES1   0.0000\\n    10 C8        3.9667   -1.0069   -2.0000   C.ar      1 RES1   0.0000\\n    11 C9        3.8673    0.1616   -1.2575   C.ar      1 RES1   0.0000\\n    12 C10       2.6446    0.4854   -0.6837   C.ar      1 RES1   0.0000\\n    13 N2        1.5759   -0.2899   -0.8234   N.ar      1 RES1   0.0000\\n    14 H1       -1.3465   -4.9125   -2.5150   H         1 RES1   0.0000\\n    15 H2       -3.0852   -3.7336   -1.1782   H         1 RES1   0.0000\\n    16 H3       -2.5083   -1.5648   -0.1123   H         1 RES1   0.0000\\n    17 H4        0.9127   -3.9143   -2.7014   H         1 RES1   0.0000\\n    18 H5        2.9222   -2.7528   -2.6738   H         1 RES1   0.0000\\n    19 H6        4.8992   -1.2696   -2.4768   H         1 RES1   0.0000\\n    20 H7        4.7154    0.8146   -1.1237   H         1 RES1   0.0000\\n    21 H8        2.5344    1.3890   -0.0953   H         1 RES1   0.0000\\n    22 O1        0.0518    0.0677    1.9635   O.3       1 RES1   0.0000\\n    23 H9       -0.0832    0.8112    2.5622   H         1 RES1   0.0000\\n    24 H10       0.1788   -0.7262    2.4937   H         1 RES1   0.0000\\n    25 Br1      -1.0140    2.1624   -0.5795   Br        1 RES1   0.0000\\n@<TRIPOS>BOND\\n     1     1     5    1\\n     2     1    13    1\\n     3     1    22    1\\n     4     1    25    1\\n     5     2     3    2\\n     6     2     7    1\\n     7     2    14    1\\n     8     3     4    1\\n     9     3    15    1\\n    10     4     5    2\\n    11     4    16    1\\n    12     5     6    1\\n    13     6     7    2\\n    14     6     8    1\\n    15     7    17    1\\n    16     8     9    2\\n    17     8    13    1\\n    18     9    10    1\\n    19     9    18    1\\n    20    10    11    2\\n    21    10    19    1\\n    22    11    12    1\\n    23    11    20    1\\n    24    12    13    2\\n    25    12    21    1\\n    26    22    23    1\\n    27    22    24    1\\n@<TRIPOS>SUBSTRUCTURE\\n     1 RES1       25 GROUP             0 ****  ****    0  \\n\",\"mol2\");\n\tviewergrid_16697480600564659[0][1].setStyle({\"stick\": {\"colorscheme\": \"Jmol\"}});\n\tviewergrid_16697480600564659[0][1].addLabel(\"-1226.2758133101431\",{\"position\": {\"x\": \"-0.1242\", \"y\": \"0.1862\", \"z\": \"-0.2458\"}, \"backgroundColor\": \"'black'\", \"backgroundOpacity\": \"0.5\", \"fontOpacity\": \"1\", \"fontSize\": \"12\", \"fontColor\": \"white\", \"inFront\": \"true\"});\n\tviewergrid_16697480600564659[0][1].zoomTo();\nviewergrid_16697480600564659[0][3].render();\nviewergrid_16697480600564659[0][2].render();\nviewergrid_16697480600564659[0][1].render();\nviewergrid_16697480600564659[0][0].render();\n});\n</script>",
      "text/html": [
       "<div id=\"3dmolviewer_16697480600564659\"  style=\"position: relative; width: 800px; height: 200px\">\n",
       "        <p id=\"3dmolwarning_16697480600564659\" style=\"background-color:#ffcccc;color:black\">You appear to be running in JupyterLab (or JavaScript failed to load for some other reason).  You need to install the 3dmol extension: <br>\n",
       "        <tt>jupyter labextension install jupyterlab_3dmol</tt></p>\n",
       "        </div>\n",
       "<script>\n",
       "\n",
       "var loadScriptAsync = function(uri){\n",
       "  return new Promise((resolve, reject) => {\n",
       "    var tag = document.createElement('script');\n",
       "    tag.src = uri;\n",
       "    tag.async = true;\n",
       "    tag.onload = () => {\n",
       "      resolve();\n",
       "    };\n",
       "  var firstScriptTag = document.getElementsByTagName('script')[0];\n",
       "  firstScriptTag.parentNode.insertBefore(tag, firstScriptTag);\n",
       "});\n",
       "};\n",
       "\n",
       "if(typeof $3Dmolpromise === 'undefined') {\n",
       "$3Dmolpromise = null;\n",
       "  $3Dmolpromise = loadScriptAsync('https://cdn.jsdelivr.net/npm/3dmol@latest/build/3Dmol-min.min.js');\n",
       "}\n",
       "\n",
       "var viewer_16697480600564659 = null;\n",
       "var warn = document.getElementById(\"3dmolwarning_16697480600564659\");\n",
       "if(warn) {\n",
       "    warn.parentNode.removeChild(warn);\n",
       "}\n",
       "$3Dmolpromise.then(function() {\n",
       "var viewergrid_16697480600564659 = null;\n",
       "viewergrid_16697480600564659 = $3Dmol.createViewerGrid($(\"#3dmolviewer_16697480600564659\"),{rows: 1, cols: 4, control_all: false},{backgroundColor:\"white\"});\n",
       "viewer_16697480600564659 = viewergrid_16697480600564659[0][0];\n",
       "viewergrid_16697480600564659[0][0].zoomTo();viewergrid_16697480600564659[0][1].zoomTo();viewergrid_16697480600564659[0][2].zoomTo();viewergrid_16697480600564659[0][3].zoomTo();\tviewergrid_16697480600564659[0][0].addModel(\"@<TRIPOS>MOLECULE\\ntmp.mol2\\n    25    27     1     0     0\\nSMALL\\nNoCharges\\n****\\nGenerated from Architector\\n\\n@<TRIPOS>ATOM\\n     1 Ni1      -0.0497   -0.0517   -0.0000   Ni        1 RES1   0.0000\\n     2 C1        4.6163    0.5028   -0.0000   C.ar      1 RES1   0.0000\\n     3 C2        4.1187   -0.7896   -0.0000   C.ar      1 RES1   0.0000\\n     4 C3        2.7446   -0.9803   -0.0000   C.ar      1 RES1   0.0000\\n     5 N1        1.8742    0.0295   -0.0000   N.ar      1 RES1   0.0000\\n     6 C4        2.3529    1.2981   -0.0000   C.ar      1 RES1   0.0000\\n     7 C5        3.7191    1.5587   -0.0000   C.ar      1 RES1   0.0000\\n     8 C6        1.3288    2.3425   -0.0000   C.ar      1 RES1   0.0000\\n     9 C7        1.5810    3.7118    0.0000   C.ar      1 RES1   0.0000\\n    10 C8        0.5141    4.5971    0.0000   C.ar      1 RES1   0.0000\\n    11 C9       -0.7753    4.0902    0.0000   C.ar      1 RES1   0.0000\\n    12 C10      -0.9522    2.7169    0.0000   C.ar      1 RES1   0.0000\\n    13 N2        0.0678    1.8685    0.0000   N.ar      1 RES1   0.0000\\n    14 H1        5.6781    0.6858   -0.0000   H         1 RES1   0.0000\\n    15 H2        4.7729   -1.6457   -0.0000   H         1 RES1   0.0000\\n    16 H3        2.3555   -1.9874   -0.0000   H         1 RES1   0.0000\\n    17 H4        4.0776    2.5740   -0.0000   H         1 RES1   0.0000\\n    18 H5        2.5893    4.0859   -0.0000   H         1 RES1   0.0000\\n    19 H6        0.6895    5.6618    0.0000   H         1 RES1   0.0000\\n    20 H7       -1.6341    4.7388    0.0000   H         1 RES1   0.0000\\n    21 H8       -1.9456    2.2890    0.0000   H         1 RES1   0.0000\\n    22 O1       -2.0648    0.1131    0.0000   O.3       1 RES1   0.0000\\n    23 H9       -2.4988   -0.2722    0.7821   H         1 RES1   0.0000\\n    24 H10      -2.4988   -0.2722   -0.7820   H         1 RES1   0.0000\\n    25 Br1      -0.2650   -2.2522    0.0000   Br        1 RES1   0.0000\\n@<TRIPOS>BOND\\n     1     1     5    1\\n     2     1    13    1\\n     3     1    22    1\\n     4     1    25    1\\n     5     2     3    2\\n     6     2     7    1\\n     7     2    14    1\\n     8     3     4    1\\n     9     3    15    1\\n    10     4     5    2\\n    11     4    16    1\\n    12     5     6    1\\n    13     6     7    2\\n    14     6     8    1\\n    15     7    17    1\\n    16     8     9    2\\n    17     8    13    1\\n    18     9    10    1\\n    19     9    18    1\\n    20    10    11    2\\n    21    10    19    1\\n    22    11    12    1\\n    23    11    20    1\\n    24    12    13    2\\n    25    12    21    1\\n    26    22    23    1\\n    27    22    24    1\\n@<TRIPOS>SUBSTRUCTURE\\n     1 RES1       25 GROUP             0 ****  ****    0  \\n\",\"mol2\");\n",
       "\tviewergrid_16697480600564659[0][0].setStyle({\"stick\": {\"colorscheme\": \"Jmol\"}});\n",
       "\tviewergrid_16697480600564659[0][0].addLabel(\"-1226.5138229094125\",{\"position\": {\"x\": \"-0.0497\", \"y\": \"-0.0517\", \"z\": \"-0.0\"}, \"backgroundColor\": \"'black'\", \"backgroundOpacity\": \"0.5\", \"fontOpacity\": \"1\", \"fontSize\": \"12\", \"fontColor\": \"white\", \"inFront\": \"true\"});\n",
       "\tviewergrid_16697480600564659[0][0].zoomTo();\n",
       "\tviewergrid_16697480600564659[0][1].addModel(\"@<TRIPOS>MOLECULE\\ntmp.mol2\\n    25    27     1     0     0\\nSMALL\\nNoCharges\\n****\\nGenerated from Architector\\n\\n@<TRIPOS>ATOM\\n     1 Ni1      -0.1242    0.1862   -0.2458   Ni        1 RES1   0.0000\\n     2 C1       -1.1213   -3.9775   -2.0275   C.ar      1 RES1   0.0000\\n     3 C2       -2.0962   -3.3203   -1.2910   C.ar      1 RES1   0.0000\\n     4 C3       -1.7743   -2.1087   -0.6955   C.ar      1 RES1   0.0000\\n     5 N1       -0.5667   -1.5697   -0.8091   N.ar      1 RES1   0.0000\\n     6 C4        0.4023   -2.2022   -1.5106   C.ar      1 RES1   0.0000\\n     7 C5        0.1442   -3.4177   -2.1348   C.ar      1 RES1   0.0000\\n     8 C6        1.6631   -1.4554   -1.5087   C.ar      1 RES1   0.0000\\n     9 C7        2.8576   -1.8329   -2.1156   C.ar      1 RES1   0.0000\\n    10 C8        3.9667   -1.0069   -2.0000   C.ar      1 RES1   0.0000\\n    11 C9        3.8673    0.1616   -1.2575   C.ar      1 RES1   0.0000\\n    12 C10       2.6446    0.4854   -0.6837   C.ar      1 RES1   0.0000\\n    13 N2        1.5759   -0.2899   -0.8234   N.ar      1 RES1   0.0000\\n    14 H1       -1.3465   -4.9125   -2.5150   H         1 RES1   0.0000\\n    15 H2       -3.0852   -3.7336   -1.1782   H         1 RES1   0.0000\\n    16 H3       -2.5083   -1.5648   -0.1123   H         1 RES1   0.0000\\n    17 H4        0.9127   -3.9143   -2.7014   H         1 RES1   0.0000\\n    18 H5        2.9222   -2.7528   -2.6738   H         1 RES1   0.0000\\n    19 H6        4.8992   -1.2696   -2.4768   H         1 RES1   0.0000\\n    20 H7        4.7154    0.8146   -1.1237   H         1 RES1   0.0000\\n    21 H8        2.5344    1.3890   -0.0953   H         1 RES1   0.0000\\n    22 O1        0.0518    0.0677    1.9635   O.3       1 RES1   0.0000\\n    23 H9       -0.0832    0.8112    2.5622   H         1 RES1   0.0000\\n    24 H10       0.1788   -0.7262    2.4937   H         1 RES1   0.0000\\n    25 Br1      -1.0140    2.1624   -0.5795   Br        1 RES1   0.0000\\n@<TRIPOS>BOND\\n     1     1     5    1\\n     2     1    13    1\\n     3     1    22    1\\n     4     1    25    1\\n     5     2     3    2\\n     6     2     7    1\\n     7     2    14    1\\n     8     3     4    1\\n     9     3    15    1\\n    10     4     5    2\\n    11     4    16    1\\n    12     5     6    1\\n    13     6     7    2\\n    14     6     8    1\\n    15     7    17    1\\n    16     8     9    2\\n    17     8    13    1\\n    18     9    10    1\\n    19     9    18    1\\n    20    10    11    2\\n    21    10    19    1\\n    22    11    12    1\\n    23    11    20    1\\n    24    12    13    2\\n    25    12    21    1\\n    26    22    23    1\\n    27    22    24    1\\n@<TRIPOS>SUBSTRUCTURE\\n     1 RES1       25 GROUP             0 ****  ****    0  \\n\",\"mol2\");\n",
       "\tviewergrid_16697480600564659[0][1].setStyle({\"stick\": {\"colorscheme\": \"Jmol\"}});\n",
       "\tviewergrid_16697480600564659[0][1].addLabel(\"-1226.2758133101431\",{\"position\": {\"x\": \"-0.1242\", \"y\": \"0.1862\", \"z\": \"-0.2458\"}, \"backgroundColor\": \"'black'\", \"backgroundOpacity\": \"0.5\", \"fontOpacity\": \"1\", \"fontSize\": \"12\", \"fontColor\": \"white\", \"inFront\": \"true\"});\n",
       "\tviewergrid_16697480600564659[0][1].zoomTo();\n",
       "viewergrid_16697480600564659[0][3].render();\n",
       "viewergrid_16697480600564659[0][2].render();\n",
       "viewergrid_16697480600564659[0][1].render();\n",
       "viewergrid_16697480600564659[0][0].render();\n",
       "});\n",
       "</script>"
      ]
     },
     "metadata": {},
     "output_type": "display_data"
    }
   ],
   "source": [
    "keys = list(out_LS_THF_dict.keys())\n",
    "labels = [out_LS_THF_dict[key]['energy'] for key in keys]\n",
    "view_structures(out_LS_THF_dict,labels=labels)"
   ]
  },
  {
   "cell_type": "markdown",
   "id": "1a1cab0a",
   "metadata": {},
   "source": [
    "And again for the HS configuration with THF solvent (these cells are largely just copies!)"
   ]
  },
  {
   "cell_type": "code",
   "execution_count": 11,
   "id": "46ade706",
   "metadata": {
    "scrolled": true
   },
   "outputs": [
    {
     "data": {
      "text/plain": [
       "{'core': {'metal': 'Ni', 'coreCN': 4, 'smiles': '[Ni]'},\n",
       " 'ligands': [{'smiles': 'C1=CC=NC(=C1)C2=CC=CC=N2',\n",
       "   'coordList': [3, 11],\n",
       "   'ligType': 'bi_cis'},\n",
       "  {'smiles': '[Br-]', 'coordList': [0]}],\n",
       " 'parameters': {'metal_spin': 2,\n",
       "  'is_actinide': False,\n",
       "  'original_metal': 'Ni',\n",
       "  'solvent': 'THF'}}"
      ]
     },
     "execution_count": 11,
     "metadata": {},
     "output_type": "execute_result"
    }
   ],
   "source": [
    "inputDict_HS_THF = copy.deepcopy(inputDict_HS)\n",
    "\n",
    "inputDict_HS_THF['parameters']['solvent'] = 'THF'\n",
    "\n",
    "inputDict_HS_THF"
   ]
  },
  {
   "cell_type": "code",
   "execution_count": 12,
   "id": "2ac1a669",
   "metadata": {
    "scrolled": true
   },
   "outputs": [
    {
     "name": "stdout",
     "output_type": "stream",
     "text": [
      "                 Step     Time          Energy         fmax\n",
      "*Force-consistent energies used in optimization.\n",
      "LBFGSLineSearch:    0 11:54:46    -1224.232660*       4.7182\n",
      "LBFGSLineSearch:    1 11:54:46    -1224.638046*       1.3964\n",
      "LBFGSLineSearch:    2 11:54:47    -1224.867372*       2.1605\n",
      "LBFGSLineSearch:    3 11:54:47    -1224.967895*       0.9726\n",
      "LBFGSLineSearch:    4 11:54:47    -1225.106496*       1.0407\n",
      "LBFGSLineSearch:    5 11:54:48    -1225.252966*       0.8762\n",
      "LBFGSLineSearch:    6 11:54:48    -1225.320731*       0.6833\n",
      "LBFGSLineSearch:    7 11:54:49    -1225.393469*       0.7779\n",
      "LBFGSLineSearch:    8 11:54:50    -1225.448717*       0.5768\n",
      "LBFGSLineSearch:    9 11:54:50    -1225.472267*       0.5573\n",
      "LBFGSLineSearch:   10 11:54:51    -1225.503761*       0.4011\n",
      "LBFGSLineSearch:   11 11:54:51    -1225.515308*       0.2656\n",
      "LBFGSLineSearch:   12 11:54:52    -1225.526577*       0.4474\n",
      "LBFGSLineSearch:   13 11:54:52    -1225.544842*       0.4692\n",
      "LBFGSLineSearch:   14 11:54:53    -1225.553604*       0.1761\n",
      "LBFGSLineSearch:   15 11:54:53    -1225.564719*       0.4516\n",
      "LBFGSLineSearch:   16 11:54:54    -1225.581556*       0.3231\n",
      "LBFGSLineSearch:   17 11:54:54    -1225.587841*       0.2627\n",
      "LBFGSLineSearch:   18 11:54:54    -1225.596787*       0.1584\n",
      "LBFGSLineSearch:   19 11:54:55    -1225.602091*       0.1116\n",
      "LBFGSLineSearch:   20 11:54:55    -1225.605031*       0.1587\n",
      "LBFGSLineSearch:   21 11:54:55    -1225.607877*       0.2936\n",
      "LBFGSLineSearch:   22 11:54:56    -1225.610362*       0.1157\n",
      "LBFGSLineSearch:   23 11:54:56    -1225.612860*       0.1667\n",
      "LBFGSLineSearch:   24 11:54:56    -1225.616352*       0.1483\n",
      "LBFGSLineSearch:   25 11:54:57    -1225.620789*       0.2794\n",
      "LBFGSLineSearch:   26 11:54:57    -1225.626516*       0.1242\n",
      "LBFGSLineSearch:   27 11:54:57    -1225.631021*       0.1454\n",
      "LBFGSLineSearch:   28 11:54:58    -1225.633845*       0.1905\n",
      "LBFGSLineSearch:   29 11:54:58    -1225.637136*       0.1050\n",
      "LBFGSLineSearch:   30 11:54:59    -1225.639993*       0.1293\n",
      "LBFGSLineSearch:   31 11:54:59    -1225.641456*       0.1060\n",
      "LBFGSLineSearch:   32 11:54:59    -1225.643463*       0.1692\n",
      "LBFGSLineSearch:   33 11:55:00    -1225.646727*       0.1257\n",
      "LBFGSLineSearch:   34 11:55:00    -1225.647969*       0.0711\n",
      "                 Step     Time          Energy         fmax\n",
      "*Force-consistent energies used in optimization.\n",
      "LBFGSLineSearch:    0 11:55:16    -1223.753906*       4.9887\n",
      "LBFGSLineSearch:    1 11:55:17    -1224.253578*       1.8458\n",
      "LBFGSLineSearch:    2 11:55:17    -1224.549116*       1.7235\n",
      "LBFGSLineSearch:    3 11:55:18    -1224.747679*       1.1028\n",
      "LBFGSLineSearch:    4 11:55:19    -1224.921603*       1.1532\n",
      "LBFGSLineSearch:    5 11:55:20    -1225.118299*       1.0782\n",
      "LBFGSLineSearch:    6 11:55:20    -1225.224011*       0.5790\n",
      "LBFGSLineSearch:    7 11:55:21    -1225.274626*       0.5361\n",
      "LBFGSLineSearch:    8 11:55:21    -1225.315939*       0.3757\n",
      "LBFGSLineSearch:    9 11:55:21    -1225.339765*       0.3796\n",
      "LBFGSLineSearch:   10 11:55:22    -1225.358108*       0.4052\n",
      "LBFGSLineSearch:   11 11:55:23    -1225.389626*       0.5365\n",
      "LBFGSLineSearch:   12 11:55:23    -1225.406060*       0.2982\n",
      "LBFGSLineSearch:   13 11:55:23    -1225.422610*       0.3364\n",
      "LBFGSLineSearch:   14 11:55:24    -1225.439249*       0.3430\n",
      "LBFGSLineSearch:   15 11:55:25    -1225.456670*       0.2753\n",
      "LBFGSLineSearch:   16 11:55:25    -1225.461756*       0.1866\n",
      "LBFGSLineSearch:   17 11:55:26    -1225.465832*       0.1124\n",
      "LBFGSLineSearch:   18 11:55:26    -1225.468402*       0.2269\n",
      "LBFGSLineSearch:   19 11:55:27    -1225.471768*       0.0917\n",
      "                 Step     Time          Energy         fmax\n",
      "*Force-consistent energies used in optimization.\n",
      "LBFGSLineSearch:    0 11:55:50    -1224.402298*       4.4671\n",
      "LBFGSLineSearch:    1 11:55:50    -1224.803207*       2.5866\n",
      "LBFGSLineSearch:    2 11:55:51    -1225.125562*       2.3804\n",
      "LBFGSLineSearch:    3 11:55:51    -1225.263894*       1.0594\n",
      "LBFGSLineSearch:    4 11:55:51    -1225.365483*       0.9689\n",
      "LBFGSLineSearch:    5 11:55:52    -1225.497858*       1.3177\n",
      "LBFGSLineSearch:    6 11:55:53    -1225.644037*       0.7736\n",
      "LBFGSLineSearch:    7 11:55:53    -1225.682869*       0.4312\n",
      "LBFGSLineSearch:    8 11:55:53    -1225.707964*       0.3474\n",
      "LBFGSLineSearch:    9 11:55:54    -1225.717374*       0.2378\n",
      "LBFGSLineSearch:   10 11:55:54    -1225.727958*       0.4371\n",
      "LBFGSLineSearch:   11 11:55:55    -1225.742125*       0.2283\n",
      "LBFGSLineSearch:   12 11:55:55    -1225.748798*       0.2351\n",
      "LBFGSLineSearch:   13 11:55:56    -1225.754815*       0.2125\n",
      "LBFGSLineSearch:   14 11:55:56    -1225.759434*       0.1584\n",
      "LBFGSLineSearch:   15 11:55:56    -1225.761859*       0.1150\n",
      "LBFGSLineSearch:   16 11:55:57    -1225.764898*       0.1631\n",
      "LBFGSLineSearch:   17 11:55:57    -1225.770788*       0.1735\n",
      "LBFGSLineSearch:   18 11:55:57    -1225.772602*       0.0778\n"
     ]
    }
   ],
   "source": [
    "out_HS_THF_dict = build_complex(inputDict_HS_THF)"
   ]
  },
  {
   "cell_type": "code",
   "execution_count": 13,
   "id": "fb0bbf53",
   "metadata": {},
   "outputs": [
    {
     "data": {
      "application/3dmoljs_load.v0": "<div id=\"3dmolviewer_1669748162177061\"  style=\"position: relative; width: 800px; height: 200px\">\n        <p id=\"3dmolwarning_1669748162177061\" style=\"background-color:#ffcccc;color:black\">You appear to be running in JupyterLab (or JavaScript failed to load for some other reason).  You need to install the 3dmol extension: <br>\n        <tt>jupyter labextension install jupyterlab_3dmol</tt></p>\n        </div>\n<script>\n\nvar loadScriptAsync = function(uri){\n  return new Promise((resolve, reject) => {\n    var tag = document.createElement('script');\n    tag.src = uri;\n    tag.async = true;\n    tag.onload = () => {\n      resolve();\n    };\n  var firstScriptTag = document.getElementsByTagName('script')[0];\n  firstScriptTag.parentNode.insertBefore(tag, firstScriptTag);\n});\n};\n\nif(typeof $3Dmolpromise === 'undefined') {\n$3Dmolpromise = null;\n  $3Dmolpromise = loadScriptAsync('https://cdn.jsdelivr.net/npm/3dmol@latest/build/3Dmol-min.min.js');\n}\n\nvar viewer_1669748162177061 = null;\nvar warn = document.getElementById(\"3dmolwarning_1669748162177061\");\nif(warn) {\n    warn.parentNode.removeChild(warn);\n}\n$3Dmolpromise.then(function() {\nvar viewergrid_1669748162177061 = null;\nviewergrid_1669748162177061 = $3Dmol.createViewerGrid($(\"#3dmolviewer_1669748162177061\"),{rows: 1, cols: 4, control_all: false},{backgroundColor:\"white\"});\nviewer_1669748162177061 = viewergrid_1669748162177061[0][0];\nviewergrid_1669748162177061[0][0].zoomTo();viewergrid_1669748162177061[0][1].zoomTo();viewergrid_1669748162177061[0][2].zoomTo();viewergrid_1669748162177061[0][3].zoomTo();\tviewergrid_1669748162177061[0][0].addModel(\"@<TRIPOS>MOLECULE\\ntmp.mol2\\n    25    27     1     0     0\\nSMALL\\nNoCharges\\n****\\nGenerated from Architector\\n\\n@<TRIPOS>ATOM\\n     1 Ni1      -0.1933    0.3218   -0.0528   Ni        1 RES1   0.0000\\n     2 C1       -1.0597   -3.9470   -2.0504   C.ar      1 RES1   0.0000\\n     3 C2       -2.0790   -3.3521   -1.3219   C.ar      1 RES1   0.0000\\n     4 C3       -1.8199   -2.1463   -0.6847   C.ar      1 RES1   0.0000\\n     5 N1       -0.6356   -1.5512   -0.7464   N.ar      1 RES1   0.0000\\n     6 C4        0.3678   -2.1185   -1.4434   C.ar      1 RES1   0.0000\\n     7 C5        0.1790   -3.3282   -2.1061   C.ar      1 RES1   0.0000\\n     8 C6        1.6415   -1.3825   -1.4421   C.ar      1 RES1   0.0000\\n     9 C7        2.7864   -1.8213   -2.1016   C.ar      1 RES1   0.0000\\n    10 C8        3.9387   -1.0544   -2.0432   C.ar      1 RES1   0.0000\\n    11 C9        3.9305    0.1241   -1.3114   C.ar      1 RES1   0.0000\\n    12 C10       2.7539    0.4996   -0.6772   C.ar      1 RES1   0.0000\\n    13 N2        1.6484   -0.2291   -0.7475   N.ar      1 RES1   0.0000\\n    14 H1       -1.2202   -4.8860   -2.5576   H         1 RES1   0.0000\\n    15 H2       -3.0522   -3.8085   -1.2393   H         1 RES1   0.0000\\n    16 H3       -2.5817   -1.6409   -0.1056   H         1 RES1   0.0000\\n    17 H4        0.9882   -3.7875   -2.6478   H         1 RES1   0.0000\\n    18 H5        2.7821   -2.7515   -2.6437   H         1 RES1   0.0000\\n    19 H6        4.8330   -1.3815   -2.5506   H         1 RES1   0.0000\\n    20 H7        4.8109    0.7403   -1.2273   H         1 RES1   0.0000\\n    21 H8        2.6948    1.4109   -0.0964   H         1 RES1   0.0000\\n    22 O1        0.0113    0.0463    2.0144   O.3       1 RES1   0.0000\\n    23 H9       -0.0401    0.7612    2.6610   H         1 RES1   0.0000\\n    24 H10       0.1075   -0.7856    2.4922   H         1 RES1   0.0000\\n    25 Br1      -1.1759    2.0913   -0.9103   Br        1 RES1   0.0000\\n@<TRIPOS>BOND\\n     1     1     5    1\\n     2     1    13    1\\n     3     1    22    1\\n     4     1    25    1\\n     5     2     3    2\\n     6     2     7    1\\n     7     2    14    1\\n     8     3     4    1\\n     9     3    15    1\\n    10     4     5    2\\n    11     4    16    1\\n    12     5     6    1\\n    13     6     7    2\\n    14     6     8    1\\n    15     7    17    1\\n    16     8     9    2\\n    17     8    13    1\\n    18     9    10    1\\n    19     9    18    1\\n    20    10    11    2\\n    21    10    19    1\\n    22    11    12    1\\n    23    11    20    1\\n    24    12    13    2\\n    25    12    21    1\\n    26    22    23    1\\n    27    22    24    1\\n@<TRIPOS>SUBSTRUCTURE\\n     1 RES1       25 GROUP             0 ****  ****    0  \\n\",\"mol2\");\n\tviewergrid_1669748162177061[0][0].setStyle({\"stick\": {\"colorscheme\": \"Jmol\"}});\n\tviewergrid_1669748162177061[0][0].addLabel(\"-1225.7726020829634\",{\"position\": {\"x\": \"-0.1933\", \"y\": \"0.3218\", \"z\": \"-0.0528\"}, \"backgroundColor\": \"'black'\", \"backgroundOpacity\": \"0.5\", \"fontOpacity\": \"1\", \"fontSize\": \"12\", \"fontColor\": \"white\", \"inFront\": \"true\"});\n\tviewergrid_1669748162177061[0][0].zoomTo();\n\tviewergrid_1669748162177061[0][1].addModel(\"@<TRIPOS>MOLECULE\\ntmp.mol2\\n    25    27     1     0     0\\nSMALL\\nNoCharges\\n****\\nGenerated from Architector\\n\\n@<TRIPOS>ATOM\\n     1 Ni1      -0.1385    0.3922    0.0123   Ni        1 RES1   0.0000\\n     2 C1        4.5992   -0.0273    0.5064   C.ar      1 RES1   0.0000\\n     3 C2        4.0895   -0.0172   -0.7838   C.ar      1 RES1   0.0000\\n     4 C3        2.7105    0.0030   -0.9462   C.ar      1 RES1   0.0000\\n     5 N1        1.8743    0.0057    0.0848   N.ar      1 RES1   0.0000\\n     6 C4        2.3530   -0.0211    1.3452   C.ar      1 RES1   0.0000\\n     7 C5        3.7237   -0.0344    1.5813   C.ar      1 RES1   0.0000\\n     8 C6        1.3383   -0.0232    2.4157   C.ar      1 RES1   0.0000\\n     9 C7        1.6396   -0.0417    3.7751   C.ar      1 RES1   0.0000\\n    10 C8        0.6056   -0.0341    4.6996   C.ar      1 RES1   0.0000\\n    11 C9       -0.7072   -0.0323    4.2520   C.ar      1 RES1   0.0000\\n    12 C10      -0.9342   -0.0139    2.8822   C.ar      1 RES1   0.0000\\n    13 N2        0.0578    0.0074    2.0031   N.ar      1 RES1   0.0000\\n    14 H1        5.6641   -0.0378    0.6746   H         1 RES1   0.0000\\n    15 H2        4.7367   -0.0219   -1.6466   H         1 RES1   0.0000\\n    16 H3        2.2685    0.0283   -1.9355   H         1 RES1   0.0000\\n    17 H4        4.1064   -0.0406    2.5877   H         1 RES1   0.0000\\n    18 H5        2.6638   -0.0532    4.1081   H         1 RES1   0.0000\\n    19 H6        0.8260   -0.0315    5.7563   H         1 RES1   0.0000\\n    20 H7       -1.5366   -0.0403    4.9405   H         1 RES1   0.0000\\n    21 H8       -1.9366   -0.0101    2.4726   H         1 RES1   0.0000\\n    22 O1       -2.1958   -0.0419   -0.2116   O.3       1 RES1   0.0000\\n    23 H9       -2.7486    0.6934   -0.5091   H         1 RES1   0.0000\\n    24 H10      -2.5524   -0.8579   -0.5813   H         1 RES1   0.0000\\n    25 Br1      -0.1169    2.5621   -0.5640   Br        1 RES1   0.0000\\n@<TRIPOS>BOND\\n     1     1     5    1\\n     2     1    13    1\\n     3     1    22    1\\n     4     1    25    1\\n     5     2     3    2\\n     6     2     7    1\\n     7     2    14    1\\n     8     3     4    1\\n     9     3    15    1\\n    10     4     5    2\\n    11     4    16    1\\n    12     5     6    1\\n    13     6     7    2\\n    14     6     8    1\\n    15     7    17    1\\n    16     8     9    2\\n    17     8    13    1\\n    18     9    10    1\\n    19     9    18    1\\n    20    10    11    2\\n    21    10    19    1\\n    22    11    12    1\\n    23    11    20    1\\n    24    12    13    2\\n    25    12    21    1\\n    26    22    23    1\\n    27    22    24    1\\n@<TRIPOS>SUBSTRUCTURE\\n     1 RES1       25 GROUP             0 ****  ****    0  \\n\",\"mol2\");\n\tviewergrid_1669748162177061[0][1].setStyle({\"stick\": {\"colorscheme\": \"Jmol\"}});\n\tviewergrid_1669748162177061[0][1].addLabel(\"-1225.6479690907995\",{\"position\": {\"x\": \"-0.1385\", \"y\": \"0.3922\", \"z\": \"0.0123\"}, \"backgroundColor\": \"'black'\", \"backgroundOpacity\": \"0.5\", \"fontOpacity\": \"1\", \"fontSize\": \"12\", \"fontColor\": \"white\", \"inFront\": \"true\"});\n\tviewergrid_1669748162177061[0][1].zoomTo();\n\tviewergrid_1669748162177061[0][2].addModel(\"@<TRIPOS>MOLECULE\\ntmp.mol2\\n    25    27     1     0     0\\nSMALL\\nNoCharges\\n****\\nGenerated from Architector\\n\\n@<TRIPOS>ATOM\\n     1 Ni1      -0.1433   -0.2109   -0.0001   Ni        1 RES1   0.0000\\n     2 C1        4.6791    0.5492    0.0000   C.ar      1 RES1   0.0000\\n     3 C2        4.2081   -0.7538    0.0000   C.ar      1 RES1   0.0000\\n     4 C3        2.8378   -0.9675    0.0002   C.ar      1 RES1   0.0000\\n     5 N1        1.9639    0.0318    0.0005   N.ar      1 RES1   0.0000\\n     6 C4        2.4036    1.3055    0.0005   C.ar      1 RES1   0.0000\\n     7 C5        3.7643    1.5896    0.0002   C.ar      1 RES1   0.0000\\n     8 C6        1.3527    2.3339    0.0004   C.ar      1 RES1   0.0000\\n     9 C7        1.6059    3.7039    0.0003   C.ar      1 RES1   0.0000\\n    10 C8        0.5408    4.5911    0.0002   C.ar      1 RES1   0.0000\\n    11 C9       -0.7496    4.0895   -0.0005   C.ar      1 RES1   0.0000\\n    12 C10      -0.9241    2.7124   -0.0012   C.ar      1 RES1   0.0000\\n    13 N2        0.0925    1.8610   -0.0001   N.ar      1 RES1   0.0000\\n    14 H1        5.7380    0.7542   -0.0002   H         1 RES1   0.0000\\n    15 H2        4.8807   -1.5938   -0.0002   H         1 RES1   0.0000\\n    16 H3        2.4382   -1.9719    0.0000   H         1 RES1   0.0000\\n    17 H4        4.1087    2.6097    0.0001   H         1 RES1   0.0000\\n    18 H5        2.6158    4.0807    0.0000   H         1 RES1   0.0000\\n    19 H6        0.7191    5.6560    0.0004   H         1 RES1   0.0000\\n    20 H7       -1.6082    4.7404   -0.0007   H         1 RES1   0.0000\\n    21 H8       -1.9118    2.2743   -0.0036   H         1 RES1   0.0000\\n    22 O1       -2.3146    0.1272   -0.0036   O.3       1 RES1   0.0000\\n    23 H9       -2.7658   -0.2112    0.7827   H         1 RES1   0.0000\\n    24 H10      -2.7659   -0.2442   -0.7753   H         1 RES1   0.0000\\n    25 Br1      -0.3695   -2.4437   -0.0002   Br        1 RES1   0.0000\\n@<TRIPOS>BOND\\n     1     1     5    1\\n     2     1    13    1\\n     3     1    22    1\\n     4     1    25    1\\n     5     2     3    2\\n     6     2     7    1\\n     7     2    14    1\\n     8     3     4    1\\n     9     3    15    1\\n    10     4     5    2\\n    11     4    16    1\\n    12     5     6    1\\n    13     6     7    2\\n    14     6     8    1\\n    15     7    17    1\\n    16     8     9    2\\n    17     8    13    1\\n    18     9    10    1\\n    19     9    18    1\\n    20    10    11    2\\n    21    10    19    1\\n    22    11    12    1\\n    23    11    20    1\\n    24    12    13    2\\n    25    12    21    1\\n    26    22    23    1\\n    27    22    24    1\\n@<TRIPOS>SUBSTRUCTURE\\n     1 RES1       25 GROUP             0 ****  ****    0  \\n\",\"mol2\");\n\tviewergrid_1669748162177061[0][2].setStyle({\"stick\": {\"colorscheme\": \"Jmol\"}});\n\tviewergrid_1669748162177061[0][2].addLabel(\"-1225.4717676363384\",{\"position\": {\"x\": \"-0.1433\", \"y\": \"-0.2109\", \"z\": \"-0.0001\"}, \"backgroundColor\": \"'black'\", \"backgroundOpacity\": \"0.5\", \"fontOpacity\": \"1\", \"fontSize\": \"12\", \"fontColor\": \"white\", \"inFront\": \"true\"});\n\tviewergrid_1669748162177061[0][2].zoomTo();\nviewergrid_1669748162177061[0][3].render();\nviewergrid_1669748162177061[0][2].render();\nviewergrid_1669748162177061[0][1].render();\nviewergrid_1669748162177061[0][0].render();\n});\n</script>",
      "text/html": [
       "<div id=\"3dmolviewer_1669748162177061\"  style=\"position: relative; width: 800px; height: 200px\">\n",
       "        <p id=\"3dmolwarning_1669748162177061\" style=\"background-color:#ffcccc;color:black\">You appear to be running in JupyterLab (or JavaScript failed to load for some other reason).  You need to install the 3dmol extension: <br>\n",
       "        <tt>jupyter labextension install jupyterlab_3dmol</tt></p>\n",
       "        </div>\n",
       "<script>\n",
       "\n",
       "var loadScriptAsync = function(uri){\n",
       "  return new Promise((resolve, reject) => {\n",
       "    var tag = document.createElement('script');\n",
       "    tag.src = uri;\n",
       "    tag.async = true;\n",
       "    tag.onload = () => {\n",
       "      resolve();\n",
       "    };\n",
       "  var firstScriptTag = document.getElementsByTagName('script')[0];\n",
       "  firstScriptTag.parentNode.insertBefore(tag, firstScriptTag);\n",
       "});\n",
       "};\n",
       "\n",
       "if(typeof $3Dmolpromise === 'undefined') {\n",
       "$3Dmolpromise = null;\n",
       "  $3Dmolpromise = loadScriptAsync('https://cdn.jsdelivr.net/npm/3dmol@latest/build/3Dmol-min.min.js');\n",
       "}\n",
       "\n",
       "var viewer_1669748162177061 = null;\n",
       "var warn = document.getElementById(\"3dmolwarning_1669748162177061\");\n",
       "if(warn) {\n",
       "    warn.parentNode.removeChild(warn);\n",
       "}\n",
       "$3Dmolpromise.then(function() {\n",
       "var viewergrid_1669748162177061 = null;\n",
       "viewergrid_1669748162177061 = $3Dmol.createViewerGrid($(\"#3dmolviewer_1669748162177061\"),{rows: 1, cols: 4, control_all: false},{backgroundColor:\"white\"});\n",
       "viewer_1669748162177061 = viewergrid_1669748162177061[0][0];\n",
       "viewergrid_1669748162177061[0][0].zoomTo();viewergrid_1669748162177061[0][1].zoomTo();viewergrid_1669748162177061[0][2].zoomTo();viewergrid_1669748162177061[0][3].zoomTo();\tviewergrid_1669748162177061[0][0].addModel(\"@<TRIPOS>MOLECULE\\ntmp.mol2\\n    25    27     1     0     0\\nSMALL\\nNoCharges\\n****\\nGenerated from Architector\\n\\n@<TRIPOS>ATOM\\n     1 Ni1      -0.1933    0.3218   -0.0528   Ni        1 RES1   0.0000\\n     2 C1       -1.0597   -3.9470   -2.0504   C.ar      1 RES1   0.0000\\n     3 C2       -2.0790   -3.3521   -1.3219   C.ar      1 RES1   0.0000\\n     4 C3       -1.8199   -2.1463   -0.6847   C.ar      1 RES1   0.0000\\n     5 N1       -0.6356   -1.5512   -0.7464   N.ar      1 RES1   0.0000\\n     6 C4        0.3678   -2.1185   -1.4434   C.ar      1 RES1   0.0000\\n     7 C5        0.1790   -3.3282   -2.1061   C.ar      1 RES1   0.0000\\n     8 C6        1.6415   -1.3825   -1.4421   C.ar      1 RES1   0.0000\\n     9 C7        2.7864   -1.8213   -2.1016   C.ar      1 RES1   0.0000\\n    10 C8        3.9387   -1.0544   -2.0432   C.ar      1 RES1   0.0000\\n    11 C9        3.9305    0.1241   -1.3114   C.ar      1 RES1   0.0000\\n    12 C10       2.7539    0.4996   -0.6772   C.ar      1 RES1   0.0000\\n    13 N2        1.6484   -0.2291   -0.7475   N.ar      1 RES1   0.0000\\n    14 H1       -1.2202   -4.8860   -2.5576   H         1 RES1   0.0000\\n    15 H2       -3.0522   -3.8085   -1.2393   H         1 RES1   0.0000\\n    16 H3       -2.5817   -1.6409   -0.1056   H         1 RES1   0.0000\\n    17 H4        0.9882   -3.7875   -2.6478   H         1 RES1   0.0000\\n    18 H5        2.7821   -2.7515   -2.6437   H         1 RES1   0.0000\\n    19 H6        4.8330   -1.3815   -2.5506   H         1 RES1   0.0000\\n    20 H7        4.8109    0.7403   -1.2273   H         1 RES1   0.0000\\n    21 H8        2.6948    1.4109   -0.0964   H         1 RES1   0.0000\\n    22 O1        0.0113    0.0463    2.0144   O.3       1 RES1   0.0000\\n    23 H9       -0.0401    0.7612    2.6610   H         1 RES1   0.0000\\n    24 H10       0.1075   -0.7856    2.4922   H         1 RES1   0.0000\\n    25 Br1      -1.1759    2.0913   -0.9103   Br        1 RES1   0.0000\\n@<TRIPOS>BOND\\n     1     1     5    1\\n     2     1    13    1\\n     3     1    22    1\\n     4     1    25    1\\n     5     2     3    2\\n     6     2     7    1\\n     7     2    14    1\\n     8     3     4    1\\n     9     3    15    1\\n    10     4     5    2\\n    11     4    16    1\\n    12     5     6    1\\n    13     6     7    2\\n    14     6     8    1\\n    15     7    17    1\\n    16     8     9    2\\n    17     8    13    1\\n    18     9    10    1\\n    19     9    18    1\\n    20    10    11    2\\n    21    10    19    1\\n    22    11    12    1\\n    23    11    20    1\\n    24    12    13    2\\n    25    12    21    1\\n    26    22    23    1\\n    27    22    24    1\\n@<TRIPOS>SUBSTRUCTURE\\n     1 RES1       25 GROUP             0 ****  ****    0  \\n\",\"mol2\");\n",
       "\tviewergrid_1669748162177061[0][0].setStyle({\"stick\": {\"colorscheme\": \"Jmol\"}});\n",
       "\tviewergrid_1669748162177061[0][0].addLabel(\"-1225.7726020829634\",{\"position\": {\"x\": \"-0.1933\", \"y\": \"0.3218\", \"z\": \"-0.0528\"}, \"backgroundColor\": \"'black'\", \"backgroundOpacity\": \"0.5\", \"fontOpacity\": \"1\", \"fontSize\": \"12\", \"fontColor\": \"white\", \"inFront\": \"true\"});\n",
       "\tviewergrid_1669748162177061[0][0].zoomTo();\n",
       "\tviewergrid_1669748162177061[0][1].addModel(\"@<TRIPOS>MOLECULE\\ntmp.mol2\\n    25    27     1     0     0\\nSMALL\\nNoCharges\\n****\\nGenerated from Architector\\n\\n@<TRIPOS>ATOM\\n     1 Ni1      -0.1385    0.3922    0.0123   Ni        1 RES1   0.0000\\n     2 C1        4.5992   -0.0273    0.5064   C.ar      1 RES1   0.0000\\n     3 C2        4.0895   -0.0172   -0.7838   C.ar      1 RES1   0.0000\\n     4 C3        2.7105    0.0030   -0.9462   C.ar      1 RES1   0.0000\\n     5 N1        1.8743    0.0057    0.0848   N.ar      1 RES1   0.0000\\n     6 C4        2.3530   -0.0211    1.3452   C.ar      1 RES1   0.0000\\n     7 C5        3.7237   -0.0344    1.5813   C.ar      1 RES1   0.0000\\n     8 C6        1.3383   -0.0232    2.4157   C.ar      1 RES1   0.0000\\n     9 C7        1.6396   -0.0417    3.7751   C.ar      1 RES1   0.0000\\n    10 C8        0.6056   -0.0341    4.6996   C.ar      1 RES1   0.0000\\n    11 C9       -0.7072   -0.0323    4.2520   C.ar      1 RES1   0.0000\\n    12 C10      -0.9342   -0.0139    2.8822   C.ar      1 RES1   0.0000\\n    13 N2        0.0578    0.0074    2.0031   N.ar      1 RES1   0.0000\\n    14 H1        5.6641   -0.0378    0.6746   H         1 RES1   0.0000\\n    15 H2        4.7367   -0.0219   -1.6466   H         1 RES1   0.0000\\n    16 H3        2.2685    0.0283   -1.9355   H         1 RES1   0.0000\\n    17 H4        4.1064   -0.0406    2.5877   H         1 RES1   0.0000\\n    18 H5        2.6638   -0.0532    4.1081   H         1 RES1   0.0000\\n    19 H6        0.8260   -0.0315    5.7563   H         1 RES1   0.0000\\n    20 H7       -1.5366   -0.0403    4.9405   H         1 RES1   0.0000\\n    21 H8       -1.9366   -0.0101    2.4726   H         1 RES1   0.0000\\n    22 O1       -2.1958   -0.0419   -0.2116   O.3       1 RES1   0.0000\\n    23 H9       -2.7486    0.6934   -0.5091   H         1 RES1   0.0000\\n    24 H10      -2.5524   -0.8579   -0.5813   H         1 RES1   0.0000\\n    25 Br1      -0.1169    2.5621   -0.5640   Br        1 RES1   0.0000\\n@<TRIPOS>BOND\\n     1     1     5    1\\n     2     1    13    1\\n     3     1    22    1\\n     4     1    25    1\\n     5     2     3    2\\n     6     2     7    1\\n     7     2    14    1\\n     8     3     4    1\\n     9     3    15    1\\n    10     4     5    2\\n    11     4    16    1\\n    12     5     6    1\\n    13     6     7    2\\n    14     6     8    1\\n    15     7    17    1\\n    16     8     9    2\\n    17     8    13    1\\n    18     9    10    1\\n    19     9    18    1\\n    20    10    11    2\\n    21    10    19    1\\n    22    11    12    1\\n    23    11    20    1\\n    24    12    13    2\\n    25    12    21    1\\n    26    22    23    1\\n    27    22    24    1\\n@<TRIPOS>SUBSTRUCTURE\\n     1 RES1       25 GROUP             0 ****  ****    0  \\n\",\"mol2\");\n",
       "\tviewergrid_1669748162177061[0][1].setStyle({\"stick\": {\"colorscheme\": \"Jmol\"}});\n",
       "\tviewergrid_1669748162177061[0][1].addLabel(\"-1225.6479690907995\",{\"position\": {\"x\": \"-0.1385\", \"y\": \"0.3922\", \"z\": \"0.0123\"}, \"backgroundColor\": \"'black'\", \"backgroundOpacity\": \"0.5\", \"fontOpacity\": \"1\", \"fontSize\": \"12\", \"fontColor\": \"white\", \"inFront\": \"true\"});\n",
       "\tviewergrid_1669748162177061[0][1].zoomTo();\n",
       "\tviewergrid_1669748162177061[0][2].addModel(\"@<TRIPOS>MOLECULE\\ntmp.mol2\\n    25    27     1     0     0\\nSMALL\\nNoCharges\\n****\\nGenerated from Architector\\n\\n@<TRIPOS>ATOM\\n     1 Ni1      -0.1433   -0.2109   -0.0001   Ni        1 RES1   0.0000\\n     2 C1        4.6791    0.5492    0.0000   C.ar      1 RES1   0.0000\\n     3 C2        4.2081   -0.7538    0.0000   C.ar      1 RES1   0.0000\\n     4 C3        2.8378   -0.9675    0.0002   C.ar      1 RES1   0.0000\\n     5 N1        1.9639    0.0318    0.0005   N.ar      1 RES1   0.0000\\n     6 C4        2.4036    1.3055    0.0005   C.ar      1 RES1   0.0000\\n     7 C5        3.7643    1.5896    0.0002   C.ar      1 RES1   0.0000\\n     8 C6        1.3527    2.3339    0.0004   C.ar      1 RES1   0.0000\\n     9 C7        1.6059    3.7039    0.0003   C.ar      1 RES1   0.0000\\n    10 C8        0.5408    4.5911    0.0002   C.ar      1 RES1   0.0000\\n    11 C9       -0.7496    4.0895   -0.0005   C.ar      1 RES1   0.0000\\n    12 C10      -0.9241    2.7124   -0.0012   C.ar      1 RES1   0.0000\\n    13 N2        0.0925    1.8610   -0.0001   N.ar      1 RES1   0.0000\\n    14 H1        5.7380    0.7542   -0.0002   H         1 RES1   0.0000\\n    15 H2        4.8807   -1.5938   -0.0002   H         1 RES1   0.0000\\n    16 H3        2.4382   -1.9719    0.0000   H         1 RES1   0.0000\\n    17 H4        4.1087    2.6097    0.0001   H         1 RES1   0.0000\\n    18 H5        2.6158    4.0807    0.0000   H         1 RES1   0.0000\\n    19 H6        0.7191    5.6560    0.0004   H         1 RES1   0.0000\\n    20 H7       -1.6082    4.7404   -0.0007   H         1 RES1   0.0000\\n    21 H8       -1.9118    2.2743   -0.0036   H         1 RES1   0.0000\\n    22 O1       -2.3146    0.1272   -0.0036   O.3       1 RES1   0.0000\\n    23 H9       -2.7658   -0.2112    0.7827   H         1 RES1   0.0000\\n    24 H10      -2.7659   -0.2442   -0.7753   H         1 RES1   0.0000\\n    25 Br1      -0.3695   -2.4437   -0.0002   Br        1 RES1   0.0000\\n@<TRIPOS>BOND\\n     1     1     5    1\\n     2     1    13    1\\n     3     1    22    1\\n     4     1    25    1\\n     5     2     3    2\\n     6     2     7    1\\n     7     2    14    1\\n     8     3     4    1\\n     9     3    15    1\\n    10     4     5    2\\n    11     4    16    1\\n    12     5     6    1\\n    13     6     7    2\\n    14     6     8    1\\n    15     7    17    1\\n    16     8     9    2\\n    17     8    13    1\\n    18     9    10    1\\n    19     9    18    1\\n    20    10    11    2\\n    21    10    19    1\\n    22    11    12    1\\n    23    11    20    1\\n    24    12    13    2\\n    25    12    21    1\\n    26    22    23    1\\n    27    22    24    1\\n@<TRIPOS>SUBSTRUCTURE\\n     1 RES1       25 GROUP             0 ****  ****    0  \\n\",\"mol2\");\n",
       "\tviewergrid_1669748162177061[0][2].setStyle({\"stick\": {\"colorscheme\": \"Jmol\"}});\n",
       "\tviewergrid_1669748162177061[0][2].addLabel(\"-1225.4717676363384\",{\"position\": {\"x\": \"-0.1433\", \"y\": \"-0.2109\", \"z\": \"-0.0001\"}, \"backgroundColor\": \"'black'\", \"backgroundOpacity\": \"0.5\", \"fontOpacity\": \"1\", \"fontSize\": \"12\", \"fontColor\": \"white\", \"inFront\": \"true\"});\n",
       "\tviewergrid_1669748162177061[0][2].zoomTo();\n",
       "viewergrid_1669748162177061[0][3].render();\n",
       "viewergrid_1669748162177061[0][2].render();\n",
       "viewergrid_1669748162177061[0][1].render();\n",
       "viewergrid_1669748162177061[0][0].render();\n",
       "});\n",
       "</script>"
      ]
     },
     "metadata": {},
     "output_type": "display_data"
    }
   ],
   "source": [
    "keys = list(out_HS_THF_dict.keys())\n",
    "labels = [out_HS_THF_dict[key]['energy'] for key in keys]\n",
    "view_structures(out_HS_THF_dict,labels=labels)"
   ]
  },
  {
   "cell_type": "markdown",
   "id": "e0661369",
   "metadata": {},
   "source": [
    "### All of this looks good - now how do spin/solvent affect geometry energetics?\n",
    "\n",
    "For this we will pull out the correct geometries and corresponding energetics:"
   ]
  },
  {
   "cell_type": "code",
   "execution_count": 14,
   "id": "f08e5b2b",
   "metadata": {},
   "outputs": [],
   "source": [
    "# Repeating keys for the specific geometries:\n",
    "planar_LS_key = [x for x in out_LS_dict.keys() if 'square_planar' in x][0]\n",
    "planar_HS_key = [x for x in out_HS_dict.keys() if 'square_planar' in x][0]\n",
    "planar_LS_THF_key = [x for x in out_LS_THF_dict.keys() if 'square_planar' in x][0]\n",
    "planar_HS_THF_key = [x for x in out_HS_THF_dict.keys() if 'square_planar' in x][0]\n",
    "\n",
    "tetrahedral_LS_key = [x for x in out_LS_dict.keys() if 'tetrahedral' in x][0]\n",
    "tetrahedral_HS_key = [x for x in out_HS_dict.keys() if 'tetrahedral' in x][0]\n",
    "tetrahedral_LS_THF_key = [x for x in out_LS_THF_dict.keys() if 'tetrahedral' in x][0]\n",
    "tetrahedral_HS_THF_key = [x for x in out_HS_THF_dict.keys() if 'tetrahedral' in x][0]"
   ]
  },
  {
   "cell_type": "markdown",
   "id": "fda6f7fa",
   "metadata": {},
   "source": [
    "Now we can get/print the different spin/solvent manifolds:"
   ]
  },
  {
   "cell_type": "code",
   "execution_count": 15,
   "id": "b2c38288",
   "metadata": {},
   "outputs": [
    {
     "name": "stdout",
     "output_type": "stream",
     "text": [
      "Planar LS-HS Gas Phase -0.9879400636571063 vs. THF -1.0420552730740837 (eV).\n"
     ]
    }
   ],
   "source": [
    "print('Planar LS-HS Gas Phase {} vs. THF {} (eV).'.format(\n",
    "    out_LS_dict[planar_LS_key]['energy']-out_HS_dict[planar_HS_key]['energy'],\n",
    "    out_LS_THF_dict[planar_LS_THF_key]['energy']-out_HS_THF_dict[planar_HS_THF_key]['energy']\n",
    "))"
   ]
  },
  {
   "cell_type": "code",
   "execution_count": 16,
   "id": "1bdddf8b",
   "metadata": {},
   "outputs": [
    {
     "name": "stdout",
     "output_type": "stream",
     "text": [
      "Tetrahedral LS-HS Gas Phase -0.48181174850242314 vs. THF -0.5032112271796905 (eV).\n"
     ]
    }
   ],
   "source": [
    "print('Tetrahedral LS-HS Gas Phase {} vs. THF {} (eV).'.format(\n",
    "    out_LS_dict[tetrahedral_LS_key]['energy']-out_HS_dict[tetrahedral_HS_key]['energy'],\n",
    "    out_LS_THF_dict[tetrahedral_LS_THF_key]['energy']-out_HS_THF_dict[tetrahedral_HS_THF_key]['energy']\n",
    "))"
   ]
  },
  {
   "cell_type": "code",
   "execution_count": 17,
   "id": "0f12c77c",
   "metadata": {},
   "outputs": [
    {
     "name": "stdout",
     "output_type": "stream",
     "text": [
      "Lowest-energy LS-HS Gas Phase -0.7761386072652385 vs. THF -0.74122082644908 (eV).\n"
     ]
    }
   ],
   "source": [
    "print('Lowest-energy LS-HS Gas Phase {} vs. THF {} (eV).'.format(\n",
    "    out_LS_dict[planar_LS_key]['energy']-out_HS_dict[tetrahedral_HS_key]['energy'],\n",
    "    out_LS_THF_dict[planar_LS_THF_key]['energy']-out_HS_THF_dict[tetrahedral_HS_THF_key]['energy']\n",
    "))"
   ]
  },
  {
   "cell_type": "markdown",
   "id": "d1309513",
   "metadata": {},
   "source": [
    "### So, solvent doesn't play a huge role in any of the cases except comparing planar energetics across different spin states!\n",
    "\n",
    "\n",
    "\n",
    "## For (C), How about free energies?\n",
    "\n",
    "For free energy analysis we have also added a utility function which uses the ideal gas rigid rotor harmonic oscillator approach in the background:"
   ]
  },
  {
   "cell_type": "code",
   "execution_count": 18,
   "id": "c2fd92e1",
   "metadata": {},
   "outputs": [],
   "source": [
    "from architector.vibrations_free_energy import calc_free_energy"
   ]
  },
  {
   "cell_type": "markdown",
   "id": "f6cd7784",
   "metadata": {},
   "source": [
    "Let's just look at the solvent phase different between lowest-energy singlet and lowest-energy triplet geometries with free energy:"
   ]
  },
  {
   "cell_type": "code",
   "execution_count": 19,
   "id": "0739aafe",
   "metadata": {},
   "outputs": [],
   "source": [
    "LS_THF_ase_atoms = out_LS_THF_dict[planar_LS_THF_key]['ase_atoms']\n",
    "HS_THF_ase_atoms = out_HS_THF_dict[tetrahedral_HS_THF_key]['ase_atoms']"
   ]
  },
  {
   "cell_type": "markdown",
   "id": "dad71e99",
   "metadata": {},
   "source": [
    "Now, to evaluate at room temperature (298.15 K) all we need to do is call the utility function:"
   ]
  },
  {
   "cell_type": "code",
   "execution_count": 20,
   "id": "2949c9fe",
   "metadata": {},
   "outputs": [
    {
     "name": "stdout",
     "output_type": "stream",
     "text": [
      "Enthalpy components at T = 298.15 K:\n",
      "===============================\n",
      "E_pot              -1226.514 eV\n",
      "E_ZPE                  4.852 eV\n",
      "Cv_trans (0->T)        0.039 eV\n",
      "Cv_rot (0->T)          0.039 eV\n",
      "Cv_vib (0->T)          0.335 eV\n",
      "(C_v -> C_p)           0.026 eV\n",
      "-------------------------------\n",
      "H                  -1221.225 eV\n",
      "===============================\n",
      "\n",
      "Entropy components at T = 298.15 K and P = 101325.0 Pa:\n",
      "=================================================\n",
      "                           S               T*S\n",
      "S_trans (1 bar)    0.0018709 eV/K        0.558 eV\n",
      "S_rot              0.0013823 eV/K        0.412 eV\n",
      "S_elec             0.0000000 eV/K        0.000 eV\n",
      "S_vib              0.0021419 eV/K        0.639 eV\n",
      "S (1 bar -> P)    -0.0000011 eV/K       -0.000 eV\n",
      "-------------------------------------------------\n",
      "S                  0.0053939 eV/K        1.608 eV\n",
      "=================================================\n",
      "\n",
      "Free energy components at T = 298.15 K and P = 101325.0 Pa:\n",
      "=======================\n",
      "    H      -1221.225 eV\n",
      " -T*S         -1.608 eV\n",
      "-----------------------\n",
      "    G      -1222.833 eV\n",
      "=======================\n"
     ]
    }
   ],
   "source": [
    "LS_THF_free_energy = calc_free_energy(LS_THF_ase_atoms)"
   ]
  },
  {
   "cell_type": "markdown",
   "id": "3481e7d3",
   "metadata": {},
   "source": [
    "Same for HS:"
   ]
  },
  {
   "cell_type": "code",
   "execution_count": 21,
   "id": "273344ee",
   "metadata": {},
   "outputs": [
    {
     "name": "stdout",
     "output_type": "stream",
     "text": [
      "Enthalpy components at T = 298.15 K:\n",
      "===============================\n",
      "E_pot              -1225.773 eV\n",
      "E_ZPE                  4.788 eV\n",
      "Cv_trans (0->T)        0.039 eV\n",
      "Cv_rot (0->T)          0.039 eV\n",
      "Cv_vib (0->T)          0.374 eV\n",
      "(C_v -> C_p)           0.026 eV\n",
      "-------------------------------\n",
      "H                  -1220.508 eV\n",
      "===============================\n",
      "\n",
      "Entropy components at T = 298.15 K and P = 101325.0 Pa:\n",
      "=================================================\n",
      "                           S               T*S\n",
      "S_trans (1 bar)    0.0018709 eV/K        0.558 eV\n",
      "S_rot              0.0013869 eV/K        0.413 eV\n",
      "S_elec             0.0000947 eV/K        0.028 eV\n",
      "S_vib              0.0026627 eV/K        0.794 eV\n",
      "S (1 bar -> P)    -0.0000011 eV/K       -0.000 eV\n",
      "-------------------------------------------------\n",
      "S                  0.0060140 eV/K        1.793 eV\n",
      "=================================================\n",
      "\n",
      "Free energy components at T = 298.15 K and P = 101325.0 Pa:\n",
      "=======================\n",
      "    H      -1220.508 eV\n",
      " -T*S         -1.793 eV\n",
      "-----------------------\n",
      "    G      -1222.301 eV\n",
      "=======================\n"
     ]
    }
   ],
   "source": [
    "HS_THF_free_energy = calc_free_energy(HS_THF_ase_atoms)"
   ]
  },
  {
   "cell_type": "code",
   "execution_count": 22,
   "id": "965e6b47",
   "metadata": {},
   "outputs": [
    {
     "name": "stdout",
     "output_type": "stream",
     "text": [
      "Lowest-energy LS-HS THF delta E -0.74122082644908 vs. delta G -0.5320408783211406 (eV).\n"
     ]
    }
   ],
   "source": [
    "print('Lowest-energy LS-HS THF delta E {} vs. delta G {} (eV).'.format(\n",
    "    out_LS_THF_dict[planar_LS_THF_key]['energy']-out_HS_THF_dict[tetrahedral_HS_THF_key]['energy'],\n",
    "    LS_THF_free_energy[0] - HS_THF_free_energy[0]\n",
    "))"
   ]
  },
  {
   "cell_type": "markdown",
   "id": "43848b29",
   "metadata": {},
   "source": [
    "Looks like Free energies causes a slight shift towards HS, but still follows the trend of planar being lower in energy for LS!"
   ]
  },
  {
   "cell_type": "markdown",
   "id": "964519da",
   "metadata": {},
   "source": [
    "# Conclusions\n",
    "\n",
    "In this tutorial we learned how to:\n",
    "    \n",
    "**(A)** Spin-state dependent geometry search.\n",
    "\n",
    "**(B)** Solvent effects in geometry search.\n",
    "\n",
    "**(C)** Free energy analysis after geometry searches."
   ]
  }
 ],
 "metadata": {
  "kernelspec": {
   "display_name": "Python 3 (ipykernel)",
   "language": "python",
   "name": "python3"
  },
  "language_info": {
   "codemirror_mode": {
    "name": "ipython",
    "version": 3
   },
   "file_extension": ".py",
   "mimetype": "text/x-python",
   "name": "python",
   "nbconvert_exporter": "python",
   "pygments_lexer": "ipython3",
   "version": "3.9.13"
  }
 },
 "nbformat": 4,
 "nbformat_minor": 5
}
