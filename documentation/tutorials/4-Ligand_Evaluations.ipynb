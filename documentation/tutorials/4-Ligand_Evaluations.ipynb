{
 "cells": [
  {
   "cell_type": "markdown",
   "id": "665de215",
   "metadata": {},
   "source": [
    "# 4 - Ligand Manipulations and Energetic evaluations\n",
    "\n",
    "With a deeper understanding of both the ligand and core manipulations possible in Architector, we want to dig into more complex ligands for which the structures are much less intuitive or obvious!\n",
    "\n",
    "In this tutorial we will look at the ligand manipulation routines in Architector, covering:\n",
    "\n",
    "**(A)** Suggestions for identifying coordination sites in highly-coordinated ligands for Architector.\n",
    "\n",
    "**(B)** Evaluating the isolated ligand energetics as bound to the metal.\n",
    "\n",
    "**(C)** Utilizing wrappers for [CREST](https://xtb-docs.readthedocs.io/en/latest/crest.html) to sample gas-phase rotamers and compute the ligand pre-organization energies."
   ]
  },
  {
   "cell_type": "markdown",
   "id": "5068082b",
   "metadata": {},
   "source": [
    "## For this tutorial we will study a commonly used chelating agent, Ethylenediaminetetraacetic acid (EDTA), bound to Ca<sup>2+</sup> \n",
    "\n",
    "Starting from loading in the ligand using our Architector utilites:"
   ]
  },
  {
   "cell_type": "code",
   "execution_count": 1,
   "id": "8e3c8cb4",
   "metadata": {},
   "outputs": [],
   "source": [
    "from architector import (build_complex,\n",
    "                        view_structures,\n",
    "                        smiles2Atoms)"
   ]
  },
  {
   "cell_type": "markdown",
   "id": "efd6fd9b",
   "metadata": {},
   "source": [
    "First - we get the EDTA smiles from [Wikipedia](https://en.wikipedia.org/wiki/Ethylenediaminetetraacetic_acid) and convert to ASE atoms."
   ]
  },
  {
   "cell_type": "code",
   "execution_count": 2,
   "id": "99b43c5f",
   "metadata": {},
   "outputs": [],
   "source": [
    "edta_smiles = 'OC(=O)CN(CCN(CC(O)=O)CC(O)=O)CC(O)=O'\n",
    "edta_atoms = smiles2Atoms(edta_smiles) # The smiles2Atoms directly converts smiles to a 3D structure"
   ]
  },
  {
   "cell_type": "markdown",
   "id": "cf7804c3",
   "metadata": {},
   "source": [
    "Now we can visualize and identify the coordinating atoms.\n",
    "\n",
    "## For (A), Here, note that for the ligand coordList with carboxylates, select oxygens without hydrogens bound, or deprotonated oxygens"
   ]
  },
  {
   "cell_type": "code",
   "execution_count": 3,
   "id": "11697e6f",
   "metadata": {},
   "outputs": [
    {
     "data": {
      "application/3dmoljs_load.v0": "<div id=\"3dmolviewer_16697476660980759\"  style=\"position: relative; width: 500px; height: 500px\">\n        <p id=\"3dmolwarning_16697476660980759\" style=\"background-color:#ffcccc;color:black\">You appear to be running in JupyterLab (or JavaScript failed to load for some other reason).  You need to install the 3dmol extension: <br>\n        <tt>jupyter labextension install jupyterlab_3dmol</tt></p>\n        </div>\n<script>\n\nvar loadScriptAsync = function(uri){\n  return new Promise((resolve, reject) => {\n    var tag = document.createElement('script');\n    tag.src = uri;\n    tag.async = true;\n    tag.onload = () => {\n      resolve();\n    };\n  var firstScriptTag = document.getElementsByTagName('script')[0];\n  firstScriptTag.parentNode.insertBefore(tag, firstScriptTag);\n});\n};\n\nif(typeof $3Dmolpromise === 'undefined') {\n$3Dmolpromise = null;\n  $3Dmolpromise = loadScriptAsync('https://cdn.jsdelivr.net/npm/3dmol@latest/build/3Dmol-min.min.js');\n}\n\nvar viewer_16697476660980759 = null;\nvar warn = document.getElementById(\"3dmolwarning_16697476660980759\");\nif(warn) {\n    warn.parentNode.removeChild(warn);\n}\n$3Dmolpromise.then(function() {\nviewer_16697476660980759 = $3Dmol.createViewer($(\"#3dmolviewer_16697476660980759\"),{backgroundColor:\"white\"});\nviewer_16697476660980759.zoomTo();\n\tviewer_16697476660980759.addModel(\"@<TRIPOS>MOLECULE\\ntmp.mol2\\n    36    35     1     0     0\\nSMALL\\nNoCharges\\n****\\nGenerated from Architector\\n\\n@<TRIPOS>ATOM\\n     1 O1        2.8452   -1.5907   -3.2578   O.2       1 RES1   0.0000\\n     2 C1        2.1722   -1.7457   -2.0965   C.3       1 RES1   0.0000\\n     3 O2        2.7584   -2.0959   -1.0874   O.2       1 RES1   0.0000\\n     4 C2        0.6905   -1.4127   -2.2323   C.3       1 RES1   0.0000\\n     5 N1        0.3128   -0.0959   -1.6256   N.3       1 RES1   0.0000\\n     6 C3       -1.1556    0.1041   -1.7904   C.3       1 RES1   0.0000\\n     7 C4       -1.9812   -0.3095   -0.5396   C.3       1 RES1   0.0000\\n     8 N2       -2.1434    0.7788    0.4340   N.3       1 RES1   0.0000\\n     9 C5       -3.2278    0.5385    1.4128   C.3       1 RES1   0.0000\\n    10 C6       -2.8772   -0.4995    2.4614   C.3       1 RES1   0.0000\\n    11 O3       -2.6510    0.0646    3.6668   O.2       1 RES1   0.0000\\n    12 O4       -2.6831   -1.6873    2.2616   O.2       1 RES1   0.0000\\n    13 C7       -0.9146    1.3255    1.0449   C.3       1 RES1   0.0000\\n    14 C8       -0.0556    0.3393    1.8382   C.3       1 RES1   0.0000\\n    15 O5        0.6854   -0.4993    1.0884   O.2       1 RES1   0.0000\\n    16 O6       -0.0258    0.2915    3.0605   O.2       1 RES1   0.0000\\n    17 C9        1.0703    1.0211   -2.2760   C.3       1 RES1   0.0000\\n    18 C10       1.8809    1.7735   -1.2228   C.3       1 RES1   0.0000\\n    19 O7        2.7252    0.9743   -0.5439   O.2       1 RES1   0.0000\\n    20 O8        1.7772    2.9568   -0.9436   O.2       1 RES1   0.0000\\n    21 H1        3.7720   -1.8051   -3.0172   H         1 RES1   0.0000\\n    22 H2        0.4159   -1.4563   -3.2937   H         1 RES1   0.0000\\n    23 H3        0.1502   -2.2231   -1.7275   H         1 RES1   0.0000\\n    24 H4       -1.4029    1.1503   -2.0105   H         1 RES1   0.0000\\n    25 H5       -1.5225   -0.4601   -2.6591   H         1 RES1   0.0000\\n    26 H6       -2.9797   -0.5681   -0.9182   H         1 RES1   0.0000\\n    27 H7       -1.5851   -1.2259   -0.0891   H         1 RES1   0.0000\\n    28 H8       -3.4800    1.4826    1.9117   H         1 RES1   0.0000\\n    29 H9       -4.1518    0.2253    0.9125   H         1 RES1   0.0000\\n    30 H10      -1.9921   -0.5267    4.0965   H         1 RES1   0.0000\\n    31 H11      -0.2957    1.8047    0.2862   H         1 RES1   0.0000\\n    32 H12      -1.1761    2.1484    1.7231   H         1 RES1   0.0000\\n    33 H13       0.6072   -0.3459    0.1173   H         1 RES1   0.0000\\n    34 H14       1.7617    0.6936   -3.0557   H         1 RES1   0.0000\\n    35 H15       0.4109    1.7529   -2.7546   H         1 RES1   0.0000\\n    36 H16       3.1040    1.5165    0.1797   H         1 RES1   0.0000\\n@<TRIPOS>BOND\\n     1     1     2    1\\n     2     1    21    1\\n     3     2     3    1\\n     4     2     4    1\\n     5     4     5    1\\n     6     4    22    1\\n     7     4    23    1\\n     8     5     6    1\\n     9     5    17    1\\n    10     6     7    1\\n    11     6    24    1\\n    12     6    25    1\\n    13     7     8    1\\n    14     7    26    1\\n    15     7    27    1\\n    16     8     9    1\\n    17     8    13    1\\n    18     9    10    1\\n    19     9    28    1\\n    20     9    29    1\\n    21    10    11    1\\n    22    10    12    1\\n    23    11    30    1\\n    24    13    14    1\\n    25    13    31    1\\n    26    13    32    1\\n    27    14    15    1\\n    28    14    16    1\\n    29    15    33    1\\n    30    17    18    1\\n    31    17    34    1\\n    32    17    35    1\\n    33    18    19    1\\n    34    18    20    1\\n    35    19    36    1\\n@<TRIPOS>SUBSTRUCTURE\\n     1 RES1       36 GROUP             0 ****  ****    0  \\n\",\"mol2\");\n\tviewer_16697476660980759.setStyle({\"stick\": {\"colorscheme\": \"Jmol\"}});\n\tviewer_16697476660980759.addLabel(\"0\",{\"position\": {\"x\": \"2.8452033155856067\", \"y\": \"-1.5906748700743214\", \"z\": \"-3.257795760802617\"}, \"backgroundColor\": \"'black'\", \"backgroundOpacity\": \"0.4\", \"fontOpacity\": \"1\", \"fontSize\": \"12\", \"fontColor\": \"white\", \"inFront\": \"true\"});\n\tviewer_16697476660980759.addLabel(\"1\",{\"position\": {\"x\": \"2.172173315585607\", \"y\": \"-1.7457348700743216\", \"z\": \"-2.0965057608026174\"}, \"backgroundColor\": \"'black'\", \"backgroundOpacity\": \"0.4\", \"fontOpacity\": \"1\", \"fontSize\": \"12\", \"fontColor\": \"white\", \"inFront\": \"true\"});\n\tviewer_16697476660980759.addLabel(\"2\",{\"position\": {\"x\": \"2.758423315585607\", \"y\": \"-2.0958548700743216\", \"z\": \"-1.0874157608026174\"}, \"backgroundColor\": \"'black'\", \"backgroundOpacity\": \"0.4\", \"fontOpacity\": \"1\", \"fontSize\": \"12\", \"fontColor\": \"white\", \"inFront\": \"true\"});\n\tviewer_16697476660980759.addLabel(\"3\",{\"position\": {\"x\": \"0.6905233155856068\", \"y\": \"-1.4127048700743214\", \"z\": \"-2.232295760802617\"}, \"backgroundColor\": \"'black'\", \"backgroundOpacity\": \"0.4\", \"fontOpacity\": \"1\", \"fontSize\": \"12\", \"fontColor\": \"white\", \"inFront\": \"true\"});\n\tviewer_16697476660980759.addLabel(\"4\",{\"position\": {\"x\": \"0.31276331558560666\", \"y\": \"-0.0958948700743214\", \"z\": \"-1.6256257608026172\"}, \"backgroundColor\": \"'black'\", \"backgroundOpacity\": \"0.4\", \"fontOpacity\": \"1\", \"fontSize\": \"12\", \"fontColor\": \"white\", \"inFront\": \"true\"});\n\tviewer_16697476660980759.addLabel(\"5\",{\"position\": {\"x\": \"-1.1556166844143934\", \"y\": \"0.10410512992567855\", \"z\": \"-1.7904357608026173\"}, \"backgroundColor\": \"'black'\", \"backgroundOpacity\": \"0.4\", \"fontOpacity\": \"1\", \"fontSize\": \"12\", \"fontColor\": \"white\", \"inFront\": \"true\"});\n\tviewer_16697476660980759.addLabel(\"6\",{\"position\": {\"x\": \"-1.9812466844143932\", \"y\": \"-0.3095448700743215\", \"z\": \"-0.5395857608026171\"}, \"backgroundColor\": \"'black'\", \"backgroundOpacity\": \"0.4\", \"fontOpacity\": \"1\", \"fontSize\": \"12\", \"fontColor\": \"white\", \"inFront\": \"true\"});\n\tviewer_16697476660980759.addLabel(\"7\",{\"position\": {\"x\": \"-2.1434266844143934\", \"y\": \"0.7787951299256786\", \"z\": \"0.4340142391973827\"}, \"backgroundColor\": \"'black'\", \"backgroundOpacity\": \"0.4\", \"fontOpacity\": \"1\", \"fontSize\": \"12\", \"fontColor\": \"white\", \"inFront\": \"true\"});\n\tviewer_16697476660980759.addLabel(\"8\",{\"position\": {\"x\": \"-3.227786684414393\", \"y\": \"0.5385051299256784\", \"z\": \"1.4128042391973827\"}, \"backgroundColor\": \"'black'\", \"backgroundOpacity\": \"0.4\", \"fontOpacity\": \"1\", \"fontSize\": \"12\", \"fontColor\": \"white\", \"inFront\": \"true\"});\n\tviewer_16697476660980759.addLabel(\"9\",{\"position\": {\"x\": \"-2.877186684414393\", \"y\": \"-0.49952487007432145\", \"z\": \"2.4613742391973825\"}, \"backgroundColor\": \"'black'\", \"backgroundOpacity\": \"0.4\", \"fontOpacity\": \"1\", \"fontSize\": \"12\", \"fontColor\": \"white\", \"inFront\": \"true\"});\n\tviewer_16697476660980759.addLabel(\"10\",{\"position\": {\"x\": \"-2.650976684414393\", \"y\": \"0.0646451299256785\", \"z\": \"3.666834239197383\"}, \"backgroundColor\": \"'black'\", \"backgroundOpacity\": \"0.4\", \"fontOpacity\": \"1\", \"fontSize\": \"12\", \"fontColor\": \"white\", \"inFront\": \"true\"});\n\tviewer_16697476660980759.addLabel(\"11\",{\"position\": {\"x\": \"-2.6830666844143933\", \"y\": \"-1.6872648700743214\", \"z\": \"2.2616342391973823\"}, \"backgroundColor\": \"'black'\", \"backgroundOpacity\": \"0.4\", \"fontOpacity\": \"1\", \"fontSize\": \"12\", \"fontColor\": \"white\", \"inFront\": \"true\"});\n\tviewer_16697476660980759.addLabel(\"12\",{\"position\": {\"x\": \"-0.9145666844143934\", \"y\": \"1.3255351299256783\", \"z\": \"1.0449442391973829\"}, \"backgroundColor\": \"'black'\", \"backgroundOpacity\": \"0.4\", \"fontOpacity\": \"1\", \"fontSize\": \"12\", \"fontColor\": \"white\", \"inFront\": \"true\"});\n\tviewer_16697476660980759.addLabel(\"13\",{\"position\": {\"x\": \"-0.05557668441439323\", \"y\": \"0.3392651299256786\", \"z\": \"1.8382242391973826\"}, \"backgroundColor\": \"'black'\", \"backgroundOpacity\": \"0.4\", \"fontOpacity\": \"1\", \"fontSize\": \"12\", \"fontColor\": \"white\", \"inFront\": \"true\"});\n\tviewer_16697476660980759.addLabel(\"14\",{\"position\": {\"x\": \"0.6853533155856067\", \"y\": \"-0.4993348700743214\", \"z\": \"1.0884442391973828\"}, \"backgroundColor\": \"'black'\", \"backgroundOpacity\": \"0.4\", \"fontOpacity\": \"1\", \"fontSize\": \"12\", \"fontColor\": \"white\", \"inFront\": \"true\"});\n\tviewer_16697476660980759.addLabel(\"15\",{\"position\": {\"x\": \"-0.025786684414393246\", \"y\": \"0.29153512992567854\", \"z\": \"3.060534239197383\"}, \"backgroundColor\": \"'black'\", \"backgroundOpacity\": \"0.4\", \"fontOpacity\": \"1\", \"fontSize\": \"12\", \"fontColor\": \"white\", \"inFront\": \"true\"});\n\tviewer_16697476660980759.addLabel(\"16\",{\"position\": {\"x\": \"1.0703233155856067\", \"y\": \"1.0211151299256784\", \"z\": \"-2.275955760802617\"}, \"backgroundColor\": \"'black'\", \"backgroundOpacity\": \"0.4\", \"fontOpacity\": \"1\", \"fontSize\": \"12\", \"fontColor\": \"white\", \"inFront\": \"true\"});\n\tviewer_16697476660980759.addLabel(\"17\",{\"position\": {\"x\": \"1.8808633155856067\", \"y\": \"1.7735151299256786\", \"z\": \"-1.2228157608026173\"}, \"backgroundColor\": \"'black'\", \"backgroundOpacity\": \"0.4\", \"fontOpacity\": \"1\", \"fontSize\": \"12\", \"fontColor\": \"white\", \"inFront\": \"true\"});\n\tviewer_16697476660980759.addLabel(\"18\",{\"position\": {\"x\": \"2.725183315585607\", \"y\": \"0.9742951299256786\", \"z\": \"-0.5438657608026172\"}, \"backgroundColor\": \"'black'\", \"backgroundOpacity\": \"0.4\", \"fontOpacity\": \"1\", \"fontSize\": \"12\", \"fontColor\": \"white\", \"inFront\": \"true\"});\n\tviewer_16697476660980759.addLabel(\"19\",{\"position\": {\"x\": \"1.7771733155856066\", \"y\": \"2.9567551299256785\", \"z\": \"-0.9435857608026172\"}, \"backgroundColor\": \"'black'\", \"backgroundOpacity\": \"0.4\", \"fontOpacity\": \"1\", \"fontSize\": \"12\", \"fontColor\": \"white\", \"inFront\": \"true\"});\n\tviewer_16697476660980759.addLabel(\"20\",{\"position\": {\"x\": \"3.771963315585607\", \"y\": \"-1.8050848700743214\", \"z\": \"-3.0171657608026172\"}, \"backgroundColor\": \"'black'\", \"backgroundOpacity\": \"0.4\", \"fontOpacity\": \"1\", \"fontSize\": \"12\", \"fontColor\": \"white\", \"inFront\": \"true\"});\n\tviewer_16697476660980759.addLabel(\"21\",{\"position\": {\"x\": \"0.41593331558560664\", \"y\": \"-1.4563248700743214\", \"z\": \"-3.2936757608026173\"}, \"backgroundColor\": \"'black'\", \"backgroundOpacity\": \"0.4\", \"fontOpacity\": \"1\", \"fontSize\": \"12\", \"fontColor\": \"white\", \"inFront\": \"true\"});\n\tviewer_16697476660980759.addLabel(\"22\",{\"position\": {\"x\": \"0.1502133155856067\", \"y\": \"-2.2231048700743212\", \"z\": \"-1.7274957608026171\"}, \"backgroundColor\": \"'black'\", \"backgroundOpacity\": \"0.4\", \"fontOpacity\": \"1\", \"fontSize\": \"12\", \"fontColor\": \"white\", \"inFront\": \"true\"});\n\tviewer_16697476660980759.addLabel(\"23\",{\"position\": {\"x\": \"-1.402866684414393\", \"y\": \"1.1503351299256785\", \"z\": \"-2.010515760802617\"}, \"backgroundColor\": \"'black'\", \"backgroundOpacity\": \"0.4\", \"fontOpacity\": \"1\", \"fontSize\": \"12\", \"fontColor\": \"white\", \"inFront\": \"true\"});\n\tviewer_16697476660980759.addLabel(\"24\",{\"position\": {\"x\": \"-1.5224766844143933\", \"y\": \"-0.4600648700743215\", \"z\": \"-2.6591257608026173\"}, \"backgroundColor\": \"'black'\", \"backgroundOpacity\": \"0.4\", \"fontOpacity\": \"1\", \"fontSize\": \"12\", \"fontColor\": \"white\", \"inFront\": \"true\"});\n\tviewer_16697476660980759.addLabel(\"25\",{\"position\": {\"x\": \"-2.979736684414393\", \"y\": \"-0.5680948700743215\", \"z\": \"-0.9181957608026172\"}, \"backgroundColor\": \"'black'\", \"backgroundOpacity\": \"0.4\", \"fontOpacity\": \"1\", \"fontSize\": \"12\", \"fontColor\": \"white\", \"inFront\": \"true\"});\n\tviewer_16697476660980759.addLabel(\"26\",{\"position\": {\"x\": \"-1.5851066844143933\", \"y\": \"-1.2258748700743214\", \"z\": \"-0.08910576080261734\"}, \"backgroundColor\": \"'black'\", \"backgroundOpacity\": \"0.4\", \"fontOpacity\": \"1\", \"fontSize\": \"12\", \"fontColor\": \"white\", \"inFront\": \"true\"});\n\tviewer_16697476660980759.addLabel(\"27\",{\"position\": {\"x\": \"-3.4800366844143933\", \"y\": \"1.4826451299256787\", \"z\": \"1.9116842391973825\"}, \"backgroundColor\": \"'black'\", \"backgroundOpacity\": \"0.4\", \"fontOpacity\": \"1\", \"fontSize\": \"12\", \"fontColor\": \"white\", \"inFront\": \"true\"});\n\tviewer_16697476660980759.addLabel(\"28\",{\"position\": {\"x\": \"-4.151816684414394\", \"y\": \"0.22529512992567846\", \"z\": \"0.9125142391973826\"}, \"backgroundColor\": \"'black'\", \"backgroundOpacity\": \"0.4\", \"fontOpacity\": \"1\", \"fontSize\": \"12\", \"fontColor\": \"white\", \"inFront\": \"true\"});\n\tviewer_16697476660980759.addLabel(\"29\",{\"position\": {\"x\": \"-1.9921166844143934\", \"y\": \"-0.5266548700743214\", \"z\": \"4.096544239197383\"}, \"backgroundColor\": \"'black'\", \"backgroundOpacity\": \"0.4\", \"fontOpacity\": \"1\", \"fontSize\": \"12\", \"fontColor\": \"white\", \"inFront\": \"true\"});\n\tviewer_16697476660980759.addLabel(\"30\",{\"position\": {\"x\": \"-0.2956566844143933\", \"y\": \"1.8046551299256783\", \"z\": \"0.28623423919738267\"}, \"backgroundColor\": \"'black'\", \"backgroundOpacity\": \"0.4\", \"fontOpacity\": \"1\", \"fontSize\": \"12\", \"fontColor\": \"white\", \"inFront\": \"true\"});\n\tviewer_16697476660980759.addLabel(\"31\",{\"position\": {\"x\": \"-1.1761466844143933\", \"y\": \"2.1484051299256786\", \"z\": \"1.7230542391973827\"}, \"backgroundColor\": \"'black'\", \"backgroundOpacity\": \"0.4\", \"fontOpacity\": \"1\", \"fontSize\": \"12\", \"fontColor\": \"white\", \"inFront\": \"true\"});\n\tviewer_16697476660980759.addLabel(\"32\",{\"position\": {\"x\": \"0.6071533155856068\", \"y\": \"-0.3458548700743215\", \"z\": \"0.11730423919738264\"}, \"backgroundColor\": \"'black'\", \"backgroundOpacity\": \"0.4\", \"fontOpacity\": \"1\", \"fontSize\": \"12\", \"fontColor\": \"white\", \"inFront\": \"true\"});\n\tviewer_16697476660980759.addLabel(\"33\",{\"position\": {\"x\": \"1.7616633155856067\", \"y\": \"0.6936251299256784\", \"z\": \"-3.0557457608026173\"}, \"backgroundColor\": \"'black'\", \"backgroundOpacity\": \"0.4\", \"fontOpacity\": \"1\", \"fontSize\": \"12\", \"fontColor\": \"white\", \"inFront\": \"true\"});\n\tviewer_16697476660980759.addLabel(\"34\",{\"position\": {\"x\": \"0.4108933155856067\", \"y\": \"1.7528651299256783\", \"z\": \"-2.7545957608026175\"}, \"backgroundColor\": \"'black'\", \"backgroundOpacity\": \"0.4\", \"fontOpacity\": \"1\", \"fontSize\": \"12\", \"fontColor\": \"white\", \"inFront\": \"true\"});\n\tviewer_16697476660980759.addLabel(\"35\",{\"position\": {\"x\": \"3.1040233155856067\", \"y\": \"1.5164851299256787\", \"z\": \"0.17965423919738255\"}, \"backgroundColor\": \"'black'\", \"backgroundOpacity\": \"0.4\", \"fontOpacity\": \"1\", \"fontSize\": \"12\", \"fontColor\": \"white\", \"inFront\": \"true\"});\n\tviewer_16697476660980759.zoomTo();\nviewer_16697476660980759.render();\n});\n</script>",
      "text/html": [
       "<div id=\"3dmolviewer_16697476660980759\"  style=\"position: relative; width: 500px; height: 500px\">\n",
       "        <p id=\"3dmolwarning_16697476660980759\" style=\"background-color:#ffcccc;color:black\">You appear to be running in JupyterLab (or JavaScript failed to load for some other reason).  You need to install the 3dmol extension: <br>\n",
       "        <tt>jupyter labextension install jupyterlab_3dmol</tt></p>\n",
       "        </div>\n",
       "<script>\n",
       "\n",
       "var loadScriptAsync = function(uri){\n",
       "  return new Promise((resolve, reject) => {\n",
       "    var tag = document.createElement('script');\n",
       "    tag.src = uri;\n",
       "    tag.async = true;\n",
       "    tag.onload = () => {\n",
       "      resolve();\n",
       "    };\n",
       "  var firstScriptTag = document.getElementsByTagName('script')[0];\n",
       "  firstScriptTag.parentNode.insertBefore(tag, firstScriptTag);\n",
       "});\n",
       "};\n",
       "\n",
       "if(typeof $3Dmolpromise === 'undefined') {\n",
       "$3Dmolpromise = null;\n",
       "  $3Dmolpromise = loadScriptAsync('https://cdn.jsdelivr.net/npm/3dmol@latest/build/3Dmol-min.min.js');\n",
       "}\n",
       "\n",
       "var viewer_16697476660980759 = null;\n",
       "var warn = document.getElementById(\"3dmolwarning_16697476660980759\");\n",
       "if(warn) {\n",
       "    warn.parentNode.removeChild(warn);\n",
       "}\n",
       "$3Dmolpromise.then(function() {\n",
       "viewer_16697476660980759 = $3Dmol.createViewer($(\"#3dmolviewer_16697476660980759\"),{backgroundColor:\"white\"});\n",
       "viewer_16697476660980759.zoomTo();\n",
       "\tviewer_16697476660980759.addModel(\"@<TRIPOS>MOLECULE\\ntmp.mol2\\n    36    35     1     0     0\\nSMALL\\nNoCharges\\n****\\nGenerated from Architector\\n\\n@<TRIPOS>ATOM\\n     1 O1        2.8452   -1.5907   -3.2578   O.2       1 RES1   0.0000\\n     2 C1        2.1722   -1.7457   -2.0965   C.3       1 RES1   0.0000\\n     3 O2        2.7584   -2.0959   -1.0874   O.2       1 RES1   0.0000\\n     4 C2        0.6905   -1.4127   -2.2323   C.3       1 RES1   0.0000\\n     5 N1        0.3128   -0.0959   -1.6256   N.3       1 RES1   0.0000\\n     6 C3       -1.1556    0.1041   -1.7904   C.3       1 RES1   0.0000\\n     7 C4       -1.9812   -0.3095   -0.5396   C.3       1 RES1   0.0000\\n     8 N2       -2.1434    0.7788    0.4340   N.3       1 RES1   0.0000\\n     9 C5       -3.2278    0.5385    1.4128   C.3       1 RES1   0.0000\\n    10 C6       -2.8772   -0.4995    2.4614   C.3       1 RES1   0.0000\\n    11 O3       -2.6510    0.0646    3.6668   O.2       1 RES1   0.0000\\n    12 O4       -2.6831   -1.6873    2.2616   O.2       1 RES1   0.0000\\n    13 C7       -0.9146    1.3255    1.0449   C.3       1 RES1   0.0000\\n    14 C8       -0.0556    0.3393    1.8382   C.3       1 RES1   0.0000\\n    15 O5        0.6854   -0.4993    1.0884   O.2       1 RES1   0.0000\\n    16 O6       -0.0258    0.2915    3.0605   O.2       1 RES1   0.0000\\n    17 C9        1.0703    1.0211   -2.2760   C.3       1 RES1   0.0000\\n    18 C10       1.8809    1.7735   -1.2228   C.3       1 RES1   0.0000\\n    19 O7        2.7252    0.9743   -0.5439   O.2       1 RES1   0.0000\\n    20 O8        1.7772    2.9568   -0.9436   O.2       1 RES1   0.0000\\n    21 H1        3.7720   -1.8051   -3.0172   H         1 RES1   0.0000\\n    22 H2        0.4159   -1.4563   -3.2937   H         1 RES1   0.0000\\n    23 H3        0.1502   -2.2231   -1.7275   H         1 RES1   0.0000\\n    24 H4       -1.4029    1.1503   -2.0105   H         1 RES1   0.0000\\n    25 H5       -1.5225   -0.4601   -2.6591   H         1 RES1   0.0000\\n    26 H6       -2.9797   -0.5681   -0.9182   H         1 RES1   0.0000\\n    27 H7       -1.5851   -1.2259   -0.0891   H         1 RES1   0.0000\\n    28 H8       -3.4800    1.4826    1.9117   H         1 RES1   0.0000\\n    29 H9       -4.1518    0.2253    0.9125   H         1 RES1   0.0000\\n    30 H10      -1.9921   -0.5267    4.0965   H         1 RES1   0.0000\\n    31 H11      -0.2957    1.8047    0.2862   H         1 RES1   0.0000\\n    32 H12      -1.1761    2.1484    1.7231   H         1 RES1   0.0000\\n    33 H13       0.6072   -0.3459    0.1173   H         1 RES1   0.0000\\n    34 H14       1.7617    0.6936   -3.0557   H         1 RES1   0.0000\\n    35 H15       0.4109    1.7529   -2.7546   H         1 RES1   0.0000\\n    36 H16       3.1040    1.5165    0.1797   H         1 RES1   0.0000\\n@<TRIPOS>BOND\\n     1     1     2    1\\n     2     1    21    1\\n     3     2     3    1\\n     4     2     4    1\\n     5     4     5    1\\n     6     4    22    1\\n     7     4    23    1\\n     8     5     6    1\\n     9     5    17    1\\n    10     6     7    1\\n    11     6    24    1\\n    12     6    25    1\\n    13     7     8    1\\n    14     7    26    1\\n    15     7    27    1\\n    16     8     9    1\\n    17     8    13    1\\n    18     9    10    1\\n    19     9    28    1\\n    20     9    29    1\\n    21    10    11    1\\n    22    10    12    1\\n    23    11    30    1\\n    24    13    14    1\\n    25    13    31    1\\n    26    13    32    1\\n    27    14    15    1\\n    28    14    16    1\\n    29    15    33    1\\n    30    17    18    1\\n    31    17    34    1\\n    32    17    35    1\\n    33    18    19    1\\n    34    18    20    1\\n    35    19    36    1\\n@<TRIPOS>SUBSTRUCTURE\\n     1 RES1       36 GROUP             0 ****  ****    0  \\n\",\"mol2\");\n",
       "\tviewer_16697476660980759.setStyle({\"stick\": {\"colorscheme\": \"Jmol\"}});\n",
       "\tviewer_16697476660980759.addLabel(\"0\",{\"position\": {\"x\": \"2.8452033155856067\", \"y\": \"-1.5906748700743214\", \"z\": \"-3.257795760802617\"}, \"backgroundColor\": \"'black'\", \"backgroundOpacity\": \"0.4\", \"fontOpacity\": \"1\", \"fontSize\": \"12\", \"fontColor\": \"white\", \"inFront\": \"true\"});\n",
       "\tviewer_16697476660980759.addLabel(\"1\",{\"position\": {\"x\": \"2.172173315585607\", \"y\": \"-1.7457348700743216\", \"z\": \"-2.0965057608026174\"}, \"backgroundColor\": \"'black'\", \"backgroundOpacity\": \"0.4\", \"fontOpacity\": \"1\", \"fontSize\": \"12\", \"fontColor\": \"white\", \"inFront\": \"true\"});\n",
       "\tviewer_16697476660980759.addLabel(\"2\",{\"position\": {\"x\": \"2.758423315585607\", \"y\": \"-2.0958548700743216\", \"z\": \"-1.0874157608026174\"}, \"backgroundColor\": \"'black'\", \"backgroundOpacity\": \"0.4\", \"fontOpacity\": \"1\", \"fontSize\": \"12\", \"fontColor\": \"white\", \"inFront\": \"true\"});\n",
       "\tviewer_16697476660980759.addLabel(\"3\",{\"position\": {\"x\": \"0.6905233155856068\", \"y\": \"-1.4127048700743214\", \"z\": \"-2.232295760802617\"}, \"backgroundColor\": \"'black'\", \"backgroundOpacity\": \"0.4\", \"fontOpacity\": \"1\", \"fontSize\": \"12\", \"fontColor\": \"white\", \"inFront\": \"true\"});\n",
       "\tviewer_16697476660980759.addLabel(\"4\",{\"position\": {\"x\": \"0.31276331558560666\", \"y\": \"-0.0958948700743214\", \"z\": \"-1.6256257608026172\"}, \"backgroundColor\": \"'black'\", \"backgroundOpacity\": \"0.4\", \"fontOpacity\": \"1\", \"fontSize\": \"12\", \"fontColor\": \"white\", \"inFront\": \"true\"});\n",
       "\tviewer_16697476660980759.addLabel(\"5\",{\"position\": {\"x\": \"-1.1556166844143934\", \"y\": \"0.10410512992567855\", \"z\": \"-1.7904357608026173\"}, \"backgroundColor\": \"'black'\", \"backgroundOpacity\": \"0.4\", \"fontOpacity\": \"1\", \"fontSize\": \"12\", \"fontColor\": \"white\", \"inFront\": \"true\"});\n",
       "\tviewer_16697476660980759.addLabel(\"6\",{\"position\": {\"x\": \"-1.9812466844143932\", \"y\": \"-0.3095448700743215\", \"z\": \"-0.5395857608026171\"}, \"backgroundColor\": \"'black'\", \"backgroundOpacity\": \"0.4\", \"fontOpacity\": \"1\", \"fontSize\": \"12\", \"fontColor\": \"white\", \"inFront\": \"true\"});\n",
       "\tviewer_16697476660980759.addLabel(\"7\",{\"position\": {\"x\": \"-2.1434266844143934\", \"y\": \"0.7787951299256786\", \"z\": \"0.4340142391973827\"}, \"backgroundColor\": \"'black'\", \"backgroundOpacity\": \"0.4\", \"fontOpacity\": \"1\", \"fontSize\": \"12\", \"fontColor\": \"white\", \"inFront\": \"true\"});\n",
       "\tviewer_16697476660980759.addLabel(\"8\",{\"position\": {\"x\": \"-3.227786684414393\", \"y\": \"0.5385051299256784\", \"z\": \"1.4128042391973827\"}, \"backgroundColor\": \"'black'\", \"backgroundOpacity\": \"0.4\", \"fontOpacity\": \"1\", \"fontSize\": \"12\", \"fontColor\": \"white\", \"inFront\": \"true\"});\n",
       "\tviewer_16697476660980759.addLabel(\"9\",{\"position\": {\"x\": \"-2.877186684414393\", \"y\": \"-0.49952487007432145\", \"z\": \"2.4613742391973825\"}, \"backgroundColor\": \"'black'\", \"backgroundOpacity\": \"0.4\", \"fontOpacity\": \"1\", \"fontSize\": \"12\", \"fontColor\": \"white\", \"inFront\": \"true\"});\n",
       "\tviewer_16697476660980759.addLabel(\"10\",{\"position\": {\"x\": \"-2.650976684414393\", \"y\": \"0.0646451299256785\", \"z\": \"3.666834239197383\"}, \"backgroundColor\": \"'black'\", \"backgroundOpacity\": \"0.4\", \"fontOpacity\": \"1\", \"fontSize\": \"12\", \"fontColor\": \"white\", \"inFront\": \"true\"});\n",
       "\tviewer_16697476660980759.addLabel(\"11\",{\"position\": {\"x\": \"-2.6830666844143933\", \"y\": \"-1.6872648700743214\", \"z\": \"2.2616342391973823\"}, \"backgroundColor\": \"'black'\", \"backgroundOpacity\": \"0.4\", \"fontOpacity\": \"1\", \"fontSize\": \"12\", \"fontColor\": \"white\", \"inFront\": \"true\"});\n",
       "\tviewer_16697476660980759.addLabel(\"12\",{\"position\": {\"x\": \"-0.9145666844143934\", \"y\": \"1.3255351299256783\", \"z\": \"1.0449442391973829\"}, \"backgroundColor\": \"'black'\", \"backgroundOpacity\": \"0.4\", \"fontOpacity\": \"1\", \"fontSize\": \"12\", \"fontColor\": \"white\", \"inFront\": \"true\"});\n",
       "\tviewer_16697476660980759.addLabel(\"13\",{\"position\": {\"x\": \"-0.05557668441439323\", \"y\": \"0.3392651299256786\", \"z\": \"1.8382242391973826\"}, \"backgroundColor\": \"'black'\", \"backgroundOpacity\": \"0.4\", \"fontOpacity\": \"1\", \"fontSize\": \"12\", \"fontColor\": \"white\", \"inFront\": \"true\"});\n",
       "\tviewer_16697476660980759.addLabel(\"14\",{\"position\": {\"x\": \"0.6853533155856067\", \"y\": \"-0.4993348700743214\", \"z\": \"1.0884442391973828\"}, \"backgroundColor\": \"'black'\", \"backgroundOpacity\": \"0.4\", \"fontOpacity\": \"1\", \"fontSize\": \"12\", \"fontColor\": \"white\", \"inFront\": \"true\"});\n",
       "\tviewer_16697476660980759.addLabel(\"15\",{\"position\": {\"x\": \"-0.025786684414393246\", \"y\": \"0.29153512992567854\", \"z\": \"3.060534239197383\"}, \"backgroundColor\": \"'black'\", \"backgroundOpacity\": \"0.4\", \"fontOpacity\": \"1\", \"fontSize\": \"12\", \"fontColor\": \"white\", \"inFront\": \"true\"});\n",
       "\tviewer_16697476660980759.addLabel(\"16\",{\"position\": {\"x\": \"1.0703233155856067\", \"y\": \"1.0211151299256784\", \"z\": \"-2.275955760802617\"}, \"backgroundColor\": \"'black'\", \"backgroundOpacity\": \"0.4\", \"fontOpacity\": \"1\", \"fontSize\": \"12\", \"fontColor\": \"white\", \"inFront\": \"true\"});\n",
       "\tviewer_16697476660980759.addLabel(\"17\",{\"position\": {\"x\": \"1.8808633155856067\", \"y\": \"1.7735151299256786\", \"z\": \"-1.2228157608026173\"}, \"backgroundColor\": \"'black'\", \"backgroundOpacity\": \"0.4\", \"fontOpacity\": \"1\", \"fontSize\": \"12\", \"fontColor\": \"white\", \"inFront\": \"true\"});\n",
       "\tviewer_16697476660980759.addLabel(\"18\",{\"position\": {\"x\": \"2.725183315585607\", \"y\": \"0.9742951299256786\", \"z\": \"-0.5438657608026172\"}, \"backgroundColor\": \"'black'\", \"backgroundOpacity\": \"0.4\", \"fontOpacity\": \"1\", \"fontSize\": \"12\", \"fontColor\": \"white\", \"inFront\": \"true\"});\n",
       "\tviewer_16697476660980759.addLabel(\"19\",{\"position\": {\"x\": \"1.7771733155856066\", \"y\": \"2.9567551299256785\", \"z\": \"-0.9435857608026172\"}, \"backgroundColor\": \"'black'\", \"backgroundOpacity\": \"0.4\", \"fontOpacity\": \"1\", \"fontSize\": \"12\", \"fontColor\": \"white\", \"inFront\": \"true\"});\n",
       "\tviewer_16697476660980759.addLabel(\"20\",{\"position\": {\"x\": \"3.771963315585607\", \"y\": \"-1.8050848700743214\", \"z\": \"-3.0171657608026172\"}, \"backgroundColor\": \"'black'\", \"backgroundOpacity\": \"0.4\", \"fontOpacity\": \"1\", \"fontSize\": \"12\", \"fontColor\": \"white\", \"inFront\": \"true\"});\n",
       "\tviewer_16697476660980759.addLabel(\"21\",{\"position\": {\"x\": \"0.41593331558560664\", \"y\": \"-1.4563248700743214\", \"z\": \"-3.2936757608026173\"}, \"backgroundColor\": \"'black'\", \"backgroundOpacity\": \"0.4\", \"fontOpacity\": \"1\", \"fontSize\": \"12\", \"fontColor\": \"white\", \"inFront\": \"true\"});\n",
       "\tviewer_16697476660980759.addLabel(\"22\",{\"position\": {\"x\": \"0.1502133155856067\", \"y\": \"-2.2231048700743212\", \"z\": \"-1.7274957608026171\"}, \"backgroundColor\": \"'black'\", \"backgroundOpacity\": \"0.4\", \"fontOpacity\": \"1\", \"fontSize\": \"12\", \"fontColor\": \"white\", \"inFront\": \"true\"});\n",
       "\tviewer_16697476660980759.addLabel(\"23\",{\"position\": {\"x\": \"-1.402866684414393\", \"y\": \"1.1503351299256785\", \"z\": \"-2.010515760802617\"}, \"backgroundColor\": \"'black'\", \"backgroundOpacity\": \"0.4\", \"fontOpacity\": \"1\", \"fontSize\": \"12\", \"fontColor\": \"white\", \"inFront\": \"true\"});\n",
       "\tviewer_16697476660980759.addLabel(\"24\",{\"position\": {\"x\": \"-1.5224766844143933\", \"y\": \"-0.4600648700743215\", \"z\": \"-2.6591257608026173\"}, \"backgroundColor\": \"'black'\", \"backgroundOpacity\": \"0.4\", \"fontOpacity\": \"1\", \"fontSize\": \"12\", \"fontColor\": \"white\", \"inFront\": \"true\"});\n",
       "\tviewer_16697476660980759.addLabel(\"25\",{\"position\": {\"x\": \"-2.979736684414393\", \"y\": \"-0.5680948700743215\", \"z\": \"-0.9181957608026172\"}, \"backgroundColor\": \"'black'\", \"backgroundOpacity\": \"0.4\", \"fontOpacity\": \"1\", \"fontSize\": \"12\", \"fontColor\": \"white\", \"inFront\": \"true\"});\n",
       "\tviewer_16697476660980759.addLabel(\"26\",{\"position\": {\"x\": \"-1.5851066844143933\", \"y\": \"-1.2258748700743214\", \"z\": \"-0.08910576080261734\"}, \"backgroundColor\": \"'black'\", \"backgroundOpacity\": \"0.4\", \"fontOpacity\": \"1\", \"fontSize\": \"12\", \"fontColor\": \"white\", \"inFront\": \"true\"});\n",
       "\tviewer_16697476660980759.addLabel(\"27\",{\"position\": {\"x\": \"-3.4800366844143933\", \"y\": \"1.4826451299256787\", \"z\": \"1.9116842391973825\"}, \"backgroundColor\": \"'black'\", \"backgroundOpacity\": \"0.4\", \"fontOpacity\": \"1\", \"fontSize\": \"12\", \"fontColor\": \"white\", \"inFront\": \"true\"});\n",
       "\tviewer_16697476660980759.addLabel(\"28\",{\"position\": {\"x\": \"-4.151816684414394\", \"y\": \"0.22529512992567846\", \"z\": \"0.9125142391973826\"}, \"backgroundColor\": \"'black'\", \"backgroundOpacity\": \"0.4\", \"fontOpacity\": \"1\", \"fontSize\": \"12\", \"fontColor\": \"white\", \"inFront\": \"true\"});\n",
       "\tviewer_16697476660980759.addLabel(\"29\",{\"position\": {\"x\": \"-1.9921166844143934\", \"y\": \"-0.5266548700743214\", \"z\": \"4.096544239197383\"}, \"backgroundColor\": \"'black'\", \"backgroundOpacity\": \"0.4\", \"fontOpacity\": \"1\", \"fontSize\": \"12\", \"fontColor\": \"white\", \"inFront\": \"true\"});\n",
       "\tviewer_16697476660980759.addLabel(\"30\",{\"position\": {\"x\": \"-0.2956566844143933\", \"y\": \"1.8046551299256783\", \"z\": \"0.28623423919738267\"}, \"backgroundColor\": \"'black'\", \"backgroundOpacity\": \"0.4\", \"fontOpacity\": \"1\", \"fontSize\": \"12\", \"fontColor\": \"white\", \"inFront\": \"true\"});\n",
       "\tviewer_16697476660980759.addLabel(\"31\",{\"position\": {\"x\": \"-1.1761466844143933\", \"y\": \"2.1484051299256786\", \"z\": \"1.7230542391973827\"}, \"backgroundColor\": \"'black'\", \"backgroundOpacity\": \"0.4\", \"fontOpacity\": \"1\", \"fontSize\": \"12\", \"fontColor\": \"white\", \"inFront\": \"true\"});\n",
       "\tviewer_16697476660980759.addLabel(\"32\",{\"position\": {\"x\": \"0.6071533155856068\", \"y\": \"-0.3458548700743215\", \"z\": \"0.11730423919738264\"}, \"backgroundColor\": \"'black'\", \"backgroundOpacity\": \"0.4\", \"fontOpacity\": \"1\", \"fontSize\": \"12\", \"fontColor\": \"white\", \"inFront\": \"true\"});\n",
       "\tviewer_16697476660980759.addLabel(\"33\",{\"position\": {\"x\": \"1.7616633155856067\", \"y\": \"0.6936251299256784\", \"z\": \"-3.0557457608026173\"}, \"backgroundColor\": \"'black'\", \"backgroundOpacity\": \"0.4\", \"fontOpacity\": \"1\", \"fontSize\": \"12\", \"fontColor\": \"white\", \"inFront\": \"true\"});\n",
       "\tviewer_16697476660980759.addLabel(\"34\",{\"position\": {\"x\": \"0.4108933155856067\", \"y\": \"1.7528651299256783\", \"z\": \"-2.7545957608026175\"}, \"backgroundColor\": \"'black'\", \"backgroundOpacity\": \"0.4\", \"fontOpacity\": \"1\", \"fontSize\": \"12\", \"fontColor\": \"white\", \"inFront\": \"true\"});\n",
       "\tviewer_16697476660980759.addLabel(\"35\",{\"position\": {\"x\": \"3.1040233155856067\", \"y\": \"1.5164851299256787\", \"z\": \"0.17965423919738255\"}, \"backgroundColor\": \"'black'\", \"backgroundOpacity\": \"0.4\", \"fontOpacity\": \"1\", \"fontSize\": \"12\", \"fontColor\": \"white\", \"inFront\": \"true\"});\n",
       "\tviewer_16697476660980759.zoomTo();\n",
       "viewer_16697476660980759.render();\n",
       "});\n",
       "</script>"
      ]
     },
     "metadata": {},
     "output_type": "display_data"
    }
   ],
   "source": [
    "view_structures(edta_atoms,labelinds=True,w=500,h=500) "
   ]
  },
  {
   "cell_type": "markdown",
   "id": "7c3f7435",
   "metadata": {},
   "source": [
    "Selecting these specific atoms gives a coordList for EDTA of:"
   ]
  },
  {
   "cell_type": "code",
   "execution_count": 4,
   "id": "59094b65",
   "metadata": {},
   "outputs": [],
   "source": [
    "edta_coordList = [4,7,11,15,19,2]"
   ]
  },
  {
   "cell_type": "markdown",
   "id": "cb49f480",
   "metadata": {},
   "source": [
    "And we now have enough to define an input dictionary for Architector!"
   ]
  },
  {
   "cell_type": "code",
   "execution_count": 5,
   "id": "40afbf72",
   "metadata": {
    "scrolled": true
   },
   "outputs": [
    {
     "data": {
      "text/plain": [
       "{'core': {'metal': 'Ca', 'coreType': 'octahedral'},\n",
       " 'ligands': [{'smiles': 'OC(=O)CN(CCN(CC(O)=O)CC(O)=O)CC(O)=O',\n",
       "   'coordList': [4, 7, 11, 15, 19, 2],\n",
       "   'ligType': 'hexa_octahedral'}],\n",
       " 'parameters': {'relax': True}}"
      ]
     },
     "execution_count": 5,
     "metadata": {},
     "output_type": "execute_result"
    }
   ],
   "source": [
    "# Build the complex using some educated guesses for the geometries\n",
    "inputDict = {\n",
    "    'core':{'metal':'Ca',\n",
    "            'coreType':'octahedral'}, # We have already down-selected for a likley correct core geometry\n",
    "    'ligands':[\n",
    "        {'smiles':edta_smiles,\n",
    "        'coordList':edta_coordList,\n",
    "        'ligType':'hexa_octahedral'} # Here, we have already assigned the most likely geometry manually\n",
    "              ],\n",
    "    'parameters':{'relax':True}\n",
    "}\n",
    "inputDict"
   ]
  },
  {
   "cell_type": "markdown",
   "id": "551448fe",
   "metadata": {},
   "source": [
    "Looks good! Ready for building"
   ]
  },
  {
   "cell_type": "code",
   "execution_count": 6,
   "id": "2cdd7f92",
   "metadata": {
    "scrolled": true
   },
   "outputs": [
    {
     "name": "stdout",
     "output_type": "stream",
     "text": [
      "Failed sanity checks after rotation!\n",
      "Failed sanity checks after rotation!\n",
      "                 Step     Time          Energy         fmax\n",
      "*Force-consistent energies used in optimization.\n",
      "LBFGSLineSearch:    0 11:48:20    -1841.143317*       2.7686\n",
      "LBFGSLineSearch:    1 11:48:20    -1841.654335*       1.9964\n",
      "LBFGSLineSearch:    2 11:48:20    -1841.922304*       2.8491\n",
      "LBFGSLineSearch:    3 11:48:20    -1842.171160*       1.1208\n",
      "LBFGSLineSearch:    4 11:48:20    -1842.300195*       0.7099\n",
      "LBFGSLineSearch:    5 11:48:20    -1842.391619*       0.5433\n",
      "LBFGSLineSearch:    6 11:48:20    -1842.433601*       0.4143\n",
      "LBFGSLineSearch:    7 11:48:20    -1842.466993*       0.3458\n",
      "LBFGSLineSearch:    8 11:48:20    -1842.489673*       0.4399\n",
      "LBFGSLineSearch:    9 11:48:20    -1842.515296*       0.5437\n",
      "LBFGSLineSearch:   10 11:48:20    -1842.527357*       0.2952\n",
      "LBFGSLineSearch:   11 11:48:21    -1842.538887*       0.3479\n",
      "LBFGSLineSearch:   12 11:48:21    -1842.547797*       0.2632\n",
      "LBFGSLineSearch:   13 11:48:21    -1842.555278*       0.1384\n",
      "LBFGSLineSearch:   14 11:48:21    -1842.561925*       0.2260\n",
      "LBFGSLineSearch:   15 11:48:21    -1842.574458*       0.1614\n",
      "LBFGSLineSearch:   16 11:48:21    -1842.581834*       0.2594\n",
      "LBFGSLineSearch:   17 11:48:21    -1842.590322*       0.1916\n",
      "LBFGSLineSearch:   18 11:48:21    -1842.596081*       0.3037\n",
      "LBFGSLineSearch:   19 11:48:21    -1842.600105*       0.1456\n",
      "LBFGSLineSearch:   20 11:48:21    -1842.608928*       0.2437\n",
      "LBFGSLineSearch:   21 11:48:21    -1842.615888*       0.1710\n",
      "LBFGSLineSearch:   22 11:48:21    -1842.620956*       0.3046\n",
      "LBFGSLineSearch:   23 11:48:21    -1842.627917*       0.1871\n",
      "LBFGSLineSearch:   24 11:48:21    -1842.635813*       0.1935\n",
      "LBFGSLineSearch:   25 11:48:21    -1842.641330*       0.2781\n",
      "LBFGSLineSearch:   26 11:48:22    -1842.646984*       0.2264\n",
      "LBFGSLineSearch:   27 11:48:22    -1842.653923*       0.2268\n",
      "LBFGSLineSearch:   28 11:48:22    -1842.658824*       0.2098\n",
      "LBFGSLineSearch:   29 11:48:22    -1842.663903*       0.1913\n",
      "LBFGSLineSearch:   30 11:48:22    -1842.668890*       0.1334\n",
      "LBFGSLineSearch:   31 11:48:22    -1842.672089*       0.2087\n",
      "LBFGSLineSearch:   32 11:48:22    -1842.675893*       0.1185\n",
      "LBFGSLineSearch:   33 11:48:22    -1842.678492*       0.0912\n"
     ]
    }
   ],
   "source": [
    "out = build_complex(inputDict)"
   ]
  },
  {
   "cell_type": "markdown",
   "id": "6f9aa0e9",
   "metadata": {},
   "source": [
    "And a quick visual check reveals a fairly sensible structure:"
   ]
  },
  {
   "cell_type": "code",
   "execution_count": 7,
   "id": "8d4e9094",
   "metadata": {},
   "outputs": [
    {
     "data": {
      "application/3dmoljs_load.v0": "<div id=\"3dmolviewer_16697477026437418\"  style=\"position: relative; width: 200px; height: 200px\">\n        <p id=\"3dmolwarning_16697477026437418\" style=\"background-color:#ffcccc;color:black\">You appear to be running in JupyterLab (or JavaScript failed to load for some other reason).  You need to install the 3dmol extension: <br>\n        <tt>jupyter labextension install jupyterlab_3dmol</tt></p>\n        </div>\n<script>\n\nvar loadScriptAsync = function(uri){\n  return new Promise((resolve, reject) => {\n    var tag = document.createElement('script');\n    tag.src = uri;\n    tag.async = true;\n    tag.onload = () => {\n      resolve();\n    };\n  var firstScriptTag = document.getElementsByTagName('script')[0];\n  firstScriptTag.parentNode.insertBefore(tag, firstScriptTag);\n});\n};\n\nif(typeof $3Dmolpromise === 'undefined') {\n$3Dmolpromise = null;\n  $3Dmolpromise = loadScriptAsync('https://cdn.jsdelivr.net/npm/3dmol@latest/build/3Dmol-min.min.js');\n}\n\nvar viewer_16697477026437418 = null;\nvar warn = document.getElementById(\"3dmolwarning_16697477026437418\");\nif(warn) {\n    warn.parentNode.removeChild(warn);\n}\n$3Dmolpromise.then(function() {\nviewer_16697477026437418 = $3Dmol.createViewer($(\"#3dmolviewer_16697477026437418\"),{backgroundColor:\"white\"});\nviewer_16697477026437418.zoomTo();\n\tviewer_16697477026437418.addModel(\"@<TRIPOS>MOLECULE\\ntmp.mol2\\n    37    41     1     0     0\\nSMALL\\nNoCharges\\n****\\nGenerated from Architector\\n\\n@<TRIPOS>ATOM\\n     1 Ca1      -0.3890   -0.0349    0.3549   Ca        1 RES1   0.0000\\n     2 O1        1.3952    3.0906    1.8055   O.3       1 RES1   0.0000\\n     3 C1        1.1012    2.1903    0.9275   C.2       1 RES1   0.0000\\n     4 O2       -0.0162    1.9937    0.4733   O.2       1 RES1   0.0000\\n     5 C2        2.2990    1.4092    0.4205   C.3       1 RES1   0.0000\\n     6 N1        1.9116    0.0459    0.0500   N.4       1 RES1   0.0000\\n     7 C3        2.2963   -0.3049   -1.3228   C.3       1 RES1   0.0000\\n     8 C4        1.3179    0.3098   -2.3351   C.3       1 RES1   0.0000\\n     9 N2       -0.0657   -0.0457   -2.0046   N.4       1 RES1   0.0000\\n    10 C5       -0.4387   -1.4002   -2.4277   C.3       1 RES1   0.0000\\n    11 C6       -0.7310   -2.2630   -1.2085   C.2       1 RES1   0.0000\\n    12 O3       -1.5049   -3.2967   -1.3213   O.3       1 RES1   0.0000\\n    13 O4       -0.2024   -1.9988   -0.1450   O.2       1 RES1   0.0000\\n    14 C7       -1.0510    0.9471   -2.4295   C.3       1 RES1   0.0000\\n    15 C8       -2.2077    0.9622   -1.4358   C.2       1 RES1   0.0000\\n    16 O5       -3.1631    1.8297   -1.5811   O.3       1 RES1   0.0000\\n    17 O6       -2.2128    0.1797   -0.5088   O.2       1 RES1   0.0000\\n    18 C9        2.3662   -0.9285    1.0459   C.3       1 RES1   0.0000\\n    19 C10       1.3863   -0.9736    2.2100   C.2       1 RES1   0.0000\\n    20 O7        1.6091   -1.7806    3.2017   O.3       1 RES1   0.0000\\n    21 O8        0.3978   -0.2661    2.2010   O.2       1 RES1   0.0000\\n    22 H1        0.6422    3.6199    2.1370   H         1 RES1   0.0000\\n    23 H2        3.0897    1.4390    1.1781   H         1 RES1   0.0000\\n    24 H3        2.6706    1.9601   -0.4526   H         1 RES1   0.0000\\n    25 H4        2.2679   -1.3926   -1.4225   H         1 RES1   0.0000\\n    26 H5        3.3159    0.0313   -1.5562   H         1 RES1   0.0000\\n    27 H6        1.5892   -0.0209   -3.3474   H         1 RES1   0.0000\\n    28 H7        1.4098    1.3981   -2.3066   H         1 RES1   0.0000\\n    29 H8        0.3917   -1.8744   -2.9709   H         1 RES1   0.0000\\n    30 H9       -1.3073   -1.3878   -3.0971   H         1 RES1   0.0000\\n    31 H10      -1.9185   -3.4678   -2.1824   H         1 RES1   0.0000\\n    32 H11      -1.4222    0.7598   -3.4514   H         1 RES1   0.0000\\n    33 H12      -0.5972    1.9436   -2.4129   H         1 RES1   0.0000\\n    34 H13      -3.1108    2.4380   -2.3376   H         1 RES1   0.0000\\n    35 H14       3.3846   -0.7056    1.4071   H         1 RES1   0.0000\\n    36 H15       2.3679   -1.9299    0.6021   H         1 RES1   0.0000\\n    37 H16       2.4070   -2.3333    3.1654   H         1 RES1   0.0000\\n@<TRIPOS>BOND\\n     1     1     4    1\\n     2     1     6    1\\n     3     1     9    1\\n     4     1    13    1\\n     5     1    17    1\\n     6     1    21    1\\n     7     2     3    1\\n     8     2    22    1\\n     9     3     4    2\\n    10     3     5    1\\n    11     5     6    1\\n    12     5    23    1\\n    13     5    24    1\\n    14     6     7    1\\n    15     6    18    1\\n    16     7     8    1\\n    17     7    25    1\\n    18     7    26    1\\n    19     8     9    1\\n    20     8    27    1\\n    21     8    28    1\\n    22     9    10    1\\n    23     9    14    1\\n    24    10    11    1\\n    25    10    29    1\\n    26    10    30    1\\n    27    11    12    1\\n    28    11    13    2\\n    29    12    31    1\\n    30    14    15    1\\n    31    14    32    1\\n    32    14    33    1\\n    33    15    16    1\\n    34    15    17    2\\n    35    16    34    1\\n    36    18    19    1\\n    37    18    35    1\\n    38    18    36    1\\n    39    19    20    1\\n    40    19    21    2\\n    41    20    37    1\\n@<TRIPOS>SUBSTRUCTURE\\n     1 RES1       37 GROUP             0 ****  ****    0  \\n\",\"mol2\");\n\tviewer_16697477026437418.setStyle({\"stick\": {\"colorscheme\": \"Jmol\"}});\n\tviewer_16697477026437418.zoomTo();\nviewer_16697477026437418.render();\n});\n</script>",
      "text/html": [
       "<div id=\"3dmolviewer_16697477026437418\"  style=\"position: relative; width: 200px; height: 200px\">\n",
       "        <p id=\"3dmolwarning_16697477026437418\" style=\"background-color:#ffcccc;color:black\">You appear to be running in JupyterLab (or JavaScript failed to load for some other reason).  You need to install the 3dmol extension: <br>\n",
       "        <tt>jupyter labextension install jupyterlab_3dmol</tt></p>\n",
       "        </div>\n",
       "<script>\n",
       "\n",
       "var loadScriptAsync = function(uri){\n",
       "  return new Promise((resolve, reject) => {\n",
       "    var tag = document.createElement('script');\n",
       "    tag.src = uri;\n",
       "    tag.async = true;\n",
       "    tag.onload = () => {\n",
       "      resolve();\n",
       "    };\n",
       "  var firstScriptTag = document.getElementsByTagName('script')[0];\n",
       "  firstScriptTag.parentNode.insertBefore(tag, firstScriptTag);\n",
       "});\n",
       "};\n",
       "\n",
       "if(typeof $3Dmolpromise === 'undefined') {\n",
       "$3Dmolpromise = null;\n",
       "  $3Dmolpromise = loadScriptAsync('https://cdn.jsdelivr.net/npm/3dmol@latest/build/3Dmol-min.min.js');\n",
       "}\n",
       "\n",
       "var viewer_16697477026437418 = null;\n",
       "var warn = document.getElementById(\"3dmolwarning_16697477026437418\");\n",
       "if(warn) {\n",
       "    warn.parentNode.removeChild(warn);\n",
       "}\n",
       "$3Dmolpromise.then(function() {\n",
       "viewer_16697477026437418 = $3Dmol.createViewer($(\"#3dmolviewer_16697477026437418\"),{backgroundColor:\"white\"});\n",
       "viewer_16697477026437418.zoomTo();\n",
       "\tviewer_16697477026437418.addModel(\"@<TRIPOS>MOLECULE\\ntmp.mol2\\n    37    41     1     0     0\\nSMALL\\nNoCharges\\n****\\nGenerated from Architector\\n\\n@<TRIPOS>ATOM\\n     1 Ca1      -0.3890   -0.0349    0.3549   Ca        1 RES1   0.0000\\n     2 O1        1.3952    3.0906    1.8055   O.3       1 RES1   0.0000\\n     3 C1        1.1012    2.1903    0.9275   C.2       1 RES1   0.0000\\n     4 O2       -0.0162    1.9937    0.4733   O.2       1 RES1   0.0000\\n     5 C2        2.2990    1.4092    0.4205   C.3       1 RES1   0.0000\\n     6 N1        1.9116    0.0459    0.0500   N.4       1 RES1   0.0000\\n     7 C3        2.2963   -0.3049   -1.3228   C.3       1 RES1   0.0000\\n     8 C4        1.3179    0.3098   -2.3351   C.3       1 RES1   0.0000\\n     9 N2       -0.0657   -0.0457   -2.0046   N.4       1 RES1   0.0000\\n    10 C5       -0.4387   -1.4002   -2.4277   C.3       1 RES1   0.0000\\n    11 C6       -0.7310   -2.2630   -1.2085   C.2       1 RES1   0.0000\\n    12 O3       -1.5049   -3.2967   -1.3213   O.3       1 RES1   0.0000\\n    13 O4       -0.2024   -1.9988   -0.1450   O.2       1 RES1   0.0000\\n    14 C7       -1.0510    0.9471   -2.4295   C.3       1 RES1   0.0000\\n    15 C8       -2.2077    0.9622   -1.4358   C.2       1 RES1   0.0000\\n    16 O5       -3.1631    1.8297   -1.5811   O.3       1 RES1   0.0000\\n    17 O6       -2.2128    0.1797   -0.5088   O.2       1 RES1   0.0000\\n    18 C9        2.3662   -0.9285    1.0459   C.3       1 RES1   0.0000\\n    19 C10       1.3863   -0.9736    2.2100   C.2       1 RES1   0.0000\\n    20 O7        1.6091   -1.7806    3.2017   O.3       1 RES1   0.0000\\n    21 O8        0.3978   -0.2661    2.2010   O.2       1 RES1   0.0000\\n    22 H1        0.6422    3.6199    2.1370   H         1 RES1   0.0000\\n    23 H2        3.0897    1.4390    1.1781   H         1 RES1   0.0000\\n    24 H3        2.6706    1.9601   -0.4526   H         1 RES1   0.0000\\n    25 H4        2.2679   -1.3926   -1.4225   H         1 RES1   0.0000\\n    26 H5        3.3159    0.0313   -1.5562   H         1 RES1   0.0000\\n    27 H6        1.5892   -0.0209   -3.3474   H         1 RES1   0.0000\\n    28 H7        1.4098    1.3981   -2.3066   H         1 RES1   0.0000\\n    29 H8        0.3917   -1.8744   -2.9709   H         1 RES1   0.0000\\n    30 H9       -1.3073   -1.3878   -3.0971   H         1 RES1   0.0000\\n    31 H10      -1.9185   -3.4678   -2.1824   H         1 RES1   0.0000\\n    32 H11      -1.4222    0.7598   -3.4514   H         1 RES1   0.0000\\n    33 H12      -0.5972    1.9436   -2.4129   H         1 RES1   0.0000\\n    34 H13      -3.1108    2.4380   -2.3376   H         1 RES1   0.0000\\n    35 H14       3.3846   -0.7056    1.4071   H         1 RES1   0.0000\\n    36 H15       2.3679   -1.9299    0.6021   H         1 RES1   0.0000\\n    37 H16       2.4070   -2.3333    3.1654   H         1 RES1   0.0000\\n@<TRIPOS>BOND\\n     1     1     4    1\\n     2     1     6    1\\n     3     1     9    1\\n     4     1    13    1\\n     5     1    17    1\\n     6     1    21    1\\n     7     2     3    1\\n     8     2    22    1\\n     9     3     4    2\\n    10     3     5    1\\n    11     5     6    1\\n    12     5    23    1\\n    13     5    24    1\\n    14     6     7    1\\n    15     6    18    1\\n    16     7     8    1\\n    17     7    25    1\\n    18     7    26    1\\n    19     8     9    1\\n    20     8    27    1\\n    21     8    28    1\\n    22     9    10    1\\n    23     9    14    1\\n    24    10    11    1\\n    25    10    29    1\\n    26    10    30    1\\n    27    11    12    1\\n    28    11    13    2\\n    29    12    31    1\\n    30    14    15    1\\n    31    14    32    1\\n    32    14    33    1\\n    33    15    16    1\\n    34    15    17    2\\n    35    16    34    1\\n    36    18    19    1\\n    37    18    35    1\\n    38    18    36    1\\n    39    19    20    1\\n    40    19    21    2\\n    41    20    37    1\\n@<TRIPOS>SUBSTRUCTURE\\n     1 RES1       37 GROUP             0 ****  ****    0  \\n\",\"mol2\");\n",
       "\tviewer_16697477026437418.setStyle({\"stick\": {\"colorscheme\": \"Jmol\"}});\n",
       "\tviewer_16697477026437418.zoomTo();\n",
       "viewer_16697477026437418.render();\n",
       "});\n",
       "</script>"
      ]
     },
     "metadata": {},
     "output_type": "display_data"
    }
   ],
   "source": [
    "view_structures(out)"
   ]
  },
  {
   "cell_type": "markdown",
   "id": "26e78336",
   "metadata": {},
   "source": [
    "## Now for (B), we can isolate the ligand from the Ca2+ metal center!\n",
    "\n",
    "This is easiestly done using the ASE atoms object from the output dictionary"
   ]
  },
  {
   "cell_type": "code",
   "execution_count": 8,
   "id": "fc0c29dd",
   "metadata": {},
   "outputs": [],
   "source": [
    "# Pull out the ase atoms and isolated ligand ase atoms from the lowest-energy conformer!\n",
    "key = list(out.keys())[0]\n",
    "full_atoms = out[key]['ase_atoms']"
   ]
  },
  {
   "cell_type": "markdown",
   "id": "7b818800",
   "metadata": {},
   "source": [
    "Now simply remove the Ca atom, this is easily done since Architector will always put the metal at the first index (0)!"
   ]
  },
  {
   "cell_type": "code",
   "execution_count": 9,
   "id": "5f625ea1",
   "metadata": {},
   "outputs": [
    {
     "data": {
      "text/plain": [
       "Atoms(symbols='OCOCNC2NC2O2C2O2C2O2H16', pbc=False, initial_charges=..., initial_magmoms=...)"
      ]
     },
     "execution_count": 9,
     "metadata": {},
     "output_type": "execute_result"
    }
   ],
   "source": [
    "lig_atoms = full_atoms.copy()\n",
    "del lig_atoms[0] # Remove the Ca\n",
    "lig_atoms # Verify the Ca is gone"
   ]
  },
  {
   "cell_type": "markdown",
   "id": "6de168e7",
   "metadata": {},
   "source": [
    "Note that there is no Ca in the symbols string of the atoms! We can also visualize the new ligand structure."
   ]
  },
  {
   "cell_type": "code",
   "execution_count": 10,
   "id": "764530dc",
   "metadata": {},
   "outputs": [
    {
     "data": {
      "application/3dmoljs_load.v0": "<div id=\"3dmolviewer_16697477026701062\"  style=\"position: relative; width: 200px; height: 200px\">\n        <p id=\"3dmolwarning_16697477026701062\" style=\"background-color:#ffcccc;color:black\">You appear to be running in JupyterLab (or JavaScript failed to load for some other reason).  You need to install the 3dmol extension: <br>\n        <tt>jupyter labextension install jupyterlab_3dmol</tt></p>\n        </div>\n<script>\n\nvar loadScriptAsync = function(uri){\n  return new Promise((resolve, reject) => {\n    var tag = document.createElement('script');\n    tag.src = uri;\n    tag.async = true;\n    tag.onload = () => {\n      resolve();\n    };\n  var firstScriptTag = document.getElementsByTagName('script')[0];\n  firstScriptTag.parentNode.insertBefore(tag, firstScriptTag);\n});\n};\n\nif(typeof $3Dmolpromise === 'undefined') {\n$3Dmolpromise = null;\n  $3Dmolpromise = loadScriptAsync('https://cdn.jsdelivr.net/npm/3dmol@latest/build/3Dmol-min.min.js');\n}\n\nvar viewer_16697477026701062 = null;\nvar warn = document.getElementById(\"3dmolwarning_16697477026701062\");\nif(warn) {\n    warn.parentNode.removeChild(warn);\n}\n$3Dmolpromise.then(function() {\nviewer_16697477026701062 = $3Dmol.createViewer($(\"#3dmolviewer_16697477026701062\"),{backgroundColor:\"white\"});\nviewer_16697477026701062.zoomTo();\n\tviewer_16697477026701062.addModel(\"@<TRIPOS>MOLECULE\\ntmp.mol2\\n    36    35     1     0     0\\nSMALL\\nNoCharges\\n****\\nGenerated from Architector\\n\\n@<TRIPOS>ATOM\\n     1 O1        1.3952    3.0906    1.8055   O.2       1 RES1   0.0000\\n     2 C1        1.1012    2.1903    0.9275   C.3       1 RES1   0.0000\\n     3 O2       -0.0162    1.9937    0.4733   O.2       1 RES1   0.0000\\n     4 C2        2.2990    1.4092    0.4205   C.3       1 RES1   0.0000\\n     5 N1        1.9116    0.0459    0.0500   N.3       1 RES1   0.0000\\n     6 C3        2.2963   -0.3049   -1.3228   C.3       1 RES1   0.0000\\n     7 C4        1.3179    0.3098   -2.3351   C.3       1 RES1   0.0000\\n     8 N2       -0.0657   -0.0457   -2.0046   N.3       1 RES1   0.0000\\n     9 C5       -0.4387   -1.4002   -2.4277   C.3       1 RES1   0.0000\\n    10 C6       -0.7310   -2.2630   -1.2085   C.3       1 RES1   0.0000\\n    11 O3       -1.5049   -3.2967   -1.3213   O.2       1 RES1   0.0000\\n    12 O4       -0.2024   -1.9988   -0.1450   O.2       1 RES1   0.0000\\n    13 C7       -1.0510    0.9471   -2.4295   C.3       1 RES1   0.0000\\n    14 C8       -2.2077    0.9622   -1.4358   C.3       1 RES1   0.0000\\n    15 O5       -3.1631    1.8297   -1.5811   O.2       1 RES1   0.0000\\n    16 O6       -2.2128    0.1797   -0.5088   O.2       1 RES1   0.0000\\n    17 C9        2.3662   -0.9285    1.0459   C.3       1 RES1   0.0000\\n    18 C10       1.3863   -0.9736    2.2100   C.3       1 RES1   0.0000\\n    19 O7        1.6091   -1.7806    3.2017   O.2       1 RES1   0.0000\\n    20 O8        0.3978   -0.2661    2.2010   O.2       1 RES1   0.0000\\n    21 H1        0.6422    3.6199    2.1370   H         1 RES1   0.0000\\n    22 H2        3.0897    1.4390    1.1781   H         1 RES1   0.0000\\n    23 H3        2.6706    1.9601   -0.4526   H         1 RES1   0.0000\\n    24 H4        2.2679   -1.3926   -1.4225   H         1 RES1   0.0000\\n    25 H5        3.3159    0.0313   -1.5562   H         1 RES1   0.0000\\n    26 H6        1.5892   -0.0209   -3.3474   H         1 RES1   0.0000\\n    27 H7        1.4098    1.3981   -2.3066   H         1 RES1   0.0000\\n    28 H8        0.3917   -1.8744   -2.9709   H         1 RES1   0.0000\\n    29 H9       -1.3073   -1.3878   -3.0971   H         1 RES1   0.0000\\n    30 H10      -1.9185   -3.4678   -2.1824   H         1 RES1   0.0000\\n    31 H11      -1.4222    0.7598   -3.4514   H         1 RES1   0.0000\\n    32 H12      -0.5972    1.9436   -2.4129   H         1 RES1   0.0000\\n    33 H13      -3.1108    2.4380   -2.3376   H         1 RES1   0.0000\\n    34 H14       3.3846   -0.7056    1.4071   H         1 RES1   0.0000\\n    35 H15       2.3679   -1.9299    0.6021   H         1 RES1   0.0000\\n    36 H16       2.4070   -2.3333    3.1654   H         1 RES1   0.0000\\n@<TRIPOS>BOND\\n     1     1     2    1\\n     2     1    21    1\\n     3     2     3    1\\n     4     2     4    1\\n     5     4     5    1\\n     6     4    22    1\\n     7     4    23    1\\n     8     5     6    1\\n     9     5    17    1\\n    10     6     7    1\\n    11     6    24    1\\n    12     6    25    1\\n    13     7     8    1\\n    14     7    26    1\\n    15     7    27    1\\n    16     8     9    1\\n    17     8    13    1\\n    18     9    10    1\\n    19     9    28    1\\n    20     9    29    1\\n    21    10    11    1\\n    22    10    12    1\\n    23    11    30    1\\n    24    13    14    1\\n    25    13    31    1\\n    26    13    32    1\\n    27    14    15    1\\n    28    14    16    1\\n    29    15    33    1\\n    30    17    18    1\\n    31    17    34    1\\n    32    17    35    1\\n    33    18    19    1\\n    34    18    20    1\\n    35    19    36    1\\n@<TRIPOS>SUBSTRUCTURE\\n     1 RES1       36 GROUP             0 ****  ****    0  \\n\",\"mol2\");\n\tviewer_16697477026701062.setStyle({\"stick\": {\"colorscheme\": \"Jmol\"}});\n\tviewer_16697477026701062.zoomTo();\nviewer_16697477026701062.render();\n});\n</script>",
      "text/html": [
       "<div id=\"3dmolviewer_16697477026701062\"  style=\"position: relative; width: 200px; height: 200px\">\n",
       "        <p id=\"3dmolwarning_16697477026701062\" style=\"background-color:#ffcccc;color:black\">You appear to be running in JupyterLab (or JavaScript failed to load for some other reason).  You need to install the 3dmol extension: <br>\n",
       "        <tt>jupyter labextension install jupyterlab_3dmol</tt></p>\n",
       "        </div>\n",
       "<script>\n",
       "\n",
       "var loadScriptAsync = function(uri){\n",
       "  return new Promise((resolve, reject) => {\n",
       "    var tag = document.createElement('script');\n",
       "    tag.src = uri;\n",
       "    tag.async = true;\n",
       "    tag.onload = () => {\n",
       "      resolve();\n",
       "    };\n",
       "  var firstScriptTag = document.getElementsByTagName('script')[0];\n",
       "  firstScriptTag.parentNode.insertBefore(tag, firstScriptTag);\n",
       "});\n",
       "};\n",
       "\n",
       "if(typeof $3Dmolpromise === 'undefined') {\n",
       "$3Dmolpromise = null;\n",
       "  $3Dmolpromise = loadScriptAsync('https://cdn.jsdelivr.net/npm/3dmol@latest/build/3Dmol-min.min.js');\n",
       "}\n",
       "\n",
       "var viewer_16697477026701062 = null;\n",
       "var warn = document.getElementById(\"3dmolwarning_16697477026701062\");\n",
       "if(warn) {\n",
       "    warn.parentNode.removeChild(warn);\n",
       "}\n",
       "$3Dmolpromise.then(function() {\n",
       "viewer_16697477026701062 = $3Dmol.createViewer($(\"#3dmolviewer_16697477026701062\"),{backgroundColor:\"white\"});\n",
       "viewer_16697477026701062.zoomTo();\n",
       "\tviewer_16697477026701062.addModel(\"@<TRIPOS>MOLECULE\\ntmp.mol2\\n    36    35     1     0     0\\nSMALL\\nNoCharges\\n****\\nGenerated from Architector\\n\\n@<TRIPOS>ATOM\\n     1 O1        1.3952    3.0906    1.8055   O.2       1 RES1   0.0000\\n     2 C1        1.1012    2.1903    0.9275   C.3       1 RES1   0.0000\\n     3 O2       -0.0162    1.9937    0.4733   O.2       1 RES1   0.0000\\n     4 C2        2.2990    1.4092    0.4205   C.3       1 RES1   0.0000\\n     5 N1        1.9116    0.0459    0.0500   N.3       1 RES1   0.0000\\n     6 C3        2.2963   -0.3049   -1.3228   C.3       1 RES1   0.0000\\n     7 C4        1.3179    0.3098   -2.3351   C.3       1 RES1   0.0000\\n     8 N2       -0.0657   -0.0457   -2.0046   N.3       1 RES1   0.0000\\n     9 C5       -0.4387   -1.4002   -2.4277   C.3       1 RES1   0.0000\\n    10 C6       -0.7310   -2.2630   -1.2085   C.3       1 RES1   0.0000\\n    11 O3       -1.5049   -3.2967   -1.3213   O.2       1 RES1   0.0000\\n    12 O4       -0.2024   -1.9988   -0.1450   O.2       1 RES1   0.0000\\n    13 C7       -1.0510    0.9471   -2.4295   C.3       1 RES1   0.0000\\n    14 C8       -2.2077    0.9622   -1.4358   C.3       1 RES1   0.0000\\n    15 O5       -3.1631    1.8297   -1.5811   O.2       1 RES1   0.0000\\n    16 O6       -2.2128    0.1797   -0.5088   O.2       1 RES1   0.0000\\n    17 C9        2.3662   -0.9285    1.0459   C.3       1 RES1   0.0000\\n    18 C10       1.3863   -0.9736    2.2100   C.3       1 RES1   0.0000\\n    19 O7        1.6091   -1.7806    3.2017   O.2       1 RES1   0.0000\\n    20 O8        0.3978   -0.2661    2.2010   O.2       1 RES1   0.0000\\n    21 H1        0.6422    3.6199    2.1370   H         1 RES1   0.0000\\n    22 H2        3.0897    1.4390    1.1781   H         1 RES1   0.0000\\n    23 H3        2.6706    1.9601   -0.4526   H         1 RES1   0.0000\\n    24 H4        2.2679   -1.3926   -1.4225   H         1 RES1   0.0000\\n    25 H5        3.3159    0.0313   -1.5562   H         1 RES1   0.0000\\n    26 H6        1.5892   -0.0209   -3.3474   H         1 RES1   0.0000\\n    27 H7        1.4098    1.3981   -2.3066   H         1 RES1   0.0000\\n    28 H8        0.3917   -1.8744   -2.9709   H         1 RES1   0.0000\\n    29 H9       -1.3073   -1.3878   -3.0971   H         1 RES1   0.0000\\n    30 H10      -1.9185   -3.4678   -2.1824   H         1 RES1   0.0000\\n    31 H11      -1.4222    0.7598   -3.4514   H         1 RES1   0.0000\\n    32 H12      -0.5972    1.9436   -2.4129   H         1 RES1   0.0000\\n    33 H13      -3.1108    2.4380   -2.3376   H         1 RES1   0.0000\\n    34 H14       3.3846   -0.7056    1.4071   H         1 RES1   0.0000\\n    35 H15       2.3679   -1.9299    0.6021   H         1 RES1   0.0000\\n    36 H16       2.4070   -2.3333    3.1654   H         1 RES1   0.0000\\n@<TRIPOS>BOND\\n     1     1     2    1\\n     2     1    21    1\\n     3     2     3    1\\n     4     2     4    1\\n     5     4     5    1\\n     6     4    22    1\\n     7     4    23    1\\n     8     5     6    1\\n     9     5    17    1\\n    10     6     7    1\\n    11     6    24    1\\n    12     6    25    1\\n    13     7     8    1\\n    14     7    26    1\\n    15     7    27    1\\n    16     8     9    1\\n    17     8    13    1\\n    18     9    10    1\\n    19     9    28    1\\n    20     9    29    1\\n    21    10    11    1\\n    22    10    12    1\\n    23    11    30    1\\n    24    13    14    1\\n    25    13    31    1\\n    26    13    32    1\\n    27    14    15    1\\n    28    14    16    1\\n    29    15    33    1\\n    30    17    18    1\\n    31    17    34    1\\n    32    17    35    1\\n    33    18    19    1\\n    34    18    20    1\\n    35    19    36    1\\n@<TRIPOS>SUBSTRUCTURE\\n     1 RES1       36 GROUP             0 ****  ****    0  \\n\",\"mol2\");\n",
       "\tviewer_16697477026701062.setStyle({\"stick\": {\"colorscheme\": \"Jmol\"}});\n",
       "\tviewer_16697477026701062.zoomTo();\n",
       "viewer_16697477026701062.render();\n",
       "});\n",
       "</script>"
      ]
     },
     "metadata": {},
     "output_type": "display_data"
    }
   ],
   "source": [
    "view_structures(lig_atoms) # View ligand with metal removed."
   ]
  },
  {
   "cell_type": "markdown",
   "id": "1bc40263",
   "metadata": {},
   "source": [
    "Looks good! \n",
    "\n",
    "### Since we have removed the metal center, the charge and spin state of isolated ligand will be different and a new calculator will be needed. \n",
    "\n",
    "For this we import an additional utility for assigning a new ASE/XTB calculator:"
   ]
  },
  {
   "cell_type": "code",
   "execution_count": 11,
   "id": "ab225e71",
   "metadata": {},
   "outputs": [],
   "source": [
    "from architector.io_xtb_calc import set_XTB_calc_lig # Import xtb calculator setting"
   ]
  },
  {
   "cell_type": "markdown",
   "id": "a073e8f0",
   "metadata": {},
   "source": [
    "Now we can set the [GFN2-xTB](https://pubs.acs.org/doi/10.1021/acs.jctc.8b01176) method level of theory to the lig_atoms."
   ]
  },
  {
   "cell_type": "code",
   "execution_count": 12,
   "id": "1106bd9e",
   "metadata": {},
   "outputs": [],
   "source": [
    "set_XTB_calc_lig(lig_atoms,method='GFN2-xTB') #Assigns a the correct spin/charge and calculator to the lig_atoms"
   ]
  },
  {
   "cell_type": "markdown",
   "id": "ea8fc4d6",
   "metadata": {},
   "source": [
    "Making evalulation of the energy quite quick:"
   ]
  },
  {
   "cell_type": "code",
   "execution_count": 13,
   "id": "74425bc3",
   "metadata": {},
   "outputs": [
    {
     "name": "stdout",
     "output_type": "stream",
     "text": [
      "Ligand energy (eV): -1847.7613375383903\n"
     ]
    }
   ],
   "source": [
    "lig_energy = lig_atoms.get_total_energy()\n",
    "print('Ligand energy (eV):',lig_energy)"
   ]
  },
  {
   "cell_type": "markdown",
   "id": "82c9f6b6",
   "metadata": {},
   "source": [
    "# For (C), we have developed a wrapper for the CREST utility to sample configurations of the EDTA without the metal!\n",
    "\n",
    "Here we add just one more import:"
   ]
  },
  {
   "cell_type": "code",
   "execution_count": 14,
   "id": "cba5144c",
   "metadata": {},
   "outputs": [],
   "source": [
    "from architector.io_crest import (crest_conformers_lig,obmol_xtb_conformers)"
   ]
  },
  {
   "cell_type": "markdown",
   "id": "c5bb4f14",
   "metadata": {},
   "source": [
    "Now, running crest is just one line. \n",
    "\n",
    "## NOTE THAT SOMETIMES this block fails due to CREST. Sometimes re-running the tutorial can fix the problem."
   ]
  },
  {
   "cell_type": "code",
   "execution_count": 15,
   "id": "72888b5c",
   "metadata": {},
   "outputs": [],
   "source": [
    "# Slowest block in any tutorial! - likely minutes at a time depending on your CPU\n",
    "ligand_conformers, xtb_energies = crest_conformers_lig(edta_smiles,\n",
    "                                                  ase_atoms=edta_atoms)"
   ]
  },
  {
   "cell_type": "markdown",
   "id": "957822df",
   "metadata": {},
   "source": [
    "# Using the obmol conformer routine can be more stable and fast for isolated ligands! "
   ]
  },
  {
   "cell_type": "code",
   "execution_count": 16,
   "id": "8b0dbf9a",
   "metadata": {
    "scrolled": true
   },
   "outputs": [],
   "source": [
    "# Slowest block in any tutorial! - likely minutes at a time depending on your CPU\n",
    "# ligand_conformers, xtb_energies = obmol_xtb_conformers(edta_smiles,total_confs=100)"
   ]
  },
  {
   "cell_type": "markdown",
   "id": "d16a3da7",
   "metadata": {},
   "source": [
    "Once this finished (which can be quite slow!) we should have a list of EDTA conformers (ligand_conformers)\n",
    "and their energies (xtb_energies). \n",
    "\n",
    "We can view what the lowest-energy conformers look like:"
   ]
  },
  {
   "cell_type": "code",
   "execution_count": 17,
   "id": "44c9491a",
   "metadata": {},
   "outputs": [
    {
     "data": {
      "application/3dmoljs_load.v0": "<div id=\"3dmolviewer_1669748825823456\"  style=\"position: relative; width: 800px; height: 600px\">\n        <p id=\"3dmolwarning_1669748825823456\" style=\"background-color:#ffcccc;color:black\">You appear to be running in JupyterLab (or JavaScript failed to load for some other reason).  You need to install the 3dmol extension: <br>\n        <tt>jupyter labextension install jupyterlab_3dmol</tt></p>\n        </div>\n<script>\n\nvar loadScriptAsync = function(uri){\n  return new Promise((resolve, reject) => {\n    var tag = document.createElement('script');\n    tag.src = uri;\n    tag.async = true;\n    tag.onload = () => {\n      resolve();\n    };\n  var firstScriptTag = document.getElementsByTagName('script')[0];\n  firstScriptTag.parentNode.insertBefore(tag, firstScriptTag);\n});\n};\n\nif(typeof $3Dmolpromise === 'undefined') {\n$3Dmolpromise = null;\n  $3Dmolpromise = loadScriptAsync('https://cdn.jsdelivr.net/npm/3dmol@latest/build/3Dmol-min.min.js');\n}\n\nvar viewer_1669748825823456 = null;\nvar warn = document.getElementById(\"3dmolwarning_1669748825823456\");\nif(warn) {\n    warn.parentNode.removeChild(warn);\n}\n$3Dmolpromise.then(function() {\nvar viewergrid_1669748825823456 = null;\nviewergrid_1669748825823456 = $3Dmol.createViewerGrid($(\"#3dmolviewer_1669748825823456\"),{rows: 3, cols: 4, control_all: false},{backgroundColor:\"white\"});\nviewer_1669748825823456 = viewergrid_1669748825823456[0][0];\nviewergrid_1669748825823456[0][0].zoomTo();viewergrid_1669748825823456[0][1].zoomTo();viewergrid_1669748825823456[0][2].zoomTo();viewergrid_1669748825823456[0][3].zoomTo();viewergrid_1669748825823456[1][0].zoomTo();viewergrid_1669748825823456[1][1].zoomTo();viewergrid_1669748825823456[1][2].zoomTo();viewergrid_1669748825823456[1][3].zoomTo();viewergrid_1669748825823456[2][0].zoomTo();viewergrid_1669748825823456[2][1].zoomTo();viewergrid_1669748825823456[2][2].zoomTo();viewergrid_1669748825823456[2][3].zoomTo();\tviewergrid_1669748825823456[0][0].addModel(\"@<TRIPOS>MOLECULE\\ntmp.mol2\\n    36    35     1     0     0\\nSMALL\\nNoCharges\\n****\\nGenerated from Architector\\n\\n@<TRIPOS>ATOM\\n     1 O1        3.8591    2.5387   -1.0536   O.2       1 RES1   0.0000\\n     2 C1        2.8618    1.9791   -0.3416   C.3       1 RES1   0.0000\\n     3 O2        2.5681    2.3353    0.7758   O.2       1 RES1   0.0000\\n     4 C2        2.1029    0.8734   -1.0007   C.3       1 RES1   0.0000\\n     5 N1        1.0846    0.2864   -0.0886   N.3       1 RES1   0.0000\\n     6 C3        0.0547    1.2776    0.3327   C.3       1 RES1   0.0000\\n     7 C4       -1.3127    0.6775    0.6240   C.3       1 RES1   0.0000\\n     8 N2       -2.0057    0.2348   -0.6261   N.3       1 RES1   0.0000\\n     9 C5       -3.2465    0.9886   -0.8713   C.3       1 RES1   0.0000\\n    10 C6       -4.2613    0.6631    0.1709   C.3       1 RES1   0.0000\\n    11 O3       -4.5401    1.6176    1.0799   O.2       1 RES1   0.0000\\n    12 O4       -4.7635   -0.4364    0.1818   O.2       1 RES1   0.0000\\n    13 C7       -2.1559   -1.2427   -0.7465   C.3       1 RES1   0.0000\\n    14 C8       -0.8406   -1.8872   -0.4881   C.3       1 RES1   0.0000\\n    15 O5       -0.0064   -2.0148   -1.5430   O.2       1 RES1   0.0000\\n    16 O6       -0.5495   -2.1813    0.6484   O.2       1 RES1   0.0000\\n    17 C9        1.6686   -0.4458    1.0551   C.3       1 RES1   0.0000\\n    18 C10       2.6828   -1.4595    0.6218   C.3       1 RES1   0.0000\\n    19 O7        3.7185   -1.6725    1.4567   O.2       1 RES1   0.0000\\n    20 O8        2.5586   -2.0491   -0.4259   O.2       1 RES1   0.0000\\n    21 H1        4.2639    3.2309   -0.4991   H         1 RES1   0.0000\\n    22 H2        1.6083    1.2383   -1.9017   H         1 RES1   0.0000\\n    23 H3        2.7901    0.0824   -1.3084   H         1 RES1   0.0000\\n    24 H4        0.4506    1.8268    1.1933   H         1 RES1   0.0000\\n    25 H5       -0.0506    2.0120   -0.4697   H         1 RES1   0.0000\\n    26 H6       -1.2215   -0.1790    1.2975   H         1 RES1   0.0000\\n    27 H7       -1.9529    1.4003    1.1403   H         1 RES1   0.0000\\n    28 H8       -3.0311    2.0580   -0.8704   H         1 RES1   0.0000\\n    29 H9       -3.6311    0.7284   -1.8585   H         1 RES1   0.0000\\n    30 H10      -5.2137    1.2571    1.6852   H         1 RES1   0.0000\\n    31 H11      -2.8977   -1.5840   -0.0202   H         1 RES1   0.0000\\n    32 H12      -2.5095   -1.4911   -1.7478   H         1 RES1   0.0000\\n    33 H13       0.8949   -2.1917   -1.1963   H         1 RES1   0.0000\\n    34 H14       2.1422    0.2718    1.7293   H         1 RES1   0.0000\\n    35 H15       0.8705   -0.9552    1.5976   H         1 RES1   0.0000\\n    36 H16       4.2827   -2.3584    1.0549   H         1 RES1   0.0000\\n@<TRIPOS>BOND\\n     1     1     2    1\\n     2     1    21    1\\n     3     2     3    1\\n     4     2     4    1\\n     5     4     5    1\\n     6     4    22    1\\n     7     4    23    1\\n     8     5     6    1\\n     9     5    17    1\\n    10     6     7    1\\n    11     6    24    1\\n    12     6    25    1\\n    13     7     8    1\\n    14     7    26    1\\n    15     7    27    1\\n    16     8     9    1\\n    17     8    13    1\\n    18     9    10    1\\n    19     9    28    1\\n    20     9    29    1\\n    21    10    11    1\\n    22    10    12    1\\n    23    11    30    1\\n    24    13    14    1\\n    25    13    31    1\\n    26    13    32    1\\n    27    14    15    1\\n    28    14    16    1\\n    29    15    33    1\\n    30    17    18    1\\n    31    17    34    1\\n    32    17    35    1\\n    33    18    19    1\\n    34    18    20    1\\n    35    19    36    1\\n@<TRIPOS>SUBSTRUCTURE\\n     1 RES1       36 GROUP             0 ****  ****    0  \\n\",\"mol2\");\n\tviewergrid_1669748825823456[0][0].setStyle({\"stick\": {\"colorscheme\": \"Jmol\"}});\n\tviewergrid_1669748825823456[0][0].zoomTo();\n\tviewergrid_1669748825823456[0][1].addModel(\"@<TRIPOS>MOLECULE\\ntmp.mol2\\n    36    35     1     0     0\\nSMALL\\nNoCharges\\n****\\nGenerated from Architector\\n\\n@<TRIPOS>ATOM\\n     1 O1        3.8569    2.5542   -1.0352   O.2       1 RES1   0.0000\\n     2 C1        2.8663    1.9811   -0.3248   C.3       1 RES1   0.0000\\n     3 O2        2.5802    2.3191    0.8002   O.2       1 RES1   0.0000\\n     4 C2        2.1048    0.8833   -0.9939   C.3       1 RES1   0.0000\\n     5 N1        1.0906    0.2856   -0.0842   N.3       1 RES1   0.0000\\n     6 C3        0.0582    1.2681    0.3496   C.3       1 RES1   0.0000\\n     7 C4       -1.3051    0.6561    0.6340   C.3       1 RES1   0.0000\\n     8 N2       -2.0077    0.2426   -0.6223   N.3       1 RES1   0.0000\\n     9 C5       -3.2588    1.0057   -0.8771   C.3       1 RES1   0.0000\\n    10 C6       -4.2343    0.7645    0.2229   C.3       1 RES1   0.0000\\n    11 O3       -5.1672   -0.1851    0.0180   O.2       1 RES1   0.0000\\n    12 O4       -4.1293    1.3886    1.2531   O.2       1 RES1   0.0000\\n    13 C7       -2.1591   -1.2204   -0.7362   C.3       1 RES1   0.0000\\n    14 C8       -0.8431   -1.8722   -0.4921   C.3       1 RES1   0.0000\\n    15 O5       -0.0156   -1.9888   -1.5537   O.2       1 RES1   0.0000\\n    16 O6       -0.5476   -2.1814    0.6393   O.2       1 RES1   0.0000\\n    17 C9        1.6803   -0.4558    1.0508   C.3       1 RES1   0.0000\\n    18 C10       2.6832   -1.4745    0.6031   C.3       1 RES1   0.0000\\n    19 O7        3.7097   -1.7192    1.4407   O.2       1 RES1   0.0000\\n    20 O8        2.5585   -2.0411   -0.4571   O.2       1 RES1   0.0000\\n    21 H1        4.2640    3.2388   -0.4731   H         1 RES1   0.0000\\n    22 H2        1.6064    1.2590   -1.8883   H         1 RES1   0.0000\\n    23 H3        2.7907    0.0960   -1.3138   H         1 RES1   0.0000\\n    24 H4        0.4524    1.8081    1.2169   H         1 RES1   0.0000\\n    25 H5       -0.0518    2.0117   -0.4437   H         1 RES1   0.0000\\n    26 H6       -1.2092   -0.2127    1.2906   H         1 RES1   0.0000\\n    27 H7       -1.9480    1.3643    1.1685   H         1 RES1   0.0000\\n    28 H8       -3.0239    2.0686   -0.9438   H         1 RES1   0.0000\\n    29 H9       -3.6826    0.6950   -1.8329   H         1 RES1   0.0000\\n    30 H10      -5.7205   -0.2311    0.8192   H         1 RES1   0.0000\\n    31 H11      -2.8942   -1.5672   -0.0074   H         1 RES1   0.0000\\n    32 H12      -2.5194   -1.4689   -1.7354   H         1 RES1   0.0000\\n    33 H13       0.8881   -2.1702   -1.2160   H         1 RES1   0.0000\\n    34 H14       2.1649    0.2560    1.7234   H         1 RES1   0.0000\\n    35 H15       0.8842   -0.9621    1.5991   H         1 RES1   0.0000\\n    36 H16       4.2671   -2.4048    1.0290   H         1 RES1   0.0000\\n@<TRIPOS>BOND\\n     1     1     2    1\\n     2     1    21    1\\n     3     2     3    1\\n     4     2     4    1\\n     5     4     5    1\\n     6     4    22    1\\n     7     4    23    1\\n     8     5     6    1\\n     9     5    17    1\\n    10     6     7    1\\n    11     6    24    1\\n    12     6    25    1\\n    13     7     8    1\\n    14     7    26    1\\n    15     7    27    1\\n    16     8     9    1\\n    17     8    13    1\\n    18     9    10    1\\n    19     9    28    1\\n    20     9    29    1\\n    21    10    11    1\\n    22    10    12    1\\n    23    11    30    1\\n    24    13    14    1\\n    25    13    31    1\\n    26    13    32    1\\n    27    14    15    1\\n    28    14    16    1\\n    29    15    33    1\\n    30    17    18    1\\n    31    17    34    1\\n    32    17    35    1\\n    33    18    19    1\\n    34    18    20    1\\n    35    19    36    1\\n@<TRIPOS>SUBSTRUCTURE\\n     1 RES1       36 GROUP             0 ****  ****    0  \\n\",\"mol2\");\n\tviewergrid_1669748825823456[0][1].setStyle({\"stick\": {\"colorscheme\": \"Jmol\"}});\n\tviewergrid_1669748825823456[0][1].zoomTo();\n\tviewergrid_1669748825823456[0][2].addModel(\"@<TRIPOS>MOLECULE\\ntmp.mol2\\n    36    35     1     0     0\\nSMALL\\nNoCharges\\n****\\nGenerated from Architector\\n\\n@<TRIPOS>ATOM\\n     1 O1        3.8702    2.5353   -1.0442   O.2       1 RES1   0.0000\\n     2 C1        2.8661    1.9808   -0.3378   C.3       1 RES1   0.0000\\n     3 O2        2.5696    2.3367    0.7789   O.2       1 RES1   0.0000\\n     4 C2        2.1032    0.8808   -1.0018   C.3       1 RES1   0.0000\\n     5 N1        1.0907    0.2858   -0.0882   N.3       1 RES1   0.0000\\n     6 C3        0.0571    1.2695    0.3407   C.3       1 RES1   0.0000\\n     7 C4       -1.3060    0.6602    0.6344   C.3       1 RES1   0.0000\\n     8 N2       -2.0068    0.2304   -0.6163   N.3       1 RES1   0.0000\\n     9 C5       -3.2622    0.9836   -0.8825   C.3       1 RES1   0.0000\\n    10 C6       -4.2799    0.6670    0.1588   C.3       1 RES1   0.0000\\n    11 O3       -4.5918    1.6421    1.0346   O.2       1 RES1   0.0000\\n    12 O4       -4.7571   -0.4429    0.1987   O.2       1 RES1   0.0000\\n    13 C7       -2.1533   -1.2343   -0.7117   C.3       1 RES1   0.0000\\n    14 C8       -0.8347   -1.8809   -0.4716   C.3       1 RES1   0.0000\\n    15 O5       -0.0120   -1.9995   -1.5365   O.2       1 RES1   0.0000\\n    16 O6       -0.5327   -2.1844    0.6595   O.2       1 RES1   0.0000\\n    17 C9        1.6837   -0.4473    1.0504   C.3       1 RES1   0.0000\\n    18 C10       2.6907   -1.4640    0.6074   C.3       1 RES1   0.0000\\n    19 O7        3.7211   -1.6971    1.4434   O.2       1 RES1   0.0000\\n    20 O8        2.5659   -2.0390   -0.4483   O.2       1 RES1   0.0000\\n    21 H1        4.2772    3.2235   -0.4865   H         1 RES1   0.0000\\n    22 H2        1.6032    1.2532   -1.8966   H         1 RES1   0.0000\\n    23 H3        2.7887    0.0924   -1.3201   H         1 RES1   0.0000\\n    24 H4        0.4532    1.8174    1.2019   H         1 RES1   0.0000\\n    25 H5       -0.0556    2.0062   -0.4586   H         1 RES1   0.0000\\n    26 H6       -1.2078   -0.2000    1.3020   H         1 RES1   0.0000\\n    27 H7       -1.9470    1.3764    1.1588   H         1 RES1   0.0000\\n    28 H8       -3.0492    2.0532   -0.8919   H         1 RES1   0.0000\\n    29 H9       -3.6393    0.7092   -1.8685   H         1 RES1   0.0000\\n    30 H10      -5.2634    1.2844    1.6438   H         1 RES1   0.0000\\n    31 H11      -2.8830   -1.5684    0.0305   H         1 RES1   0.0000\\n    32 H12      -2.5255   -1.4964   -1.7030   H         1 RES1   0.0000\\n    33 H13       0.8935   -2.1779   -1.2017   H         1 RES1   0.0000\\n    34 H14       2.1657    0.2697    1.7193   H         1 RES1   0.0000\\n    35 H15       0.8899   -0.9541    1.6014   H         1 RES1   0.0000\\n    36 H16       4.2805   -2.3829    1.0348   H         1 RES1   0.0000\\n@<TRIPOS>BOND\\n     1     1     2    1\\n     2     1    21    1\\n     3     2     3    1\\n     4     2     4    1\\n     5     4     5    1\\n     6     4    22    1\\n     7     4    23    1\\n     8     5     6    1\\n     9     5    17    1\\n    10     6     7    1\\n    11     6    24    1\\n    12     6    25    1\\n    13     7     8    1\\n    14     7    26    1\\n    15     7    27    1\\n    16     8     9    1\\n    17     8    13    1\\n    18     9    10    1\\n    19     9    28    1\\n    20     9    29    1\\n    21    10    11    1\\n    22    10    12    1\\n    23    11    30    1\\n    24    13    14    1\\n    25    13    31    1\\n    26    13    32    1\\n    27    14    15    1\\n    28    14    16    1\\n    29    15    33    1\\n    30    17    18    1\\n    31    17    34    1\\n    32    17    35    1\\n    33    18    19    1\\n    34    18    20    1\\n    35    19    36    1\\n@<TRIPOS>SUBSTRUCTURE\\n     1 RES1       36 GROUP             0 ****  ****    0  \\n\",\"mol2\");\n\tviewergrid_1669748825823456[0][2].setStyle({\"stick\": {\"colorscheme\": \"Jmol\"}});\n\tviewergrid_1669748825823456[0][2].zoomTo();\n\tviewergrid_1669748825823456[0][3].addModel(\"@<TRIPOS>MOLECULE\\ntmp.mol2\\n    36    35     1     0     0\\nSMALL\\nNoCharges\\n****\\nGenerated from Architector\\n\\n@<TRIPOS>ATOM\\n     1 O1        3.8976    2.5263   -1.0165   O.2       1 RES1   0.0000\\n     2 C1        2.8836    1.9752   -0.3218   C.3       1 RES1   0.0000\\n     3 O2        2.5738    2.3335    0.7906   O.2       1 RES1   0.0000\\n     4 C2        2.1265    0.8758   -0.9931   C.3       1 RES1   0.0000\\n     5 N1        1.0849    0.3019   -0.0994   N.3       1 RES1   0.0000\\n     6 C3        0.0487    1.2775    0.3346   C.3       1 RES1   0.0000\\n     7 C4       -1.3114    0.6611    0.6255   C.3       1 RES1   0.0000\\n     8 N2       -2.0167    0.2389   -0.6262   N.3       1 RES1   0.0000\\n     9 C5       -3.2738    0.9931   -0.8786   C.3       1 RES1   0.0000\\n    10 C6       -4.2400    0.7547    0.2301   C.3       1 RES1   0.0000\\n    11 O3       -5.1551   -0.2167    0.0474   O.2       1 RES1   0.0000\\n    12 O4       -4.1429    1.3999    1.2479   O.2       1 RES1   0.0000\\n    13 C7       -2.1605   -1.2253   -0.7347   C.3       1 RES1   0.0000\\n    14 C8       -0.8408   -1.8692   -0.4916   C.3       1 RES1   0.0000\\n    15 O5       -0.0173   -1.9893   -1.5559   O.2       1 RES1   0.0000\\n    16 O6       -0.5390   -2.1698    0.6405   O.2       1 RES1   0.0000\\n    17 C9        1.6804   -0.4334    1.0393   C.3       1 RES1   0.0000\\n    18 C10       2.6748   -1.4648    0.6005   C.3       1 RES1   0.0000\\n    19 O7        3.6865   -1.7264    1.4508   O.2       1 RES1   0.0000\\n    20 O8        2.5570   -2.0262   -0.4632   O.2       1 RES1   0.0000\\n    21 H1        4.2982    3.2156   -0.4554   H         1 RES1   0.0000\\n    22 H2        1.6497    1.2470   -1.9011   H         1 RES1   0.0000\\n    23 H3        2.8110    0.0788   -1.2914   H         1 RES1   0.0000\\n    24 H4        0.4427    1.8232    1.1983   H         1 RES1   0.0000\\n    25 H5       -0.0659    2.0169   -0.4620   H         1 RES1   0.0000\\n    26 H6       -1.2107   -0.2038    1.2866   H         1 RES1   0.0000\\n    27 H7       -1.9553    1.3702    1.1578   H         1 RES1   0.0000\\n    28 H8       -3.0453    2.0568   -0.9550   H         1 RES1   0.0000\\n    29 H9       -3.7026    0.6726   -1.8288   H         1 RES1   0.0000\\n    30 H10      -5.7043   -0.2576    0.8516   H         1 RES1   0.0000\\n    31 H11      -2.8921   -1.5734   -0.0028   H         1 RES1   0.0000\\n    32 H12      -2.5217   -1.4792   -1.7322   H         1 RES1   0.0000\\n    33 H13       0.8880   -2.1656   -1.2196   H         1 RES1   0.0000\\n    34 H14       2.1721    0.2821    1.7029   H         1 RES1   0.0000\\n    35 H15       0.8848   -0.9291    1.5979   H         1 RES1   0.0000\\n    36 H16       4.2395   -2.4186    1.0443   H         1 RES1   0.0000\\n@<TRIPOS>BOND\\n     1     1     2    1\\n     2     1    21    1\\n     3     2     3    1\\n     4     2     4    1\\n     5     4     5    1\\n     6     4    22    1\\n     7     4    23    1\\n     8     5     6    1\\n     9     5    17    1\\n    10     6     7    1\\n    11     6    24    1\\n    12     6    25    1\\n    13     7     8    1\\n    14     7    26    1\\n    15     7    27    1\\n    16     8     9    1\\n    17     8    13    1\\n    18     9    10    1\\n    19     9    28    1\\n    20     9    29    1\\n    21    10    11    1\\n    22    10    12    1\\n    23    11    30    1\\n    24    13    14    1\\n    25    13    31    1\\n    26    13    32    1\\n    27    14    15    1\\n    28    14    16    1\\n    29    15    33    1\\n    30    17    18    1\\n    31    17    34    1\\n    32    17    35    1\\n    33    18    19    1\\n    34    18    20    1\\n    35    19    36    1\\n@<TRIPOS>SUBSTRUCTURE\\n     1 RES1       36 GROUP             0 ****  ****    0  \\n\",\"mol2\");\n\tviewergrid_1669748825823456[0][3].setStyle({\"stick\": {\"colorscheme\": \"Jmol\"}});\n\tviewergrid_1669748825823456[0][3].zoomTo();\n\tviewergrid_1669748825823456[1][0].addModel(\"@<TRIPOS>MOLECULE\\ntmp.mol2\\n    36    35     1     0     0\\nSMALL\\nNoCharges\\n****\\nGenerated from Architector\\n\\n@<TRIPOS>ATOM\\n     1 O1        3.8858    2.5309   -1.0415   O.2       1 RES1   0.0000\\n     2 C1        2.8828    1.9737   -0.3357   C.3       1 RES1   0.0000\\n     3 O2        2.5825    2.3306    0.7797   O.2       1 RES1   0.0000\\n     4 C2        2.1262    0.8690   -0.9989   C.3       1 RES1   0.0000\\n     5 N1        1.0868    0.2991   -0.0996   N.3       1 RES1   0.0000\\n     6 C3        0.0517    1.2781    0.3307   C.3       1 RES1   0.0000\\n     7 C4       -1.3094    0.6664    0.6293   C.3       1 RES1   0.0000\\n     8 N2       -2.0129    0.2320   -0.6184   N.3       1 RES1   0.0000\\n     9 C5       -3.2719    0.9802   -0.8811   C.3       1 RES1   0.0000\\n    10 C6       -4.2860    0.6566    0.1616   C.3       1 RES1   0.0000\\n    11 O3       -4.5866    1.6219    1.0519   O.2       1 RES1   0.0000\\n    12 O4       -4.7698   -0.4509    0.1901   O.2       1 RES1   0.0000\\n    13 C7       -2.1562   -1.2333   -0.7091   C.3       1 RES1   0.0000\\n    14 C8       -0.8358   -1.8762   -0.4701   C.3       1 RES1   0.0000\\n    15 O5       -0.0154   -1.9985   -1.5364   O.2       1 RES1   0.0000\\n    16 O6       -0.5298   -2.1740    0.6615   O.2       1 RES1   0.0000\\n    17 C9        1.6850   -0.4297    1.0415   C.3       1 RES1   0.0000\\n    18 C10       2.6849   -1.4573    0.6062   C.3       1 RES1   0.0000\\n    19 O7        3.7069   -1.6985    1.4502   O.2       1 RES1   0.0000\\n    20 O8        2.5617   -2.0324   -0.4496   O.2       1 RES1   0.0000\\n    21 H1        4.2889    3.2220   -0.4845   H         1 RES1   0.0000\\n    22 H2        1.6477    1.2336   -1.9087   H         1 RES1   0.0000\\n    23 H3        2.8111    0.0710   -1.2934   H         1 RES1   0.0000\\n    24 H4        0.4487    1.8291    1.1895   H         1 RES1   0.0000\\n    25 H5       -0.0638    2.0122   -0.4706   H         1 RES1   0.0000\\n    26 H6       -1.2077   -0.1918    1.2989   H         1 RES1   0.0000\\n    27 H7       -1.9505    1.3827    1.1536   H         1 RES1   0.0000\\n    28 H8       -3.0641    2.0508   -0.8888   H         1 RES1   0.0000\\n    29 H9       -3.6494    0.7060   -1.8669   H         1 RES1   0.0000\\n    30 H10      -5.2566    1.2599    1.6604   H         1 RES1   0.0000\\n    31 H11      -2.8834   -1.5671    0.0357   H         1 RES1   0.0000\\n    32 H12      -2.5304   -1.4991   -1.6987   H         1 RES1   0.0000\\n    33 H13       0.8905   -2.1750   -1.2021   H         1 RES1   0.0000\\n    34 H14       2.1728    0.2900    1.7034   H         1 RES1   0.0000\\n    35 H15       0.8912   -0.9279    1.6005   H         1 RES1   0.0000\\n    36 H16       4.2628   -2.3907    1.0477   H         1 RES1   0.0000\\n@<TRIPOS>BOND\\n     1     1     2    1\\n     2     1    21    1\\n     3     2     3    1\\n     4     2     4    1\\n     5     4     5    1\\n     6     4    22    1\\n     7     4    23    1\\n     8     5     6    1\\n     9     5    17    1\\n    10     6     7    1\\n    11     6    24    1\\n    12     6    25    1\\n    13     7     8    1\\n    14     7    26    1\\n    15     7    27    1\\n    16     8     9    1\\n    17     8    13    1\\n    18     9    10    1\\n    19     9    28    1\\n    20     9    29    1\\n    21    10    11    1\\n    22    10    12    1\\n    23    11    30    1\\n    24    13    14    1\\n    25    13    31    1\\n    26    13    32    1\\n    27    14    15    1\\n    28    14    16    1\\n    29    15    33    1\\n    30    17    18    1\\n    31    17    34    1\\n    32    17    35    1\\n    33    18    19    1\\n    34    18    20    1\\n    35    19    36    1\\n@<TRIPOS>SUBSTRUCTURE\\n     1 RES1       36 GROUP             0 ****  ****    0  \\n\",\"mol2\");\n\tviewergrid_1669748825823456[1][0].setStyle({\"stick\": {\"colorscheme\": \"Jmol\"}});\n\tviewergrid_1669748825823456[1][0].zoomTo();\n\tviewergrid_1669748825823456[1][1].addModel(\"@<TRIPOS>MOLECULE\\ntmp.mol2\\n    36    35     1     0     0\\nSMALL\\nNoCharges\\n****\\nGenerated from Architector\\n\\n@<TRIPOS>ATOM\\n     1 O1        3.9356    2.4800   -1.0022   O.2       1 RES1   0.0000\\n     2 C1        2.8877    1.9700   -0.3266   C.3       1 RES1   0.0000\\n     3 O2        2.5575    2.3572    0.7701   O.2       1 RES1   0.0000\\n     4 C2        2.1181    0.8804   -1.0000   C.3       1 RES1   0.0000\\n     5 N1        1.0827    0.3034   -0.1005   N.3       1 RES1   0.0000\\n     6 C3        0.0460    1.2772    0.3375   C.3       1 RES1   0.0000\\n     7 C4       -1.3125    0.6600    0.6363   C.3       1 RES1   0.0000\\n     8 N2       -2.0154    0.2265   -0.6118   N.3       1 RES1   0.0000\\n     9 C5       -3.2709    0.9789   -0.8792   C.3       1 RES1   0.0000\\n    10 C6       -4.2910    0.6589    0.1587   C.3       1 RES1   0.0000\\n    11 O3       -4.6063    1.6319    1.0356   O.2       1 RES1   0.0000\\n    12 O4       -4.7675   -0.4514    0.1950   O.2       1 RES1   0.0000\\n    13 C7       -2.1610   -1.2385   -0.7023   C.3       1 RES1   0.0000\\n    14 C8       -0.8404   -1.8822   -0.4650   C.3       1 RES1   0.0000\\n    15 O5       -0.0232   -2.0062   -1.5336   O.2       1 RES1   0.0000\\n    16 O6       -0.5320   -2.1783    0.6663   O.2       1 RES1   0.0000\\n    17 C9        1.6860   -0.4299    1.0348   C.3       1 RES1   0.0000\\n    18 C10       2.6918   -1.4479    0.5911   C.3       1 RES1   0.0000\\n    19 O7        3.7324   -1.6679    1.4179   O.2       1 RES1   0.0000\\n    20 O8        2.5575   -2.0339   -0.4573   O.2       1 RES1   0.0000\\n    21 H1        4.3398    3.1679   -0.4421   H         1 RES1   0.0000\\n    22 H2        1.6343    1.2617   -1.9000   H         1 RES1   0.0000\\n    23 H3        2.7956    0.0827   -1.3120   H         1 RES1   0.0000\\n    24 H4        0.4435    1.8253    1.1979   H         1 RES1   0.0000\\n    25 H5       -0.0734    2.0148   -0.4600   H         1 RES1   0.0000\\n    26 H6       -1.2066   -0.1995    1.3036   H         1 RES1   0.0000\\n    27 H7       -1.9558    1.3722    1.1633   H         1 RES1   0.0000\\n    28 H8       -3.0592    2.0488   -0.8853   H         1 RES1   0.0000\\n    29 H9       -3.6450    0.7068   -1.8668   H         1 RES1   0.0000\\n    30 H10      -5.2789    1.2717    1.6423   H         1 RES1   0.0000\\n    31 H11      -2.8878   -1.5713    0.0433   H         1 RES1   0.0000\\n    32 H12      -2.5363   -1.5037   -1.6916   H         1 RES1   0.0000\\n    33 H13       0.8843   -2.1807   -1.2025   H         1 RES1   0.0000\\n    34 H14       2.1702    0.2878    1.7014   H         1 RES1   0.0000\\n    35 H15       0.8959   -0.9368    1.5911   H         1 RES1   0.0000\\n    36 H16       4.2902   -2.3558    1.0107   H         1 RES1   0.0000\\n@<TRIPOS>BOND\\n     1     1     2    1\\n     2     1    21    1\\n     3     2     3    1\\n     4     2     4    1\\n     5     4     5    1\\n     6     4    22    1\\n     7     4    23    1\\n     8     5     6    1\\n     9     5    17    1\\n    10     6     7    1\\n    11     6    24    1\\n    12     6    25    1\\n    13     7     8    1\\n    14     7    26    1\\n    15     7    27    1\\n    16     8     9    1\\n    17     8    13    1\\n    18     9    10    1\\n    19     9    28    1\\n    20     9    29    1\\n    21    10    11    1\\n    22    10    12    1\\n    23    11    30    1\\n    24    13    14    1\\n    25    13    31    1\\n    26    13    32    1\\n    27    14    15    1\\n    28    14    16    1\\n    29    15    33    1\\n    30    17    18    1\\n    31    17    34    1\\n    32    17    35    1\\n    33    18    19    1\\n    34    18    20    1\\n    35    19    36    1\\n@<TRIPOS>SUBSTRUCTURE\\n     1 RES1       36 GROUP             0 ****  ****    0  \\n\",\"mol2\");\n\tviewergrid_1669748825823456[1][1].setStyle({\"stick\": {\"colorscheme\": \"Jmol\"}});\n\tviewergrid_1669748825823456[1][1].zoomTo();\n\tviewergrid_1669748825823456[1][2].addModel(\"@<TRIPOS>MOLECULE\\ntmp.mol2\\n    36    35     1     0     0\\nSMALL\\nNoCharges\\n****\\nGenerated from Architector\\n\\n@<TRIPOS>ATOM\\n     1 O1        3.8346    2.5695   -1.0412   O.2       1 RES1   0.0000\\n     2 C1        2.8553    1.9856   -0.3238   C.3       1 RES1   0.0000\\n     3 O2        2.5746    2.3190    0.8039   O.2       1 RES1   0.0000\\n     4 C2        2.1000    0.8807   -0.9903   C.3       1 RES1   0.0000\\n     5 N1        1.0968    0.2842   -0.0921   N.3       1 RES1   0.0000\\n     6 C3        0.0609    1.2795    0.3012   C.3       1 RES1   0.0000\\n     7 C4       -1.2997    0.6743    0.6141   C.3       1 RES1   0.0000\\n     8 N2       -2.0096    0.2279   -0.6257   N.3       1 RES1   0.0000\\n     9 C5       -3.2667    0.9784   -0.8919   C.3       1 RES1   0.0000\\n    10 C6       -4.2787    0.6708    0.1576   C.3       1 RES1   0.0000\\n    11 O3       -4.5891    1.6551    1.0237   O.2       1 RES1   0.0000\\n    12 O4       -4.7530   -0.4398    0.2122   O.2       1 RES1   0.0000\\n    13 C7       -2.1568   -1.2376   -0.7006   C.3       1 RES1   0.0000\\n    14 C8       -0.8367   -1.8819   -0.4616   C.3       1 RES1   0.0000\\n    15 O5       -0.0169   -2.0049   -1.5282   O.2       1 RES1   0.0000\\n    16 O6       -0.5317   -2.1804    0.6700   O.2       1 RES1   0.0000\\n    17 C9        1.6965   -0.4618    1.0537   C.3       1 RES1   0.0000\\n    18 C10       2.7003   -1.4775    0.6041   C.3       1 RES1   0.0000\\n    19 O7        3.7358   -1.7113    1.4337   O.2       1 RES1   0.0000\\n    20 O8        2.5680   -2.0511   -0.4515   O.2       1 RES1   0.0000\\n    21 H1        4.2401    3.2565   -0.4808   H         1 RES1   0.0000\\n    22 H2        1.6050    1.2497   -1.8898   H         1 RES1   0.0000\\n    23 H3        2.7924    0.0967   -1.3053   H         1 RES1   0.0000\\n    24 H4        0.4556    1.8517    1.1473   H         1 RES1   0.0000\\n    25 H5       -0.0548    1.9922   -0.5191   H         1 RES1   0.0000\\n    26 H6       -1.1953   -0.1765    1.2927   H         1 RES1   0.0000\\n    27 H7       -1.9372    1.3974    1.1335   H         1 RES1   0.0000\\n    28 H8       -3.0540    2.0480   -0.9111   H         1 RES1   0.0000\\n    29 H9       -3.6486    0.6959   -1.8736   H         1 RES1   0.0000\\n    30 H10      -5.2567    1.3023    1.6401   H         1 RES1   0.0000\\n    31 H11      -2.8809   -1.5617    0.0514   H         1 RES1   0.0000\\n    32 H12      -2.5368   -1.5126   -1.6854   H         1 RES1   0.0000\\n    33 H13       0.8897   -2.1830   -1.1958   H         1 RES1   0.0000\\n    34 H14       2.1789    0.2531    1.7242   H         1 RES1   0.0000\\n    35 H15       0.9015   -0.9684    1.6028   H         1 RES1   0.0000\\n    36 H16       4.2927   -2.3971    1.0218   H         1 RES1   0.0000\\n@<TRIPOS>BOND\\n     1     1     2    1\\n     2     1    21    1\\n     3     2     3    1\\n     4     2     4    1\\n     5     4     5    1\\n     6     4    22    1\\n     7     4    23    1\\n     8     5     6    1\\n     9     5    17    1\\n    10     6     7    1\\n    11     6    24    1\\n    12     6    25    1\\n    13     7     8    1\\n    14     7    26    1\\n    15     7    27    1\\n    16     8     9    1\\n    17     8    13    1\\n    18     9    10    1\\n    19     9    28    1\\n    20     9    29    1\\n    21    10    11    1\\n    22    10    12    1\\n    23    11    30    1\\n    24    13    14    1\\n    25    13    31    1\\n    26    13    32    1\\n    27    14    15    1\\n    28    14    16    1\\n    29    15    33    1\\n    30    17    18    1\\n    31    17    34    1\\n    32    17    35    1\\n    33    18    19    1\\n    34    18    20    1\\n    35    19    36    1\\n@<TRIPOS>SUBSTRUCTURE\\n     1 RES1       36 GROUP             0 ****  ****    0  \\n\",\"mol2\");\n\tviewergrid_1669748825823456[1][2].setStyle({\"stick\": {\"colorscheme\": \"Jmol\"}});\n\tviewergrid_1669748825823456[1][2].zoomTo();\n\tviewergrid_1669748825823456[1][3].addModel(\"@<TRIPOS>MOLECULE\\ntmp.mol2\\n    36    35     1     0     0\\nSMALL\\nNoCharges\\n****\\nGenerated from Architector\\n\\n@<TRIPOS>ATOM\\n     1 O1        2.5476    3.0961   -0.7230   O.2       1 RES1   0.0000\\n     2 C1        1.8686    2.2016    0.0206   C.3       1 RES1   0.0000\\n     3 O2        1.8335    2.2384    1.2285   O.2       1 RES1   0.0000\\n     4 C2        1.1326    1.1314   -0.7184   C.3       1 RES1   0.0000\\n     5 N1        0.5335    0.1357    0.2130   N.3       1 RES1   0.0000\\n     6 C3       -0.4737    0.7194    1.1397   C.3       1 RES1   0.0000\\n     7 C4       -1.6284   -0.2023    1.5247   C.3       1 RES1   0.0000\\n     8 N2       -2.4563   -0.7583    0.4044   N.3       1 RES1   0.0000\\n     9 C5       -2.4571    0.0185   -0.8472   C.3       1 RES1   0.0000\\n    10 C6       -2.7280    1.4672   -0.6233   C.3       1 RES1   0.0000\\n    11 O3       -1.9019    2.3370   -1.2399   O.2       1 RES1   0.0000\\n    12 O4       -3.6384    1.8148    0.0910   O.2       1 RES1   0.0000\\n    13 C7       -2.2879   -2.2283    0.1993   C.3       1 RES1   0.0000\\n    14 C8       -0.8577   -2.4856   -0.1110   C.3       1 RES1   0.0000\\n    15 O5       -0.4517   -2.1335   -1.3503   O.2       1 RES1   0.0000\\n    16 O6       -0.1277   -2.8951    0.7622   O.2       1 RES1   0.0000\\n    17 C9        1.5733   -0.6321    0.9350   C.3       1 RES1   0.0000\\n    18 C10       2.5836   -1.2446    0.0132   C.3       1 RES1   0.0000\\n    19 O7        3.8392   -1.3608    0.4874   O.2       1 RES1   0.0000\\n    20 O8        2.2689   -1.6124   -1.0941   O.2       1 RES1   0.0000\\n    21 H1        2.9758    3.7229   -0.1114   H         1 RES1   0.0000\\n    22 H2        0.3414    1.5760   -1.3250   H         1 RES1   0.0000\\n    23 H3        1.8114    0.6121   -1.3981   H         1 RES1   0.0000\\n    24 H4        0.0567    1.0850    2.0253   H         1 RES1   0.0000\\n    25 H5       -0.8711    1.6186    0.6634   H         1 RES1   0.0000\\n    26 H6       -1.2470   -1.0456    2.1069   H         1 RES1   0.0000\\n    27 H7       -2.3235    0.3309    2.1821   H         1 RES1   0.0000\\n    28 H8       -1.4922   -0.1115   -1.3414   H         1 RES1   0.0000\\n    29 H9       -3.2219   -0.3908   -1.5089   H         1 RES1   0.0000\\n    30 H10      -2.2162    3.2357   -1.0313   H         1 RES1   0.0000\\n    31 H11      -2.5821   -2.7612    1.1044   H         1 RES1   0.0000\\n    32 H12      -2.9271   -2.5646   -0.6177   H         1 RES1   0.0000\\n    33 H13       0.5283   -2.1011   -1.3501   H         1 RES1   0.0000\\n    34 H14       2.0853    0.0367    1.6311   H         1 RES1   0.0000\\n    35 H15       1.0923   -1.4234    1.5124   H         1 RES1   0.0000\\n    36 H16       4.3774   -1.7824   -0.2075   H         1 RES1   0.0000\\n@<TRIPOS>BOND\\n     1     1     2    1\\n     2     1    21    1\\n     3     2     3    1\\n     4     2     4    1\\n     5     4     5    1\\n     6     4    22    1\\n     7     4    23    1\\n     8     5     6    1\\n     9     5    17    1\\n    10     6     7    1\\n    11     6    24    1\\n    12     6    25    1\\n    13     7     8    1\\n    14     7    26    1\\n    15     7    27    1\\n    16     8     9    1\\n    17     8    13    1\\n    18     9    10    1\\n    19     9    28    1\\n    20     9    29    1\\n    21    10    11    1\\n    22    10    12    1\\n    23    11    30    1\\n    24    13    14    1\\n    25    13    31    1\\n    26    13    32    1\\n    27    14    15    1\\n    28    14    16    1\\n    29    15    33    1\\n    30    17    18    1\\n    31    17    34    1\\n    32    17    35    1\\n    33    18    19    1\\n    34    18    20    1\\n    35    19    36    1\\n@<TRIPOS>SUBSTRUCTURE\\n     1 RES1       36 GROUP             0 ****  ****    0  \\n\",\"mol2\");\n\tviewergrid_1669748825823456[1][3].setStyle({\"stick\": {\"colorscheme\": \"Jmol\"}});\n\tviewergrid_1669748825823456[1][3].zoomTo();\n\tviewergrid_1669748825823456[2][0].addModel(\"@<TRIPOS>MOLECULE\\ntmp.mol2\\n    36    35     1     0     0\\nSMALL\\nNoCharges\\n****\\nGenerated from Architector\\n\\n@<TRIPOS>ATOM\\n     1 O1        2.6254    3.0426   -0.6980   O.2       1 RES1   0.0000\\n     2 C1        1.8772    2.1971    0.0367   C.3       1 RES1   0.0000\\n     3 O2        1.8016    2.2596    1.2416   O.2       1 RES1   0.0000\\n     4 C2        1.1142    1.1501   -0.7079   C.3       1 RES1   0.0000\\n     5 N1        0.5265    0.1414    0.2165   N.3       1 RES1   0.0000\\n     6 C3       -0.4771    0.7080    1.1581   C.3       1 RES1   0.0000\\n     7 C4       -1.6149   -0.2318    1.5452   C.3       1 RES1   0.0000\\n     8 N2       -2.4553   -0.7581    0.4196   N.3       1 RES1   0.0000\\n     9 C5       -2.4698    0.0084   -0.8587   C.3       1 RES1   0.0000\\n    10 C6       -2.7232    1.4611   -0.6465   C.3       1 RES1   0.0000\\n    11 O3       -1.8746    2.3174   -1.2511   O.2       1 RES1   0.0000\\n    12 O4       -3.6419    1.8245    0.0493   O.2       1 RES1   0.0000\\n    13 C7       -2.2976   -2.2133    0.2363   C.3       1 RES1   0.0000\\n    14 C8       -0.8723   -2.4867   -0.0870   C.3       1 RES1   0.0000\\n    15 O5       -0.4760   -2.1494   -1.3338   O.2       1 RES1   0.0000\\n    16 O6       -0.1368   -2.8938    0.7827   O.2       1 RES1   0.0000\\n    17 C9        1.5752   -0.6304    0.9208   C.3       1 RES1   0.0000\\n    18 C10       2.5807   -1.2246   -0.0177   C.3       1 RES1   0.0000\\n    19 O7        3.8533   -1.2826    0.4206   O.2       1 RES1   0.0000\\n    20 O8        2.2473   -1.6279   -1.1070   O.2       1 RES1   0.0000\\n    21 H1        3.0629    3.6594   -0.0828   H         1 RES1   0.0000\\n    22 H2        0.3144    1.6142   -1.2881   H         1 RES1   0.0000\\n    23 H3        1.7730    0.6384   -1.4127   H         1 RES1   0.0000\\n    24 H4        0.0587    1.0728    2.0408   H         1 RES1   0.0000\\n    25 H5       -0.8917    1.6052    0.6930   H         1 RES1   0.0000\\n    26 H6       -1.2147   -1.0857    2.0988   H         1 RES1   0.0000\\n    27 H7       -2.3017    0.2784    2.2288   H         1 RES1   0.0000\\n    28 H8       -1.5128   -0.1366   -1.3637   H         1 RES1   0.0000\\n    29 H9       -3.2488   -0.4031   -1.5017   H         1 RES1   0.0000\\n    30 H10      -2.1816    3.2206   -1.0510   H         1 RES1   0.0000\\n    31 H11      -2.5866   -2.7343    1.1504   H         1 RES1   0.0000\\n    32 H12      -2.9474   -2.5575   -0.5694   H         1 RES1   0.0000\\n    33 H13       0.5042   -2.1199   -1.3427   H         1 RES1   0.0000\\n    34 H14       2.0891    0.0318    1.6218   H         1 RES1   0.0000\\n    35 H15       1.1033   -1.4318    1.4917   H         1 RES1   0.0000\\n    36 H16       4.3869   -1.6984   -0.2813   H         1 RES1   0.0000\\n@<TRIPOS>BOND\\n     1     1     2    1\\n     2     1    21    1\\n     3     2     3    1\\n     4     2     4    1\\n     5     4     5    1\\n     6     4    22    1\\n     7     4    23    1\\n     8     5     6    1\\n     9     5    17    1\\n    10     6     7    1\\n    11     6    24    1\\n    12     6    25    1\\n    13     7     8    1\\n    14     7    26    1\\n    15     7    27    1\\n    16     8     9    1\\n    17     8    13    1\\n    18     9    10    1\\n    19     9    28    1\\n    20     9    29    1\\n    21    10    11    1\\n    22    10    12    1\\n    23    11    30    1\\n    24    13    14    1\\n    25    13    31    1\\n    26    13    32    1\\n    27    14    15    1\\n    28    14    16    1\\n    29    15    33    1\\n    30    17    18    1\\n    31    17    34    1\\n    32    17    35    1\\n    33    18    19    1\\n    34    18    20    1\\n    35    19    36    1\\n@<TRIPOS>SUBSTRUCTURE\\n     1 RES1       36 GROUP             0 ****  ****    0  \\n\",\"mol2\");\n\tviewergrid_1669748825823456[2][0].setStyle({\"stick\": {\"colorscheme\": \"Jmol\"}});\n\tviewergrid_1669748825823456[2][0].zoomTo();\n\tviewergrid_1669748825823456[2][1].addModel(\"@<TRIPOS>MOLECULE\\ntmp.mol2\\n    36    35     1     0     0\\nSMALL\\nNoCharges\\n****\\nGenerated from Architector\\n\\n@<TRIPOS>ATOM\\n     1 O1        2.6470    3.0183   -0.6928   O.2       1 RES1   0.0000\\n     2 C1        1.8832    2.1885    0.0437   C.3       1 RES1   0.0000\\n     3 O2        1.8083    2.2563    1.2483   O.2       1 RES1   0.0000\\n     4 C2        1.1015    1.1527   -0.6987   C.3       1 RES1   0.0000\\n     5 N1        0.5407    0.1369    0.2127   N.3       1 RES1   0.0000\\n     6 C3       -0.4733    0.7406    1.1212   C.3       1 RES1   0.0000\\n     7 C4       -1.6220   -0.1803    1.5251   C.3       1 RES1   0.0000\\n     8 N2       -2.4560   -0.7512    0.4167   N.3       1 RES1   0.0000\\n     9 C5       -2.4667    0.0106   -0.8437   C.3       1 RES1   0.0000\\n    10 C6       -2.7572    1.4578   -0.6354   C.3       1 RES1   0.0000\\n    11 O3       -1.9246    2.3332   -1.2350   O.2       1 RES1   0.0000\\n    12 O4       -3.6898    1.7993    0.0530   O.2       1 RES1   0.0000\\n    13 C7       -2.2916   -2.2240    0.2289   C.3       1 RES1   0.0000\\n    14 C8       -0.8649   -2.4893   -0.0907   C.3       1 RES1   0.0000\\n    15 O5       -0.4643   -2.1384   -1.3321   O.2       1 RES1   0.0000\\n    16 O6       -0.1324   -2.9055    0.7771   O.2       1 RES1   0.0000\\n    17 C9        1.5875   -0.6534    0.9246   C.3       1 RES1   0.0000\\n    18 C10       2.5985   -1.2323   -0.0159   C.3       1 RES1   0.0000\\n    19 O7        3.8742   -1.2686    0.4157   O.2       1 RES1   0.0000\\n    20 O8        2.2663   -1.6426   -1.1029   O.2       1 RES1   0.0000\\n    21 H1        3.0956    3.6283   -0.0789   H         1 RES1   0.0000\\n    22 H2        0.2939    1.6248   -1.2617   H         1 RES1   0.0000\\n    23 H3        1.7484    0.6501   -1.4214   H         1 RES1   0.0000\\n    24 H4        0.0557    1.1249    1.9997   H         1 RES1   0.0000\\n    25 H5       -0.8769    1.6279    0.6288   H         1 RES1   0.0000\\n    26 H6       -1.2331   -1.0158    2.1135   H         1 RES1   0.0000\\n    27 H7       -2.3141    0.3575    2.1819   H         1 RES1   0.0000\\n    28 H8       -1.5004   -0.1131   -1.3367   H         1 RES1   0.0000\\n    29 H9       -3.2265   -0.4159   -1.5004   H         1 RES1   0.0000\\n    30 H10      -2.2549    3.2291   -1.0395   H         1 RES1   0.0000\\n    31 H11      -2.5789   -2.7446    1.1433   H         1 RES1   0.0000\\n    32 H12      -2.9391   -2.5698   -0.5775   H         1 RES1   0.0000\\n    33 H13       0.5161   -2.1139   -1.3391   H         1 RES1   0.0000\\n    34 H14       2.0947   -0.0004    1.6385   H         1 RES1   0.0000\\n    35 H15       1.1074   -1.4606    1.4795   H         1 RES1   0.0000\\n    36 H16       4.4108   -1.6759   -0.2888   H         1 RES1   0.0000\\n@<TRIPOS>BOND\\n     1     1     2    1\\n     2     1    21    1\\n     3     2     3    1\\n     4     2     4    1\\n     5     4     5    1\\n     6     4    22    1\\n     7     4    23    1\\n     8     5     6    1\\n     9     5    17    1\\n    10     6     7    1\\n    11     6    24    1\\n    12     6    25    1\\n    13     7     8    1\\n    14     7    26    1\\n    15     7    27    1\\n    16     8     9    1\\n    17     8    13    1\\n    18     9    10    1\\n    19     9    28    1\\n    20     9    29    1\\n    21    10    11    1\\n    22    10    12    1\\n    23    11    30    1\\n    24    13    14    1\\n    25    13    31    1\\n    26    13    32    1\\n    27    14    15    1\\n    28    14    16    1\\n    29    15    33    1\\n    30    17    18    1\\n    31    17    34    1\\n    32    17    35    1\\n    33    18    19    1\\n    34    18    20    1\\n    35    19    36    1\\n@<TRIPOS>SUBSTRUCTURE\\n     1 RES1       36 GROUP             0 ****  ****    0  \\n\",\"mol2\");\n\tviewergrid_1669748825823456[2][1].setStyle({\"stick\": {\"colorscheme\": \"Jmol\"}});\n\tviewergrid_1669748825823456[2][1].zoomTo();\nviewergrid_1669748825823456[2][3].render();\nviewergrid_1669748825823456[2][2].render();\nviewergrid_1669748825823456[2][1].render();\nviewergrid_1669748825823456[2][0].render();\nviewergrid_1669748825823456[1][3].render();\nviewergrid_1669748825823456[1][2].render();\nviewergrid_1669748825823456[1][1].render();\nviewergrid_1669748825823456[1][0].render();\nviewergrid_1669748825823456[0][3].render();\nviewergrid_1669748825823456[0][2].render();\nviewergrid_1669748825823456[0][1].render();\nviewergrid_1669748825823456[0][0].render();\n});\n</script>",
      "text/html": [
       "<div id=\"3dmolviewer_1669748825823456\"  style=\"position: relative; width: 800px; height: 600px\">\n",
       "        <p id=\"3dmolwarning_1669748825823456\" style=\"background-color:#ffcccc;color:black\">You appear to be running in JupyterLab (or JavaScript failed to load for some other reason).  You need to install the 3dmol extension: <br>\n",
       "        <tt>jupyter labextension install jupyterlab_3dmol</tt></p>\n",
       "        </div>\n",
       "<script>\n",
       "\n",
       "var loadScriptAsync = function(uri){\n",
       "  return new Promise((resolve, reject) => {\n",
       "    var tag = document.createElement('script');\n",
       "    tag.src = uri;\n",
       "    tag.async = true;\n",
       "    tag.onload = () => {\n",
       "      resolve();\n",
       "    };\n",
       "  var firstScriptTag = document.getElementsByTagName('script')[0];\n",
       "  firstScriptTag.parentNode.insertBefore(tag, firstScriptTag);\n",
       "});\n",
       "};\n",
       "\n",
       "if(typeof $3Dmolpromise === 'undefined') {\n",
       "$3Dmolpromise = null;\n",
       "  $3Dmolpromise = loadScriptAsync('https://cdn.jsdelivr.net/npm/3dmol@latest/build/3Dmol-min.min.js');\n",
       "}\n",
       "\n",
       "var viewer_1669748825823456 = null;\n",
       "var warn = document.getElementById(\"3dmolwarning_1669748825823456\");\n",
       "if(warn) {\n",
       "    warn.parentNode.removeChild(warn);\n",
       "}\n",
       "$3Dmolpromise.then(function() {\n",
       "var viewergrid_1669748825823456 = null;\n",
       "viewergrid_1669748825823456 = $3Dmol.createViewerGrid($(\"#3dmolviewer_1669748825823456\"),{rows: 3, cols: 4, control_all: false},{backgroundColor:\"white\"});\n",
       "viewer_1669748825823456 = viewergrid_1669748825823456[0][0];\n",
       "viewergrid_1669748825823456[0][0].zoomTo();viewergrid_1669748825823456[0][1].zoomTo();viewergrid_1669748825823456[0][2].zoomTo();viewergrid_1669748825823456[0][3].zoomTo();viewergrid_1669748825823456[1][0].zoomTo();viewergrid_1669748825823456[1][1].zoomTo();viewergrid_1669748825823456[1][2].zoomTo();viewergrid_1669748825823456[1][3].zoomTo();viewergrid_1669748825823456[2][0].zoomTo();viewergrid_1669748825823456[2][1].zoomTo();viewergrid_1669748825823456[2][2].zoomTo();viewergrid_1669748825823456[2][3].zoomTo();\tviewergrid_1669748825823456[0][0].addModel(\"@<TRIPOS>MOLECULE\\ntmp.mol2\\n    36    35     1     0     0\\nSMALL\\nNoCharges\\n****\\nGenerated from Architector\\n\\n@<TRIPOS>ATOM\\n     1 O1        3.8591    2.5387   -1.0536   O.2       1 RES1   0.0000\\n     2 C1        2.8618    1.9791   -0.3416   C.3       1 RES1   0.0000\\n     3 O2        2.5681    2.3353    0.7758   O.2       1 RES1   0.0000\\n     4 C2        2.1029    0.8734   -1.0007   C.3       1 RES1   0.0000\\n     5 N1        1.0846    0.2864   -0.0886   N.3       1 RES1   0.0000\\n     6 C3        0.0547    1.2776    0.3327   C.3       1 RES1   0.0000\\n     7 C4       -1.3127    0.6775    0.6240   C.3       1 RES1   0.0000\\n     8 N2       -2.0057    0.2348   -0.6261   N.3       1 RES1   0.0000\\n     9 C5       -3.2465    0.9886   -0.8713   C.3       1 RES1   0.0000\\n    10 C6       -4.2613    0.6631    0.1709   C.3       1 RES1   0.0000\\n    11 O3       -4.5401    1.6176    1.0799   O.2       1 RES1   0.0000\\n    12 O4       -4.7635   -0.4364    0.1818   O.2       1 RES1   0.0000\\n    13 C7       -2.1559   -1.2427   -0.7465   C.3       1 RES1   0.0000\\n    14 C8       -0.8406   -1.8872   -0.4881   C.3       1 RES1   0.0000\\n    15 O5       -0.0064   -2.0148   -1.5430   O.2       1 RES1   0.0000\\n    16 O6       -0.5495   -2.1813    0.6484   O.2       1 RES1   0.0000\\n    17 C9        1.6686   -0.4458    1.0551   C.3       1 RES1   0.0000\\n    18 C10       2.6828   -1.4595    0.6218   C.3       1 RES1   0.0000\\n    19 O7        3.7185   -1.6725    1.4567   O.2       1 RES1   0.0000\\n    20 O8        2.5586   -2.0491   -0.4259   O.2       1 RES1   0.0000\\n    21 H1        4.2639    3.2309   -0.4991   H         1 RES1   0.0000\\n    22 H2        1.6083    1.2383   -1.9017   H         1 RES1   0.0000\\n    23 H3        2.7901    0.0824   -1.3084   H         1 RES1   0.0000\\n    24 H4        0.4506    1.8268    1.1933   H         1 RES1   0.0000\\n    25 H5       -0.0506    2.0120   -0.4697   H         1 RES1   0.0000\\n    26 H6       -1.2215   -0.1790    1.2975   H         1 RES1   0.0000\\n    27 H7       -1.9529    1.4003    1.1403   H         1 RES1   0.0000\\n    28 H8       -3.0311    2.0580   -0.8704   H         1 RES1   0.0000\\n    29 H9       -3.6311    0.7284   -1.8585   H         1 RES1   0.0000\\n    30 H10      -5.2137    1.2571    1.6852   H         1 RES1   0.0000\\n    31 H11      -2.8977   -1.5840   -0.0202   H         1 RES1   0.0000\\n    32 H12      -2.5095   -1.4911   -1.7478   H         1 RES1   0.0000\\n    33 H13       0.8949   -2.1917   -1.1963   H         1 RES1   0.0000\\n    34 H14       2.1422    0.2718    1.7293   H         1 RES1   0.0000\\n    35 H15       0.8705   -0.9552    1.5976   H         1 RES1   0.0000\\n    36 H16       4.2827   -2.3584    1.0549   H         1 RES1   0.0000\\n@<TRIPOS>BOND\\n     1     1     2    1\\n     2     1    21    1\\n     3     2     3    1\\n     4     2     4    1\\n     5     4     5    1\\n     6     4    22    1\\n     7     4    23    1\\n     8     5     6    1\\n     9     5    17    1\\n    10     6     7    1\\n    11     6    24    1\\n    12     6    25    1\\n    13     7     8    1\\n    14     7    26    1\\n    15     7    27    1\\n    16     8     9    1\\n    17     8    13    1\\n    18     9    10    1\\n    19     9    28    1\\n    20     9    29    1\\n    21    10    11    1\\n    22    10    12    1\\n    23    11    30    1\\n    24    13    14    1\\n    25    13    31    1\\n    26    13    32    1\\n    27    14    15    1\\n    28    14    16    1\\n    29    15    33    1\\n    30    17    18    1\\n    31    17    34    1\\n    32    17    35    1\\n    33    18    19    1\\n    34    18    20    1\\n    35    19    36    1\\n@<TRIPOS>SUBSTRUCTURE\\n     1 RES1       36 GROUP             0 ****  ****    0  \\n\",\"mol2\");\n",
       "\tviewergrid_1669748825823456[0][0].setStyle({\"stick\": {\"colorscheme\": \"Jmol\"}});\n",
       "\tviewergrid_1669748825823456[0][0].zoomTo();\n",
       "\tviewergrid_1669748825823456[0][1].addModel(\"@<TRIPOS>MOLECULE\\ntmp.mol2\\n    36    35     1     0     0\\nSMALL\\nNoCharges\\n****\\nGenerated from Architector\\n\\n@<TRIPOS>ATOM\\n     1 O1        3.8569    2.5542   -1.0352   O.2       1 RES1   0.0000\\n     2 C1        2.8663    1.9811   -0.3248   C.3       1 RES1   0.0000\\n     3 O2        2.5802    2.3191    0.8002   O.2       1 RES1   0.0000\\n     4 C2        2.1048    0.8833   -0.9939   C.3       1 RES1   0.0000\\n     5 N1        1.0906    0.2856   -0.0842   N.3       1 RES1   0.0000\\n     6 C3        0.0582    1.2681    0.3496   C.3       1 RES1   0.0000\\n     7 C4       -1.3051    0.6561    0.6340   C.3       1 RES1   0.0000\\n     8 N2       -2.0077    0.2426   -0.6223   N.3       1 RES1   0.0000\\n     9 C5       -3.2588    1.0057   -0.8771   C.3       1 RES1   0.0000\\n    10 C6       -4.2343    0.7645    0.2229   C.3       1 RES1   0.0000\\n    11 O3       -5.1672   -0.1851    0.0180   O.2       1 RES1   0.0000\\n    12 O4       -4.1293    1.3886    1.2531   O.2       1 RES1   0.0000\\n    13 C7       -2.1591   -1.2204   -0.7362   C.3       1 RES1   0.0000\\n    14 C8       -0.8431   -1.8722   -0.4921   C.3       1 RES1   0.0000\\n    15 O5       -0.0156   -1.9888   -1.5537   O.2       1 RES1   0.0000\\n    16 O6       -0.5476   -2.1814    0.6393   O.2       1 RES1   0.0000\\n    17 C9        1.6803   -0.4558    1.0508   C.3       1 RES1   0.0000\\n    18 C10       2.6832   -1.4745    0.6031   C.3       1 RES1   0.0000\\n    19 O7        3.7097   -1.7192    1.4407   O.2       1 RES1   0.0000\\n    20 O8        2.5585   -2.0411   -0.4571   O.2       1 RES1   0.0000\\n    21 H1        4.2640    3.2388   -0.4731   H         1 RES1   0.0000\\n    22 H2        1.6064    1.2590   -1.8883   H         1 RES1   0.0000\\n    23 H3        2.7907    0.0960   -1.3138   H         1 RES1   0.0000\\n    24 H4        0.4524    1.8081    1.2169   H         1 RES1   0.0000\\n    25 H5       -0.0518    2.0117   -0.4437   H         1 RES1   0.0000\\n    26 H6       -1.2092   -0.2127    1.2906   H         1 RES1   0.0000\\n    27 H7       -1.9480    1.3643    1.1685   H         1 RES1   0.0000\\n    28 H8       -3.0239    2.0686   -0.9438   H         1 RES1   0.0000\\n    29 H9       -3.6826    0.6950   -1.8329   H         1 RES1   0.0000\\n    30 H10      -5.7205   -0.2311    0.8192   H         1 RES1   0.0000\\n    31 H11      -2.8942   -1.5672   -0.0074   H         1 RES1   0.0000\\n    32 H12      -2.5194   -1.4689   -1.7354   H         1 RES1   0.0000\\n    33 H13       0.8881   -2.1702   -1.2160   H         1 RES1   0.0000\\n    34 H14       2.1649    0.2560    1.7234   H         1 RES1   0.0000\\n    35 H15       0.8842   -0.9621    1.5991   H         1 RES1   0.0000\\n    36 H16       4.2671   -2.4048    1.0290   H         1 RES1   0.0000\\n@<TRIPOS>BOND\\n     1     1     2    1\\n     2     1    21    1\\n     3     2     3    1\\n     4     2     4    1\\n     5     4     5    1\\n     6     4    22    1\\n     7     4    23    1\\n     8     5     6    1\\n     9     5    17    1\\n    10     6     7    1\\n    11     6    24    1\\n    12     6    25    1\\n    13     7     8    1\\n    14     7    26    1\\n    15     7    27    1\\n    16     8     9    1\\n    17     8    13    1\\n    18     9    10    1\\n    19     9    28    1\\n    20     9    29    1\\n    21    10    11    1\\n    22    10    12    1\\n    23    11    30    1\\n    24    13    14    1\\n    25    13    31    1\\n    26    13    32    1\\n    27    14    15    1\\n    28    14    16    1\\n    29    15    33    1\\n    30    17    18    1\\n    31    17    34    1\\n    32    17    35    1\\n    33    18    19    1\\n    34    18    20    1\\n    35    19    36    1\\n@<TRIPOS>SUBSTRUCTURE\\n     1 RES1       36 GROUP             0 ****  ****    0  \\n\",\"mol2\");\n",
       "\tviewergrid_1669748825823456[0][1].setStyle({\"stick\": {\"colorscheme\": \"Jmol\"}});\n",
       "\tviewergrid_1669748825823456[0][1].zoomTo();\n",
       "\tviewergrid_1669748825823456[0][2].addModel(\"@<TRIPOS>MOLECULE\\ntmp.mol2\\n    36    35     1     0     0\\nSMALL\\nNoCharges\\n****\\nGenerated from Architector\\n\\n@<TRIPOS>ATOM\\n     1 O1        3.8702    2.5353   -1.0442   O.2       1 RES1   0.0000\\n     2 C1        2.8661    1.9808   -0.3378   C.3       1 RES1   0.0000\\n     3 O2        2.5696    2.3367    0.7789   O.2       1 RES1   0.0000\\n     4 C2        2.1032    0.8808   -1.0018   C.3       1 RES1   0.0000\\n     5 N1        1.0907    0.2858   -0.0882   N.3       1 RES1   0.0000\\n     6 C3        0.0571    1.2695    0.3407   C.3       1 RES1   0.0000\\n     7 C4       -1.3060    0.6602    0.6344   C.3       1 RES1   0.0000\\n     8 N2       -2.0068    0.2304   -0.6163   N.3       1 RES1   0.0000\\n     9 C5       -3.2622    0.9836   -0.8825   C.3       1 RES1   0.0000\\n    10 C6       -4.2799    0.6670    0.1588   C.3       1 RES1   0.0000\\n    11 O3       -4.5918    1.6421    1.0346   O.2       1 RES1   0.0000\\n    12 O4       -4.7571   -0.4429    0.1987   O.2       1 RES1   0.0000\\n    13 C7       -2.1533   -1.2343   -0.7117   C.3       1 RES1   0.0000\\n    14 C8       -0.8347   -1.8809   -0.4716   C.3       1 RES1   0.0000\\n    15 O5       -0.0120   -1.9995   -1.5365   O.2       1 RES1   0.0000\\n    16 O6       -0.5327   -2.1844    0.6595   O.2       1 RES1   0.0000\\n    17 C9        1.6837   -0.4473    1.0504   C.3       1 RES1   0.0000\\n    18 C10       2.6907   -1.4640    0.6074   C.3       1 RES1   0.0000\\n    19 O7        3.7211   -1.6971    1.4434   O.2       1 RES1   0.0000\\n    20 O8        2.5659   -2.0390   -0.4483   O.2       1 RES1   0.0000\\n    21 H1        4.2772    3.2235   -0.4865   H         1 RES1   0.0000\\n    22 H2        1.6032    1.2532   -1.8966   H         1 RES1   0.0000\\n    23 H3        2.7887    0.0924   -1.3201   H         1 RES1   0.0000\\n    24 H4        0.4532    1.8174    1.2019   H         1 RES1   0.0000\\n    25 H5       -0.0556    2.0062   -0.4586   H         1 RES1   0.0000\\n    26 H6       -1.2078   -0.2000    1.3020   H         1 RES1   0.0000\\n    27 H7       -1.9470    1.3764    1.1588   H         1 RES1   0.0000\\n    28 H8       -3.0492    2.0532   -0.8919   H         1 RES1   0.0000\\n    29 H9       -3.6393    0.7092   -1.8685   H         1 RES1   0.0000\\n    30 H10      -5.2634    1.2844    1.6438   H         1 RES1   0.0000\\n    31 H11      -2.8830   -1.5684    0.0305   H         1 RES1   0.0000\\n    32 H12      -2.5255   -1.4964   -1.7030   H         1 RES1   0.0000\\n    33 H13       0.8935   -2.1779   -1.2017   H         1 RES1   0.0000\\n    34 H14       2.1657    0.2697    1.7193   H         1 RES1   0.0000\\n    35 H15       0.8899   -0.9541    1.6014   H         1 RES1   0.0000\\n    36 H16       4.2805   -2.3829    1.0348   H         1 RES1   0.0000\\n@<TRIPOS>BOND\\n     1     1     2    1\\n     2     1    21    1\\n     3     2     3    1\\n     4     2     4    1\\n     5     4     5    1\\n     6     4    22    1\\n     7     4    23    1\\n     8     5     6    1\\n     9     5    17    1\\n    10     6     7    1\\n    11     6    24    1\\n    12     6    25    1\\n    13     7     8    1\\n    14     7    26    1\\n    15     7    27    1\\n    16     8     9    1\\n    17     8    13    1\\n    18     9    10    1\\n    19     9    28    1\\n    20     9    29    1\\n    21    10    11    1\\n    22    10    12    1\\n    23    11    30    1\\n    24    13    14    1\\n    25    13    31    1\\n    26    13    32    1\\n    27    14    15    1\\n    28    14    16    1\\n    29    15    33    1\\n    30    17    18    1\\n    31    17    34    1\\n    32    17    35    1\\n    33    18    19    1\\n    34    18    20    1\\n    35    19    36    1\\n@<TRIPOS>SUBSTRUCTURE\\n     1 RES1       36 GROUP             0 ****  ****    0  \\n\",\"mol2\");\n",
       "\tviewergrid_1669748825823456[0][2].setStyle({\"stick\": {\"colorscheme\": \"Jmol\"}});\n",
       "\tviewergrid_1669748825823456[0][2].zoomTo();\n",
       "\tviewergrid_1669748825823456[0][3].addModel(\"@<TRIPOS>MOLECULE\\ntmp.mol2\\n    36    35     1     0     0\\nSMALL\\nNoCharges\\n****\\nGenerated from Architector\\n\\n@<TRIPOS>ATOM\\n     1 O1        3.8976    2.5263   -1.0165   O.2       1 RES1   0.0000\\n     2 C1        2.8836    1.9752   -0.3218   C.3       1 RES1   0.0000\\n     3 O2        2.5738    2.3335    0.7906   O.2       1 RES1   0.0000\\n     4 C2        2.1265    0.8758   -0.9931   C.3       1 RES1   0.0000\\n     5 N1        1.0849    0.3019   -0.0994   N.3       1 RES1   0.0000\\n     6 C3        0.0487    1.2775    0.3346   C.3       1 RES1   0.0000\\n     7 C4       -1.3114    0.6611    0.6255   C.3       1 RES1   0.0000\\n     8 N2       -2.0167    0.2389   -0.6262   N.3       1 RES1   0.0000\\n     9 C5       -3.2738    0.9931   -0.8786   C.3       1 RES1   0.0000\\n    10 C6       -4.2400    0.7547    0.2301   C.3       1 RES1   0.0000\\n    11 O3       -5.1551   -0.2167    0.0474   O.2       1 RES1   0.0000\\n    12 O4       -4.1429    1.3999    1.2479   O.2       1 RES1   0.0000\\n    13 C7       -2.1605   -1.2253   -0.7347   C.3       1 RES1   0.0000\\n    14 C8       -0.8408   -1.8692   -0.4916   C.3       1 RES1   0.0000\\n    15 O5       -0.0173   -1.9893   -1.5559   O.2       1 RES1   0.0000\\n    16 O6       -0.5390   -2.1698    0.6405   O.2       1 RES1   0.0000\\n    17 C9        1.6804   -0.4334    1.0393   C.3       1 RES1   0.0000\\n    18 C10       2.6748   -1.4648    0.6005   C.3       1 RES1   0.0000\\n    19 O7        3.6865   -1.7264    1.4508   O.2       1 RES1   0.0000\\n    20 O8        2.5570   -2.0262   -0.4632   O.2       1 RES1   0.0000\\n    21 H1        4.2982    3.2156   -0.4554   H         1 RES1   0.0000\\n    22 H2        1.6497    1.2470   -1.9011   H         1 RES1   0.0000\\n    23 H3        2.8110    0.0788   -1.2914   H         1 RES1   0.0000\\n    24 H4        0.4427    1.8232    1.1983   H         1 RES1   0.0000\\n    25 H5       -0.0659    2.0169   -0.4620   H         1 RES1   0.0000\\n    26 H6       -1.2107   -0.2038    1.2866   H         1 RES1   0.0000\\n    27 H7       -1.9553    1.3702    1.1578   H         1 RES1   0.0000\\n    28 H8       -3.0453    2.0568   -0.9550   H         1 RES1   0.0000\\n    29 H9       -3.7026    0.6726   -1.8288   H         1 RES1   0.0000\\n    30 H10      -5.7043   -0.2576    0.8516   H         1 RES1   0.0000\\n    31 H11      -2.8921   -1.5734   -0.0028   H         1 RES1   0.0000\\n    32 H12      -2.5217   -1.4792   -1.7322   H         1 RES1   0.0000\\n    33 H13       0.8880   -2.1656   -1.2196   H         1 RES1   0.0000\\n    34 H14       2.1721    0.2821    1.7029   H         1 RES1   0.0000\\n    35 H15       0.8848   -0.9291    1.5979   H         1 RES1   0.0000\\n    36 H16       4.2395   -2.4186    1.0443   H         1 RES1   0.0000\\n@<TRIPOS>BOND\\n     1     1     2    1\\n     2     1    21    1\\n     3     2     3    1\\n     4     2     4    1\\n     5     4     5    1\\n     6     4    22    1\\n     7     4    23    1\\n     8     5     6    1\\n     9     5    17    1\\n    10     6     7    1\\n    11     6    24    1\\n    12     6    25    1\\n    13     7     8    1\\n    14     7    26    1\\n    15     7    27    1\\n    16     8     9    1\\n    17     8    13    1\\n    18     9    10    1\\n    19     9    28    1\\n    20     9    29    1\\n    21    10    11    1\\n    22    10    12    1\\n    23    11    30    1\\n    24    13    14    1\\n    25    13    31    1\\n    26    13    32    1\\n    27    14    15    1\\n    28    14    16    1\\n    29    15    33    1\\n    30    17    18    1\\n    31    17    34    1\\n    32    17    35    1\\n    33    18    19    1\\n    34    18    20    1\\n    35    19    36    1\\n@<TRIPOS>SUBSTRUCTURE\\n     1 RES1       36 GROUP             0 ****  ****    0  \\n\",\"mol2\");\n",
       "\tviewergrid_1669748825823456[0][3].setStyle({\"stick\": {\"colorscheme\": \"Jmol\"}});\n",
       "\tviewergrid_1669748825823456[0][3].zoomTo();\n",
       "\tviewergrid_1669748825823456[1][0].addModel(\"@<TRIPOS>MOLECULE\\ntmp.mol2\\n    36    35     1     0     0\\nSMALL\\nNoCharges\\n****\\nGenerated from Architector\\n\\n@<TRIPOS>ATOM\\n     1 O1        3.8858    2.5309   -1.0415   O.2       1 RES1   0.0000\\n     2 C1        2.8828    1.9737   -0.3357   C.3       1 RES1   0.0000\\n     3 O2        2.5825    2.3306    0.7797   O.2       1 RES1   0.0000\\n     4 C2        2.1262    0.8690   -0.9989   C.3       1 RES1   0.0000\\n     5 N1        1.0868    0.2991   -0.0996   N.3       1 RES1   0.0000\\n     6 C3        0.0517    1.2781    0.3307   C.3       1 RES1   0.0000\\n     7 C4       -1.3094    0.6664    0.6293   C.3       1 RES1   0.0000\\n     8 N2       -2.0129    0.2320   -0.6184   N.3       1 RES1   0.0000\\n     9 C5       -3.2719    0.9802   -0.8811   C.3       1 RES1   0.0000\\n    10 C6       -4.2860    0.6566    0.1616   C.3       1 RES1   0.0000\\n    11 O3       -4.5866    1.6219    1.0519   O.2       1 RES1   0.0000\\n    12 O4       -4.7698   -0.4509    0.1901   O.2       1 RES1   0.0000\\n    13 C7       -2.1562   -1.2333   -0.7091   C.3       1 RES1   0.0000\\n    14 C8       -0.8358   -1.8762   -0.4701   C.3       1 RES1   0.0000\\n    15 O5       -0.0154   -1.9985   -1.5364   O.2       1 RES1   0.0000\\n    16 O6       -0.5298   -2.1740    0.6615   O.2       1 RES1   0.0000\\n    17 C9        1.6850   -0.4297    1.0415   C.3       1 RES1   0.0000\\n    18 C10       2.6849   -1.4573    0.6062   C.3       1 RES1   0.0000\\n    19 O7        3.7069   -1.6985    1.4502   O.2       1 RES1   0.0000\\n    20 O8        2.5617   -2.0324   -0.4496   O.2       1 RES1   0.0000\\n    21 H1        4.2889    3.2220   -0.4845   H         1 RES1   0.0000\\n    22 H2        1.6477    1.2336   -1.9087   H         1 RES1   0.0000\\n    23 H3        2.8111    0.0710   -1.2934   H         1 RES1   0.0000\\n    24 H4        0.4487    1.8291    1.1895   H         1 RES1   0.0000\\n    25 H5       -0.0638    2.0122   -0.4706   H         1 RES1   0.0000\\n    26 H6       -1.2077   -0.1918    1.2989   H         1 RES1   0.0000\\n    27 H7       -1.9505    1.3827    1.1536   H         1 RES1   0.0000\\n    28 H8       -3.0641    2.0508   -0.8888   H         1 RES1   0.0000\\n    29 H9       -3.6494    0.7060   -1.8669   H         1 RES1   0.0000\\n    30 H10      -5.2566    1.2599    1.6604   H         1 RES1   0.0000\\n    31 H11      -2.8834   -1.5671    0.0357   H         1 RES1   0.0000\\n    32 H12      -2.5304   -1.4991   -1.6987   H         1 RES1   0.0000\\n    33 H13       0.8905   -2.1750   -1.2021   H         1 RES1   0.0000\\n    34 H14       2.1728    0.2900    1.7034   H         1 RES1   0.0000\\n    35 H15       0.8912   -0.9279    1.6005   H         1 RES1   0.0000\\n    36 H16       4.2628   -2.3907    1.0477   H         1 RES1   0.0000\\n@<TRIPOS>BOND\\n     1     1     2    1\\n     2     1    21    1\\n     3     2     3    1\\n     4     2     4    1\\n     5     4     5    1\\n     6     4    22    1\\n     7     4    23    1\\n     8     5     6    1\\n     9     5    17    1\\n    10     6     7    1\\n    11     6    24    1\\n    12     6    25    1\\n    13     7     8    1\\n    14     7    26    1\\n    15     7    27    1\\n    16     8     9    1\\n    17     8    13    1\\n    18     9    10    1\\n    19     9    28    1\\n    20     9    29    1\\n    21    10    11    1\\n    22    10    12    1\\n    23    11    30    1\\n    24    13    14    1\\n    25    13    31    1\\n    26    13    32    1\\n    27    14    15    1\\n    28    14    16    1\\n    29    15    33    1\\n    30    17    18    1\\n    31    17    34    1\\n    32    17    35    1\\n    33    18    19    1\\n    34    18    20    1\\n    35    19    36    1\\n@<TRIPOS>SUBSTRUCTURE\\n     1 RES1       36 GROUP             0 ****  ****    0  \\n\",\"mol2\");\n",
       "\tviewergrid_1669748825823456[1][0].setStyle({\"stick\": {\"colorscheme\": \"Jmol\"}});\n",
       "\tviewergrid_1669748825823456[1][0].zoomTo();\n",
       "\tviewergrid_1669748825823456[1][1].addModel(\"@<TRIPOS>MOLECULE\\ntmp.mol2\\n    36    35     1     0     0\\nSMALL\\nNoCharges\\n****\\nGenerated from Architector\\n\\n@<TRIPOS>ATOM\\n     1 O1        3.9356    2.4800   -1.0022   O.2       1 RES1   0.0000\\n     2 C1        2.8877    1.9700   -0.3266   C.3       1 RES1   0.0000\\n     3 O2        2.5575    2.3572    0.7701   O.2       1 RES1   0.0000\\n     4 C2        2.1181    0.8804   -1.0000   C.3       1 RES1   0.0000\\n     5 N1        1.0827    0.3034   -0.1005   N.3       1 RES1   0.0000\\n     6 C3        0.0460    1.2772    0.3375   C.3       1 RES1   0.0000\\n     7 C4       -1.3125    0.6600    0.6363   C.3       1 RES1   0.0000\\n     8 N2       -2.0154    0.2265   -0.6118   N.3       1 RES1   0.0000\\n     9 C5       -3.2709    0.9789   -0.8792   C.3       1 RES1   0.0000\\n    10 C6       -4.2910    0.6589    0.1587   C.3       1 RES1   0.0000\\n    11 O3       -4.6063    1.6319    1.0356   O.2       1 RES1   0.0000\\n    12 O4       -4.7675   -0.4514    0.1950   O.2       1 RES1   0.0000\\n    13 C7       -2.1610   -1.2385   -0.7023   C.3       1 RES1   0.0000\\n    14 C8       -0.8404   -1.8822   -0.4650   C.3       1 RES1   0.0000\\n    15 O5       -0.0232   -2.0062   -1.5336   O.2       1 RES1   0.0000\\n    16 O6       -0.5320   -2.1783    0.6663   O.2       1 RES1   0.0000\\n    17 C9        1.6860   -0.4299    1.0348   C.3       1 RES1   0.0000\\n    18 C10       2.6918   -1.4479    0.5911   C.3       1 RES1   0.0000\\n    19 O7        3.7324   -1.6679    1.4179   O.2       1 RES1   0.0000\\n    20 O8        2.5575   -2.0339   -0.4573   O.2       1 RES1   0.0000\\n    21 H1        4.3398    3.1679   -0.4421   H         1 RES1   0.0000\\n    22 H2        1.6343    1.2617   -1.9000   H         1 RES1   0.0000\\n    23 H3        2.7956    0.0827   -1.3120   H         1 RES1   0.0000\\n    24 H4        0.4435    1.8253    1.1979   H         1 RES1   0.0000\\n    25 H5       -0.0734    2.0148   -0.4600   H         1 RES1   0.0000\\n    26 H6       -1.2066   -0.1995    1.3036   H         1 RES1   0.0000\\n    27 H7       -1.9558    1.3722    1.1633   H         1 RES1   0.0000\\n    28 H8       -3.0592    2.0488   -0.8853   H         1 RES1   0.0000\\n    29 H9       -3.6450    0.7068   -1.8668   H         1 RES1   0.0000\\n    30 H10      -5.2789    1.2717    1.6423   H         1 RES1   0.0000\\n    31 H11      -2.8878   -1.5713    0.0433   H         1 RES1   0.0000\\n    32 H12      -2.5363   -1.5037   -1.6916   H         1 RES1   0.0000\\n    33 H13       0.8843   -2.1807   -1.2025   H         1 RES1   0.0000\\n    34 H14       2.1702    0.2878    1.7014   H         1 RES1   0.0000\\n    35 H15       0.8959   -0.9368    1.5911   H         1 RES1   0.0000\\n    36 H16       4.2902   -2.3558    1.0107   H         1 RES1   0.0000\\n@<TRIPOS>BOND\\n     1     1     2    1\\n     2     1    21    1\\n     3     2     3    1\\n     4     2     4    1\\n     5     4     5    1\\n     6     4    22    1\\n     7     4    23    1\\n     8     5     6    1\\n     9     5    17    1\\n    10     6     7    1\\n    11     6    24    1\\n    12     6    25    1\\n    13     7     8    1\\n    14     7    26    1\\n    15     7    27    1\\n    16     8     9    1\\n    17     8    13    1\\n    18     9    10    1\\n    19     9    28    1\\n    20     9    29    1\\n    21    10    11    1\\n    22    10    12    1\\n    23    11    30    1\\n    24    13    14    1\\n    25    13    31    1\\n    26    13    32    1\\n    27    14    15    1\\n    28    14    16    1\\n    29    15    33    1\\n    30    17    18    1\\n    31    17    34    1\\n    32    17    35    1\\n    33    18    19    1\\n    34    18    20    1\\n    35    19    36    1\\n@<TRIPOS>SUBSTRUCTURE\\n     1 RES1       36 GROUP             0 ****  ****    0  \\n\",\"mol2\");\n",
       "\tviewergrid_1669748825823456[1][1].setStyle({\"stick\": {\"colorscheme\": \"Jmol\"}});\n",
       "\tviewergrid_1669748825823456[1][1].zoomTo();\n",
       "\tviewergrid_1669748825823456[1][2].addModel(\"@<TRIPOS>MOLECULE\\ntmp.mol2\\n    36    35     1     0     0\\nSMALL\\nNoCharges\\n****\\nGenerated from Architector\\n\\n@<TRIPOS>ATOM\\n     1 O1        3.8346    2.5695   -1.0412   O.2       1 RES1   0.0000\\n     2 C1        2.8553    1.9856   -0.3238   C.3       1 RES1   0.0000\\n     3 O2        2.5746    2.3190    0.8039   O.2       1 RES1   0.0000\\n     4 C2        2.1000    0.8807   -0.9903   C.3       1 RES1   0.0000\\n     5 N1        1.0968    0.2842   -0.0921   N.3       1 RES1   0.0000\\n     6 C3        0.0609    1.2795    0.3012   C.3       1 RES1   0.0000\\n     7 C4       -1.2997    0.6743    0.6141   C.3       1 RES1   0.0000\\n     8 N2       -2.0096    0.2279   -0.6257   N.3       1 RES1   0.0000\\n     9 C5       -3.2667    0.9784   -0.8919   C.3       1 RES1   0.0000\\n    10 C6       -4.2787    0.6708    0.1576   C.3       1 RES1   0.0000\\n    11 O3       -4.5891    1.6551    1.0237   O.2       1 RES1   0.0000\\n    12 O4       -4.7530   -0.4398    0.2122   O.2       1 RES1   0.0000\\n    13 C7       -2.1568   -1.2376   -0.7006   C.3       1 RES1   0.0000\\n    14 C8       -0.8367   -1.8819   -0.4616   C.3       1 RES1   0.0000\\n    15 O5       -0.0169   -2.0049   -1.5282   O.2       1 RES1   0.0000\\n    16 O6       -0.5317   -2.1804    0.6700   O.2       1 RES1   0.0000\\n    17 C9        1.6965   -0.4618    1.0537   C.3       1 RES1   0.0000\\n    18 C10       2.7003   -1.4775    0.6041   C.3       1 RES1   0.0000\\n    19 O7        3.7358   -1.7113    1.4337   O.2       1 RES1   0.0000\\n    20 O8        2.5680   -2.0511   -0.4515   O.2       1 RES1   0.0000\\n    21 H1        4.2401    3.2565   -0.4808   H         1 RES1   0.0000\\n    22 H2        1.6050    1.2497   -1.8898   H         1 RES1   0.0000\\n    23 H3        2.7924    0.0967   -1.3053   H         1 RES1   0.0000\\n    24 H4        0.4556    1.8517    1.1473   H         1 RES1   0.0000\\n    25 H5       -0.0548    1.9922   -0.5191   H         1 RES1   0.0000\\n    26 H6       -1.1953   -0.1765    1.2927   H         1 RES1   0.0000\\n    27 H7       -1.9372    1.3974    1.1335   H         1 RES1   0.0000\\n    28 H8       -3.0540    2.0480   -0.9111   H         1 RES1   0.0000\\n    29 H9       -3.6486    0.6959   -1.8736   H         1 RES1   0.0000\\n    30 H10      -5.2567    1.3023    1.6401   H         1 RES1   0.0000\\n    31 H11      -2.8809   -1.5617    0.0514   H         1 RES1   0.0000\\n    32 H12      -2.5368   -1.5126   -1.6854   H         1 RES1   0.0000\\n    33 H13       0.8897   -2.1830   -1.1958   H         1 RES1   0.0000\\n    34 H14       2.1789    0.2531    1.7242   H         1 RES1   0.0000\\n    35 H15       0.9015   -0.9684    1.6028   H         1 RES1   0.0000\\n    36 H16       4.2927   -2.3971    1.0218   H         1 RES1   0.0000\\n@<TRIPOS>BOND\\n     1     1     2    1\\n     2     1    21    1\\n     3     2     3    1\\n     4     2     4    1\\n     5     4     5    1\\n     6     4    22    1\\n     7     4    23    1\\n     8     5     6    1\\n     9     5    17    1\\n    10     6     7    1\\n    11     6    24    1\\n    12     6    25    1\\n    13     7     8    1\\n    14     7    26    1\\n    15     7    27    1\\n    16     8     9    1\\n    17     8    13    1\\n    18     9    10    1\\n    19     9    28    1\\n    20     9    29    1\\n    21    10    11    1\\n    22    10    12    1\\n    23    11    30    1\\n    24    13    14    1\\n    25    13    31    1\\n    26    13    32    1\\n    27    14    15    1\\n    28    14    16    1\\n    29    15    33    1\\n    30    17    18    1\\n    31    17    34    1\\n    32    17    35    1\\n    33    18    19    1\\n    34    18    20    1\\n    35    19    36    1\\n@<TRIPOS>SUBSTRUCTURE\\n     1 RES1       36 GROUP             0 ****  ****    0  \\n\",\"mol2\");\n",
       "\tviewergrid_1669748825823456[1][2].setStyle({\"stick\": {\"colorscheme\": \"Jmol\"}});\n",
       "\tviewergrid_1669748825823456[1][2].zoomTo();\n",
       "\tviewergrid_1669748825823456[1][3].addModel(\"@<TRIPOS>MOLECULE\\ntmp.mol2\\n    36    35     1     0     0\\nSMALL\\nNoCharges\\n****\\nGenerated from Architector\\n\\n@<TRIPOS>ATOM\\n     1 O1        2.5476    3.0961   -0.7230   O.2       1 RES1   0.0000\\n     2 C1        1.8686    2.2016    0.0206   C.3       1 RES1   0.0000\\n     3 O2        1.8335    2.2384    1.2285   O.2       1 RES1   0.0000\\n     4 C2        1.1326    1.1314   -0.7184   C.3       1 RES1   0.0000\\n     5 N1        0.5335    0.1357    0.2130   N.3       1 RES1   0.0000\\n     6 C3       -0.4737    0.7194    1.1397   C.3       1 RES1   0.0000\\n     7 C4       -1.6284   -0.2023    1.5247   C.3       1 RES1   0.0000\\n     8 N2       -2.4563   -0.7583    0.4044   N.3       1 RES1   0.0000\\n     9 C5       -2.4571    0.0185   -0.8472   C.3       1 RES1   0.0000\\n    10 C6       -2.7280    1.4672   -0.6233   C.3       1 RES1   0.0000\\n    11 O3       -1.9019    2.3370   -1.2399   O.2       1 RES1   0.0000\\n    12 O4       -3.6384    1.8148    0.0910   O.2       1 RES1   0.0000\\n    13 C7       -2.2879   -2.2283    0.1993   C.3       1 RES1   0.0000\\n    14 C8       -0.8577   -2.4856   -0.1110   C.3       1 RES1   0.0000\\n    15 O5       -0.4517   -2.1335   -1.3503   O.2       1 RES1   0.0000\\n    16 O6       -0.1277   -2.8951    0.7622   O.2       1 RES1   0.0000\\n    17 C9        1.5733   -0.6321    0.9350   C.3       1 RES1   0.0000\\n    18 C10       2.5836   -1.2446    0.0132   C.3       1 RES1   0.0000\\n    19 O7        3.8392   -1.3608    0.4874   O.2       1 RES1   0.0000\\n    20 O8        2.2689   -1.6124   -1.0941   O.2       1 RES1   0.0000\\n    21 H1        2.9758    3.7229   -0.1114   H         1 RES1   0.0000\\n    22 H2        0.3414    1.5760   -1.3250   H         1 RES1   0.0000\\n    23 H3        1.8114    0.6121   -1.3981   H         1 RES1   0.0000\\n    24 H4        0.0567    1.0850    2.0253   H         1 RES1   0.0000\\n    25 H5       -0.8711    1.6186    0.6634   H         1 RES1   0.0000\\n    26 H6       -1.2470   -1.0456    2.1069   H         1 RES1   0.0000\\n    27 H7       -2.3235    0.3309    2.1821   H         1 RES1   0.0000\\n    28 H8       -1.4922   -0.1115   -1.3414   H         1 RES1   0.0000\\n    29 H9       -3.2219   -0.3908   -1.5089   H         1 RES1   0.0000\\n    30 H10      -2.2162    3.2357   -1.0313   H         1 RES1   0.0000\\n    31 H11      -2.5821   -2.7612    1.1044   H         1 RES1   0.0000\\n    32 H12      -2.9271   -2.5646   -0.6177   H         1 RES1   0.0000\\n    33 H13       0.5283   -2.1011   -1.3501   H         1 RES1   0.0000\\n    34 H14       2.0853    0.0367    1.6311   H         1 RES1   0.0000\\n    35 H15       1.0923   -1.4234    1.5124   H         1 RES1   0.0000\\n    36 H16       4.3774   -1.7824   -0.2075   H         1 RES1   0.0000\\n@<TRIPOS>BOND\\n     1     1     2    1\\n     2     1    21    1\\n     3     2     3    1\\n     4     2     4    1\\n     5     4     5    1\\n     6     4    22    1\\n     7     4    23    1\\n     8     5     6    1\\n     9     5    17    1\\n    10     6     7    1\\n    11     6    24    1\\n    12     6    25    1\\n    13     7     8    1\\n    14     7    26    1\\n    15     7    27    1\\n    16     8     9    1\\n    17     8    13    1\\n    18     9    10    1\\n    19     9    28    1\\n    20     9    29    1\\n    21    10    11    1\\n    22    10    12    1\\n    23    11    30    1\\n    24    13    14    1\\n    25    13    31    1\\n    26    13    32    1\\n    27    14    15    1\\n    28    14    16    1\\n    29    15    33    1\\n    30    17    18    1\\n    31    17    34    1\\n    32    17    35    1\\n    33    18    19    1\\n    34    18    20    1\\n    35    19    36    1\\n@<TRIPOS>SUBSTRUCTURE\\n     1 RES1       36 GROUP             0 ****  ****    0  \\n\",\"mol2\");\n",
       "\tviewergrid_1669748825823456[1][3].setStyle({\"stick\": {\"colorscheme\": \"Jmol\"}});\n",
       "\tviewergrid_1669748825823456[1][3].zoomTo();\n",
       "\tviewergrid_1669748825823456[2][0].addModel(\"@<TRIPOS>MOLECULE\\ntmp.mol2\\n    36    35     1     0     0\\nSMALL\\nNoCharges\\n****\\nGenerated from Architector\\n\\n@<TRIPOS>ATOM\\n     1 O1        2.6254    3.0426   -0.6980   O.2       1 RES1   0.0000\\n     2 C1        1.8772    2.1971    0.0367   C.3       1 RES1   0.0000\\n     3 O2        1.8016    2.2596    1.2416   O.2       1 RES1   0.0000\\n     4 C2        1.1142    1.1501   -0.7079   C.3       1 RES1   0.0000\\n     5 N1        0.5265    0.1414    0.2165   N.3       1 RES1   0.0000\\n     6 C3       -0.4771    0.7080    1.1581   C.3       1 RES1   0.0000\\n     7 C4       -1.6149   -0.2318    1.5452   C.3       1 RES1   0.0000\\n     8 N2       -2.4553   -0.7581    0.4196   N.3       1 RES1   0.0000\\n     9 C5       -2.4698    0.0084   -0.8587   C.3       1 RES1   0.0000\\n    10 C6       -2.7232    1.4611   -0.6465   C.3       1 RES1   0.0000\\n    11 O3       -1.8746    2.3174   -1.2511   O.2       1 RES1   0.0000\\n    12 O4       -3.6419    1.8245    0.0493   O.2       1 RES1   0.0000\\n    13 C7       -2.2976   -2.2133    0.2363   C.3       1 RES1   0.0000\\n    14 C8       -0.8723   -2.4867   -0.0870   C.3       1 RES1   0.0000\\n    15 O5       -0.4760   -2.1494   -1.3338   O.2       1 RES1   0.0000\\n    16 O6       -0.1368   -2.8938    0.7827   O.2       1 RES1   0.0000\\n    17 C9        1.5752   -0.6304    0.9208   C.3       1 RES1   0.0000\\n    18 C10       2.5807   -1.2246   -0.0177   C.3       1 RES1   0.0000\\n    19 O7        3.8533   -1.2826    0.4206   O.2       1 RES1   0.0000\\n    20 O8        2.2473   -1.6279   -1.1070   O.2       1 RES1   0.0000\\n    21 H1        3.0629    3.6594   -0.0828   H         1 RES1   0.0000\\n    22 H2        0.3144    1.6142   -1.2881   H         1 RES1   0.0000\\n    23 H3        1.7730    0.6384   -1.4127   H         1 RES1   0.0000\\n    24 H4        0.0587    1.0728    2.0408   H         1 RES1   0.0000\\n    25 H5       -0.8917    1.6052    0.6930   H         1 RES1   0.0000\\n    26 H6       -1.2147   -1.0857    2.0988   H         1 RES1   0.0000\\n    27 H7       -2.3017    0.2784    2.2288   H         1 RES1   0.0000\\n    28 H8       -1.5128   -0.1366   -1.3637   H         1 RES1   0.0000\\n    29 H9       -3.2488   -0.4031   -1.5017   H         1 RES1   0.0000\\n    30 H10      -2.1816    3.2206   -1.0510   H         1 RES1   0.0000\\n    31 H11      -2.5866   -2.7343    1.1504   H         1 RES1   0.0000\\n    32 H12      -2.9474   -2.5575   -0.5694   H         1 RES1   0.0000\\n    33 H13       0.5042   -2.1199   -1.3427   H         1 RES1   0.0000\\n    34 H14       2.0891    0.0318    1.6218   H         1 RES1   0.0000\\n    35 H15       1.1033   -1.4318    1.4917   H         1 RES1   0.0000\\n    36 H16       4.3869   -1.6984   -0.2813   H         1 RES1   0.0000\\n@<TRIPOS>BOND\\n     1     1     2    1\\n     2     1    21    1\\n     3     2     3    1\\n     4     2     4    1\\n     5     4     5    1\\n     6     4    22    1\\n     7     4    23    1\\n     8     5     6    1\\n     9     5    17    1\\n    10     6     7    1\\n    11     6    24    1\\n    12     6    25    1\\n    13     7     8    1\\n    14     7    26    1\\n    15     7    27    1\\n    16     8     9    1\\n    17     8    13    1\\n    18     9    10    1\\n    19     9    28    1\\n    20     9    29    1\\n    21    10    11    1\\n    22    10    12    1\\n    23    11    30    1\\n    24    13    14    1\\n    25    13    31    1\\n    26    13    32    1\\n    27    14    15    1\\n    28    14    16    1\\n    29    15    33    1\\n    30    17    18    1\\n    31    17    34    1\\n    32    17    35    1\\n    33    18    19    1\\n    34    18    20    1\\n    35    19    36    1\\n@<TRIPOS>SUBSTRUCTURE\\n     1 RES1       36 GROUP             0 ****  ****    0  \\n\",\"mol2\");\n",
       "\tviewergrid_1669748825823456[2][0].setStyle({\"stick\": {\"colorscheme\": \"Jmol\"}});\n",
       "\tviewergrid_1669748825823456[2][0].zoomTo();\n",
       "\tviewergrid_1669748825823456[2][1].addModel(\"@<TRIPOS>MOLECULE\\ntmp.mol2\\n    36    35     1     0     0\\nSMALL\\nNoCharges\\n****\\nGenerated from Architector\\n\\n@<TRIPOS>ATOM\\n     1 O1        2.6470    3.0183   -0.6928   O.2       1 RES1   0.0000\\n     2 C1        1.8832    2.1885    0.0437   C.3       1 RES1   0.0000\\n     3 O2        1.8083    2.2563    1.2483   O.2       1 RES1   0.0000\\n     4 C2        1.1015    1.1527   -0.6987   C.3       1 RES1   0.0000\\n     5 N1        0.5407    0.1369    0.2127   N.3       1 RES1   0.0000\\n     6 C3       -0.4733    0.7406    1.1212   C.3       1 RES1   0.0000\\n     7 C4       -1.6220   -0.1803    1.5251   C.3       1 RES1   0.0000\\n     8 N2       -2.4560   -0.7512    0.4167   N.3       1 RES1   0.0000\\n     9 C5       -2.4667    0.0106   -0.8437   C.3       1 RES1   0.0000\\n    10 C6       -2.7572    1.4578   -0.6354   C.3       1 RES1   0.0000\\n    11 O3       -1.9246    2.3332   -1.2350   O.2       1 RES1   0.0000\\n    12 O4       -3.6898    1.7993    0.0530   O.2       1 RES1   0.0000\\n    13 C7       -2.2916   -2.2240    0.2289   C.3       1 RES1   0.0000\\n    14 C8       -0.8649   -2.4893   -0.0907   C.3       1 RES1   0.0000\\n    15 O5       -0.4643   -2.1384   -1.3321   O.2       1 RES1   0.0000\\n    16 O6       -0.1324   -2.9055    0.7771   O.2       1 RES1   0.0000\\n    17 C9        1.5875   -0.6534    0.9246   C.3       1 RES1   0.0000\\n    18 C10       2.5985   -1.2323   -0.0159   C.3       1 RES1   0.0000\\n    19 O7        3.8742   -1.2686    0.4157   O.2       1 RES1   0.0000\\n    20 O8        2.2663   -1.6426   -1.1029   O.2       1 RES1   0.0000\\n    21 H1        3.0956    3.6283   -0.0789   H         1 RES1   0.0000\\n    22 H2        0.2939    1.6248   -1.2617   H         1 RES1   0.0000\\n    23 H3        1.7484    0.6501   -1.4214   H         1 RES1   0.0000\\n    24 H4        0.0557    1.1249    1.9997   H         1 RES1   0.0000\\n    25 H5       -0.8769    1.6279    0.6288   H         1 RES1   0.0000\\n    26 H6       -1.2331   -1.0158    2.1135   H         1 RES1   0.0000\\n    27 H7       -2.3141    0.3575    2.1819   H         1 RES1   0.0000\\n    28 H8       -1.5004   -0.1131   -1.3367   H         1 RES1   0.0000\\n    29 H9       -3.2265   -0.4159   -1.5004   H         1 RES1   0.0000\\n    30 H10      -2.2549    3.2291   -1.0395   H         1 RES1   0.0000\\n    31 H11      -2.5789   -2.7446    1.1433   H         1 RES1   0.0000\\n    32 H12      -2.9391   -2.5698   -0.5775   H         1 RES1   0.0000\\n    33 H13       0.5161   -2.1139   -1.3391   H         1 RES1   0.0000\\n    34 H14       2.0947   -0.0004    1.6385   H         1 RES1   0.0000\\n    35 H15       1.1074   -1.4606    1.4795   H         1 RES1   0.0000\\n    36 H16       4.4108   -1.6759   -0.2888   H         1 RES1   0.0000\\n@<TRIPOS>BOND\\n     1     1     2    1\\n     2     1    21    1\\n     3     2     3    1\\n     4     2     4    1\\n     5     4     5    1\\n     6     4    22    1\\n     7     4    23    1\\n     8     5     6    1\\n     9     5    17    1\\n    10     6     7    1\\n    11     6    24    1\\n    12     6    25    1\\n    13     7     8    1\\n    14     7    26    1\\n    15     7    27    1\\n    16     8     9    1\\n    17     8    13    1\\n    18     9    10    1\\n    19     9    28    1\\n    20     9    29    1\\n    21    10    11    1\\n    22    10    12    1\\n    23    11    30    1\\n    24    13    14    1\\n    25    13    31    1\\n    26    13    32    1\\n    27    14    15    1\\n    28    14    16    1\\n    29    15    33    1\\n    30    17    18    1\\n    31    17    34    1\\n    32    17    35    1\\n    33    18    19    1\\n    34    18    20    1\\n    35    19    36    1\\n@<TRIPOS>SUBSTRUCTURE\\n     1 RES1       36 GROUP             0 ****  ****    0  \\n\",\"mol2\");\n",
       "\tviewergrid_1669748825823456[2][1].setStyle({\"stick\": {\"colorscheme\": \"Jmol\"}});\n",
       "\tviewergrid_1669748825823456[2][1].zoomTo();\n",
       "viewergrid_1669748825823456[2][3].render();\n",
       "viewergrid_1669748825823456[2][2].render();\n",
       "viewergrid_1669748825823456[2][1].render();\n",
       "viewergrid_1669748825823456[2][0].render();\n",
       "viewergrid_1669748825823456[1][3].render();\n",
       "viewergrid_1669748825823456[1][2].render();\n",
       "viewergrid_1669748825823456[1][1].render();\n",
       "viewergrid_1669748825823456[1][0].render();\n",
       "viewergrid_1669748825823456[0][3].render();\n",
       "viewergrid_1669748825823456[0][2].render();\n",
       "viewergrid_1669748825823456[0][1].render();\n",
       "viewergrid_1669748825823456[0][0].render();\n",
       "});\n",
       "</script>"
      ]
     },
     "metadata": {},
     "output_type": "display_data"
    },
    {
     "name": "stdout",
     "output_type": "stream",
     "text": [
      "Minimum-Energy conformer!\n"
     ]
    },
    {
     "data": {
      "application/3dmoljs_load.v0": "<div id=\"3dmolviewer_1669748825832545\"  style=\"position: relative; width: 200px; height: 200px\">\n        <p id=\"3dmolwarning_1669748825832545\" style=\"background-color:#ffcccc;color:black\">You appear to be running in JupyterLab (or JavaScript failed to load for some other reason).  You need to install the 3dmol extension: <br>\n        <tt>jupyter labextension install jupyterlab_3dmol</tt></p>\n        </div>\n<script>\n\nvar loadScriptAsync = function(uri){\n  return new Promise((resolve, reject) => {\n    var tag = document.createElement('script');\n    tag.src = uri;\n    tag.async = true;\n    tag.onload = () => {\n      resolve();\n    };\n  var firstScriptTag = document.getElementsByTagName('script')[0];\n  firstScriptTag.parentNode.insertBefore(tag, firstScriptTag);\n});\n};\n\nif(typeof $3Dmolpromise === 'undefined') {\n$3Dmolpromise = null;\n  $3Dmolpromise = loadScriptAsync('https://cdn.jsdelivr.net/npm/3dmol@latest/build/3Dmol-min.min.js');\n}\n\nvar viewer_1669748825832545 = null;\nvar warn = document.getElementById(\"3dmolwarning_1669748825832545\");\nif(warn) {\n    warn.parentNode.removeChild(warn);\n}\n$3Dmolpromise.then(function() {\nviewer_1669748825832545 = $3Dmol.createViewer($(\"#3dmolviewer_1669748825832545\"),{backgroundColor:\"white\"});\nviewer_1669748825832545.zoomTo();\n\tviewer_1669748825832545.addModel(\"@<TRIPOS>MOLECULE\\ntmp.mol2\\n    36    35     1     0     0\\nSMALL\\nNoCharges\\n****\\nGenerated from Architector\\n\\n@<TRIPOS>ATOM\\n     1 O1        3.8591    2.5387   -1.0536   O.2       1 RES1   0.0000\\n     2 C1        2.8618    1.9791   -0.3416   C.3       1 RES1   0.0000\\n     3 O2        2.5681    2.3353    0.7758   O.2       1 RES1   0.0000\\n     4 C2        2.1029    0.8734   -1.0007   C.3       1 RES1   0.0000\\n     5 N1        1.0846    0.2864   -0.0886   N.3       1 RES1   0.0000\\n     6 C3        0.0547    1.2776    0.3327   C.3       1 RES1   0.0000\\n     7 C4       -1.3127    0.6775    0.6240   C.3       1 RES1   0.0000\\n     8 N2       -2.0057    0.2348   -0.6261   N.3       1 RES1   0.0000\\n     9 C5       -3.2465    0.9886   -0.8713   C.3       1 RES1   0.0000\\n    10 C6       -4.2613    0.6631    0.1709   C.3       1 RES1   0.0000\\n    11 O3       -4.5401    1.6176    1.0799   O.2       1 RES1   0.0000\\n    12 O4       -4.7635   -0.4364    0.1818   O.2       1 RES1   0.0000\\n    13 C7       -2.1559   -1.2427   -0.7465   C.3       1 RES1   0.0000\\n    14 C8       -0.8406   -1.8872   -0.4881   C.3       1 RES1   0.0000\\n    15 O5       -0.0064   -2.0148   -1.5430   O.2       1 RES1   0.0000\\n    16 O6       -0.5495   -2.1813    0.6484   O.2       1 RES1   0.0000\\n    17 C9        1.6686   -0.4458    1.0551   C.3       1 RES1   0.0000\\n    18 C10       2.6828   -1.4595    0.6218   C.3       1 RES1   0.0000\\n    19 O7        3.7185   -1.6725    1.4567   O.2       1 RES1   0.0000\\n    20 O8        2.5586   -2.0491   -0.4259   O.2       1 RES1   0.0000\\n    21 H1        4.2639    3.2309   -0.4991   H         1 RES1   0.0000\\n    22 H2        1.6083    1.2383   -1.9017   H         1 RES1   0.0000\\n    23 H3        2.7901    0.0824   -1.3084   H         1 RES1   0.0000\\n    24 H4        0.4506    1.8268    1.1933   H         1 RES1   0.0000\\n    25 H5       -0.0506    2.0120   -0.4697   H         1 RES1   0.0000\\n    26 H6       -1.2215   -0.1790    1.2975   H         1 RES1   0.0000\\n    27 H7       -1.9529    1.4003    1.1403   H         1 RES1   0.0000\\n    28 H8       -3.0311    2.0580   -0.8704   H         1 RES1   0.0000\\n    29 H9       -3.6311    0.7284   -1.8585   H         1 RES1   0.0000\\n    30 H10      -5.2137    1.2571    1.6852   H         1 RES1   0.0000\\n    31 H11      -2.8977   -1.5840   -0.0202   H         1 RES1   0.0000\\n    32 H12      -2.5095   -1.4911   -1.7478   H         1 RES1   0.0000\\n    33 H13       0.8949   -2.1917   -1.1963   H         1 RES1   0.0000\\n    34 H14       2.1422    0.2718    1.7293   H         1 RES1   0.0000\\n    35 H15       0.8705   -0.9552    1.5976   H         1 RES1   0.0000\\n    36 H16       4.2827   -2.3584    1.0549   H         1 RES1   0.0000\\n@<TRIPOS>BOND\\n     1     1     2    1\\n     2     1    21    1\\n     3     2     3    1\\n     4     2     4    1\\n     5     4     5    1\\n     6     4    22    1\\n     7     4    23    1\\n     8     5     6    1\\n     9     5    17    1\\n    10     6     7    1\\n    11     6    24    1\\n    12     6    25    1\\n    13     7     8    1\\n    14     7    26    1\\n    15     7    27    1\\n    16     8     9    1\\n    17     8    13    1\\n    18     9    10    1\\n    19     9    28    1\\n    20     9    29    1\\n    21    10    11    1\\n    22    10    12    1\\n    23    11    30    1\\n    24    13    14    1\\n    25    13    31    1\\n    26    13    32    1\\n    27    14    15    1\\n    28    14    16    1\\n    29    15    33    1\\n    30    17    18    1\\n    31    17    34    1\\n    32    17    35    1\\n    33    18    19    1\\n    34    18    20    1\\n    35    19    36    1\\n@<TRIPOS>SUBSTRUCTURE\\n     1 RES1       36 GROUP             0 ****  ****    0  \\n\",\"mol2\");\n\tviewer_1669748825832545.setStyle({\"stick\": {\"colorscheme\": \"Jmol\"}});\n\tviewer_1669748825832545.zoomTo();\nviewer_1669748825832545.render();\n});\n</script>",
      "text/html": [
       "<div id=\"3dmolviewer_1669748825832545\"  style=\"position: relative; width: 200px; height: 200px\">\n",
       "        <p id=\"3dmolwarning_1669748825832545\" style=\"background-color:#ffcccc;color:black\">You appear to be running in JupyterLab (or JavaScript failed to load for some other reason).  You need to install the 3dmol extension: <br>\n",
       "        <tt>jupyter labextension install jupyterlab_3dmol</tt></p>\n",
       "        </div>\n",
       "<script>\n",
       "\n",
       "var loadScriptAsync = function(uri){\n",
       "  return new Promise((resolve, reject) => {\n",
       "    var tag = document.createElement('script');\n",
       "    tag.src = uri;\n",
       "    tag.async = true;\n",
       "    tag.onload = () => {\n",
       "      resolve();\n",
       "    };\n",
       "  var firstScriptTag = document.getElementsByTagName('script')[0];\n",
       "  firstScriptTag.parentNode.insertBefore(tag, firstScriptTag);\n",
       "});\n",
       "};\n",
       "\n",
       "if(typeof $3Dmolpromise === 'undefined') {\n",
       "$3Dmolpromise = null;\n",
       "  $3Dmolpromise = loadScriptAsync('https://cdn.jsdelivr.net/npm/3dmol@latest/build/3Dmol-min.min.js');\n",
       "}\n",
       "\n",
       "var viewer_1669748825832545 = null;\n",
       "var warn = document.getElementById(\"3dmolwarning_1669748825832545\");\n",
       "if(warn) {\n",
       "    warn.parentNode.removeChild(warn);\n",
       "}\n",
       "$3Dmolpromise.then(function() {\n",
       "viewer_1669748825832545 = $3Dmol.createViewer($(\"#3dmolviewer_1669748825832545\"),{backgroundColor:\"white\"});\n",
       "viewer_1669748825832545.zoomTo();\n",
       "\tviewer_1669748825832545.addModel(\"@<TRIPOS>MOLECULE\\ntmp.mol2\\n    36    35     1     0     0\\nSMALL\\nNoCharges\\n****\\nGenerated from Architector\\n\\n@<TRIPOS>ATOM\\n     1 O1        3.8591    2.5387   -1.0536   O.2       1 RES1   0.0000\\n     2 C1        2.8618    1.9791   -0.3416   C.3       1 RES1   0.0000\\n     3 O2        2.5681    2.3353    0.7758   O.2       1 RES1   0.0000\\n     4 C2        2.1029    0.8734   -1.0007   C.3       1 RES1   0.0000\\n     5 N1        1.0846    0.2864   -0.0886   N.3       1 RES1   0.0000\\n     6 C3        0.0547    1.2776    0.3327   C.3       1 RES1   0.0000\\n     7 C4       -1.3127    0.6775    0.6240   C.3       1 RES1   0.0000\\n     8 N2       -2.0057    0.2348   -0.6261   N.3       1 RES1   0.0000\\n     9 C5       -3.2465    0.9886   -0.8713   C.3       1 RES1   0.0000\\n    10 C6       -4.2613    0.6631    0.1709   C.3       1 RES1   0.0000\\n    11 O3       -4.5401    1.6176    1.0799   O.2       1 RES1   0.0000\\n    12 O4       -4.7635   -0.4364    0.1818   O.2       1 RES1   0.0000\\n    13 C7       -2.1559   -1.2427   -0.7465   C.3       1 RES1   0.0000\\n    14 C8       -0.8406   -1.8872   -0.4881   C.3       1 RES1   0.0000\\n    15 O5       -0.0064   -2.0148   -1.5430   O.2       1 RES1   0.0000\\n    16 O6       -0.5495   -2.1813    0.6484   O.2       1 RES1   0.0000\\n    17 C9        1.6686   -0.4458    1.0551   C.3       1 RES1   0.0000\\n    18 C10       2.6828   -1.4595    0.6218   C.3       1 RES1   0.0000\\n    19 O7        3.7185   -1.6725    1.4567   O.2       1 RES1   0.0000\\n    20 O8        2.5586   -2.0491   -0.4259   O.2       1 RES1   0.0000\\n    21 H1        4.2639    3.2309   -0.4991   H         1 RES1   0.0000\\n    22 H2        1.6083    1.2383   -1.9017   H         1 RES1   0.0000\\n    23 H3        2.7901    0.0824   -1.3084   H         1 RES1   0.0000\\n    24 H4        0.4506    1.8268    1.1933   H         1 RES1   0.0000\\n    25 H5       -0.0506    2.0120   -0.4697   H         1 RES1   0.0000\\n    26 H6       -1.2215   -0.1790    1.2975   H         1 RES1   0.0000\\n    27 H7       -1.9529    1.4003    1.1403   H         1 RES1   0.0000\\n    28 H8       -3.0311    2.0580   -0.8704   H         1 RES1   0.0000\\n    29 H9       -3.6311    0.7284   -1.8585   H         1 RES1   0.0000\\n    30 H10      -5.2137    1.2571    1.6852   H         1 RES1   0.0000\\n    31 H11      -2.8977   -1.5840   -0.0202   H         1 RES1   0.0000\\n    32 H12      -2.5095   -1.4911   -1.7478   H         1 RES1   0.0000\\n    33 H13       0.8949   -2.1917   -1.1963   H         1 RES1   0.0000\\n    34 H14       2.1422    0.2718    1.7293   H         1 RES1   0.0000\\n    35 H15       0.8705   -0.9552    1.5976   H         1 RES1   0.0000\\n    36 H16       4.2827   -2.3584    1.0549   H         1 RES1   0.0000\\n@<TRIPOS>BOND\\n     1     1     2    1\\n     2     1    21    1\\n     3     2     3    1\\n     4     2     4    1\\n     5     4     5    1\\n     6     4    22    1\\n     7     4    23    1\\n     8     5     6    1\\n     9     5    17    1\\n    10     6     7    1\\n    11     6    24    1\\n    12     6    25    1\\n    13     7     8    1\\n    14     7    26    1\\n    15     7    27    1\\n    16     8     9    1\\n    17     8    13    1\\n    18     9    10    1\\n    19     9    28    1\\n    20     9    29    1\\n    21    10    11    1\\n    22    10    12    1\\n    23    11    30    1\\n    24    13    14    1\\n    25    13    31    1\\n    26    13    32    1\\n    27    14    15    1\\n    28    14    16    1\\n    29    15    33    1\\n    30    17    18    1\\n    31    17    34    1\\n    32    17    35    1\\n    33    18    19    1\\n    34    18    20    1\\n    35    19    36    1\\n@<TRIPOS>SUBSTRUCTURE\\n     1 RES1       36 GROUP             0 ****  ****    0  \\n\",\"mol2\");\n",
       "\tviewer_1669748825832545.setStyle({\"stick\": {\"colorscheme\": \"Jmol\"}});\n",
       "\tviewer_1669748825832545.zoomTo();\n",
       "viewer_1669748825832545.render();\n",
       "});\n",
       "</script>"
      ]
     },
     "metadata": {},
     "output_type": "display_data"
    }
   ],
   "source": [
    "# Note that very different conformers from the bound ligand are formed by sampling!\n",
    "view_structures(ligand_conformers[0:10])\n",
    "print('Minimum-Energy conformer!')\n",
    "view_structures(ligand_conformers[xtb_energies.index(min(xtb_energies))])"
   ]
  },
  {
   "cell_type": "code",
   "execution_count": 18,
   "id": "77a4fb22",
   "metadata": {
    "scrolled": true
   },
   "outputs": [],
   "source": [
    "# smiles = 'C(C(=O)O)N'\n",
    "# # Slowest block in any tutorial! - likely minutes at a time depending on your CPU\n",
    "# ligand_conformers, xtb_energies = obmol_xtb_conformers(smiles,total_confs=100)\n",
    "# # Note that very different conformers from the bound ligand are formed by sampling!\n",
    "# view_structures(ligand_conformers[0:10])\n",
    "# print('Minimum-Energy conformer!')\n",
    "# view_structures(ligand_conformers[xtb_energies.index(min(xtb_energies))])"
   ]
  },
  {
   "cell_type": "markdown",
   "id": "39e50002",
   "metadata": {},
   "source": [
    "And the lowest-energy crest conformer can be used to estimate the pre-organization energy!"
   ]
  },
  {
   "cell_type": "code",
   "execution_count": 19,
   "id": "1e462259",
   "metadata": {},
   "outputs": [
    {
     "name": "stdout",
     "output_type": "stream",
     "text": [
      "Pre-organization energy (eV): -1.9569833473199196\n"
     ]
    }
   ],
   "source": [
    "pre_org_energy = min(xtb_energies) - lig_energy\n",
    "print('Pre-organization energy (eV):', pre_org_energy)"
   ]
  },
  {
   "cell_type": "markdown",
   "id": "aea47af7",
   "metadata": {},
   "source": [
    "### This indicates the gas-phase lowest-energy EDTA conformer is ~2 eV\n",
    "### lower in energy than the equivalent Ca-bound EDTA conformer."
   ]
  },
  {
   "cell_type": "markdown",
   "id": "48713e25",
   "metadata": {},
   "source": [
    "# Conclusions\n",
    "\n",
    "In this tutorial we looked at the ligand manipulation routines in Architector, covering:\n",
    "\n",
    "**(A)** Suggestions for identifying coordination sites in highly-coordinated ligands for Architector.\n",
    "\n",
    "**(B)** Evaluating the isolated ligand energetics as bound to the metal.\n",
    "\n",
    "**(C)** Utilizing wrappers for [CREST](https://xtb-docs.readthedocs.io/en/latest/crest.html) to sample gas-phase rotamers and compute the ligand pre-organization energies."
   ]
  }
 ],
 "metadata": {
  "kernelspec": {
   "display_name": "Python 3 (ipykernel)",
   "language": "python",
   "name": "python3"
  },
  "language_info": {
   "codemirror_mode": {
    "name": "ipython",
    "version": 3
   },
   "file_extension": ".py",
   "mimetype": "text/x-python",
   "name": "python",
   "nbconvert_exporter": "python",
   "pygments_lexer": "ipython3",
   "version": "3.9.13"
  }
 },
 "nbformat": 4,
 "nbformat_minor": 5
}
