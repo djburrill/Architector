{
 "cells": [
  {
   "cell_type": "markdown",
   "id": "d99f6153",
   "metadata": {},
   "source": [
    "# 1 - Overview/Introduction:\n",
    "\n",
    "### In this tutorial we will learn 3 key things to using Architector:\n",
    "\n",
    "**(A)** How to define basic input dictionaries for Architector.\n",
    "\n",
    "**(B)** How to understand and visualize outputs from Architector.\n",
    "\n",
    "**(C)** How to play with potentially important parameters for getting at chemical meaning."
   ]
  },
  {
   "cell_type": "markdown",
   "id": "20fabbd4",
   "metadata": {},
   "source": [
    "## Starting from **(A)**: \n",
    "Architector operates entirely within python for the general user taking an input dictionary, returning an output dictionary."
   ]
  },
  {
   "cell_type": "code",
   "execution_count": 1,
   "id": "8799202c",
   "metadata": {},
   "outputs": [],
   "source": [
    "# Initialize Input Dictionary:\n",
    "inputDict = dict()"
   ]
  },
  {
   "cell_type": "markdown",
   "id": "e374fc0e",
   "metadata": {},
   "source": [
    "For the first example we will make and Iron Hexa Aqua Complex : [Fe(H<sub>2</sub>O)<sub>6</sub>]<sup>2+</sup> / [Fe(H<sub>2</sub>O)<sub>6</sub>]<sup>3+</sup>\n",
    "\n",
    "There are 3 high-level inputs to Architector in an input dictionary to be aware of:\n",
    "\n",
    "## 1. Core: Dictionary:\n",
    "\n",
    "Indicates what metal is present, what its coordination number (CN) or number of of connections are, or specific core coordination. So for Iron Hexa-Aqua we will need to specify two parameters:"
   ]
  },
  {
   "cell_type": "code",
   "execution_count": 2,
   "id": "4778a13e",
   "metadata": {},
   "outputs": [],
   "source": [
    "# Initialize Core Dictionary\n",
    "coreDict = dict()\n",
    "\n",
    "# Specify the metal:\n",
    "coreDict['metal'] = 'Fe'\n",
    "\n",
    "# Specify the coordination number (CN):\n",
    "coreDict['coreCN'] = 6"
   ]
  },
  {
   "cell_type": "markdown",
   "id": "7903ebed",
   "metadata": {},
   "source": [
    "### That's it! Now we can add core to the input dictionary:"
   ]
  },
  {
   "cell_type": "code",
   "execution_count": 3,
   "id": "9f309881",
   "metadata": {},
   "outputs": [],
   "source": [
    "# Add the core to the input dictionary:\n",
    "inputDict['core'] = coreDict"
   ]
  },
  {
   "cell_type": "markdown",
   "id": "5ef29167",
   "metadata": {},
   "source": [
    "## 2. Ligands Dictionary:\n",
    "\n",
    "The ligands input to Architector specifies which ligands and the relative numbers of ligands passed. \n",
    "\n",
    "The ligands section of the inputDict is at the base level a python list of ligands represented as a dictionary:"
   ]
  },
  {
   "cell_type": "code",
   "execution_count": 4,
   "id": "03067431",
   "metadata": {},
   "outputs": [],
   "source": [
    "# Initilize Ligand List\n",
    "ligList = []\n",
    "\n",
    "# Define Water dictionary\n",
    "water = dict()"
   ]
  },
  {
   "cell_type": "markdown",
   "id": "5fca319c",
   "metadata": {},
   "source": [
    "The simplest way to define ligands is from only the ligands SMILES string and the list of coordinating atoms.\n",
    "\n",
    "[SMILES](https://en.wikipedia.org/wiki/Simplified_molecular-input_line-entry_system) is one of the most common methods for representing molecules for chemists. For water (H<sub>2</sub>O), and most common chemicals, we can find their representative smiles strings even on [wikipedia](https://en.wikipedia.org/wiki/Properties_of_water) or on [pubchem](https://pubchem.ncbi.nlm.nih.gov/compound/Water) from a quick google search.\n",
    "\n",
    "For water, the SMILES is 'O'. "
   ]
  },
  {
   "cell_type": "code",
   "execution_count": 5,
   "id": "cec97287",
   "metadata": {},
   "outputs": [],
   "source": [
    "# Add SMILES definition\n",
    "water['smiles'] = 'O'"
   ]
  },
  {
   "cell_type": "markdown",
   "id": "a1b64756",
   "metadata": {},
   "source": [
    "Since there is only one heavy element (Z > 1) in water, the only coordination site for the molecule is the first element, which corresponds to a (0-indexed) site of [0]. For more on SMILES and coordination site identification see the second tutorial: 2-Ligand_Identification.ipynb."
   ]
  },
  {
   "cell_type": "code",
   "execution_count": 6,
   "id": "d6eccdd8",
   "metadata": {},
   "outputs": [],
   "source": [
    "# Add coordination site list\n",
    "water['coordList'] = [0]"
   ]
  },
  {
   "cell_type": "markdown",
   "id": "4ca0a729",
   "metadata": {},
   "source": [
    "### Finally, we need to add 6 waters to the input dictionary for Iron Hexa-Aqua:"
   ]
  },
  {
   "cell_type": "code",
   "execution_count": 7,
   "id": "3543175f",
   "metadata": {},
   "outputs": [],
   "source": [
    "# Add six copies of water to the ligand list:\n",
    "ligList += [water] * 6 \n",
    "\n",
    "# Add the ligands to the inputDictionary\n",
    "inputDict['ligands'] = ligList"
   ]
  },
  {
   "cell_type": "markdown",
   "id": "1c57caeb",
   "metadata": {},
   "source": [
    "## 3. Parameters\n",
    "\n",
    "The parameters section of architector can give you broad leeway to specify how you want the construction of the molecules to occur.\n",
    "\n",
    "A basic parameters input requires just an empty dictionary. To increase this complexity by just a bit we will add the desired oxidation state to the parameters.  (giving: [Fe(H<sub>2</sub>O)<sub>6</sub>]<sup>2+</sup>)"
   ]
  },
  {
   "cell_type": "code",
   "execution_count": 8,
   "id": "c39e1315",
   "metadata": {},
   "outputs": [],
   "source": [
    "# Initialize Parameters dictionary\n",
    "parameters = dict()\n",
    "\n",
    "# Specify oxidation state of 2 for the metal\n",
    "parameters['metal_ox'] = 2"
   ]
  },
  {
   "cell_type": "markdown",
   "id": "82395379",
   "metadata": {},
   "source": [
    "### And add these parameters to the input dictionary:"
   ]
  },
  {
   "cell_type": "code",
   "execution_count": 9,
   "id": "98f3a2ba",
   "metadata": {},
   "outputs": [],
   "source": [
    "inputDict['parameters'] = parameters"
   ]
  },
  {
   "cell_type": "markdown",
   "id": "580ca0e8",
   "metadata": {},
   "source": [
    "### Now we have a fully assembled input dictionary for [Fe(H<sub>2</sub>O)<sub>6</sub>]<sup>2+</sup>\n",
    "\n",
    "This is quite easy to print out in a jupyter notebook:"
   ]
  },
  {
   "cell_type": "code",
   "execution_count": 10,
   "id": "fc793b71",
   "metadata": {},
   "outputs": [
    {
     "data": {
      "text/plain": [
       "{'core': {'metal': 'Fe', 'coreCN': 6},\n",
       " 'ligands': [{'smiles': 'O', 'coordList': [0]},\n",
       "  {'smiles': 'O', 'coordList': [0]},\n",
       "  {'smiles': 'O', 'coordList': [0]},\n",
       "  {'smiles': 'O', 'coordList': [0]},\n",
       "  {'smiles': 'O', 'coordList': [0]},\n",
       "  {'smiles': 'O', 'coordList': [0]}],\n",
       " 'parameters': {'metal_ox': 2}}"
      ]
     },
     "execution_count": 10,
     "metadata": {},
     "output_type": "execute_result"
    }
   ],
   "source": [
    "inputDict"
   ]
  },
  {
   "cell_type": "markdown",
   "id": "dc7a9a84",
   "metadata": {},
   "source": [
    "#### Note that a FULL description of potential input dictionary parameters and values can be found in the README.md file."
   ]
  },
  {
   "cell_type": "code",
   "execution_count": 11,
   "id": "bed4d55a",
   "metadata": {},
   "outputs": [],
   "source": [
    "# Now we Import the main building functionalities and the in-built visualization of architector:\n",
    "from architector import build_complex, view_structures"
   ]
  },
  {
   "cell_type": "markdown",
   "id": "1f05d6ec",
   "metadata": {},
   "source": [
    "#### Now, we build the complex!\n",
    "\n",
    "Building the first complex should take just a couple seconds:"
   ]
  },
  {
   "cell_type": "code",
   "execution_count": 12,
   "id": "0798f799",
   "metadata": {
    "scrolled": true
   },
   "outputs": [
    {
     "name": "stdout",
     "output_type": "stream",
     "text": [
      "                 Step     Time          Energy         fmax\n",
      "*Force-consistent energies used in optimization.\n",
      "LBFGSLineSearch:    0 11:39:00     -879.004000*      10.4273\n",
      "LBFGSLineSearch:    1 11:39:00     -883.602233*       4.8847\n",
      "LBFGSLineSearch:    2 11:39:00     -887.137920*       4.6210\n",
      "LBFGSLineSearch:    3 11:39:00     -887.943813*       2.2476\n",
      "LBFGSLineSearch:    4 11:39:00     -889.176683*       6.3614\n",
      "LBFGSLineSearch:    5 11:39:00     -890.508707*       4.2796\n",
      "LBFGSLineSearch:    6 11:39:00     -891.041882*       1.6044\n",
      "LBFGSLineSearch:    7 11:39:00     -891.137838*       0.5253\n",
      "LBFGSLineSearch:    8 11:39:00     -891.157531*       0.4713\n",
      "LBFGSLineSearch:    9 11:39:00     -891.182295*       0.4063\n",
      "LBFGSLineSearch:   10 11:39:00     -891.230936*       0.4577\n",
      "LBFGSLineSearch:   11 11:39:00     -891.248170*       0.2615\n",
      "LBFGSLineSearch:   12 11:39:00     -891.257939*       0.2086\n",
      "LBFGSLineSearch:   13 11:39:00     -891.267972*       0.3261\n",
      "LBFGSLineSearch:   14 11:39:00     -891.292105*       0.5127\n",
      "LBFGSLineSearch:   15 11:39:00     -891.321434*       0.5338\n",
      "LBFGSLineSearch:   16 11:39:00     -891.371851*       1.2345\n",
      "LBFGSLineSearch:   17 11:39:00     -891.513973*       1.0952\n",
      "LBFGSLineSearch:   18 11:39:00     -891.610444*       0.7839\n",
      "LBFGSLineSearch:   19 11:39:00     -891.653554*       0.7163\n",
      "LBFGSLineSearch:   20 11:39:00     -891.684496*       0.5351\n",
      "LBFGSLineSearch:   21 11:39:00     -891.728879*       0.6468\n",
      "LBFGSLineSearch:   22 11:39:00     -891.758731*       0.5260\n",
      "LBFGSLineSearch:   23 11:39:00     -891.780501*       0.4758\n",
      "LBFGSLineSearch:   24 11:39:00     -891.806997*       1.0054\n",
      "LBFGSLineSearch:   25 11:39:00     -891.877528*       0.7396\n",
      "LBFGSLineSearch:   26 11:39:00     -891.944612*       1.1056\n",
      "LBFGSLineSearch:   27 11:39:00     -892.059931*       1.0251\n",
      "LBFGSLineSearch:   28 11:39:00     -892.164201*       0.7505\n",
      "LBFGSLineSearch:   29 11:39:01     -892.191746*       0.8880\n",
      "LBFGSLineSearch:   30 11:39:01     -892.234097*       0.9224\n",
      "LBFGSLineSearch:   31 11:39:01     -892.281671*       0.5793\n",
      "LBFGSLineSearch:   32 11:39:01     -892.330628*       1.0069\n",
      "LBFGSLineSearch:   33 11:39:01     -892.355739*       0.9485\n",
      "LBFGSLineSearch:   34 11:39:01     -892.397024*       0.6686\n",
      "LBFGSLineSearch:   35 11:39:01     -892.419240*       0.4749\n",
      "LBFGSLineSearch:   36 11:39:01     -892.454931*       0.6790\n",
      "LBFGSLineSearch:   37 11:39:01     -892.486103*       0.5976\n",
      "LBFGSLineSearch:   38 11:39:01     -892.518626*       0.6708\n",
      "LBFGSLineSearch:   39 11:39:01     -892.552731*       0.7241\n",
      "LBFGSLineSearch:   40 11:39:01     -892.583476*       0.7391\n",
      "LBFGSLineSearch:   41 11:39:01     -892.604394*       0.5584\n",
      "LBFGSLineSearch:   42 11:39:01     -892.624446*       0.3209\n",
      "LBFGSLineSearch:   43 11:39:01     -892.637384*       0.2879\n",
      "LBFGSLineSearch:   44 11:39:01     -892.641616*       0.3635\n",
      "LBFGSLineSearch:   45 11:39:01     -892.646258*       0.1630\n",
      "LBFGSLineSearch:   46 11:39:01     -892.647814*       0.0943\n",
      "                 Step     Time          Energy         fmax\n",
      "*Force-consistent energies used in optimization.\n",
      "LBFGSLineSearch:    0 11:39:02     -887.753357*       5.3962\n",
      "LBFGSLineSearch:    1 11:39:02     -889.198644*       1.6343\n",
      "LBFGSLineSearch:    2 11:39:02     -890.834161*       1.1414\n",
      "LBFGSLineSearch:    3 11:39:03     -891.616616*       1.9755\n",
      "LBFGSLineSearch:    4 11:39:03     -892.445009*       1.5627\n",
      "LBFGSLineSearch:    5 11:39:03     -892.654173*       0.3815\n",
      "LBFGSLineSearch:    6 11:39:03     -892.664322*       0.0699\n",
      "                 Step     Time          Energy         fmax\n",
      "*Force-consistent energies used in optimization.\n",
      "LBFGSLineSearch:    0 11:39:05     -886.627137*       6.4591\n",
      "LBFGSLineSearch:    1 11:39:05     -888.498636*       2.1784\n",
      "LBFGSLineSearch:    2 11:39:05     -890.416188*       1.7102\n",
      "LBFGSLineSearch:    3 11:39:05     -890.828304*       5.0998\n",
      "LBFGSLineSearch:    4 11:39:05     -891.768898*       2.2227\n",
      "LBFGSLineSearch:    5 11:39:05     -891.970589*       0.9776\n",
      "LBFGSLineSearch:    6 11:39:05     -892.033577*       1.1445\n",
      "LBFGSLineSearch:    7 11:39:05     -892.137946*       1.4222\n",
      "LBFGSLineSearch:    8 11:39:05     -892.237021*       0.9992\n",
      "LBFGSLineSearch:    9 11:39:05     -892.262368*       0.2775\n",
      "LBFGSLineSearch:   10 11:39:05     -892.283233*       0.3425\n",
      "LBFGSLineSearch:   11 11:39:05     -892.287089*       0.1776\n",
      "LBFGSLineSearch:   12 11:39:05     -892.290234*       0.2590\n",
      "LBFGSLineSearch:   13 11:39:05     -892.294787*       0.1759\n",
      "LBFGSLineSearch:   14 11:39:05     -892.303230*       0.3265\n",
      "LBFGSLineSearch:   15 11:39:05     -892.338950*       0.3222\n",
      "LBFGSLineSearch:   16 11:39:05     -892.353362*       0.2526\n",
      "LBFGSLineSearch:   17 11:39:05     -892.359079*       0.1721\n",
      "LBFGSLineSearch:   18 11:39:05     -892.362768*       0.1421\n",
      "LBFGSLineSearch:   19 11:39:05     -892.368621*       0.1980\n",
      "LBFGSLineSearch:   20 11:39:05     -892.375255*       0.2049\n",
      "LBFGSLineSearch:   21 11:39:05     -892.384219*       0.2783\n",
      "LBFGSLineSearch:   22 11:39:05     -892.401516*       0.3887\n",
      "LBFGSLineSearch:   23 11:39:06     -892.410469*       0.1438\n",
      "LBFGSLineSearch:   24 11:39:06     -892.414248*       0.1338\n",
      "LBFGSLineSearch:   25 11:39:06     -892.415819*       0.1011\n",
      "LBFGSLineSearch:   26 11:39:06     -892.417711*       0.0899\n",
      "                 Step     Time          Energy         fmax\n",
      "*Force-consistent energies used in optimization.\n",
      "LBFGSLineSearch:    0 11:39:06     -887.695169*       5.5951\n",
      "LBFGSLineSearch:    1 11:39:06     -889.128070*       1.9519\n",
      "LBFGSLineSearch:    2 11:39:06     -890.699548*       1.6179\n",
      "LBFGSLineSearch:    3 11:39:06     -890.964142*       1.3109\n",
      "LBFGSLineSearch:    4 11:39:06     -892.009329*       3.3845\n",
      "LBFGSLineSearch:    5 11:39:06     -892.511768*       1.2453\n",
      "LBFGSLineSearch:    6 11:39:06     -892.549361*       0.3584\n",
      "LBFGSLineSearch:    7 11:39:06     -892.554557*       0.1634\n",
      "LBFGSLineSearch:    8 11:39:06     -892.560039*       0.2647\n",
      "LBFGSLineSearch:    9 11:39:06     -892.566118*       0.1226\n",
      "LBFGSLineSearch:   10 11:39:06     -892.570874*       0.2659\n",
      "LBFGSLineSearch:   11 11:39:06     -892.578581*       0.1603\n",
      "LBFGSLineSearch:   12 11:39:06     -892.580830*       0.0805\n"
     ]
    }
   ],
   "source": [
    "# We can see it print out information as it is processing.\n",
    "# The last line should be: 'ComplexSanity:  True'\n",
    "out = build_complex(inputDict)"
   ]
  },
  {
   "cell_type": "markdown",
   "id": "2d69fc18",
   "metadata": {},
   "source": [
    "## Now, onto **(B)** :  Understanding and visualizing output from architector\n",
    "\n",
    "There's obviously a lot going on here:"
   ]
  },
  {
   "cell_type": "code",
   "execution_count": 13,
   "id": "192723e8",
   "metadata": {
    "scrolled": true
   },
   "outputs": [
    {
     "data": {
      "text/plain": [
       "OrderedDict([('octahedral_0_nunpairedes_4_charge_2',\n",
       "              {'ase_atoms': Atoms(symbols='FeOH2OH2OH2OH2OH2OH2', pbc=False, initial_charges=..., initial_magmoms=..., calculator=XTB(...)),\n",
       "               'total_charge': 2,\n",
       "               'xtb_n_unpaired_electrons': 4,\n",
       "               'calc_n_unpaired_electrons': 4,\n",
       "               'metal_ox': 2,\n",
       "               'init_energy': -887.7533566864396,\n",
       "               'energy': -892.6643217408563,\n",
       "               'mol2string': '@<TRIPOS>MOLECULE\\nCharge: 2 Unpaired_Electrons: 4 XTB_Unpaired_Electrons: 4 Key: octahedral_0_nunpairedes_4_charge_2 .mol2\\n    19    18     1     0     0\\nSMALL\\nNoCharges\\n****\\nGenerated from Architector\\n\\n@<TRIPOS>ATOM\\n     1 Fe1       0.0000    0.0000   -0.0003   Fe        1 RES1   0.0000\\n     2 O1        0.0000    0.0000    2.3449   O.3       1 RES1   0.0000\\n     3 H1       -0.6439   -0.4203    2.9241   H         1 RES1   0.0000\\n     4 H2        0.6439    0.4203    2.9241   H         1 RES1   0.0000\\n     5 O2       -0.0000   -0.0000   -2.3447   O.3       1 RES1   0.0000\\n     6 H3        0.7537    0.1544   -2.9234   H         1 RES1   0.0000\\n     7 H4       -0.7537   -0.1544   -2.9234   H         1 RES1   0.0000\\n     8 O3        2.3505    0.0045   -0.0084   O.3       1 RES1   0.0000\\n     9 H5        2.9396    0.7509   -0.1558   H         1 RES1   0.0000\\n    10 H6        2.9244   -0.7479    0.1622   H         1 RES1   0.0000\\n    11 O4       -2.3505   -0.0045   -0.0084   O.3       1 RES1   0.0000\\n    12 H7       -2.9396   -0.7509   -0.1558   H         1 RES1   0.0000\\n    13 H8       -2.9244    0.7479    0.1622   H         1 RES1   0.0000\\n    14 O5        0.0044    2.3469    0.0071   O.3       1 RES1   0.0000\\n    15 H9       -0.7461    2.9242   -0.1608   H         1 RES1   0.0000\\n    16 H10       0.7476    2.9390    0.1549   H         1 RES1   0.0000\\n    17 O6       -0.0044   -2.3469    0.0071   O.3       1 RES1   0.0000\\n    18 H11       0.7461   -2.9242   -0.1608   H         1 RES1   0.0000\\n    19 H12      -0.7476   -2.9390    0.1549   H         1 RES1   0.0000\\n@<TRIPOS>BOND\\n     1     1     2    1\\n     2     1     5    1\\n     3     1     8    1\\n     4     1    11    1\\n     5     1    14    1\\n     6     1    17    1\\n     7     2     3    1\\n     8     2     4    1\\n     9     5     6    1\\n    10     5     7    1\\n    11     8     9    1\\n    12     8    10    1\\n    13    11    12    1\\n    14    11    13    1\\n    15    14    15    1\\n    16    14    16    1\\n    17    17    18    1\\n    18    17    19    1\\n@<TRIPOS>SUBSTRUCTURE\\n     1 RES1       19 GROUP             0 ****  ****    0  \\n',\n",
       "               'init_mol2string': None,\n",
       "               'energy_sorted_index': 0,\n",
       "               'inputDict': {'core': {'metal': 'Fe',\n",
       "                 'coreCN': 6,\n",
       "                 'smiles': '[Fe]'},\n",
       "                'ligands': [{'smiles': 'O',\n",
       "                  'coordList': [0],\n",
       "                  'ligType': 'mono',\n",
       "                  'ligCharge': 0},\n",
       "                 {'smiles': 'O',\n",
       "                  'coordList': [0],\n",
       "                  'ligType': 'mono',\n",
       "                  'ligCharge': 0},\n",
       "                 {'smiles': 'O',\n",
       "                  'coordList': [0],\n",
       "                  'ligType': 'mono',\n",
       "                  'ligCharge': 0},\n",
       "                 {'smiles': 'O',\n",
       "                  'coordList': [0],\n",
       "                  'ligType': 'mono',\n",
       "                  'ligCharge': 0},\n",
       "                 {'smiles': 'O',\n",
       "                  'coordList': [0],\n",
       "                  'ligType': 'mono',\n",
       "                  'ligCharge': 0},\n",
       "                 {'smiles': 'O',\n",
       "                  'coordList': [0],\n",
       "                  'ligType': 'mono',\n",
       "                  'ligCharge': 0}],\n",
       "                'parameters': {'n_conformers': 1,\n",
       "                 'return_only_1': False,\n",
       "                 'n_symmetries': 10,\n",
       "                 'n_lig_combos': 1,\n",
       "                 'relax': True,\n",
       "                 'debug': False,\n",
       "                 'save_init_geos': False,\n",
       "                 'save_trajectories': False,\n",
       "                 'return_timings': True,\n",
       "                 'return_full_complex_class': False,\n",
       "                 'uid': '8b624730-ff86-416e-a971-08fabca5156c',\n",
       "                 'dump_ase_atoms': False,\n",
       "                 'ase_atoms_db_name': 'architector_Fe_ase_db_8b624730-ff86-416e-a971-08fabca5156c.json',\n",
       "                 'temp_prefix': '/tmp/',\n",
       "                 'fill_ligand': {'smiles': 'O',\n",
       "                  'coordList': [0],\n",
       "                  'ligType': 'mono'},\n",
       "                 'secondary_fill_ligand': {'smiles': 'O',\n",
       "                  'coordList': [0],\n",
       "                  'ligType': 'mono'},\n",
       "                 'force_trans_oxos': False,\n",
       "                 'lig_assignment': 'bruteforce',\n",
       "                 'assemble_sanity_checks': True,\n",
       "                 'assemble_graph_sanity_cutoff': 1.8,\n",
       "                 'assemble_smallest_dist_cutoff': 0.3,\n",
       "                 'assemble_min_dist_cutoff': 4,\n",
       "                 'full_sanity_checks': True,\n",
       "                 'full_graph_sanity_cutoff': 1.7,\n",
       "                 'full_smallest_dist_cutoff': 0.55,\n",
       "                 'full_min_dist_cutoff': 3.5,\n",
       "                 'metal_ox': 2,\n",
       "                 'metal_spin': 4,\n",
       "                 'test_alternate_metal_spin': False,\n",
       "                 'alternate_metal_spin': 0,\n",
       "                 'solvent': 'none',\n",
       "                 'full_spin': None,\n",
       "                 'full_charge': None,\n",
       "                 'full_method': 'GFN2-xTB',\n",
       "                 'assemble_method': 'GFN2-xTB',\n",
       "                 'fmax': 0.1,\n",
       "                 'maxsteps': 1000,\n",
       "                 'skip_duplicate_tests': False,\n",
       "                 'vdwrad_metal': None,\n",
       "                 'covrad_metal': None,\n",
       "                 'scaled_radii_factor': None,\n",
       "                 'is_actinide': False,\n",
       "                 'original_metal': 'Fe',\n",
       "                 'in_metal': False},\n",
       "                'coreTypes': ['hexagonal_planar',\n",
       "                 'octahedral',\n",
       "                 'pentagonal_pyramidal',\n",
       "                 'trigonal_prismatic']},\n",
       "               'core_preprocess_time': 0.17062091827392578,\n",
       "               'symmetry_preprocess_time': 0.40522003173828125,\n",
       "               'total_liggen_time': 12.995437145233154,\n",
       "               'total_complex_assembly_time': 0.8550920486450195,\n",
       "               'final_relaxation_time': 0.604874849319458,\n",
       "               'sum_total_conformer_time_spent': 0.9490401744842529}),\n",
       "             ('trigonal_prismatic_0_nunpairedes_4_charge_2',\n",
       "              {'ase_atoms': Atoms(symbols='FeOH2OH2OH2OH2OH2OH2', pbc=False, initial_charges=..., initial_magmoms=..., calculator=XTB(...)),\n",
       "               'total_charge': 2,\n",
       "               'xtb_n_unpaired_electrons': 4,\n",
       "               'calc_n_unpaired_electrons': 4,\n",
       "               'metal_ox': 2,\n",
       "               'init_energy': -887.6951692320877,\n",
       "               'energy': -892.5808297543323,\n",
       "               'mol2string': '@<TRIPOS>MOLECULE\\nCharge: 2 Unpaired_Electrons: 4 XTB_Unpaired_Electrons: 4 Key: trigonal_prismatic_0_nunpairedes_4_charge_2 .mol2\\n    19    18     1     0     0\\nSMALL\\nNoCharges\\n****\\nGenerated from Architector\\n\\n@<TRIPOS>ATOM\\n     1 Fe1       0.0001    0.0067   -0.0201   Fe        1 RES1   0.0000\\n     2 O1        1.8057   -0.0135    1.4978   O.3       1 RES1   0.0000\\n     3 H1        2.3931   -0.7367    1.7390   H         1 RES1   0.0000\\n     4 H2        2.0754    0.7306    2.0471   H         1 RES1   0.0000\\n     5 O2       -0.9202    1.5414    1.4979   O.3       1 RES1   0.0000\\n     6 H3       -0.8951    1.4616    2.4571   H         1 RES1   0.0000\\n     7 H4       -1.3030    2.4077    1.3230   H         1 RES1   0.0000\\n     8 O3       -0.9045   -1.5821    1.4730   O.3       1 RES1   0.0000\\n     9 H5       -0.4889   -2.3743    1.8300   H         1 RES1   0.0000\\n    10 H6       -1.7365   -1.4868    1.9486   H         1 RES1   0.0000\\n    11 O4        1.8089    0.0178   -1.5011   O.3       1 RES1   0.0000\\n    12 H7        2.7249   -0.2084   -1.3101   H         1 RES1   0.0000\\n    13 H8        1.7771    0.1831   -2.4496   H         1 RES1   0.0000\\n    14 O5       -0.9101    1.5890   -1.5073   O.3       1 RES1   0.0000\\n    15 H9       -0.4548    2.0170   -2.2414   H         1 RES1   0.0000\\n    16 H10      -1.8241    1.8843   -1.5659   H         1 RES1   0.0000\\n    17 O6       -0.9018   -1.5605   -1.4876   O.3       1 RES1   0.0000\\n    18 H11      -0.9220   -1.4796   -2.4466   H         1 RES1   0.0000\\n    19 H12      -1.3320   -2.3974   -1.2840   H         1 RES1   0.0000\\n@<TRIPOS>BOND\\n     1     1     2    1\\n     2     1     5    1\\n     3     1     8    1\\n     4     1    11    1\\n     5     1    14    1\\n     6     1    17    1\\n     7     2     3    1\\n     8     2     4    1\\n     9     5     6    1\\n    10     5     7    1\\n    11     8     9    1\\n    12     8    10    1\\n    13    11    12    1\\n    14    11    13    1\\n    15    14    15    1\\n    16    14    16    1\\n    17    17    18    1\\n    18    17    19    1\\n@<TRIPOS>SUBSTRUCTURE\\n     1 RES1       19 GROUP             0 ****  ****    0  \\n',\n",
       "               'init_mol2string': None,\n",
       "               'energy_sorted_index': 0,\n",
       "               'inputDict': {'core': {'metal': 'Fe',\n",
       "                 'coreCN': 6,\n",
       "                 'smiles': '[Fe]'},\n",
       "                'ligands': [{'smiles': 'O',\n",
       "                  'coordList': [0],\n",
       "                  'ligType': 'mono',\n",
       "                  'ligCharge': 0},\n",
       "                 {'smiles': 'O',\n",
       "                  'coordList': [0],\n",
       "                  'ligType': 'mono',\n",
       "                  'ligCharge': 0},\n",
       "                 {'smiles': 'O',\n",
       "                  'coordList': [0],\n",
       "                  'ligType': 'mono',\n",
       "                  'ligCharge': 0},\n",
       "                 {'smiles': 'O',\n",
       "                  'coordList': [0],\n",
       "                  'ligType': 'mono',\n",
       "                  'ligCharge': 0},\n",
       "                 {'smiles': 'O',\n",
       "                  'coordList': [0],\n",
       "                  'ligType': 'mono',\n",
       "                  'ligCharge': 0},\n",
       "                 {'smiles': 'O',\n",
       "                  'coordList': [0],\n",
       "                  'ligType': 'mono',\n",
       "                  'ligCharge': 0}],\n",
       "                'parameters': {'n_conformers': 1,\n",
       "                 'return_only_1': False,\n",
       "                 'n_symmetries': 10,\n",
       "                 'n_lig_combos': 1,\n",
       "                 'relax': True,\n",
       "                 'debug': False,\n",
       "                 'save_init_geos': False,\n",
       "                 'save_trajectories': False,\n",
       "                 'return_timings': True,\n",
       "                 'return_full_complex_class': False,\n",
       "                 'uid': '8b624730-ff86-416e-a971-08fabca5156c',\n",
       "                 'dump_ase_atoms': False,\n",
       "                 'ase_atoms_db_name': 'architector_Fe_ase_db_8b624730-ff86-416e-a971-08fabca5156c.json',\n",
       "                 'temp_prefix': '/tmp/',\n",
       "                 'fill_ligand': {'smiles': 'O',\n",
       "                  'coordList': [0],\n",
       "                  'ligType': 'mono'},\n",
       "                 'secondary_fill_ligand': {'smiles': 'O',\n",
       "                  'coordList': [0],\n",
       "                  'ligType': 'mono'},\n",
       "                 'force_trans_oxos': False,\n",
       "                 'lig_assignment': 'bruteforce',\n",
       "                 'assemble_sanity_checks': True,\n",
       "                 'assemble_graph_sanity_cutoff': 1.8,\n",
       "                 'assemble_smallest_dist_cutoff': 0.3,\n",
       "                 'assemble_min_dist_cutoff': 4,\n",
       "                 'full_sanity_checks': True,\n",
       "                 'full_graph_sanity_cutoff': 1.7,\n",
       "                 'full_smallest_dist_cutoff': 0.55,\n",
       "                 'full_min_dist_cutoff': 3.5,\n",
       "                 'metal_ox': 2,\n",
       "                 'metal_spin': 4,\n",
       "                 'test_alternate_metal_spin': False,\n",
       "                 'alternate_metal_spin': 0,\n",
       "                 'solvent': 'none',\n",
       "                 'full_spin': None,\n",
       "                 'full_charge': None,\n",
       "                 'full_method': 'GFN2-xTB',\n",
       "                 'assemble_method': 'GFN2-xTB',\n",
       "                 'fmax': 0.1,\n",
       "                 'maxsteps': 1000,\n",
       "                 'skip_duplicate_tests': False,\n",
       "                 'vdwrad_metal': None,\n",
       "                 'covrad_metal': None,\n",
       "                 'scaled_radii_factor': None,\n",
       "                 'is_actinide': False,\n",
       "                 'original_metal': 'Fe',\n",
       "                 'in_metal': False},\n",
       "                'coreTypes': ['hexagonal_planar',\n",
       "                 'octahedral',\n",
       "                 'pentagonal_pyramidal',\n",
       "                 'trigonal_prismatic']},\n",
       "               'core_preprocess_time': 0.17062091827392578,\n",
       "               'symmetry_preprocess_time': 0.40522003173828125,\n",
       "               'total_liggen_time': 12.995437145233154,\n",
       "               'total_complex_assembly_time': 0.2567601203918457,\n",
       "               'final_relaxation_time': 0.2469651699066162,\n",
       "               'sum_total_conformer_time_spent': 2.516550302505493}),\n",
       "             ('pentagonal_pyramidal_0_nunpairedes_4_charge_2',\n",
       "              {'ase_atoms': Atoms(symbols='FeOH2OH2OH2OH2OH2OH2', pbc=False, initial_charges=..., initial_magmoms=..., calculator=XTB(...)),\n",
       "               'total_charge': 2,\n",
       "               'xtb_n_unpaired_electrons': 4,\n",
       "               'calc_n_unpaired_electrons': 4,\n",
       "               'metal_ox': 2,\n",
       "               'init_energy': -886.6271366582891,\n",
       "               'energy': -892.4177106180649,\n",
       "               'mol2string': '@<TRIPOS>MOLECULE\\nCharge: 2 Unpaired_Electrons: 4 XTB_Unpaired_Electrons: 4 Key: pentagonal_pyramidal_0_nunpairedes_4_charge_2 .mol2\\n    19    18     1     0     0\\nSMALL\\nNoCharges\\n****\\nGenerated from Architector\\n\\n@<TRIPOS>ATOM\\n     1 Fe1      -0.0066   -0.0050    0.2787   Fe        1 RES1   0.0000\\n     2 O1       -0.0065   -0.0201    2.6653   O.3       1 RES1   0.0000\\n     3 H1       -0.6589    0.3214    3.2856   H         1 RES1   0.0000\\n     4 H2        0.7539   -0.2772    3.1959   H         1 RES1   0.0000\\n     5 O2        2.4382    0.0395    0.0266   O.3       1 RES1   0.0000\\n     6 H3        2.9432    0.7073   -0.4478   H         1 RES1   0.0000\\n     7 H4        2.9079   -0.7904   -0.1075   H         1 RES1   0.0000\\n     8 O3        0.7391    2.2938   -0.1321   O.3       1 RES1   0.0000\\n     9 H5        0.4662    2.9639   -0.7661   H         1 RES1   0.0000\\n    10 H6        1.3164    2.7290    0.5037   H         1 RES1   0.0000\\n    11 O4       -2.0243    1.3624   -0.1322   O.3       1 RES1   0.0000\\n    12 H7       -2.4072    1.6131   -0.9792   H         1 RES1   0.0000\\n    13 H8       -2.3162    2.0286    0.4980   H         1 RES1   0.0000\\n    14 O5       -1.9145   -1.4521   -0.1429   O.3       1 RES1   0.0000\\n    15 H9       -2.0009   -2.4035   -0.0390   H         1 RES1   0.0000\\n    16 H10      -2.8038   -1.1103   -0.2839   H         1 RES1   0.0000\\n    17 O6        0.8229   -2.2859   -0.1309   O.3       1 RES1   0.0000\\n    18 H11       0.9322   -2.9146    0.5902   H         1 RES1   0.0000\\n    19 H12       0.8204   -2.8000   -0.9444   H         1 RES1   0.0000\\n@<TRIPOS>BOND\\n     1     1     2    1\\n     2     1     5    1\\n     3     1     8    1\\n     4     1    11    1\\n     5     1    14    1\\n     6     1    17    1\\n     7     2     3    1\\n     8     2     4    1\\n     9     5     6    1\\n    10     5     7    1\\n    11     8     9    1\\n    12     8    10    1\\n    13    11    12    1\\n    14    11    13    1\\n    15    14    15    1\\n    16    14    16    1\\n    17    17    18    1\\n    18    17    19    1\\n@<TRIPOS>SUBSTRUCTURE\\n     1 RES1       19 GROUP             0 ****  ****    0  \\n',\n",
       "               'init_mol2string': None,\n",
       "               'energy_sorted_index': 0,\n",
       "               'inputDict': {'core': {'metal': 'Fe',\n",
       "                 'coreCN': 6,\n",
       "                 'smiles': '[Fe]'},\n",
       "                'ligands': [{'smiles': 'O',\n",
       "                  'coordList': [0],\n",
       "                  'ligType': 'mono',\n",
       "                  'ligCharge': 0},\n",
       "                 {'smiles': 'O',\n",
       "                  'coordList': [0],\n",
       "                  'ligType': 'mono',\n",
       "                  'ligCharge': 0},\n",
       "                 {'smiles': 'O',\n",
       "                  'coordList': [0],\n",
       "                  'ligType': 'mono',\n",
       "                  'ligCharge': 0},\n",
       "                 {'smiles': 'O',\n",
       "                  'coordList': [0],\n",
       "                  'ligType': 'mono',\n",
       "                  'ligCharge': 0},\n",
       "                 {'smiles': 'O',\n",
       "                  'coordList': [0],\n",
       "                  'ligType': 'mono',\n",
       "                  'ligCharge': 0},\n",
       "                 {'smiles': 'O',\n",
       "                  'coordList': [0],\n",
       "                  'ligType': 'mono',\n",
       "                  'ligCharge': 0}],\n",
       "                'parameters': {'n_conformers': 1,\n",
       "                 'return_only_1': False,\n",
       "                 'n_symmetries': 10,\n",
       "                 'n_lig_combos': 1,\n",
       "                 'relax': True,\n",
       "                 'debug': False,\n",
       "                 'save_init_geos': False,\n",
       "                 'save_trajectories': False,\n",
       "                 'return_timings': True,\n",
       "                 'return_full_complex_class': False,\n",
       "                 'uid': '8b624730-ff86-416e-a971-08fabca5156c',\n",
       "                 'dump_ase_atoms': False,\n",
       "                 'ase_atoms_db_name': 'architector_Fe_ase_db_8b624730-ff86-416e-a971-08fabca5156c.json',\n",
       "                 'temp_prefix': '/tmp/',\n",
       "                 'fill_ligand': {'smiles': 'O',\n",
       "                  'coordList': [0],\n",
       "                  'ligType': 'mono'},\n",
       "                 'secondary_fill_ligand': {'smiles': 'O',\n",
       "                  'coordList': [0],\n",
       "                  'ligType': 'mono'},\n",
       "                 'force_trans_oxos': False,\n",
       "                 'lig_assignment': 'bruteforce',\n",
       "                 'assemble_sanity_checks': True,\n",
       "                 'assemble_graph_sanity_cutoff': 1.8,\n",
       "                 'assemble_smallest_dist_cutoff': 0.3,\n",
       "                 'assemble_min_dist_cutoff': 4,\n",
       "                 'full_sanity_checks': True,\n",
       "                 'full_graph_sanity_cutoff': 1.7,\n",
       "                 'full_smallest_dist_cutoff': 0.55,\n",
       "                 'full_min_dist_cutoff': 3.5,\n",
       "                 'metal_ox': 2,\n",
       "                 'metal_spin': 4,\n",
       "                 'test_alternate_metal_spin': False,\n",
       "                 'alternate_metal_spin': 0,\n",
       "                 'solvent': 'none',\n",
       "                 'full_spin': None,\n",
       "                 'full_charge': None,\n",
       "                 'full_method': 'GFN2-xTB',\n",
       "                 'assemble_method': 'GFN2-xTB',\n",
       "                 'fmax': 0.1,\n",
       "                 'maxsteps': 1000,\n",
       "                 'skip_duplicate_tests': False,\n",
       "                 'vdwrad_metal': None,\n",
       "                 'covrad_metal': None,\n",
       "                 'scaled_radii_factor': None,\n",
       "                 'is_actinide': False,\n",
       "                 'original_metal': 'Fe',\n",
       "                 'in_metal': False},\n",
       "                'coreTypes': ['hexagonal_planar',\n",
       "                 'octahedral',\n",
       "                 'pentagonal_pyramidal',\n",
       "                 'trigonal_prismatic']},\n",
       "               'core_preprocess_time': 0.17062091827392578,\n",
       "               'symmetry_preprocess_time': 0.40522003173828125,\n",
       "               'total_liggen_time': 12.995437145233154,\n",
       "               'total_complex_assembly_time': 1.3347370624542236,\n",
       "               'final_relaxation_time': 0.8956520557403564,\n",
       "               'sum_total_conformer_time_spent': 4.488181114196777})])"
      ]
     },
     "execution_count": 13,
     "metadata": {},
     "output_type": "execute_result"
    }
   ],
   "source": [
    "out"
   ]
  },
  {
   "cell_type": "markdown",
   "id": "fdabfd27",
   "metadata": {},
   "source": [
    "#### So let's first just visualize the structures:"
   ]
  },
  {
   "cell_type": "code",
   "execution_count": 14,
   "id": "699598e3",
   "metadata": {},
   "outputs": [
    {
     "data": {
      "application/3dmoljs_load.v0": "<div id=\"3dmolviewer_16697471507146711\"  style=\"position: relative; width: 800px; height: 200px\">\n        <p id=\"3dmolwarning_16697471507146711\" style=\"background-color:#ffcccc;color:black\">You appear to be running in JupyterLab (or JavaScript failed to load for some other reason).  You need to install the 3dmol extension: <br>\n        <tt>jupyter labextension install jupyterlab_3dmol</tt></p>\n        </div>\n<script>\n\nvar loadScriptAsync = function(uri){\n  return new Promise((resolve, reject) => {\n    var tag = document.createElement('script');\n    tag.src = uri;\n    tag.async = true;\n    tag.onload = () => {\n      resolve();\n    };\n  var firstScriptTag = document.getElementsByTagName('script')[0];\n  firstScriptTag.parentNode.insertBefore(tag, firstScriptTag);\n});\n};\n\nif(typeof $3Dmolpromise === 'undefined') {\n$3Dmolpromise = null;\n  $3Dmolpromise = loadScriptAsync('https://cdn.jsdelivr.net/npm/3dmol@latest/build/3Dmol-min.min.js');\n}\n\nvar viewer_16697471507146711 = null;\nvar warn = document.getElementById(\"3dmolwarning_16697471507146711\");\nif(warn) {\n    warn.parentNode.removeChild(warn);\n}\n$3Dmolpromise.then(function() {\nvar viewergrid_16697471507146711 = null;\nviewergrid_16697471507146711 = $3Dmol.createViewerGrid($(\"#3dmolviewer_16697471507146711\"),{rows: 1, cols: 4, control_all: false},{backgroundColor:\"white\"});\nviewer_16697471507146711 = viewergrid_16697471507146711[0][0];\nviewergrid_16697471507146711[0][0].zoomTo();viewergrid_16697471507146711[0][1].zoomTo();viewergrid_16697471507146711[0][2].zoomTo();viewergrid_16697471507146711[0][3].zoomTo();\tviewergrid_16697471507146711[0][0].addModel(\"@<TRIPOS>MOLECULE\\ntmp.mol2\\n    19    18     1     0     0\\nSMALL\\nNoCharges\\n****\\nGenerated from Architector\\n\\n@<TRIPOS>ATOM\\n     1 Fe1       0.0000    0.0000   -0.0003   Fe        1 RES1   0.0000\\n     2 O1        0.0000    0.0000    2.3449   O.3       1 RES1   0.0000\\n     3 H1       -0.6439   -0.4203    2.9241   H         1 RES1   0.0000\\n     4 H2        0.6439    0.4203    2.9241   H         1 RES1   0.0000\\n     5 O2       -0.0000   -0.0000   -2.3447   O.3       1 RES1   0.0000\\n     6 H3        0.7537    0.1544   -2.9234   H         1 RES1   0.0000\\n     7 H4       -0.7537   -0.1544   -2.9234   H         1 RES1   0.0000\\n     8 O3        2.3505    0.0045   -0.0084   O.3       1 RES1   0.0000\\n     9 H5        2.9396    0.7509   -0.1558   H         1 RES1   0.0000\\n    10 H6        2.9244   -0.7479    0.1622   H         1 RES1   0.0000\\n    11 O4       -2.3505   -0.0045   -0.0084   O.3       1 RES1   0.0000\\n    12 H7       -2.9396   -0.7509   -0.1558   H         1 RES1   0.0000\\n    13 H8       -2.9244    0.7479    0.1622   H         1 RES1   0.0000\\n    14 O5        0.0044    2.3469    0.0071   O.3       1 RES1   0.0000\\n    15 H9       -0.7461    2.9242   -0.1608   H         1 RES1   0.0000\\n    16 H10       0.7476    2.9390    0.1549   H         1 RES1   0.0000\\n    17 O6       -0.0044   -2.3469    0.0071   O.3       1 RES1   0.0000\\n    18 H11       0.7461   -2.9242   -0.1608   H         1 RES1   0.0000\\n    19 H12      -0.7476   -2.9390    0.1549   H         1 RES1   0.0000\\n@<TRIPOS>BOND\\n     1     1     2    1\\n     2     1     5    1\\n     3     1     8    1\\n     4     1    11    1\\n     5     1    14    1\\n     6     1    17    1\\n     7     2     3    1\\n     8     2     4    1\\n     9     5     6    1\\n    10     5     7    1\\n    11     8     9    1\\n    12     8    10    1\\n    13    11    12    1\\n    14    11    13    1\\n    15    14    15    1\\n    16    14    16    1\\n    17    17    18    1\\n    18    17    19    1\\n@<TRIPOS>SUBSTRUCTURE\\n     1 RES1       19 GROUP             0 ****  ****    0  \\n\",\"mol2\");\n\tviewergrid_16697471507146711[0][0].setStyle({\"stick\": {\"colorscheme\": \"Jmol\"}});\n\tviewergrid_16697471507146711[0][0].zoomTo();\n\tviewergrid_16697471507146711[0][1].addModel(\"@<TRIPOS>MOLECULE\\ntmp.mol2\\n    19    18     1     0     0\\nSMALL\\nNoCharges\\n****\\nGenerated from Architector\\n\\n@<TRIPOS>ATOM\\n     1 Fe1       0.0001    0.0067   -0.0201   Fe        1 RES1   0.0000\\n     2 O1        1.8057   -0.0135    1.4978   O.3       1 RES1   0.0000\\n     3 H1        2.3931   -0.7367    1.7390   H         1 RES1   0.0000\\n     4 H2        2.0754    0.7306    2.0471   H         1 RES1   0.0000\\n     5 O2       -0.9202    1.5414    1.4979   O.3       1 RES1   0.0000\\n     6 H3       -0.8951    1.4616    2.4571   H         1 RES1   0.0000\\n     7 H4       -1.3030    2.4077    1.3230   H         1 RES1   0.0000\\n     8 O3       -0.9045   -1.5821    1.4730   O.3       1 RES1   0.0000\\n     9 H5       -0.4889   -2.3743    1.8300   H         1 RES1   0.0000\\n    10 H6       -1.7365   -1.4868    1.9486   H         1 RES1   0.0000\\n    11 O4        1.8089    0.0178   -1.5011   O.3       1 RES1   0.0000\\n    12 H7        2.7249   -0.2084   -1.3101   H         1 RES1   0.0000\\n    13 H8        1.7771    0.1831   -2.4496   H         1 RES1   0.0000\\n    14 O5       -0.9101    1.5890   -1.5073   O.3       1 RES1   0.0000\\n    15 H9       -0.4548    2.0170   -2.2414   H         1 RES1   0.0000\\n    16 H10      -1.8241    1.8843   -1.5659   H         1 RES1   0.0000\\n    17 O6       -0.9018   -1.5605   -1.4876   O.3       1 RES1   0.0000\\n    18 H11      -0.9220   -1.4796   -2.4466   H         1 RES1   0.0000\\n    19 H12      -1.3320   -2.3974   -1.2840   H         1 RES1   0.0000\\n@<TRIPOS>BOND\\n     1     1     2    1\\n     2     1     5    1\\n     3     1     8    1\\n     4     1    11    1\\n     5     1    14    1\\n     6     1    17    1\\n     7     2     3    1\\n     8     2     4    1\\n     9     5     6    1\\n    10     5     7    1\\n    11     8     9    1\\n    12     8    10    1\\n    13    11    12    1\\n    14    11    13    1\\n    15    14    15    1\\n    16    14    16    1\\n    17    17    18    1\\n    18    17    19    1\\n@<TRIPOS>SUBSTRUCTURE\\n     1 RES1       19 GROUP             0 ****  ****    0  \\n\",\"mol2\");\n\tviewergrid_16697471507146711[0][1].setStyle({\"stick\": {\"colorscheme\": \"Jmol\"}});\n\tviewergrid_16697471507146711[0][1].zoomTo();\n\tviewergrid_16697471507146711[0][2].addModel(\"@<TRIPOS>MOLECULE\\ntmp.mol2\\n    19    18     1     0     0\\nSMALL\\nNoCharges\\n****\\nGenerated from Architector\\n\\n@<TRIPOS>ATOM\\n     1 Fe1      -0.0066   -0.0050    0.2787   Fe        1 RES1   0.0000\\n     2 O1       -0.0065   -0.0201    2.6653   O.3       1 RES1   0.0000\\n     3 H1       -0.6589    0.3214    3.2856   H         1 RES1   0.0000\\n     4 H2        0.7539   -0.2772    3.1959   H         1 RES1   0.0000\\n     5 O2        2.4382    0.0395    0.0266   O.3       1 RES1   0.0000\\n     6 H3        2.9432    0.7073   -0.4478   H         1 RES1   0.0000\\n     7 H4        2.9079   -0.7904   -0.1075   H         1 RES1   0.0000\\n     8 O3        0.7391    2.2938   -0.1321   O.3       1 RES1   0.0000\\n     9 H5        0.4662    2.9639   -0.7661   H         1 RES1   0.0000\\n    10 H6        1.3164    2.7290    0.5037   H         1 RES1   0.0000\\n    11 O4       -2.0243    1.3624   -0.1322   O.3       1 RES1   0.0000\\n    12 H7       -2.4072    1.6131   -0.9792   H         1 RES1   0.0000\\n    13 H8       -2.3162    2.0286    0.4980   H         1 RES1   0.0000\\n    14 O5       -1.9145   -1.4521   -0.1429   O.3       1 RES1   0.0000\\n    15 H9       -2.0009   -2.4035   -0.0390   H         1 RES1   0.0000\\n    16 H10      -2.8038   -1.1103   -0.2839   H         1 RES1   0.0000\\n    17 O6        0.8229   -2.2859   -0.1309   O.3       1 RES1   0.0000\\n    18 H11       0.9322   -2.9146    0.5902   H         1 RES1   0.0000\\n    19 H12       0.8204   -2.8000   -0.9444   H         1 RES1   0.0000\\n@<TRIPOS>BOND\\n     1     1     2    1\\n     2     1     5    1\\n     3     1     8    1\\n     4     1    11    1\\n     5     1    14    1\\n     6     1    17    1\\n     7     2     3    1\\n     8     2     4    1\\n     9     5     6    1\\n    10     5     7    1\\n    11     8     9    1\\n    12     8    10    1\\n    13    11    12    1\\n    14    11    13    1\\n    15    14    15    1\\n    16    14    16    1\\n    17    17    18    1\\n    18    17    19    1\\n@<TRIPOS>SUBSTRUCTURE\\n     1 RES1       19 GROUP             0 ****  ****    0  \\n\",\"mol2\");\n\tviewergrid_16697471507146711[0][2].setStyle({\"stick\": {\"colorscheme\": \"Jmol\"}});\n\tviewergrid_16697471507146711[0][2].zoomTo();\nviewergrid_16697471507146711[0][3].render();\nviewergrid_16697471507146711[0][2].render();\nviewergrid_16697471507146711[0][1].render();\nviewergrid_16697471507146711[0][0].render();\n});\n</script>",
      "text/html": [
       "<div id=\"3dmolviewer_16697471507146711\"  style=\"position: relative; width: 800px; height: 200px\">\n",
       "        <p id=\"3dmolwarning_16697471507146711\" style=\"background-color:#ffcccc;color:black\">You appear to be running in JupyterLab (or JavaScript failed to load for some other reason).  You need to install the 3dmol extension: <br>\n",
       "        <tt>jupyter labextension install jupyterlab_3dmol</tt></p>\n",
       "        </div>\n",
       "<script>\n",
       "\n",
       "var loadScriptAsync = function(uri){\n",
       "  return new Promise((resolve, reject) => {\n",
       "    var tag = document.createElement('script');\n",
       "    tag.src = uri;\n",
       "    tag.async = true;\n",
       "    tag.onload = () => {\n",
       "      resolve();\n",
       "    };\n",
       "  var firstScriptTag = document.getElementsByTagName('script')[0];\n",
       "  firstScriptTag.parentNode.insertBefore(tag, firstScriptTag);\n",
       "});\n",
       "};\n",
       "\n",
       "if(typeof $3Dmolpromise === 'undefined') {\n",
       "$3Dmolpromise = null;\n",
       "  $3Dmolpromise = loadScriptAsync('https://cdn.jsdelivr.net/npm/3dmol@latest/build/3Dmol-min.min.js');\n",
       "}\n",
       "\n",
       "var viewer_16697471507146711 = null;\n",
       "var warn = document.getElementById(\"3dmolwarning_16697471507146711\");\n",
       "if(warn) {\n",
       "    warn.parentNode.removeChild(warn);\n",
       "}\n",
       "$3Dmolpromise.then(function() {\n",
       "var viewergrid_16697471507146711 = null;\n",
       "viewergrid_16697471507146711 = $3Dmol.createViewerGrid($(\"#3dmolviewer_16697471507146711\"),{rows: 1, cols: 4, control_all: false},{backgroundColor:\"white\"});\n",
       "viewer_16697471507146711 = viewergrid_16697471507146711[0][0];\n",
       "viewergrid_16697471507146711[0][0].zoomTo();viewergrid_16697471507146711[0][1].zoomTo();viewergrid_16697471507146711[0][2].zoomTo();viewergrid_16697471507146711[0][3].zoomTo();\tviewergrid_16697471507146711[0][0].addModel(\"@<TRIPOS>MOLECULE\\ntmp.mol2\\n    19    18     1     0     0\\nSMALL\\nNoCharges\\n****\\nGenerated from Architector\\n\\n@<TRIPOS>ATOM\\n     1 Fe1       0.0000    0.0000   -0.0003   Fe        1 RES1   0.0000\\n     2 O1        0.0000    0.0000    2.3449   O.3       1 RES1   0.0000\\n     3 H1       -0.6439   -0.4203    2.9241   H         1 RES1   0.0000\\n     4 H2        0.6439    0.4203    2.9241   H         1 RES1   0.0000\\n     5 O2       -0.0000   -0.0000   -2.3447   O.3       1 RES1   0.0000\\n     6 H3        0.7537    0.1544   -2.9234   H         1 RES1   0.0000\\n     7 H4       -0.7537   -0.1544   -2.9234   H         1 RES1   0.0000\\n     8 O3        2.3505    0.0045   -0.0084   O.3       1 RES1   0.0000\\n     9 H5        2.9396    0.7509   -0.1558   H         1 RES1   0.0000\\n    10 H6        2.9244   -0.7479    0.1622   H         1 RES1   0.0000\\n    11 O4       -2.3505   -0.0045   -0.0084   O.3       1 RES1   0.0000\\n    12 H7       -2.9396   -0.7509   -0.1558   H         1 RES1   0.0000\\n    13 H8       -2.9244    0.7479    0.1622   H         1 RES1   0.0000\\n    14 O5        0.0044    2.3469    0.0071   O.3       1 RES1   0.0000\\n    15 H9       -0.7461    2.9242   -0.1608   H         1 RES1   0.0000\\n    16 H10       0.7476    2.9390    0.1549   H         1 RES1   0.0000\\n    17 O6       -0.0044   -2.3469    0.0071   O.3       1 RES1   0.0000\\n    18 H11       0.7461   -2.9242   -0.1608   H         1 RES1   0.0000\\n    19 H12      -0.7476   -2.9390    0.1549   H         1 RES1   0.0000\\n@<TRIPOS>BOND\\n     1     1     2    1\\n     2     1     5    1\\n     3     1     8    1\\n     4     1    11    1\\n     5     1    14    1\\n     6     1    17    1\\n     7     2     3    1\\n     8     2     4    1\\n     9     5     6    1\\n    10     5     7    1\\n    11     8     9    1\\n    12     8    10    1\\n    13    11    12    1\\n    14    11    13    1\\n    15    14    15    1\\n    16    14    16    1\\n    17    17    18    1\\n    18    17    19    1\\n@<TRIPOS>SUBSTRUCTURE\\n     1 RES1       19 GROUP             0 ****  ****    0  \\n\",\"mol2\");\n",
       "\tviewergrid_16697471507146711[0][0].setStyle({\"stick\": {\"colorscheme\": \"Jmol\"}});\n",
       "\tviewergrid_16697471507146711[0][0].zoomTo();\n",
       "\tviewergrid_16697471507146711[0][1].addModel(\"@<TRIPOS>MOLECULE\\ntmp.mol2\\n    19    18     1     0     0\\nSMALL\\nNoCharges\\n****\\nGenerated from Architector\\n\\n@<TRIPOS>ATOM\\n     1 Fe1       0.0001    0.0067   -0.0201   Fe        1 RES1   0.0000\\n     2 O1        1.8057   -0.0135    1.4978   O.3       1 RES1   0.0000\\n     3 H1        2.3931   -0.7367    1.7390   H         1 RES1   0.0000\\n     4 H2        2.0754    0.7306    2.0471   H         1 RES1   0.0000\\n     5 O2       -0.9202    1.5414    1.4979   O.3       1 RES1   0.0000\\n     6 H3       -0.8951    1.4616    2.4571   H         1 RES1   0.0000\\n     7 H4       -1.3030    2.4077    1.3230   H         1 RES1   0.0000\\n     8 O3       -0.9045   -1.5821    1.4730   O.3       1 RES1   0.0000\\n     9 H5       -0.4889   -2.3743    1.8300   H         1 RES1   0.0000\\n    10 H6       -1.7365   -1.4868    1.9486   H         1 RES1   0.0000\\n    11 O4        1.8089    0.0178   -1.5011   O.3       1 RES1   0.0000\\n    12 H7        2.7249   -0.2084   -1.3101   H         1 RES1   0.0000\\n    13 H8        1.7771    0.1831   -2.4496   H         1 RES1   0.0000\\n    14 O5       -0.9101    1.5890   -1.5073   O.3       1 RES1   0.0000\\n    15 H9       -0.4548    2.0170   -2.2414   H         1 RES1   0.0000\\n    16 H10      -1.8241    1.8843   -1.5659   H         1 RES1   0.0000\\n    17 O6       -0.9018   -1.5605   -1.4876   O.3       1 RES1   0.0000\\n    18 H11      -0.9220   -1.4796   -2.4466   H         1 RES1   0.0000\\n    19 H12      -1.3320   -2.3974   -1.2840   H         1 RES1   0.0000\\n@<TRIPOS>BOND\\n     1     1     2    1\\n     2     1     5    1\\n     3     1     8    1\\n     4     1    11    1\\n     5     1    14    1\\n     6     1    17    1\\n     7     2     3    1\\n     8     2     4    1\\n     9     5     6    1\\n    10     5     7    1\\n    11     8     9    1\\n    12     8    10    1\\n    13    11    12    1\\n    14    11    13    1\\n    15    14    15    1\\n    16    14    16    1\\n    17    17    18    1\\n    18    17    19    1\\n@<TRIPOS>SUBSTRUCTURE\\n     1 RES1       19 GROUP             0 ****  ****    0  \\n\",\"mol2\");\n",
       "\tviewergrid_16697471507146711[0][1].setStyle({\"stick\": {\"colorscheme\": \"Jmol\"}});\n",
       "\tviewergrid_16697471507146711[0][1].zoomTo();\n",
       "\tviewergrid_16697471507146711[0][2].addModel(\"@<TRIPOS>MOLECULE\\ntmp.mol2\\n    19    18     1     0     0\\nSMALL\\nNoCharges\\n****\\nGenerated from Architector\\n\\n@<TRIPOS>ATOM\\n     1 Fe1      -0.0066   -0.0050    0.2787   Fe        1 RES1   0.0000\\n     2 O1       -0.0065   -0.0201    2.6653   O.3       1 RES1   0.0000\\n     3 H1       -0.6589    0.3214    3.2856   H         1 RES1   0.0000\\n     4 H2        0.7539   -0.2772    3.1959   H         1 RES1   0.0000\\n     5 O2        2.4382    0.0395    0.0266   O.3       1 RES1   0.0000\\n     6 H3        2.9432    0.7073   -0.4478   H         1 RES1   0.0000\\n     7 H4        2.9079   -0.7904   -0.1075   H         1 RES1   0.0000\\n     8 O3        0.7391    2.2938   -0.1321   O.3       1 RES1   0.0000\\n     9 H5        0.4662    2.9639   -0.7661   H         1 RES1   0.0000\\n    10 H6        1.3164    2.7290    0.5037   H         1 RES1   0.0000\\n    11 O4       -2.0243    1.3624   -0.1322   O.3       1 RES1   0.0000\\n    12 H7       -2.4072    1.6131   -0.9792   H         1 RES1   0.0000\\n    13 H8       -2.3162    2.0286    0.4980   H         1 RES1   0.0000\\n    14 O5       -1.9145   -1.4521   -0.1429   O.3       1 RES1   0.0000\\n    15 H9       -2.0009   -2.4035   -0.0390   H         1 RES1   0.0000\\n    16 H10      -2.8038   -1.1103   -0.2839   H         1 RES1   0.0000\\n    17 O6        0.8229   -2.2859   -0.1309   O.3       1 RES1   0.0000\\n    18 H11       0.9322   -2.9146    0.5902   H         1 RES1   0.0000\\n    19 H12       0.8204   -2.8000   -0.9444   H         1 RES1   0.0000\\n@<TRIPOS>BOND\\n     1     1     2    1\\n     2     1     5    1\\n     3     1     8    1\\n     4     1    11    1\\n     5     1    14    1\\n     6     1    17    1\\n     7     2     3    1\\n     8     2     4    1\\n     9     5     6    1\\n    10     5     7    1\\n    11     8     9    1\\n    12     8    10    1\\n    13    11    12    1\\n    14    11    13    1\\n    15    14    15    1\\n    16    14    16    1\\n    17    17    18    1\\n    18    17    19    1\\n@<TRIPOS>SUBSTRUCTURE\\n     1 RES1       19 GROUP             0 ****  ****    0  \\n\",\"mol2\");\n",
       "\tviewergrid_16697471507146711[0][2].setStyle({\"stick\": {\"colorscheme\": \"Jmol\"}});\n",
       "\tviewergrid_16697471507146711[0][2].zoomTo();\n",
       "viewergrid_16697471507146711[0][3].render();\n",
       "viewergrid_16697471507146711[0][2].render();\n",
       "viewergrid_16697471507146711[0][1].render();\n",
       "viewergrid_16697471507146711[0][0].render();\n",
       "});\n",
       "</script>"
      ]
     },
     "metadata": {},
     "output_type": "display_data"
    }
   ],
   "source": [
    "view_structures(out)"
   ]
  },
  {
   "cell_type": "code",
   "execution_count": 15,
   "id": "f141c3c9",
   "metadata": {},
   "outputs": [
    {
     "data": {
      "application/3dmoljs_load.v0": "<div id=\"3dmolviewer_1669747150732448\"  style=\"position: relative; width: 800px; height: 200px\">\n        <p id=\"3dmolwarning_1669747150732448\" style=\"background-color:#ffcccc;color:black\">You appear to be running in JupyterLab (or JavaScript failed to load for some other reason).  You need to install the 3dmol extension: <br>\n        <tt>jupyter labextension install jupyterlab_3dmol</tt></p>\n        </div>\n<script>\n\nvar loadScriptAsync = function(uri){\n  return new Promise((resolve, reject) => {\n    var tag = document.createElement('script');\n    tag.src = uri;\n    tag.async = true;\n    tag.onload = () => {\n      resolve();\n    };\n  var firstScriptTag = document.getElementsByTagName('script')[0];\n  firstScriptTag.parentNode.insertBefore(tag, firstScriptTag);\n});\n};\n\nif(typeof $3Dmolpromise === 'undefined') {\n$3Dmolpromise = null;\n  $3Dmolpromise = loadScriptAsync('https://cdn.jsdelivr.net/npm/3dmol@latest/build/3Dmol-min.min.js');\n}\n\nvar viewer_1669747150732448 = null;\nvar warn = document.getElementById(\"3dmolwarning_1669747150732448\");\nif(warn) {\n    warn.parentNode.removeChild(warn);\n}\n$3Dmolpromise.then(function() {\nvar viewergrid_1669747150732448 = null;\nviewergrid_1669747150732448 = $3Dmol.createViewerGrid($(\"#3dmolviewer_1669747150732448\"),{rows: 1, cols: 4, control_all: false},{backgroundColor:\"white\"});\nviewer_1669747150732448 = viewergrid_1669747150732448[0][0];\nviewergrid_1669747150732448[0][0].zoomTo();viewergrid_1669747150732448[0][1].zoomTo();viewergrid_1669747150732448[0][2].zoomTo();viewergrid_1669747150732448[0][3].zoomTo();\tviewergrid_1669747150732448[0][0].addModel(\"@<TRIPOS>MOLECULE\\ntmp.mol2\\n    19    18     1     0     0\\nSMALL\\nNoCharges\\n****\\nGenerated from Architector\\n\\n@<TRIPOS>ATOM\\n     1 Fe1       0.0000    0.0000   -0.0003   Fe        1 RES1   0.0000\\n     2 O1        0.0000    0.0000    2.3449   O.3       1 RES1   0.0000\\n     3 H1       -0.6439   -0.4203    2.9241   H         1 RES1   0.0000\\n     4 H2        0.6439    0.4203    2.9241   H         1 RES1   0.0000\\n     5 O2       -0.0000   -0.0000   -2.3447   O.3       1 RES1   0.0000\\n     6 H3        0.7537    0.1544   -2.9234   H         1 RES1   0.0000\\n     7 H4       -0.7537   -0.1544   -2.9234   H         1 RES1   0.0000\\n     8 O3        2.3505    0.0045   -0.0084   O.3       1 RES1   0.0000\\n     9 H5        2.9396    0.7509   -0.1558   H         1 RES1   0.0000\\n    10 H6        2.9244   -0.7479    0.1622   H         1 RES1   0.0000\\n    11 O4       -2.3505   -0.0045   -0.0084   O.3       1 RES1   0.0000\\n    12 H7       -2.9396   -0.7509   -0.1558   H         1 RES1   0.0000\\n    13 H8       -2.9244    0.7479    0.1622   H         1 RES1   0.0000\\n    14 O5        0.0044    2.3469    0.0071   O.3       1 RES1   0.0000\\n    15 H9       -0.7461    2.9242   -0.1608   H         1 RES1   0.0000\\n    16 H10       0.7476    2.9390    0.1549   H         1 RES1   0.0000\\n    17 O6       -0.0044   -2.3469    0.0071   O.3       1 RES1   0.0000\\n    18 H11       0.7461   -2.9242   -0.1608   H         1 RES1   0.0000\\n    19 H12      -0.7476   -2.9390    0.1549   H         1 RES1   0.0000\\n@<TRIPOS>BOND\\n     1     1     2    1\\n     2     1     5    1\\n     3     1     8    1\\n     4     1    11    1\\n     5     1    14    1\\n     6     1    17    1\\n     7     2     3    1\\n     8     2     4    1\\n     9     5     6    1\\n    10     5     7    1\\n    11     8     9    1\\n    12     8    10    1\\n    13    11    12    1\\n    14    11    13    1\\n    15    14    15    1\\n    16    14    16    1\\n    17    17    18    1\\n    18    17    19    1\\n@<TRIPOS>SUBSTRUCTURE\\n     1 RES1       19 GROUP             0 ****  ****    0  \\n\",\"mol2\");\n\tviewergrid_1669747150732448[0][0].setStyle({\"stick\": {\"colorscheme\": \"Jmol\"}});\n\tviewergrid_1669747150732448[0][0].addLabel(\"octahedral_0_nunpairedes_4_charge_2\",{\"position\": {\"x\": \"0.0\", \"y\": \"0.0\", \"z\": \"-0.0003\"}, \"backgroundColor\": \"'black'\", \"backgroundOpacity\": \"0.5\", \"fontOpacity\": \"1\", \"fontSize\": \"12\", \"fontColor\": \"white\", \"inFront\": \"true\"});\n\tviewergrid_1669747150732448[0][0].zoomTo();\n\tviewergrid_1669747150732448[0][1].addModel(\"@<TRIPOS>MOLECULE\\ntmp.mol2\\n    19    18     1     0     0\\nSMALL\\nNoCharges\\n****\\nGenerated from Architector\\n\\n@<TRIPOS>ATOM\\n     1 Fe1       0.0001    0.0067   -0.0201   Fe        1 RES1   0.0000\\n     2 O1        1.8057   -0.0135    1.4978   O.3       1 RES1   0.0000\\n     3 H1        2.3931   -0.7367    1.7390   H         1 RES1   0.0000\\n     4 H2        2.0754    0.7306    2.0471   H         1 RES1   0.0000\\n     5 O2       -0.9202    1.5414    1.4979   O.3       1 RES1   0.0000\\n     6 H3       -0.8951    1.4616    2.4571   H         1 RES1   0.0000\\n     7 H4       -1.3030    2.4077    1.3230   H         1 RES1   0.0000\\n     8 O3       -0.9045   -1.5821    1.4730   O.3       1 RES1   0.0000\\n     9 H5       -0.4889   -2.3743    1.8300   H         1 RES1   0.0000\\n    10 H6       -1.7365   -1.4868    1.9486   H         1 RES1   0.0000\\n    11 O4        1.8089    0.0178   -1.5011   O.3       1 RES1   0.0000\\n    12 H7        2.7249   -0.2084   -1.3101   H         1 RES1   0.0000\\n    13 H8        1.7771    0.1831   -2.4496   H         1 RES1   0.0000\\n    14 O5       -0.9101    1.5890   -1.5073   O.3       1 RES1   0.0000\\n    15 H9       -0.4548    2.0170   -2.2414   H         1 RES1   0.0000\\n    16 H10      -1.8241    1.8843   -1.5659   H         1 RES1   0.0000\\n    17 O6       -0.9018   -1.5605   -1.4876   O.3       1 RES1   0.0000\\n    18 H11      -0.9220   -1.4796   -2.4466   H         1 RES1   0.0000\\n    19 H12      -1.3320   -2.3974   -1.2840   H         1 RES1   0.0000\\n@<TRIPOS>BOND\\n     1     1     2    1\\n     2     1     5    1\\n     3     1     8    1\\n     4     1    11    1\\n     5     1    14    1\\n     6     1    17    1\\n     7     2     3    1\\n     8     2     4    1\\n     9     5     6    1\\n    10     5     7    1\\n    11     8     9    1\\n    12     8    10    1\\n    13    11    12    1\\n    14    11    13    1\\n    15    14    15    1\\n    16    14    16    1\\n    17    17    18    1\\n    18    17    19    1\\n@<TRIPOS>SUBSTRUCTURE\\n     1 RES1       19 GROUP             0 ****  ****    0  \\n\",\"mol2\");\n\tviewergrid_1669747150732448[0][1].setStyle({\"stick\": {\"colorscheme\": \"Jmol\"}});\n\tviewergrid_1669747150732448[0][1].addLabel(\"trigonal_prismatic_0_nunpairedes_4_charge_2\",{\"position\": {\"x\": \"0.0001\", \"y\": \"0.0067\", \"z\": \"-0.0201\"}, \"backgroundColor\": \"'black'\", \"backgroundOpacity\": \"0.5\", \"fontOpacity\": \"1\", \"fontSize\": \"12\", \"fontColor\": \"white\", \"inFront\": \"true\"});\n\tviewergrid_1669747150732448[0][1].zoomTo();\n\tviewergrid_1669747150732448[0][2].addModel(\"@<TRIPOS>MOLECULE\\ntmp.mol2\\n    19    18     1     0     0\\nSMALL\\nNoCharges\\n****\\nGenerated from Architector\\n\\n@<TRIPOS>ATOM\\n     1 Fe1      -0.0066   -0.0050    0.2787   Fe        1 RES1   0.0000\\n     2 O1       -0.0065   -0.0201    2.6653   O.3       1 RES1   0.0000\\n     3 H1       -0.6589    0.3214    3.2856   H         1 RES1   0.0000\\n     4 H2        0.7539   -0.2772    3.1959   H         1 RES1   0.0000\\n     5 O2        2.4382    0.0395    0.0266   O.3       1 RES1   0.0000\\n     6 H3        2.9432    0.7073   -0.4478   H         1 RES1   0.0000\\n     7 H4        2.9079   -0.7904   -0.1075   H         1 RES1   0.0000\\n     8 O3        0.7391    2.2938   -0.1321   O.3       1 RES1   0.0000\\n     9 H5        0.4662    2.9639   -0.7661   H         1 RES1   0.0000\\n    10 H6        1.3164    2.7290    0.5037   H         1 RES1   0.0000\\n    11 O4       -2.0243    1.3624   -0.1322   O.3       1 RES1   0.0000\\n    12 H7       -2.4072    1.6131   -0.9792   H         1 RES1   0.0000\\n    13 H8       -2.3162    2.0286    0.4980   H         1 RES1   0.0000\\n    14 O5       -1.9145   -1.4521   -0.1429   O.3       1 RES1   0.0000\\n    15 H9       -2.0009   -2.4035   -0.0390   H         1 RES1   0.0000\\n    16 H10      -2.8038   -1.1103   -0.2839   H         1 RES1   0.0000\\n    17 O6        0.8229   -2.2859   -0.1309   O.3       1 RES1   0.0000\\n    18 H11       0.9322   -2.9146    0.5902   H         1 RES1   0.0000\\n    19 H12       0.8204   -2.8000   -0.9444   H         1 RES1   0.0000\\n@<TRIPOS>BOND\\n     1     1     2    1\\n     2     1     5    1\\n     3     1     8    1\\n     4     1    11    1\\n     5     1    14    1\\n     6     1    17    1\\n     7     2     3    1\\n     8     2     4    1\\n     9     5     6    1\\n    10     5     7    1\\n    11     8     9    1\\n    12     8    10    1\\n    13    11    12    1\\n    14    11    13    1\\n    15    14    15    1\\n    16    14    16    1\\n    17    17    18    1\\n    18    17    19    1\\n@<TRIPOS>SUBSTRUCTURE\\n     1 RES1       19 GROUP             0 ****  ****    0  \\n\",\"mol2\");\n\tviewergrid_1669747150732448[0][2].setStyle({\"stick\": {\"colorscheme\": \"Jmol\"}});\n\tviewergrid_1669747150732448[0][2].addLabel(\"pentagonal_pyramidal_0_nunpairedes_4_charge_2\",{\"position\": {\"x\": \"-0.0066\", \"y\": \"-0.005\", \"z\": \"0.2787\"}, \"backgroundColor\": \"'black'\", \"backgroundOpacity\": \"0.5\", \"fontOpacity\": \"1\", \"fontSize\": \"12\", \"fontColor\": \"white\", \"inFront\": \"true\"});\n\tviewergrid_1669747150732448[0][2].zoomTo();\nviewergrid_1669747150732448[0][3].render();\nviewergrid_1669747150732448[0][2].render();\nviewergrid_1669747150732448[0][1].render();\nviewergrid_1669747150732448[0][0].render();\n});\n</script>",
      "text/html": [
       "<div id=\"3dmolviewer_1669747150732448\"  style=\"position: relative; width: 800px; height: 200px\">\n",
       "        <p id=\"3dmolwarning_1669747150732448\" style=\"background-color:#ffcccc;color:black\">You appear to be running in JupyterLab (or JavaScript failed to load for some other reason).  You need to install the 3dmol extension: <br>\n",
       "        <tt>jupyter labextension install jupyterlab_3dmol</tt></p>\n",
       "        </div>\n",
       "<script>\n",
       "\n",
       "var loadScriptAsync = function(uri){\n",
       "  return new Promise((resolve, reject) => {\n",
       "    var tag = document.createElement('script');\n",
       "    tag.src = uri;\n",
       "    tag.async = true;\n",
       "    tag.onload = () => {\n",
       "      resolve();\n",
       "    };\n",
       "  var firstScriptTag = document.getElementsByTagName('script')[0];\n",
       "  firstScriptTag.parentNode.insertBefore(tag, firstScriptTag);\n",
       "});\n",
       "};\n",
       "\n",
       "if(typeof $3Dmolpromise === 'undefined') {\n",
       "$3Dmolpromise = null;\n",
       "  $3Dmolpromise = loadScriptAsync('https://cdn.jsdelivr.net/npm/3dmol@latest/build/3Dmol-min.min.js');\n",
       "}\n",
       "\n",
       "var viewer_1669747150732448 = null;\n",
       "var warn = document.getElementById(\"3dmolwarning_1669747150732448\");\n",
       "if(warn) {\n",
       "    warn.parentNode.removeChild(warn);\n",
       "}\n",
       "$3Dmolpromise.then(function() {\n",
       "var viewergrid_1669747150732448 = null;\n",
       "viewergrid_1669747150732448 = $3Dmol.createViewerGrid($(\"#3dmolviewer_1669747150732448\"),{rows: 1, cols: 4, control_all: false},{backgroundColor:\"white\"});\n",
       "viewer_1669747150732448 = viewergrid_1669747150732448[0][0];\n",
       "viewergrid_1669747150732448[0][0].zoomTo();viewergrid_1669747150732448[0][1].zoomTo();viewergrid_1669747150732448[0][2].zoomTo();viewergrid_1669747150732448[0][3].zoomTo();\tviewergrid_1669747150732448[0][0].addModel(\"@<TRIPOS>MOLECULE\\ntmp.mol2\\n    19    18     1     0     0\\nSMALL\\nNoCharges\\n****\\nGenerated from Architector\\n\\n@<TRIPOS>ATOM\\n     1 Fe1       0.0000    0.0000   -0.0003   Fe        1 RES1   0.0000\\n     2 O1        0.0000    0.0000    2.3449   O.3       1 RES1   0.0000\\n     3 H1       -0.6439   -0.4203    2.9241   H         1 RES1   0.0000\\n     4 H2        0.6439    0.4203    2.9241   H         1 RES1   0.0000\\n     5 O2       -0.0000   -0.0000   -2.3447   O.3       1 RES1   0.0000\\n     6 H3        0.7537    0.1544   -2.9234   H         1 RES1   0.0000\\n     7 H4       -0.7537   -0.1544   -2.9234   H         1 RES1   0.0000\\n     8 O3        2.3505    0.0045   -0.0084   O.3       1 RES1   0.0000\\n     9 H5        2.9396    0.7509   -0.1558   H         1 RES1   0.0000\\n    10 H6        2.9244   -0.7479    0.1622   H         1 RES1   0.0000\\n    11 O4       -2.3505   -0.0045   -0.0084   O.3       1 RES1   0.0000\\n    12 H7       -2.9396   -0.7509   -0.1558   H         1 RES1   0.0000\\n    13 H8       -2.9244    0.7479    0.1622   H         1 RES1   0.0000\\n    14 O5        0.0044    2.3469    0.0071   O.3       1 RES1   0.0000\\n    15 H9       -0.7461    2.9242   -0.1608   H         1 RES1   0.0000\\n    16 H10       0.7476    2.9390    0.1549   H         1 RES1   0.0000\\n    17 O6       -0.0044   -2.3469    0.0071   O.3       1 RES1   0.0000\\n    18 H11       0.7461   -2.9242   -0.1608   H         1 RES1   0.0000\\n    19 H12      -0.7476   -2.9390    0.1549   H         1 RES1   0.0000\\n@<TRIPOS>BOND\\n     1     1     2    1\\n     2     1     5    1\\n     3     1     8    1\\n     4     1    11    1\\n     5     1    14    1\\n     6     1    17    1\\n     7     2     3    1\\n     8     2     4    1\\n     9     5     6    1\\n    10     5     7    1\\n    11     8     9    1\\n    12     8    10    1\\n    13    11    12    1\\n    14    11    13    1\\n    15    14    15    1\\n    16    14    16    1\\n    17    17    18    1\\n    18    17    19    1\\n@<TRIPOS>SUBSTRUCTURE\\n     1 RES1       19 GROUP             0 ****  ****    0  \\n\",\"mol2\");\n",
       "\tviewergrid_1669747150732448[0][0].setStyle({\"stick\": {\"colorscheme\": \"Jmol\"}});\n",
       "\tviewergrid_1669747150732448[0][0].addLabel(\"octahedral_0_nunpairedes_4_charge_2\",{\"position\": {\"x\": \"0.0\", \"y\": \"0.0\", \"z\": \"-0.0003\"}, \"backgroundColor\": \"'black'\", \"backgroundOpacity\": \"0.5\", \"fontOpacity\": \"1\", \"fontSize\": \"12\", \"fontColor\": \"white\", \"inFront\": \"true\"});\n",
       "\tviewergrid_1669747150732448[0][0].zoomTo();\n",
       "\tviewergrid_1669747150732448[0][1].addModel(\"@<TRIPOS>MOLECULE\\ntmp.mol2\\n    19    18     1     0     0\\nSMALL\\nNoCharges\\n****\\nGenerated from Architector\\n\\n@<TRIPOS>ATOM\\n     1 Fe1       0.0001    0.0067   -0.0201   Fe        1 RES1   0.0000\\n     2 O1        1.8057   -0.0135    1.4978   O.3       1 RES1   0.0000\\n     3 H1        2.3931   -0.7367    1.7390   H         1 RES1   0.0000\\n     4 H2        2.0754    0.7306    2.0471   H         1 RES1   0.0000\\n     5 O2       -0.9202    1.5414    1.4979   O.3       1 RES1   0.0000\\n     6 H3       -0.8951    1.4616    2.4571   H         1 RES1   0.0000\\n     7 H4       -1.3030    2.4077    1.3230   H         1 RES1   0.0000\\n     8 O3       -0.9045   -1.5821    1.4730   O.3       1 RES1   0.0000\\n     9 H5       -0.4889   -2.3743    1.8300   H         1 RES1   0.0000\\n    10 H6       -1.7365   -1.4868    1.9486   H         1 RES1   0.0000\\n    11 O4        1.8089    0.0178   -1.5011   O.3       1 RES1   0.0000\\n    12 H7        2.7249   -0.2084   -1.3101   H         1 RES1   0.0000\\n    13 H8        1.7771    0.1831   -2.4496   H         1 RES1   0.0000\\n    14 O5       -0.9101    1.5890   -1.5073   O.3       1 RES1   0.0000\\n    15 H9       -0.4548    2.0170   -2.2414   H         1 RES1   0.0000\\n    16 H10      -1.8241    1.8843   -1.5659   H         1 RES1   0.0000\\n    17 O6       -0.9018   -1.5605   -1.4876   O.3       1 RES1   0.0000\\n    18 H11      -0.9220   -1.4796   -2.4466   H         1 RES1   0.0000\\n    19 H12      -1.3320   -2.3974   -1.2840   H         1 RES1   0.0000\\n@<TRIPOS>BOND\\n     1     1     2    1\\n     2     1     5    1\\n     3     1     8    1\\n     4     1    11    1\\n     5     1    14    1\\n     6     1    17    1\\n     7     2     3    1\\n     8     2     4    1\\n     9     5     6    1\\n    10     5     7    1\\n    11     8     9    1\\n    12     8    10    1\\n    13    11    12    1\\n    14    11    13    1\\n    15    14    15    1\\n    16    14    16    1\\n    17    17    18    1\\n    18    17    19    1\\n@<TRIPOS>SUBSTRUCTURE\\n     1 RES1       19 GROUP             0 ****  ****    0  \\n\",\"mol2\");\n",
       "\tviewergrid_1669747150732448[0][1].setStyle({\"stick\": {\"colorscheme\": \"Jmol\"}});\n",
       "\tviewergrid_1669747150732448[0][1].addLabel(\"trigonal_prismatic_0_nunpairedes_4_charge_2\",{\"position\": {\"x\": \"0.0001\", \"y\": \"0.0067\", \"z\": \"-0.0201\"}, \"backgroundColor\": \"'black'\", \"backgroundOpacity\": \"0.5\", \"fontOpacity\": \"1\", \"fontSize\": \"12\", \"fontColor\": \"white\", \"inFront\": \"true\"});\n",
       "\tviewergrid_1669747150732448[0][1].zoomTo();\n",
       "\tviewergrid_1669747150732448[0][2].addModel(\"@<TRIPOS>MOLECULE\\ntmp.mol2\\n    19    18     1     0     0\\nSMALL\\nNoCharges\\n****\\nGenerated from Architector\\n\\n@<TRIPOS>ATOM\\n     1 Fe1      -0.0066   -0.0050    0.2787   Fe        1 RES1   0.0000\\n     2 O1       -0.0065   -0.0201    2.6653   O.3       1 RES1   0.0000\\n     3 H1       -0.6589    0.3214    3.2856   H         1 RES1   0.0000\\n     4 H2        0.7539   -0.2772    3.1959   H         1 RES1   0.0000\\n     5 O2        2.4382    0.0395    0.0266   O.3       1 RES1   0.0000\\n     6 H3        2.9432    0.7073   -0.4478   H         1 RES1   0.0000\\n     7 H4        2.9079   -0.7904   -0.1075   H         1 RES1   0.0000\\n     8 O3        0.7391    2.2938   -0.1321   O.3       1 RES1   0.0000\\n     9 H5        0.4662    2.9639   -0.7661   H         1 RES1   0.0000\\n    10 H6        1.3164    2.7290    0.5037   H         1 RES1   0.0000\\n    11 O4       -2.0243    1.3624   -0.1322   O.3       1 RES1   0.0000\\n    12 H7       -2.4072    1.6131   -0.9792   H         1 RES1   0.0000\\n    13 H8       -2.3162    2.0286    0.4980   H         1 RES1   0.0000\\n    14 O5       -1.9145   -1.4521   -0.1429   O.3       1 RES1   0.0000\\n    15 H9       -2.0009   -2.4035   -0.0390   H         1 RES1   0.0000\\n    16 H10      -2.8038   -1.1103   -0.2839   H         1 RES1   0.0000\\n    17 O6        0.8229   -2.2859   -0.1309   O.3       1 RES1   0.0000\\n    18 H11       0.9322   -2.9146    0.5902   H         1 RES1   0.0000\\n    19 H12       0.8204   -2.8000   -0.9444   H         1 RES1   0.0000\\n@<TRIPOS>BOND\\n     1     1     2    1\\n     2     1     5    1\\n     3     1     8    1\\n     4     1    11    1\\n     5     1    14    1\\n     6     1    17    1\\n     7     2     3    1\\n     8     2     4    1\\n     9     5     6    1\\n    10     5     7    1\\n    11     8     9    1\\n    12     8    10    1\\n    13    11    12    1\\n    14    11    13    1\\n    15    14    15    1\\n    16    14    16    1\\n    17    17    18    1\\n    18    17    19    1\\n@<TRIPOS>SUBSTRUCTURE\\n     1 RES1       19 GROUP             0 ****  ****    0  \\n\",\"mol2\");\n",
       "\tviewergrid_1669747150732448[0][2].setStyle({\"stick\": {\"colorscheme\": \"Jmol\"}});\n",
       "\tviewergrid_1669747150732448[0][2].addLabel(\"pentagonal_pyramidal_0_nunpairedes_4_charge_2\",{\"position\": {\"x\": \"-0.0066\", \"y\": \"-0.005\", \"z\": \"0.2787\"}, \"backgroundColor\": \"'black'\", \"backgroundOpacity\": \"0.5\", \"fontOpacity\": \"1\", \"fontSize\": \"12\", \"fontColor\": \"white\", \"inFront\": \"true\"});\n",
       "\tviewergrid_1669747150732448[0][2].zoomTo();\n",
       "viewergrid_1669747150732448[0][3].render();\n",
       "viewergrid_1669747150732448[0][2].render();\n",
       "viewergrid_1669747150732448[0][1].render();\n",
       "viewergrid_1669747150732448[0][0].render();\n",
       "});\n",
       "</script>"
      ]
     },
     "metadata": {},
     "output_type": "display_data"
    }
   ],
   "source": [
    "# We can also add labels to describe the structures:\n",
    "labels = list(out.keys()) # Here, I am just pulling out the keys describing each structure\n",
    "view_structures(out,labels=labels)"
   ]
  },
  {
   "cell_type": "markdown",
   "id": "72a0c4d6",
   "metadata": {},
   "source": [
    "#### We can also look at what architector assigns as the defualt charge and spin for verification"
   ]
  },
  {
   "cell_type": "code",
   "execution_count": 16,
   "id": "bdc25d81",
   "metadata": {},
   "outputs": [
    {
     "name": "stdout",
     "output_type": "stream",
     "text": [
      "Metal Oxidation State:  2\n",
      "Total System Charge:  2\n",
      "Total N Unpaired Electrons (spin):  4\n"
     ]
    }
   ],
   "source": [
    "key = labels[0] # Pull out the first structure to get spin/charge states\n",
    "print('Metal Oxidation State: ',out[key]['metal_ox'])\n",
    "print('Total System Charge: ',out[key]['total_charge'])\n",
    "print('Total N Unpaired Electrons (spin): ',out[key]['calc_n_unpaired_electrons'])"
   ]
  },
  {
   "cell_type": "markdown",
   "id": "050a081b",
   "metadata": {},
   "source": [
    "#### Note that the default spin state for Fe in Architector is high-spin (4 unpaired electrons means spin multiplicity = 5)!"
   ]
  },
  {
   "cell_type": "markdown",
   "id": "142a827f",
   "metadata": {},
   "source": [
    "## Now for (C), we want to generate  [Fe(H<sub>2</sub>O)<sub>6</sub>]<sup>3+</sup> to see if there's a difference!\n",
    "\n",
    "Looking at different charge and spin states can be key to understanding the structure and function of different first-row transition metal complexes as in [This Work](https://pubs.rsc.org/en/content/articlelanding/2020/cp/d0cp02977g).\n",
    "\n",
    "We can copy the inputDict and simply modify in place to create Fe3+ Hexa-Aqua!"
   ]
  },
  {
   "cell_type": "code",
   "execution_count": 17,
   "id": "6a39d975",
   "metadata": {},
   "outputs": [],
   "source": [
    "# Import copy\n",
    "import copy"
   ]
  },
  {
   "cell_type": "code",
   "execution_count": 18,
   "id": "443956c6",
   "metadata": {},
   "outputs": [],
   "source": [
    "# Copy inputDict\n",
    "new_inputDict = copy.deepcopy(inputDict)\n",
    "# Set the metal oxidation state to 3 instead\n",
    "new_inputDict['parameters']['metal_ox'] = 3"
   ]
  },
  {
   "cell_type": "markdown",
   "id": "eaa516f1",
   "metadata": {},
   "source": [
    "Printing out the new input dictionary reveals the slight shift:\n",
    "\n",
    "Note that during building the is_actinide, and original metal flags get added in case an actinide is passed as an input."
   ]
  },
  {
   "cell_type": "code",
   "execution_count": 19,
   "id": "ed6be5c7",
   "metadata": {},
   "outputs": [
    {
     "data": {
      "text/plain": [
       "{'core': {'metal': 'Fe', 'coreCN': 6, 'smiles': '[Fe]'},\n",
       " 'ligands': [{'smiles': 'O', 'coordList': [0]},\n",
       "  {'smiles': 'O', 'coordList': [0]},\n",
       "  {'smiles': 'O', 'coordList': [0]},\n",
       "  {'smiles': 'O', 'coordList': [0]},\n",
       "  {'smiles': 'O', 'coordList': [0]},\n",
       "  {'smiles': 'O', 'coordList': [0]}],\n",
       " 'parameters': {'metal_ox': 3, 'is_actinide': False, 'original_metal': 'Fe'}}"
      ]
     },
     "execution_count": 19,
     "metadata": {},
     "output_type": "execute_result"
    }
   ],
   "source": [
    "new_inputDict"
   ]
  },
  {
   "cell_type": "markdown",
   "id": "9ce78a9d",
   "metadata": {},
   "source": [
    "### Now we can build the [Fe(H<sub>2</sub>O)<sub>6</sub>]<sup>3+</sup> "
   ]
  },
  {
   "cell_type": "code",
   "execution_count": 20,
   "id": "36118ea8",
   "metadata": {
    "scrolled": true
   },
   "outputs": [
    {
     "name": "stdout",
     "output_type": "stream",
     "text": [
      "                 Step     Time          Energy         fmax\n",
      "*Force-consistent energies used in optimization.\n",
      "LBFGSLineSearch:    0 11:39:11     -858.454592*       9.6760\n",
      "LBFGSLineSearch:    1 11:39:11     -862.186634*       4.2541\n",
      "LBFGSLineSearch:    2 11:39:11     -865.763201*       3.8627\n",
      "LBFGSLineSearch:    3 11:39:11     -866.449027*       1.9458\n",
      "LBFGSLineSearch:    4 11:39:11     -867.606682*       6.0631\n",
      "LBFGSLineSearch:    5 11:39:11     -869.141150*       1.6714\n",
      "LBFGSLineSearch:    6 11:39:11     -869.274388*       1.0732\n",
      "LBFGSLineSearch:    7 11:39:11     -869.332755*       0.4727\n",
      "LBFGSLineSearch:    8 11:39:11     -869.356648*       0.4316\n",
      "LBFGSLineSearch:    9 11:39:11     -869.383884*       0.5214\n",
      "LBFGSLineSearch:   10 11:39:11     -869.412783*       0.2436\n",
      "LBFGSLineSearch:   11 11:39:11     -869.427234*       0.4034\n",
      "LBFGSLineSearch:   12 11:39:11     -869.448190*       0.3851\n",
      "LBFGSLineSearch:   13 11:39:12     -869.462216*       0.2331\n",
      "LBFGSLineSearch:   14 11:39:12     -869.478218*       0.4310\n",
      "LBFGSLineSearch:   15 11:39:12     -869.517290*       0.8023\n",
      "LBFGSLineSearch:   16 11:39:12     -869.555325*       0.8914\n",
      "LBFGSLineSearch:   17 11:39:12     -869.580838*       0.4364\n",
      "LBFGSLineSearch:   18 11:39:12     -869.605308*       0.4907\n",
      "LBFGSLineSearch:   19 11:39:12     -869.625220*       0.4826\n",
      "LBFGSLineSearch:   20 11:39:12     -869.644014*       0.4012\n",
      "LBFGSLineSearch:   21 11:39:12     -869.698576*       0.6531\n",
      "LBFGSLineSearch:   22 11:39:12     -869.722412*       0.4885\n",
      "LBFGSLineSearch:   23 11:39:12     -869.736878*       0.9328\n",
      "LBFGSLineSearch:   24 11:39:12     -869.754281*       0.6203\n",
      "LBFGSLineSearch:   25 11:39:12     -869.774742*       0.4701\n",
      "LBFGSLineSearch:   26 11:39:12     -869.811395*       0.6553\n",
      "LBFGSLineSearch:   27 11:39:12     -869.832730*       0.3774\n",
      "LBFGSLineSearch:   28 11:39:12     -869.859250*       0.6898\n",
      "LBFGSLineSearch:   29 11:39:12     -869.901011*       0.6585\n",
      "LBFGSLineSearch:   30 11:39:12     -869.947913*       0.7530\n",
      "LBFGSLineSearch:   31 11:39:12     -869.972668*       0.4994\n",
      "LBFGSLineSearch:   32 11:39:12     -870.017994*       0.6535\n",
      "LBFGSLineSearch:   33 11:39:12     -870.109714*       0.8705\n",
      "LBFGSLineSearch:   34 11:39:12     -870.150648*       0.8710\n",
      "LBFGSLineSearch:   35 11:39:12     -870.210555*       1.7067\n",
      "LBFGSLineSearch:   36 11:39:12     -870.270298*       1.2755\n",
      "LBFGSLineSearch:   37 11:39:12     -870.419629*       1.2409\n",
      "LBFGSLineSearch:   38 11:39:12     -870.479992*       0.8794\n",
      "LBFGSLineSearch:   39 11:39:12     -870.497857*       0.4663\n",
      "LBFGSLineSearch:   40 11:39:12     -870.519806*       0.4723\n",
      "LBFGSLineSearch:   41 11:39:12     -870.546812*       0.4386\n",
      "LBFGSLineSearch:   42 11:39:12     -870.592413*       0.6434\n",
      "LBFGSLineSearch:   43 11:39:12     -870.650671*       0.6575\n",
      "LBFGSLineSearch:   44 11:39:12     -870.693516*       0.6016\n",
      "LBFGSLineSearch:   45 11:39:12     -870.737068*       0.8107\n",
      "LBFGSLineSearch:   46 11:39:12     -870.849734*       1.3280\n",
      "LBFGSLineSearch:   47 11:39:12     -870.940441*       0.7989\n",
      "LBFGSLineSearch:   48 11:39:12     -870.977640*       1.0261\n",
      "LBFGSLineSearch:   49 11:39:12     -871.018480*       0.7526\n",
      "LBFGSLineSearch:   50 11:39:12     -871.047190*       0.3931\n",
      "LBFGSLineSearch:   51 11:39:12     -871.058715*       0.2530\n",
      "LBFGSLineSearch:   52 11:39:12     -871.072581*       0.3884\n",
      "LBFGSLineSearch:   53 11:39:12     -871.095323*       0.4153\n",
      "LBFGSLineSearch:   54 11:39:13     -871.119774*       0.4308\n",
      "LBFGSLineSearch:   55 11:39:13     -871.146505*       0.4483\n",
      "LBFGSLineSearch:   56 11:39:13     -871.159122*       0.2819\n",
      "LBFGSLineSearch:   57 11:39:13     -871.167969*       0.1940\n",
      "LBFGSLineSearch:   58 11:39:13     -871.171418*       0.1463\n",
      "LBFGSLineSearch:   59 11:39:13     -871.173413*       0.1689\n",
      "LBFGSLineSearch:   60 11:39:13     -871.175373*       0.1200\n",
      "LBFGSLineSearch:   61 11:39:13     -871.177710*       0.1261\n",
      "LBFGSLineSearch:   62 11:39:13     -871.179690*       0.1013\n",
      "LBFGSLineSearch:   63 11:39:13     -871.181043*       0.0778\n",
      "                 Step     Time          Energy         fmax\n",
      "*Force-consistent energies used in optimization.\n",
      "LBFGSLineSearch:    0 11:39:13     -867.101600*       4.4874\n",
      "LBFGSLineSearch:    1 11:39:13     -868.133196*       1.4435\n",
      "LBFGSLineSearch:    2 11:39:13     -869.604862*       1.6265\n",
      "LBFGSLineSearch:    3 11:39:14     -870.086274*       1.9199\n",
      "LBFGSLineSearch:    4 11:39:14     -870.670851*       2.2912\n",
      "LBFGSLineSearch:    5 11:39:14     -871.220158*       0.4363\n",
      "LBFGSLineSearch:    6 11:39:14     -871.238192*       0.1073\n",
      "LBFGSLineSearch:    7 11:39:14     -871.241182*       0.0514\n",
      "                 Step     Time          Energy         fmax\n",
      "*Force-consistent energies used in optimization.\n",
      "LBFGSLineSearch:    0 11:39:15     -866.008447*       5.5851\n",
      "LBFGSLineSearch:    1 11:39:15     -867.372523*       1.9055\n",
      "LBFGSLineSearch:    2 11:39:15     -869.028874*       1.5647\n",
      "LBFGSLineSearch:    3 11:39:15     -869.266617*       1.1943\n",
      "LBFGSLineSearch:    4 11:39:15     -869.797382*       2.1779\n",
      "LBFGSLineSearch:    5 11:39:15     -870.408912*       1.2185\n",
      "LBFGSLineSearch:    6 11:39:15     -870.476989*       1.1661\n",
      "LBFGSLineSearch:    7 11:39:15     -870.543971*       0.7955\n",
      "LBFGSLineSearch:    8 11:39:15     -870.657914*       0.3381\n",
      "LBFGSLineSearch:    9 11:39:15     -870.668727*       0.1966\n",
      "LBFGSLineSearch:   10 11:39:15     -870.674160*       0.1735\n",
      "LBFGSLineSearch:   11 11:39:15     -870.688716*       0.3830\n",
      "LBFGSLineSearch:   12 11:39:15     -870.710608*       0.6766\n",
      "LBFGSLineSearch:   13 11:39:15     -870.733543*       0.4326\n",
      "LBFGSLineSearch:   14 11:39:15     -870.749531*       0.7335\n",
      "LBFGSLineSearch:   15 11:39:15     -870.776248*       0.3767\n",
      "LBFGSLineSearch:   16 11:39:15     -870.787366*       0.3275\n",
      "LBFGSLineSearch:   17 11:39:15     -870.799086*       0.6131\n",
      "LBFGSLineSearch:   18 11:39:15     -870.834120*       0.7664\n",
      "LBFGSLineSearch:   19 11:39:15     -870.862112*       0.4699\n",
      "LBFGSLineSearch:   20 11:39:15     -870.869696*       0.1934\n",
      "LBFGSLineSearch:   21 11:39:15     -870.875107*       0.2263\n",
      "LBFGSLineSearch:   22 11:39:15     -870.878601*       0.1593\n",
      "LBFGSLineSearch:   23 11:39:15     -870.880120*       0.0634\n",
      "                 Step     Time          Energy         fmax\n",
      "*Force-consistent energies used in optimization.\n",
      "LBFGSLineSearch:    0 11:39:17     -867.312918*       4.3579\n",
      "LBFGSLineSearch:    1 11:39:17     -868.273426*       1.5181\n",
      "LBFGSLineSearch:    2 11:39:17     -869.599575*       1.5365\n",
      "LBFGSLineSearch:    3 11:39:17     -869.892432*       1.0232\n",
      "LBFGSLineSearch:    4 11:39:17     -870.282368*       1.1884\n",
      "LBFGSLineSearch:    5 11:39:17     -870.660831*       1.3973\n",
      "LBFGSLineSearch:    6 11:39:17     -870.997208*       1.1439\n",
      "LBFGSLineSearch:    7 11:39:17     -871.163573*       0.3890\n",
      "LBFGSLineSearch:    8 11:39:17     -871.176230*       0.0819\n"
     ]
    }
   ],
   "source": [
    "# Build new molecule (Takes maybe 30 seconds)\n",
    "out1 = build_complex(new_inputDict)"
   ]
  },
  {
   "cell_type": "code",
   "execution_count": 21,
   "id": "99b5cf4d",
   "metadata": {},
   "outputs": [
    {
     "data": {
      "application/3dmoljs_load.v0": "<div id=\"3dmolviewer_16697471616554298\"  style=\"position: relative; width: 800px; height: 200px\">\n        <p id=\"3dmolwarning_16697471616554298\" style=\"background-color:#ffcccc;color:black\">You appear to be running in JupyterLab (or JavaScript failed to load for some other reason).  You need to install the 3dmol extension: <br>\n        <tt>jupyter labextension install jupyterlab_3dmol</tt></p>\n        </div>\n<script>\n\nvar loadScriptAsync = function(uri){\n  return new Promise((resolve, reject) => {\n    var tag = document.createElement('script');\n    tag.src = uri;\n    tag.async = true;\n    tag.onload = () => {\n      resolve();\n    };\n  var firstScriptTag = document.getElementsByTagName('script')[0];\n  firstScriptTag.parentNode.insertBefore(tag, firstScriptTag);\n});\n};\n\nif(typeof $3Dmolpromise === 'undefined') {\n$3Dmolpromise = null;\n  $3Dmolpromise = loadScriptAsync('https://cdn.jsdelivr.net/npm/3dmol@latest/build/3Dmol-min.min.js');\n}\n\nvar viewer_16697471616554298 = null;\nvar warn = document.getElementById(\"3dmolwarning_16697471616554298\");\nif(warn) {\n    warn.parentNode.removeChild(warn);\n}\n$3Dmolpromise.then(function() {\nvar viewergrid_16697471616554298 = null;\nviewergrid_16697471616554298 = $3Dmol.createViewerGrid($(\"#3dmolviewer_16697471616554298\"),{rows: 1, cols: 4, control_all: false},{backgroundColor:\"white\"});\nviewer_16697471616554298 = viewergrid_16697471616554298[0][0];\nviewergrid_16697471616554298[0][0].zoomTo();viewergrid_16697471616554298[0][1].zoomTo();viewergrid_16697471616554298[0][2].zoomTo();viewergrid_16697471616554298[0][3].zoomTo();\tviewergrid_16697471616554298[0][0].addModel(\"@<TRIPOS>MOLECULE\\ntmp.mol2\\n    19    18     1     0     0\\nSMALL\\nNoCharges\\n****\\nGenerated from Architector\\n\\n@<TRIPOS>ATOM\\n     1 Fe1      -0.0000    0.0000   -0.0026   Fe        1 RES1   0.0000\\n     2 O1       -0.0000   -0.0000    2.3128   O.3       1 RES1   0.0000\\n     3 H1       -0.7056   -0.2844    2.9175   H         1 RES1   0.0000\\n     4 H2        0.7056    0.2844    2.9175   H         1 RES1   0.0000\\n     5 O2        0.0000    0.0000   -2.3066   O.3       1 RES1   0.0000\\n     6 H3       -0.3095    0.7034   -2.9033   H         1 RES1   0.0000\\n     7 H4        0.3095   -0.7034   -2.9033   H         1 RES1   0.0000\\n     8 O3        2.3120   -0.0009    0.0048   O.3       1 RES1   0.0000\\n     9 H5        2.9231    0.0188    0.7595   H         1 RES1   0.0000\\n    10 H6        2.9001   -0.0179   -0.7688   H         1 RES1   0.0000\\n    11 O4       -2.3120    0.0009    0.0048   O.3       1 RES1   0.0000\\n    12 H7       -2.9231   -0.0188    0.7595   H         1 RES1   0.0000\\n    13 H8       -2.9001    0.0179   -0.7688   H         1 RES1   0.0000\\n    14 O5       -0.0063    2.3051   -0.0275   O.3       1 RES1   0.0000\\n    15 H9       -0.7171    2.9004    0.2645   H         1 RES1   0.0000\\n    16 H10       0.7262    2.9048   -0.2484   H         1 RES1   0.0000\\n    17 O6        0.0063   -2.3051   -0.0275   O.3       1 RES1   0.0000\\n    18 H11      -0.7262   -2.9048   -0.2484   H         1 RES1   0.0000\\n    19 H12       0.7171   -2.9004    0.2645   H         1 RES1   0.0000\\n@<TRIPOS>BOND\\n     1     1     2    1\\n     2     1     5    1\\n     3     1     8    1\\n     4     1    11    1\\n     5     1    14    1\\n     6     1    17    1\\n     7     2     3    1\\n     8     2     4    1\\n     9     5     6    1\\n    10     5     7    1\\n    11     8     9    1\\n    12     8    10    1\\n    13    11    12    1\\n    14    11    13    1\\n    15    14    15    1\\n    16    14    16    1\\n    17    17    18    1\\n    18    17    19    1\\n@<TRIPOS>SUBSTRUCTURE\\n     1 RES1       19 GROUP             0 ****  ****    0  \\n\",\"mol2\");\n\tviewergrid_16697471616554298[0][0].setStyle({\"stick\": {\"colorscheme\": \"Jmol\"}});\n\tviewergrid_16697471616554298[0][0].zoomTo();\n\tviewergrid_16697471616554298[0][1].addModel(\"@<TRIPOS>MOLECULE\\ntmp.mol2\\n    19    18     1     0     0\\nSMALL\\nNoCharges\\n****\\nGenerated from Architector\\n\\n@<TRIPOS>ATOM\\n     1 Fe1      -0.0011    0.0024   -0.0019   Fe        1 RES1   0.0000\\n     2 O1        1.7838   -0.0003    1.4685   O.3       1 RES1   0.0000\\n     3 H1        2.0369   -0.7169    2.0741   H         1 RES1   0.0000\\n     4 H2        2.3885    0.7262    1.6950   H         1 RES1   0.0000\\n     5 O2       -0.8722    1.5570    1.4680   O.3       1 RES1   0.0000\\n     6 H3       -1.7727    1.9227    1.4954   H         1 RES1   0.0000\\n     7 H4       -0.4568    1.8944    2.2789   H         1 RES1   0.0000\\n     8 O3       -0.9098   -1.5378    1.4602   O.3       1 RES1   0.0000\\n     9 H5       -1.3731   -1.3332    2.2894   H         1 RES1   0.0000\\n    10 H6       -0.8267   -2.5063    1.4733   H         1 RES1   0.0000\\n    11 O4        1.7678   -0.0077   -1.4833   O.3       1 RES1   0.0000\\n    12 H7        1.7676    0.3621   -2.3818   H         1 RES1   0.0000\\n    13 H8        2.6714   -0.3491   -1.3713   H         1 RES1   0.0000\\n    14 O5       -0.9110    1.5295   -1.4700   O.3       1 RES1   0.0000\\n    15 H9       -1.3937    1.3363   -2.2910   H         1 RES1   0.0000\\n    16 H10      -0.8144    2.4971   -1.4728   H         1 RES1   0.0000\\n    17 O6       -0.8791   -1.5386   -1.4777   O.3       1 RES1   0.0000\\n    18 H11      -1.7719   -1.9236   -1.4930   H         1 RES1   0.0000\\n    19 H12      -0.4415   -1.9140   -2.2601   H         1 RES1   0.0000\\n@<TRIPOS>BOND\\n     1     1     2    1\\n     2     1     5    1\\n     3     1     8    1\\n     4     1    11    1\\n     5     1    14    1\\n     6     1    17    1\\n     7     2     3    1\\n     8     2     4    1\\n     9     5     6    1\\n    10     5     7    1\\n    11     8     9    1\\n    12     8    10    1\\n    13    11    12    1\\n    14    11    13    1\\n    15    14    15    1\\n    16    14    16    1\\n    17    17    18    1\\n    18    17    19    1\\n@<TRIPOS>SUBSTRUCTURE\\n     1 RES1       19 GROUP             0 ****  ****    0  \\n\",\"mol2\");\n\tviewergrid_16697471616554298[0][1].setStyle({\"stick\": {\"colorscheme\": \"Jmol\"}});\n\tviewergrid_16697471616554298[0][1].zoomTo();\n\tviewergrid_16697471616554298[0][2].addModel(\"@<TRIPOS>MOLECULE\\ntmp.mol2\\n    19    18     1     0     0\\nSMALL\\nNoCharges\\n****\\nGenerated from Architector\\n\\n@<TRIPOS>ATOM\\n     1 Fe1       0.0081    0.0017    0.3512   Fe        1 RES1   0.0000\\n     2 O1        0.0010   -0.0179    2.5877   O.3       1 RES1   0.0000\\n     3 H1        0.4478   -0.6399    3.1899   H         1 RES1   0.0000\\n     4 H2       -0.4231    0.6226    3.1876   H         1 RES1   0.0000\\n     5 O2        2.3128   -0.0402   -0.0645   O.3       1 RES1   0.0000\\n     6 H3        2.9919    0.2601    0.5602   H         1 RES1   0.0000\\n     7 H4        2.7868   -0.1940   -0.8987   H         1 RES1   0.0000\\n     8 O3        0.7068    2.1872   -0.0811   O.3       1 RES1   0.0000\\n     9 H5        1.5520    2.4834   -0.4574   H         1 RES1   0.0000\\n    10 H6        0.2336    3.0181    0.0943   H         1 RES1   0.0000\\n    11 O4       -1.8637    1.3694   -0.0935   O.3       1 RES1   0.0000\\n    12 H7       -2.7344    1.2425    0.3179   H         1 RES1   0.0000\\n    13 H8       -2.0162    2.0341   -0.7861   H         1 RES1   0.0000\\n    14 O5       -1.8787   -1.3139   -0.0472   O.3       1 RES1   0.0000\\n    15 H9       -2.5267   -1.2400   -0.7673   H         1 RES1   0.0000\\n    16 H10      -2.1558   -2.0980    0.4537   H         1 RES1   0.0000\\n    17 O6        0.7188   -2.1964   -0.1020   O.3       1 RES1   0.0000\\n    18 H11       1.6260   -2.5404   -0.0293   H         1 RES1   0.0000\\n    19 H12       0.2148   -2.9384   -0.4774   H         1 RES1   0.0000\\n@<TRIPOS>BOND\\n     1     1     2    1\\n     2     1     5    1\\n     3     1     8    1\\n     4     1    11    1\\n     5     1    14    1\\n     6     1    17    1\\n     7     2     3    1\\n     8     2     4    1\\n     9     5     6    1\\n    10     5     7    1\\n    11     8     9    1\\n    12     8    10    1\\n    13    11    12    1\\n    14    11    13    1\\n    15    14    15    1\\n    16    14    16    1\\n    17    17    18    1\\n    18    17    19    1\\n@<TRIPOS>SUBSTRUCTURE\\n     1 RES1       19 GROUP             0 ****  ****    0  \\n\",\"mol2\");\n\tviewergrid_16697471616554298[0][2].setStyle({\"stick\": {\"colorscheme\": \"Jmol\"}});\n\tviewergrid_16697471616554298[0][2].zoomTo();\nviewergrid_16697471616554298[0][3].render();\nviewergrid_16697471616554298[0][2].render();\nviewergrid_16697471616554298[0][1].render();\nviewergrid_16697471616554298[0][0].render();\n});\n</script>",
      "text/html": [
       "<div id=\"3dmolviewer_16697471616554298\"  style=\"position: relative; width: 800px; height: 200px\">\n",
       "        <p id=\"3dmolwarning_16697471616554298\" style=\"background-color:#ffcccc;color:black\">You appear to be running in JupyterLab (or JavaScript failed to load for some other reason).  You need to install the 3dmol extension: <br>\n",
       "        <tt>jupyter labextension install jupyterlab_3dmol</tt></p>\n",
       "        </div>\n",
       "<script>\n",
       "\n",
       "var loadScriptAsync = function(uri){\n",
       "  return new Promise((resolve, reject) => {\n",
       "    var tag = document.createElement('script');\n",
       "    tag.src = uri;\n",
       "    tag.async = true;\n",
       "    tag.onload = () => {\n",
       "      resolve();\n",
       "    };\n",
       "  var firstScriptTag = document.getElementsByTagName('script')[0];\n",
       "  firstScriptTag.parentNode.insertBefore(tag, firstScriptTag);\n",
       "});\n",
       "};\n",
       "\n",
       "if(typeof $3Dmolpromise === 'undefined') {\n",
       "$3Dmolpromise = null;\n",
       "  $3Dmolpromise = loadScriptAsync('https://cdn.jsdelivr.net/npm/3dmol@latest/build/3Dmol-min.min.js');\n",
       "}\n",
       "\n",
       "var viewer_16697471616554298 = null;\n",
       "var warn = document.getElementById(\"3dmolwarning_16697471616554298\");\n",
       "if(warn) {\n",
       "    warn.parentNode.removeChild(warn);\n",
       "}\n",
       "$3Dmolpromise.then(function() {\n",
       "var viewergrid_16697471616554298 = null;\n",
       "viewergrid_16697471616554298 = $3Dmol.createViewerGrid($(\"#3dmolviewer_16697471616554298\"),{rows: 1, cols: 4, control_all: false},{backgroundColor:\"white\"});\n",
       "viewer_16697471616554298 = viewergrid_16697471616554298[0][0];\n",
       "viewergrid_16697471616554298[0][0].zoomTo();viewergrid_16697471616554298[0][1].zoomTo();viewergrid_16697471616554298[0][2].zoomTo();viewergrid_16697471616554298[0][3].zoomTo();\tviewergrid_16697471616554298[0][0].addModel(\"@<TRIPOS>MOLECULE\\ntmp.mol2\\n    19    18     1     0     0\\nSMALL\\nNoCharges\\n****\\nGenerated from Architector\\n\\n@<TRIPOS>ATOM\\n     1 Fe1      -0.0000    0.0000   -0.0026   Fe        1 RES1   0.0000\\n     2 O1       -0.0000   -0.0000    2.3128   O.3       1 RES1   0.0000\\n     3 H1       -0.7056   -0.2844    2.9175   H         1 RES1   0.0000\\n     4 H2        0.7056    0.2844    2.9175   H         1 RES1   0.0000\\n     5 O2        0.0000    0.0000   -2.3066   O.3       1 RES1   0.0000\\n     6 H3       -0.3095    0.7034   -2.9033   H         1 RES1   0.0000\\n     7 H4        0.3095   -0.7034   -2.9033   H         1 RES1   0.0000\\n     8 O3        2.3120   -0.0009    0.0048   O.3       1 RES1   0.0000\\n     9 H5        2.9231    0.0188    0.7595   H         1 RES1   0.0000\\n    10 H6        2.9001   -0.0179   -0.7688   H         1 RES1   0.0000\\n    11 O4       -2.3120    0.0009    0.0048   O.3       1 RES1   0.0000\\n    12 H7       -2.9231   -0.0188    0.7595   H         1 RES1   0.0000\\n    13 H8       -2.9001    0.0179   -0.7688   H         1 RES1   0.0000\\n    14 O5       -0.0063    2.3051   -0.0275   O.3       1 RES1   0.0000\\n    15 H9       -0.7171    2.9004    0.2645   H         1 RES1   0.0000\\n    16 H10       0.7262    2.9048   -0.2484   H         1 RES1   0.0000\\n    17 O6        0.0063   -2.3051   -0.0275   O.3       1 RES1   0.0000\\n    18 H11      -0.7262   -2.9048   -0.2484   H         1 RES1   0.0000\\n    19 H12       0.7171   -2.9004    0.2645   H         1 RES1   0.0000\\n@<TRIPOS>BOND\\n     1     1     2    1\\n     2     1     5    1\\n     3     1     8    1\\n     4     1    11    1\\n     5     1    14    1\\n     6     1    17    1\\n     7     2     3    1\\n     8     2     4    1\\n     9     5     6    1\\n    10     5     7    1\\n    11     8     9    1\\n    12     8    10    1\\n    13    11    12    1\\n    14    11    13    1\\n    15    14    15    1\\n    16    14    16    1\\n    17    17    18    1\\n    18    17    19    1\\n@<TRIPOS>SUBSTRUCTURE\\n     1 RES1       19 GROUP             0 ****  ****    0  \\n\",\"mol2\");\n",
       "\tviewergrid_16697471616554298[0][0].setStyle({\"stick\": {\"colorscheme\": \"Jmol\"}});\n",
       "\tviewergrid_16697471616554298[0][0].zoomTo();\n",
       "\tviewergrid_16697471616554298[0][1].addModel(\"@<TRIPOS>MOLECULE\\ntmp.mol2\\n    19    18     1     0     0\\nSMALL\\nNoCharges\\n****\\nGenerated from Architector\\n\\n@<TRIPOS>ATOM\\n     1 Fe1      -0.0011    0.0024   -0.0019   Fe        1 RES1   0.0000\\n     2 O1        1.7838   -0.0003    1.4685   O.3       1 RES1   0.0000\\n     3 H1        2.0369   -0.7169    2.0741   H         1 RES1   0.0000\\n     4 H2        2.3885    0.7262    1.6950   H         1 RES1   0.0000\\n     5 O2       -0.8722    1.5570    1.4680   O.3       1 RES1   0.0000\\n     6 H3       -1.7727    1.9227    1.4954   H         1 RES1   0.0000\\n     7 H4       -0.4568    1.8944    2.2789   H         1 RES1   0.0000\\n     8 O3       -0.9098   -1.5378    1.4602   O.3       1 RES1   0.0000\\n     9 H5       -1.3731   -1.3332    2.2894   H         1 RES1   0.0000\\n    10 H6       -0.8267   -2.5063    1.4733   H         1 RES1   0.0000\\n    11 O4        1.7678   -0.0077   -1.4833   O.3       1 RES1   0.0000\\n    12 H7        1.7676    0.3621   -2.3818   H         1 RES1   0.0000\\n    13 H8        2.6714   -0.3491   -1.3713   H         1 RES1   0.0000\\n    14 O5       -0.9110    1.5295   -1.4700   O.3       1 RES1   0.0000\\n    15 H9       -1.3937    1.3363   -2.2910   H         1 RES1   0.0000\\n    16 H10      -0.8144    2.4971   -1.4728   H         1 RES1   0.0000\\n    17 O6       -0.8791   -1.5386   -1.4777   O.3       1 RES1   0.0000\\n    18 H11      -1.7719   -1.9236   -1.4930   H         1 RES1   0.0000\\n    19 H12      -0.4415   -1.9140   -2.2601   H         1 RES1   0.0000\\n@<TRIPOS>BOND\\n     1     1     2    1\\n     2     1     5    1\\n     3     1     8    1\\n     4     1    11    1\\n     5     1    14    1\\n     6     1    17    1\\n     7     2     3    1\\n     8     2     4    1\\n     9     5     6    1\\n    10     5     7    1\\n    11     8     9    1\\n    12     8    10    1\\n    13    11    12    1\\n    14    11    13    1\\n    15    14    15    1\\n    16    14    16    1\\n    17    17    18    1\\n    18    17    19    1\\n@<TRIPOS>SUBSTRUCTURE\\n     1 RES1       19 GROUP             0 ****  ****    0  \\n\",\"mol2\");\n",
       "\tviewergrid_16697471616554298[0][1].setStyle({\"stick\": {\"colorscheme\": \"Jmol\"}});\n",
       "\tviewergrid_16697471616554298[0][1].zoomTo();\n",
       "\tviewergrid_16697471616554298[0][2].addModel(\"@<TRIPOS>MOLECULE\\ntmp.mol2\\n    19    18     1     0     0\\nSMALL\\nNoCharges\\n****\\nGenerated from Architector\\n\\n@<TRIPOS>ATOM\\n     1 Fe1       0.0081    0.0017    0.3512   Fe        1 RES1   0.0000\\n     2 O1        0.0010   -0.0179    2.5877   O.3       1 RES1   0.0000\\n     3 H1        0.4478   -0.6399    3.1899   H         1 RES1   0.0000\\n     4 H2       -0.4231    0.6226    3.1876   H         1 RES1   0.0000\\n     5 O2        2.3128   -0.0402   -0.0645   O.3       1 RES1   0.0000\\n     6 H3        2.9919    0.2601    0.5602   H         1 RES1   0.0000\\n     7 H4        2.7868   -0.1940   -0.8987   H         1 RES1   0.0000\\n     8 O3        0.7068    2.1872   -0.0811   O.3       1 RES1   0.0000\\n     9 H5        1.5520    2.4834   -0.4574   H         1 RES1   0.0000\\n    10 H6        0.2336    3.0181    0.0943   H         1 RES1   0.0000\\n    11 O4       -1.8637    1.3694   -0.0935   O.3       1 RES1   0.0000\\n    12 H7       -2.7344    1.2425    0.3179   H         1 RES1   0.0000\\n    13 H8       -2.0162    2.0341   -0.7861   H         1 RES1   0.0000\\n    14 O5       -1.8787   -1.3139   -0.0472   O.3       1 RES1   0.0000\\n    15 H9       -2.5267   -1.2400   -0.7673   H         1 RES1   0.0000\\n    16 H10      -2.1558   -2.0980    0.4537   H         1 RES1   0.0000\\n    17 O6        0.7188   -2.1964   -0.1020   O.3       1 RES1   0.0000\\n    18 H11       1.6260   -2.5404   -0.0293   H         1 RES1   0.0000\\n    19 H12       0.2148   -2.9384   -0.4774   H         1 RES1   0.0000\\n@<TRIPOS>BOND\\n     1     1     2    1\\n     2     1     5    1\\n     3     1     8    1\\n     4     1    11    1\\n     5     1    14    1\\n     6     1    17    1\\n     7     2     3    1\\n     8     2     4    1\\n     9     5     6    1\\n    10     5     7    1\\n    11     8     9    1\\n    12     8    10    1\\n    13    11    12    1\\n    14    11    13    1\\n    15    14    15    1\\n    16    14    16    1\\n    17    17    18    1\\n    18    17    19    1\\n@<TRIPOS>SUBSTRUCTURE\\n     1 RES1       19 GROUP             0 ****  ****    0  \\n\",\"mol2\");\n",
       "\tviewergrid_16697471616554298[0][2].setStyle({\"stick\": {\"colorscheme\": \"Jmol\"}});\n",
       "\tviewergrid_16697471616554298[0][2].zoomTo();\n",
       "viewergrid_16697471616554298[0][3].render();\n",
       "viewergrid_16697471616554298[0][2].render();\n",
       "viewergrid_16697471616554298[0][1].render();\n",
       "viewergrid_16697471616554298[0][0].render();\n",
       "});\n",
       "</script>"
      ]
     },
     "metadata": {},
     "output_type": "display_data"
    }
   ],
   "source": [
    "# Let's visualize the strucutres again:\n",
    "view_structures(out1)"
   ]
  },
  {
   "cell_type": "markdown",
   "id": "a1e1a937",
   "metadata": {},
   "source": [
    "### How about the spin and charge?\n",
    "\n",
    "The structures look very similar, so let's check the spin and charge:"
   ]
  },
  {
   "cell_type": "code",
   "execution_count": 22,
   "id": "d0d4ea91",
   "metadata": {},
   "outputs": [
    {
     "name": "stdout",
     "output_type": "stream",
     "text": [
      "Metal Oxidation State:  3\n",
      "Total System Charge:  3\n",
      "Total N Unpaired Electrons (spin):  5\n"
     ]
    }
   ],
   "source": [
    "key = list(out1.keys())[0]\n",
    "print('Metal Oxidation State: ',out1[key]['metal_ox'])\n",
    "print('Total System Charge: ',out1[key]['total_charge'])\n",
    "print('Total N Unpaired Electrons (spin): ',out1[key]['calc_n_unpaired_electrons'])"
   ]
  },
  {
   "cell_type": "markdown",
   "id": "b9255b2d",
   "metadata": {},
   "source": [
    "So we can see we've created both High Spin (HS) [Fe(H<sub>2</sub>O)<sub>6</sub>]<sup>3+</sup> in the out1 dictionary, and [Fe(H<sub>2</sub>O)<sub>6</sub>]<sup>2+</sup> in the out dictionary.\n",
    "\n",
    "For simplicity and tracking sake, let's rename these variables accordingly:"
   ]
  },
  {
   "cell_type": "code",
   "execution_count": 23,
   "id": "4d67cf33",
   "metadata": {},
   "outputs": [],
   "source": [
    "hs_fe2_dict = out\n",
    "hs_fe3_dict = out1"
   ]
  },
  {
   "cell_type": "markdown",
   "id": "79ad3534",
   "metadata": {},
   "source": [
    "## Still in (C), let's measure the difference in bond distances betwee the two charge state structures!\n",
    "\n",
    "We will be using numpy package for analysis:"
   ]
  },
  {
   "cell_type": "code",
   "execution_count": 24,
   "id": "9c361d03",
   "metadata": {},
   "outputs": [],
   "source": [
    "import numpy as np"
   ]
  },
  {
   "cell_type": "markdown",
   "id": "461197ad",
   "metadata": {},
   "source": [
    "#### Let's look at the High-Spin (HS) Fe-O distances for both the octahedral 2+ and 3+ forms using the following function:\n",
    "\n",
    "For this function we will also be using several of the built-in functionality of the [ASE Atoms](https://wiki.fysik.dtu.dk/ase/ase/atoms.html) output included in every output dictionary."
   ]
  },
  {
   "cell_type": "code",
   "execution_count": 25,
   "id": "ba0ecd6b",
   "metadata": {},
   "outputs": [],
   "source": [
    "def avg_fe_o_dist(ase_atoms):\n",
    "    # Have ase atoms gives all the functionality of ase!\n",
    "    symbols = np.array(ase_atoms.get_chemical_symbols()) # List of chemical symbols\n",
    "    distances = ase_atoms.get_all_distances() # Matrix (Natoms x Natoms) of distances in Angstroms\n",
    "    # Pull out the indices of Fe, and O:\n",
    "    fe_ind = np.where(symbols == 'Fe')[0]\n",
    "    o_inds = np.where(symbols == 'O')[0]\n",
    "    # Now tablulate Fe-O distances\n",
    "    dists = [distances[fe_ind,x] for x in o_inds]\n",
    "    avg_dists = np.mean(dists) # And take the average\n",
    "    return avg_dists"
   ]
  },
  {
   "cell_type": "markdown",
   "id": "e0e85fbc",
   "metadata": {},
   "source": [
    "We first look at Fe2+-O distances."
   ]
  },
  {
   "cell_type": "code",
   "execution_count": 26,
   "id": "6bb556fb",
   "metadata": {},
   "outputs": [
    {
     "name": "stdout",
     "output_type": "stream",
     "text": [
      "Average Fe2+-O distance (Angstroms): 2.347411381080871\n"
     ]
    }
   ],
   "source": [
    "fe2key = list(hs_fe2_dict.keys())[0]\n",
    "hs_fe2_avg_dist = avg_fe_o_dist(hs_fe2_dict[fe2key]['ase_atoms'])\n",
    "print('Average Fe2+-O distance (Angstroms):', hs_fe2_avg_dist)"
   ]
  },
  {
   "cell_type": "code",
   "execution_count": 27,
   "id": "3d5549bb",
   "metadata": {},
   "outputs": [
    {
     "name": "stdout",
     "output_type": "stream",
     "text": [
      "Average F3+-O distance (Angstroms): 2.309006695989517\n"
     ]
    }
   ],
   "source": [
    "# Same procedure for F3+-O!\n",
    "fe3key = list(hs_fe3_dict.keys())[0]\n",
    "hs_fe3_avg_dist = avg_fe_o_dist(hs_fe3_dict[fe3key]['ase_atoms'])\n",
    "print('Average F3+-O distance (Angstroms):', hs_fe3_avg_dist)"
   ]
  },
  {
   "cell_type": "markdown",
   "id": "4ae0ae0a",
   "metadata": {},
   "source": [
    "### So we can see that the 3+ Fe-O distance is slightly shorter than the 2+ Fe-O distance.\n",
    "\n",
    "This is in agreement with intuition, where more highly charged metal center attracts negatively charged O stronger!"
   ]
  },
  {
   "cell_type": "markdown",
   "id": "7958769d",
   "metadata": {},
   "source": [
    "## What about if we want to look at different spin states, e.g. Low-Spin (LS) Configurations?\n",
    "\n",
    "Now we can simply re-copy the input dictionary and edit again to examine low-spin configurations:"
   ]
  },
  {
   "cell_type": "code",
   "execution_count": 28,
   "id": "9a06f7e8",
   "metadata": {},
   "outputs": [],
   "source": [
    "fe2_ls_inputDict = copy.deepcopy(inputDict)"
   ]
  },
  {
   "cell_type": "code",
   "execution_count": 29,
   "id": "2b1abe0a",
   "metadata": {
    "scrolled": true
   },
   "outputs": [],
   "source": [
    "# Here, we assign the metal spin to be 0 and let architector ultimately assign the spin:\n",
    "fe2_ls_inputDict['parameters']['metal_ox'] = 2\n",
    "fe2_ls_inputDict['parameters']['metal_spin'] = 0"
   ]
  },
  {
   "cell_type": "markdown",
   "id": "e5e8c7b1",
   "metadata": {},
   "source": [
    "Quick spot-check to make sure the parameters are what we'd like for LS Fe2+ Hexa-Aqua"
   ]
  },
  {
   "cell_type": "code",
   "execution_count": 30,
   "id": "163a1141",
   "metadata": {},
   "outputs": [
    {
     "data": {
      "text/plain": [
       "{'core': {'metal': 'Fe', 'coreCN': 6, 'smiles': '[Fe]'},\n",
       " 'ligands': [{'smiles': 'O', 'coordList': [0]},\n",
       "  {'smiles': 'O', 'coordList': [0]},\n",
       "  {'smiles': 'O', 'coordList': [0]},\n",
       "  {'smiles': 'O', 'coordList': [0]},\n",
       "  {'smiles': 'O', 'coordList': [0]},\n",
       "  {'smiles': 'O', 'coordList': [0]}],\n",
       " 'parameters': {'metal_ox': 2,\n",
       "  'is_actinide': False,\n",
       "  'original_metal': 'Fe',\n",
       "  'metal_spin': 0}}"
      ]
     },
     "execution_count": 30,
     "metadata": {},
     "output_type": "execute_result"
    }
   ],
   "source": [
    "fe2_ls_inputDict"
   ]
  },
  {
   "cell_type": "markdown",
   "id": "e0e6a450",
   "metadata": {},
   "source": [
    "Looks good! Now we can build the LS Fe2+ complex:"
   ]
  },
  {
   "cell_type": "code",
   "execution_count": 31,
   "id": "1a804762",
   "metadata": {
    "scrolled": true
   },
   "outputs": [
    {
     "name": "stdout",
     "output_type": "stream",
     "text": [
      "                 Step     Time          Energy         fmax\n",
      "*Force-consistent energies used in optimization.\n",
      "LBFGSLineSearch:    0 11:39:23     -880.503583*       9.4402\n",
      "LBFGSLineSearch:    1 11:39:23     -884.081951*       4.5510\n",
      "LBFGSLineSearch:    2 11:39:23     -887.582849*       6.2967\n",
      "LBFGSLineSearch:    3 11:39:24     -888.225044*       3.9047\n",
      "LBFGSLineSearch:    4 11:39:24     -889.200375*       3.0926\n",
      "LBFGSLineSearch:    5 11:39:24     -890.223709*       3.0278\n",
      "LBFGSLineSearch:    6 11:39:24     -890.768422*       1.5978\n",
      "LBFGSLineSearch:    7 11:39:24     -891.051875*       1.3514\n",
      "LBFGSLineSearch:    8 11:39:24     -891.282353*       1.3101\n",
      "LBFGSLineSearch:    9 11:39:24     -891.527526*       2.2070\n",
      "LBFGSLineSearch:   10 11:39:24     -891.690672*       1.1575\n",
      "LBFGSLineSearch:   11 11:39:24     -891.796246*       1.0773\n",
      "LBFGSLineSearch:   12 11:39:24     -891.831412*       0.6926\n",
      "LBFGSLineSearch:   13 11:39:24     -891.880463*       0.6096\n",
      "LBFGSLineSearch:   14 11:39:24     -891.904168*       0.4459\n",
      "LBFGSLineSearch:   15 11:39:25     -891.919215*       0.4902\n",
      "LBFGSLineSearch:   16 11:39:25     -891.931732*       0.3251\n",
      "LBFGSLineSearch:   17 11:39:25     -891.948684*       0.4654\n",
      "LBFGSLineSearch:   18 11:39:25     -892.017963*       0.4916\n",
      "LBFGSLineSearch:   19 11:39:25     -892.062764*       0.8548\n",
      "LBFGSLineSearch:   20 11:39:25     -892.119536*       0.9043\n",
      "LBFGSLineSearch:   21 11:39:25     -892.158230*       0.7793\n",
      "LBFGSLineSearch:   22 11:39:25     -892.205279*       0.5754\n",
      "LBFGSLineSearch:   23 11:39:25     -892.253753*       0.7148\n",
      "LBFGSLineSearch:   24 11:39:25     -892.308090*       1.0712\n",
      "LBFGSLineSearch:   25 11:39:25     -892.353439*       1.0423\n",
      "LBFGSLineSearch:   26 11:39:25     -892.404522*       0.4643\n",
      "LBFGSLineSearch:   27 11:39:25     -892.438340*       0.3918\n",
      "LBFGSLineSearch:   28 11:39:25     -892.472911*       1.1724\n",
      "LBFGSLineSearch:   29 11:39:25     -892.599199*       1.2477\n",
      "LBFGSLineSearch:   30 11:39:26     -892.650377*       1.3552\n",
      "LBFGSLineSearch:   31 11:39:26     -892.763608*       1.3196\n",
      "LBFGSLineSearch:   32 11:39:26     -892.835777*       0.9073\n",
      "LBFGSLineSearch:   33 11:39:26     -892.921914*       0.8053\n",
      "LBFGSLineSearch:   34 11:39:26     -893.011235*       1.1009\n",
      "LBFGSLineSearch:   35 11:39:26     -893.130250*       1.1651\n",
      "LBFGSLineSearch:   36 11:39:26     -893.276095*       1.1181\n",
      "LBFGSLineSearch:   37 11:39:26     -893.461591*       0.8293\n",
      "LBFGSLineSearch:   38 11:39:26     -893.554649*       1.0159\n",
      "LBFGSLineSearch:   39 11:39:26     -893.638851*       0.6515\n",
      "LBFGSLineSearch:   40 11:39:26     -893.679388*       1.3078\n",
      "LBFGSLineSearch:   41 11:39:26     -893.740585*       0.7381\n",
      "LBFGSLineSearch:   42 11:39:26     -893.787766*       0.7223\n",
      "LBFGSLineSearch:   43 11:39:26     -893.860636*       0.4670\n",
      "LBFGSLineSearch:   44 11:39:26     -893.907060*       0.6310\n",
      "LBFGSLineSearch:   45 11:39:26     -893.938134*       0.6424\n",
      "LBFGSLineSearch:   46 11:39:26     -893.995764*       0.8194\n",
      "LBFGSLineSearch:   47 11:39:26     -894.040867*       0.5249\n",
      "LBFGSLineSearch:   48 11:39:26     -894.058872*       0.4588\n",
      "LBFGSLineSearch:   49 11:39:26     -894.075286*       0.3968\n",
      "LBFGSLineSearch:   50 11:39:26     -894.084772*       0.2515\n",
      "LBFGSLineSearch:   51 11:39:27     -894.091356*       0.2253\n",
      "LBFGSLineSearch:   52 11:39:27     -894.100945*       0.3443\n",
      "LBFGSLineSearch:   53 11:39:27     -894.124860*       0.3827\n",
      "LBFGSLineSearch:   54 11:39:27     -894.138903*       0.2937\n",
      "LBFGSLineSearch:   55 11:39:27     -894.149007*       0.1576\n",
      "LBFGSLineSearch:   56 11:39:27     -894.155012*       0.2136\n",
      "LBFGSLineSearch:   57 11:39:27     -894.159463*       0.1468\n",
      "LBFGSLineSearch:   58 11:39:27     -894.164925*       0.2367\n",
      "LBFGSLineSearch:   59 11:39:27     -894.172753*       0.2051\n",
      "LBFGSLineSearch:   60 11:39:27     -894.178475*       0.1773\n",
      "LBFGSLineSearch:   61 11:39:27     -894.182672*       0.1607\n",
      "LBFGSLineSearch:   62 11:39:27     -894.185024*       0.1462\n",
      "LBFGSLineSearch:   63 11:39:27     -894.187315*       0.1250\n",
      "LBFGSLineSearch:   64 11:39:27     -894.188957*       0.1223\n",
      "LBFGSLineSearch:   65 11:39:27     -894.190374*       0.0894\n",
      "                 Step     Time          Energy         fmax\n",
      "*Force-consistent energies used in optimization.\n",
      "LBFGSLineSearch:    0 11:39:29     -893.034183*       2.8960\n",
      "LBFGSLineSearch:    1 11:39:29     -893.480744*       0.6195\n",
      "LBFGSLineSearch:    2 11:39:29     -893.695872*       0.5274\n",
      "LBFGSLineSearch:    3 11:39:29     -893.789703*       0.4950\n",
      "LBFGSLineSearch:    4 11:39:29     -893.913907*       0.6522\n",
      "LBFGSLineSearch:    5 11:39:29     -894.141522*       1.4089\n",
      "LBFGSLineSearch:    6 11:39:29     -894.189314*       0.1740\n",
      "LBFGSLineSearch:    7 11:39:29     -894.190407*       0.0431\n",
      "                 Step     Time          Energy         fmax\n",
      "*Force-consistent energies used in optimization.\n",
      "LBFGSLineSearch:    0 11:39:30     -888.331214*       5.9838\n",
      "LBFGSLineSearch:    1 11:39:31     -889.930238*       4.8683\n",
      "LBFGSLineSearch:    2 11:39:31     -891.147245*       2.4231\n",
      "LBFGSLineSearch:    3 11:39:31     -891.541961*       1.2185\n",
      "LBFGSLineSearch:    4 11:39:31     -891.829971*       1.6816\n",
      "LBFGSLineSearch:    5 11:39:31     -892.357540*       3.0345\n",
      "LBFGSLineSearch:    6 11:39:31     -892.739887*       0.8422\n",
      "LBFGSLineSearch:    7 11:39:31     -892.825676*       0.9177\n",
      "LBFGSLineSearch:    8 11:39:31     -892.911537*       0.8480\n",
      "LBFGSLineSearch:    9 11:39:31     -892.928503*       0.2269\n",
      "LBFGSLineSearch:   10 11:39:31     -892.936432*       0.3046\n",
      "LBFGSLineSearch:   11 11:39:31     -892.945715*       0.1581\n",
      "LBFGSLineSearch:   12 11:39:31     -892.949132*       0.1937\n",
      "LBFGSLineSearch:   13 11:39:31     -892.967642*       0.4062\n",
      "LBFGSLineSearch:   14 11:39:31     -892.981367*       0.1665\n",
      "LBFGSLineSearch:   15 11:39:31     -892.987570*       0.1525\n",
      "LBFGSLineSearch:   16 11:39:31     -892.989427*       0.1318\n",
      "LBFGSLineSearch:   17 11:39:32     -892.993852*       0.1532\n",
      "LBFGSLineSearch:   18 11:39:32     -892.998859*       0.2457\n",
      "LBFGSLineSearch:   19 11:39:32     -893.004991*       0.2240\n",
      "LBFGSLineSearch:   20 11:39:32     -893.007144*       0.2101\n",
      "LBFGSLineSearch:   21 11:39:32     -893.012787*       0.2650\n",
      "LBFGSLineSearch:   22 11:39:32     -893.023554*       0.1989\n",
      "LBFGSLineSearch:   23 11:39:32     -893.026026*       0.1605\n",
      "LBFGSLineSearch:   24 11:39:32     -893.028963*       0.2137\n",
      "LBFGSLineSearch:   25 11:39:32     -893.032062*       0.1452\n",
      "LBFGSLineSearch:   26 11:39:32     -893.034049*       0.0909\n",
      "                 Step     Time          Energy         fmax\n",
      "*Force-consistent energies used in optimization.\n",
      "LBFGSLineSearch:    0 11:39:33     -890.571485*       4.1649\n",
      "LBFGSLineSearch:    1 11:39:34     -891.330412*       1.1347\n",
      "LBFGSLineSearch:    2 11:39:34     -892.043834*       0.8120\n",
      "LBFGSLineSearch:    3 11:39:34     -892.297945*       1.1979\n",
      "LBFGSLineSearch:    4 11:39:34     -892.971725*       1.4213\n",
      "LBFGSLineSearch:    5 11:39:34     -893.164954*       0.6178\n",
      "LBFGSLineSearch:    6 11:39:34     -893.174938*       0.1791\n",
      "LBFGSLineSearch:    7 11:39:34     -893.177289*       0.2175\n",
      "LBFGSLineSearch:    8 11:39:34     -893.186868*       0.2727\n",
      "LBFGSLineSearch:    9 11:39:34     -893.193352*       0.1580\n",
      "LBFGSLineSearch:   10 11:39:34     -893.196663*       0.1155\n",
      "LBFGSLineSearch:   11 11:39:34     -893.199528*       0.1549\n",
      "LBFGSLineSearch:   12 11:39:34     -893.203897*       0.1041\n",
      "LBFGSLineSearch:   13 11:39:34     -893.205112*       0.0996\n"
     ]
    }
   ],
   "source": [
    "ls_fe2_dict = build_complex(fe2_ls_inputDict)"
   ]
  },
  {
   "cell_type": "markdown",
   "id": "7db38ab2",
   "metadata": {},
   "source": [
    "And again we can visualize!"
   ]
  },
  {
   "cell_type": "code",
   "execution_count": 32,
   "id": "d0c67f1f",
   "metadata": {},
   "outputs": [
    {
     "data": {
      "application/3dmoljs_load.v0": "<div id=\"3dmolviewer_1669747178544405\"  style=\"position: relative; width: 800px; height: 200px\">\n        <p id=\"3dmolwarning_1669747178544405\" style=\"background-color:#ffcccc;color:black\">You appear to be running in JupyterLab (or JavaScript failed to load for some other reason).  You need to install the 3dmol extension: <br>\n        <tt>jupyter labextension install jupyterlab_3dmol</tt></p>\n        </div>\n<script>\n\nvar loadScriptAsync = function(uri){\n  return new Promise((resolve, reject) => {\n    var tag = document.createElement('script');\n    tag.src = uri;\n    tag.async = true;\n    tag.onload = () => {\n      resolve();\n    };\n  var firstScriptTag = document.getElementsByTagName('script')[0];\n  firstScriptTag.parentNode.insertBefore(tag, firstScriptTag);\n});\n};\n\nif(typeof $3Dmolpromise === 'undefined') {\n$3Dmolpromise = null;\n  $3Dmolpromise = loadScriptAsync('https://cdn.jsdelivr.net/npm/3dmol@latest/build/3Dmol-min.min.js');\n}\n\nvar viewer_1669747178544405 = null;\nvar warn = document.getElementById(\"3dmolwarning_1669747178544405\");\nif(warn) {\n    warn.parentNode.removeChild(warn);\n}\n$3Dmolpromise.then(function() {\nvar viewergrid_1669747178544405 = null;\nviewergrid_1669747178544405 = $3Dmol.createViewerGrid($(\"#3dmolviewer_1669747178544405\"),{rows: 1, cols: 4, control_all: false},{backgroundColor:\"white\"});\nviewer_1669747178544405 = viewergrid_1669747178544405[0][0];\nviewergrid_1669747178544405[0][0].zoomTo();viewergrid_1669747178544405[0][1].zoomTo();viewergrid_1669747178544405[0][2].zoomTo();viewergrid_1669747178544405[0][3].zoomTo();\tviewergrid_1669747178544405[0][0].addModel(\"@<TRIPOS>MOLECULE\\ntmp.mol2\\n    19    18     1     0     0\\nSMALL\\nNoCharges\\n****\\nGenerated from Architector\\n\\n@<TRIPOS>ATOM\\n     1 Fe1       0.0007    0.0008   -0.0011   Fe        1 RES1   0.0000\\n     2 O1       -0.0073    0.0017    2.1555   O.3       1 RES1   0.0000\\n     3 H1        0.5296    0.5646    2.7221   H         1 RES1   0.0000\\n     4 H2       -0.5121   -0.5700    2.7433   H         1 RES1   0.0000\\n     5 O2       -0.0257    0.0259   -2.1550   O.3       1 RES1   0.0000\\n     6 H3       -0.5391   -0.5550   -2.7260   H         1 RES1   0.0000\\n     7 H4        0.5673    0.5203   -2.7304   H         1 RES1   0.0000\\n     8 O3        2.1502    0.0254    0.0217   O.3       1 RES1   0.0000\\n     9 H5        2.7077   -0.5810    0.5203   H         1 RES1   0.0000\\n    10 H6        2.7380    0.5522   -0.5300   H         1 RES1   0.0000\\n    11 O4       -2.1539   -0.0539    0.0036   O.3       1 RES1   0.0000\\n    12 H7       -2.7226    0.0753    0.7698   H         1 RES1   0.0000\\n    13 H8       -2.7268   -0.0029   -0.7689   H         1 RES1   0.0000\\n    14 O5        0.0483    2.1507   -0.0483   O.3       1 RES1   0.0000\\n    15 H9        0.5396    2.7320    0.5420   H         1 RES1   0.0000\\n    16 H10      -0.5940    2.7064   -0.5014   H         1 RES1   0.0000\\n    17 O6       -0.0020   -2.1478    0.0049   O.3       1 RES1   0.0000\\n    18 H11      -0.5679   -2.7402    0.5110   H         1 RES1   0.0000\\n    19 H12       0.5700   -2.7046   -0.5330   H         1 RES1   0.0000\\n@<TRIPOS>BOND\\n     1     1     2    1\\n     2     1     5    1\\n     3     1     8    1\\n     4     1    11    1\\n     5     1    14    1\\n     6     1    17    1\\n     7     2     3    1\\n     8     2     4    1\\n     9     5     6    1\\n    10     5     7    1\\n    11     8     9    1\\n    12     8    10    1\\n    13    11    12    1\\n    14    11    13    1\\n    15    14    15    1\\n    16    14    16    1\\n    17    17    18    1\\n    18    17    19    1\\n@<TRIPOS>SUBSTRUCTURE\\n     1 RES1       19 GROUP             0 ****  ****    0  \\n\",\"mol2\");\n\tviewergrid_1669747178544405[0][0].setStyle({\"stick\": {\"colorscheme\": \"Jmol\"}});\n\tviewergrid_1669747178544405[0][0].zoomTo();\n\tviewergrid_1669747178544405[0][1].addModel(\"@<TRIPOS>MOLECULE\\ntmp.mol2\\n    19    18     1     0     0\\nSMALL\\nNoCharges\\n****\\nGenerated from Architector\\n\\n@<TRIPOS>ATOM\\n     1 Fe1       0.0203    0.0349    0.1324   Fe        1 RES1   0.0000\\n     2 O1        1.7458   -0.0045    1.4662   O.3       1 RES1   0.0000\\n     3 H1        2.0328   -0.7241    2.0389   H         1 RES1   0.0000\\n     4 H2        2.3444    0.7323    1.6321   H         1 RES1   0.0000\\n     5 O2       -0.8776    1.4939    1.4894   O.3       1 RES1   0.0000\\n     6 H3       -0.7955    2.4497    1.3941   H         1 RES1   0.0000\\n     7 H4       -1.3676    1.3294    2.3028   H         1 RES1   0.0000\\n     8 O3       -0.8189   -1.4576    1.4572   O.3       1 RES1   0.0000\\n     9 H5       -0.8717   -1.4674    2.4184   H         1 RES1   0.0000\\n    10 H6       -1.2859   -2.2440    1.1524   H         1 RES1   0.0000\\n    11 O4        1.7050   -0.0269   -1.4629   O.3       1 RES1   0.0000\\n    12 H7        1.7350    0.2851   -2.3728   H         1 RES1   0.0000\\n    13 H8        2.6056   -0.2974   -1.2572   H         1 RES1   0.0000\\n    14 O5       -0.8342    1.5111   -1.4861   O.3       1 RES1   0.0000\\n    15 H9       -0.8997    1.4083   -2.4411   H         1 RES1   0.0000\\n    16 H10      -1.3404    2.3006   -1.2668   H         1 RES1   0.0000\\n    17 O6       -0.8979   -1.5197   -1.4745   O.3       1 RES1   0.0000\\n    18 H11      -0.4529   -2.3040   -1.8114   H         1 RES1   0.0000\\n    19 H12      -1.7546   -1.4997   -1.9111   H         1 RES1   0.0000\\n@<TRIPOS>BOND\\n     1     1     2    1\\n     2     1     5    1\\n     3     1     8    1\\n     4     1    11    1\\n     5     1    14    1\\n     6     1    17    1\\n     7     2     3    1\\n     8     2     4    1\\n     9     5     6    1\\n    10     5     7    1\\n    11     8     9    1\\n    12     8    10    1\\n    13    11    12    1\\n    14    11    13    1\\n    15    14    15    1\\n    16    14    16    1\\n    17    17    18    1\\n    18    17    19    1\\n@<TRIPOS>SUBSTRUCTURE\\n     1 RES1       19 GROUP             0 ****  ****    0  \\n\",\"mol2\");\n\tviewergrid_1669747178544405[0][1].setStyle({\"stick\": {\"colorscheme\": \"Jmol\"}});\n\tviewergrid_1669747178544405[0][1].zoomTo();\n\tviewergrid_1669747178544405[0][2].addModel(\"@<TRIPOS>MOLECULE\\ntmp.mol2\\n    19    18     1     0     0\\nSMALL\\nNoCharges\\n****\\nGenerated from Architector\\n\\n@<TRIPOS>ATOM\\n     1 Fe1       0.3472    0.0036    0.0616   Fe        1 RES1   0.0000\\n     2 O1        0.2021   -0.0192    2.2000   O.3       1 RES1   0.0000\\n     3 H1        0.5669    0.5528    2.8856   H         1 RES1   0.0000\\n     4 H2       -0.4540   -0.5718    2.6417   H         1 RES1   0.0000\\n     5 O2        2.4620   -0.0361   -0.0384   O.3       1 RES1   0.0000\\n     6 H3        3.0342   -0.6016    0.4942   H         1 RES1   0.0000\\n     7 H4        3.0355    0.6038   -0.4755   H         1 RES1   0.0000\\n     8 O3        0.6735    2.1552   -0.0896   O.3       1 RES1   0.0000\\n     9 H5        1.1910    2.7487    0.4657   H         1 RES1   0.0000\\n    10 H6        0.0538    2.7073   -0.5807   H         1 RES1   0.0000\\n    11 O4       -1.8277    1.2979   -0.0647   O.3       1 RES1   0.0000\\n    12 H7       -2.1895    1.9293    0.5632   H         1 RES1   0.0000\\n    13 H8       -2.5109    1.1559   -0.7262   H         1 RES1   0.0000\\n    14 O5       -1.8116   -1.3385    0.0809   O.3       1 RES1   0.0000\\n    15 H9       -2.0279   -1.8644   -0.6946   H         1 RES1   0.0000\\n    16 H10      -2.6499   -1.1139    0.4945   H         1 RES1   0.0000\\n    17 O6        0.6691   -2.1645   -0.0007   O.3       1 RES1   0.0000\\n    18 H11       1.1309   -2.6273   -0.7092   H         1 RES1   0.0000\\n    19 H12       0.1066   -2.8171    0.4303   H         1 RES1   0.0000\\n@<TRIPOS>BOND\\n     1     1     2    1\\n     2     1     5    1\\n     3     1     8    1\\n     4     1    11    1\\n     5     1    14    1\\n     6     1    17    1\\n     7     2     3    1\\n     8     2     4    1\\n     9     5     6    1\\n    10     5     7    1\\n    11     8     9    1\\n    12     8    10    1\\n    13    11    12    1\\n    14    11    13    1\\n    15    14    15    1\\n    16    14    16    1\\n    17    17    18    1\\n    18    17    19    1\\n@<TRIPOS>SUBSTRUCTURE\\n     1 RES1       19 GROUP             0 ****  ****    0  \\n\",\"mol2\");\n\tviewergrid_1669747178544405[0][2].setStyle({\"stick\": {\"colorscheme\": \"Jmol\"}});\n\tviewergrid_1669747178544405[0][2].zoomTo();\nviewergrid_1669747178544405[0][3].render();\nviewergrid_1669747178544405[0][2].render();\nviewergrid_1669747178544405[0][1].render();\nviewergrid_1669747178544405[0][0].render();\n});\n</script>",
      "text/html": [
       "<div id=\"3dmolviewer_1669747178544405\"  style=\"position: relative; width: 800px; height: 200px\">\n",
       "        <p id=\"3dmolwarning_1669747178544405\" style=\"background-color:#ffcccc;color:black\">You appear to be running in JupyterLab (or JavaScript failed to load for some other reason).  You need to install the 3dmol extension: <br>\n",
       "        <tt>jupyter labextension install jupyterlab_3dmol</tt></p>\n",
       "        </div>\n",
       "<script>\n",
       "\n",
       "var loadScriptAsync = function(uri){\n",
       "  return new Promise((resolve, reject) => {\n",
       "    var tag = document.createElement('script');\n",
       "    tag.src = uri;\n",
       "    tag.async = true;\n",
       "    tag.onload = () => {\n",
       "      resolve();\n",
       "    };\n",
       "  var firstScriptTag = document.getElementsByTagName('script')[0];\n",
       "  firstScriptTag.parentNode.insertBefore(tag, firstScriptTag);\n",
       "});\n",
       "};\n",
       "\n",
       "if(typeof $3Dmolpromise === 'undefined') {\n",
       "$3Dmolpromise = null;\n",
       "  $3Dmolpromise = loadScriptAsync('https://cdn.jsdelivr.net/npm/3dmol@latest/build/3Dmol-min.min.js');\n",
       "}\n",
       "\n",
       "var viewer_1669747178544405 = null;\n",
       "var warn = document.getElementById(\"3dmolwarning_1669747178544405\");\n",
       "if(warn) {\n",
       "    warn.parentNode.removeChild(warn);\n",
       "}\n",
       "$3Dmolpromise.then(function() {\n",
       "var viewergrid_1669747178544405 = null;\n",
       "viewergrid_1669747178544405 = $3Dmol.createViewerGrid($(\"#3dmolviewer_1669747178544405\"),{rows: 1, cols: 4, control_all: false},{backgroundColor:\"white\"});\n",
       "viewer_1669747178544405 = viewergrid_1669747178544405[0][0];\n",
       "viewergrid_1669747178544405[0][0].zoomTo();viewergrid_1669747178544405[0][1].zoomTo();viewergrid_1669747178544405[0][2].zoomTo();viewergrid_1669747178544405[0][3].zoomTo();\tviewergrid_1669747178544405[0][0].addModel(\"@<TRIPOS>MOLECULE\\ntmp.mol2\\n    19    18     1     0     0\\nSMALL\\nNoCharges\\n****\\nGenerated from Architector\\n\\n@<TRIPOS>ATOM\\n     1 Fe1       0.0007    0.0008   -0.0011   Fe        1 RES1   0.0000\\n     2 O1       -0.0073    0.0017    2.1555   O.3       1 RES1   0.0000\\n     3 H1        0.5296    0.5646    2.7221   H         1 RES1   0.0000\\n     4 H2       -0.5121   -0.5700    2.7433   H         1 RES1   0.0000\\n     5 O2       -0.0257    0.0259   -2.1550   O.3       1 RES1   0.0000\\n     6 H3       -0.5391   -0.5550   -2.7260   H         1 RES1   0.0000\\n     7 H4        0.5673    0.5203   -2.7304   H         1 RES1   0.0000\\n     8 O3        2.1502    0.0254    0.0217   O.3       1 RES1   0.0000\\n     9 H5        2.7077   -0.5810    0.5203   H         1 RES1   0.0000\\n    10 H6        2.7380    0.5522   -0.5300   H         1 RES1   0.0000\\n    11 O4       -2.1539   -0.0539    0.0036   O.3       1 RES1   0.0000\\n    12 H7       -2.7226    0.0753    0.7698   H         1 RES1   0.0000\\n    13 H8       -2.7268   -0.0029   -0.7689   H         1 RES1   0.0000\\n    14 O5        0.0483    2.1507   -0.0483   O.3       1 RES1   0.0000\\n    15 H9        0.5396    2.7320    0.5420   H         1 RES1   0.0000\\n    16 H10      -0.5940    2.7064   -0.5014   H         1 RES1   0.0000\\n    17 O6       -0.0020   -2.1478    0.0049   O.3       1 RES1   0.0000\\n    18 H11      -0.5679   -2.7402    0.5110   H         1 RES1   0.0000\\n    19 H12       0.5700   -2.7046   -0.5330   H         1 RES1   0.0000\\n@<TRIPOS>BOND\\n     1     1     2    1\\n     2     1     5    1\\n     3     1     8    1\\n     4     1    11    1\\n     5     1    14    1\\n     6     1    17    1\\n     7     2     3    1\\n     8     2     4    1\\n     9     5     6    1\\n    10     5     7    1\\n    11     8     9    1\\n    12     8    10    1\\n    13    11    12    1\\n    14    11    13    1\\n    15    14    15    1\\n    16    14    16    1\\n    17    17    18    1\\n    18    17    19    1\\n@<TRIPOS>SUBSTRUCTURE\\n     1 RES1       19 GROUP             0 ****  ****    0  \\n\",\"mol2\");\n",
       "\tviewergrid_1669747178544405[0][0].setStyle({\"stick\": {\"colorscheme\": \"Jmol\"}});\n",
       "\tviewergrid_1669747178544405[0][0].zoomTo();\n",
       "\tviewergrid_1669747178544405[0][1].addModel(\"@<TRIPOS>MOLECULE\\ntmp.mol2\\n    19    18     1     0     0\\nSMALL\\nNoCharges\\n****\\nGenerated from Architector\\n\\n@<TRIPOS>ATOM\\n     1 Fe1       0.0203    0.0349    0.1324   Fe        1 RES1   0.0000\\n     2 O1        1.7458   -0.0045    1.4662   O.3       1 RES1   0.0000\\n     3 H1        2.0328   -0.7241    2.0389   H         1 RES1   0.0000\\n     4 H2        2.3444    0.7323    1.6321   H         1 RES1   0.0000\\n     5 O2       -0.8776    1.4939    1.4894   O.3       1 RES1   0.0000\\n     6 H3       -0.7955    2.4497    1.3941   H         1 RES1   0.0000\\n     7 H4       -1.3676    1.3294    2.3028   H         1 RES1   0.0000\\n     8 O3       -0.8189   -1.4576    1.4572   O.3       1 RES1   0.0000\\n     9 H5       -0.8717   -1.4674    2.4184   H         1 RES1   0.0000\\n    10 H6       -1.2859   -2.2440    1.1524   H         1 RES1   0.0000\\n    11 O4        1.7050   -0.0269   -1.4629   O.3       1 RES1   0.0000\\n    12 H7        1.7350    0.2851   -2.3728   H         1 RES1   0.0000\\n    13 H8        2.6056   -0.2974   -1.2572   H         1 RES1   0.0000\\n    14 O5       -0.8342    1.5111   -1.4861   O.3       1 RES1   0.0000\\n    15 H9       -0.8997    1.4083   -2.4411   H         1 RES1   0.0000\\n    16 H10      -1.3404    2.3006   -1.2668   H         1 RES1   0.0000\\n    17 O6       -0.8979   -1.5197   -1.4745   O.3       1 RES1   0.0000\\n    18 H11      -0.4529   -2.3040   -1.8114   H         1 RES1   0.0000\\n    19 H12      -1.7546   -1.4997   -1.9111   H         1 RES1   0.0000\\n@<TRIPOS>BOND\\n     1     1     2    1\\n     2     1     5    1\\n     3     1     8    1\\n     4     1    11    1\\n     5     1    14    1\\n     6     1    17    1\\n     7     2     3    1\\n     8     2     4    1\\n     9     5     6    1\\n    10     5     7    1\\n    11     8     9    1\\n    12     8    10    1\\n    13    11    12    1\\n    14    11    13    1\\n    15    14    15    1\\n    16    14    16    1\\n    17    17    18    1\\n    18    17    19    1\\n@<TRIPOS>SUBSTRUCTURE\\n     1 RES1       19 GROUP             0 ****  ****    0  \\n\",\"mol2\");\n",
       "\tviewergrid_1669747178544405[0][1].setStyle({\"stick\": {\"colorscheme\": \"Jmol\"}});\n",
       "\tviewergrid_1669747178544405[0][1].zoomTo();\n",
       "\tviewergrid_1669747178544405[0][2].addModel(\"@<TRIPOS>MOLECULE\\ntmp.mol2\\n    19    18     1     0     0\\nSMALL\\nNoCharges\\n****\\nGenerated from Architector\\n\\n@<TRIPOS>ATOM\\n     1 Fe1       0.3472    0.0036    0.0616   Fe        1 RES1   0.0000\\n     2 O1        0.2021   -0.0192    2.2000   O.3       1 RES1   0.0000\\n     3 H1        0.5669    0.5528    2.8856   H         1 RES1   0.0000\\n     4 H2       -0.4540   -0.5718    2.6417   H         1 RES1   0.0000\\n     5 O2        2.4620   -0.0361   -0.0384   O.3       1 RES1   0.0000\\n     6 H3        3.0342   -0.6016    0.4942   H         1 RES1   0.0000\\n     7 H4        3.0355    0.6038   -0.4755   H         1 RES1   0.0000\\n     8 O3        0.6735    2.1552   -0.0896   O.3       1 RES1   0.0000\\n     9 H5        1.1910    2.7487    0.4657   H         1 RES1   0.0000\\n    10 H6        0.0538    2.7073   -0.5807   H         1 RES1   0.0000\\n    11 O4       -1.8277    1.2979   -0.0647   O.3       1 RES1   0.0000\\n    12 H7       -2.1895    1.9293    0.5632   H         1 RES1   0.0000\\n    13 H8       -2.5109    1.1559   -0.7262   H         1 RES1   0.0000\\n    14 O5       -1.8116   -1.3385    0.0809   O.3       1 RES1   0.0000\\n    15 H9       -2.0279   -1.8644   -0.6946   H         1 RES1   0.0000\\n    16 H10      -2.6499   -1.1139    0.4945   H         1 RES1   0.0000\\n    17 O6        0.6691   -2.1645   -0.0007   O.3       1 RES1   0.0000\\n    18 H11       1.1309   -2.6273   -0.7092   H         1 RES1   0.0000\\n    19 H12       0.1066   -2.8171    0.4303   H         1 RES1   0.0000\\n@<TRIPOS>BOND\\n     1     1     2    1\\n     2     1     5    1\\n     3     1     8    1\\n     4     1    11    1\\n     5     1    14    1\\n     6     1    17    1\\n     7     2     3    1\\n     8     2     4    1\\n     9     5     6    1\\n    10     5     7    1\\n    11     8     9    1\\n    12     8    10    1\\n    13    11    12    1\\n    14    11    13    1\\n    15    14    15    1\\n    16    14    16    1\\n    17    17    18    1\\n    18    17    19    1\\n@<TRIPOS>SUBSTRUCTURE\\n     1 RES1       19 GROUP             0 ****  ****    0  \\n\",\"mol2\");\n",
       "\tviewergrid_1669747178544405[0][2].setStyle({\"stick\": {\"colorscheme\": \"Jmol\"}});\n",
       "\tviewergrid_1669747178544405[0][2].zoomTo();\n",
       "viewergrid_1669747178544405[0][3].render();\n",
       "viewergrid_1669747178544405[0][2].render();\n",
       "viewergrid_1669747178544405[0][1].render();\n",
       "viewergrid_1669747178544405[0][0].render();\n",
       "});\n",
       "</script>"
      ]
     },
     "metadata": {},
     "output_type": "display_data"
    }
   ],
   "source": [
    "view_structures(ls_fe2_dict)"
   ]
  },
  {
   "cell_type": "markdown",
   "id": "bf7a243f",
   "metadata": {},
   "source": [
    "### Wait! In some cases for LS - only one unique geometry is generated!\n",
    "\n",
    "This is because Architector automatically removes duplicate geometries unless otherwise requested.\n",
    "\n",
    "For verification, let's check the spin/charge states of the complex:"
   ]
  },
  {
   "cell_type": "code",
   "execution_count": 33,
   "id": "c7311789",
   "metadata": {},
   "outputs": [
    {
     "name": "stdout",
     "output_type": "stream",
     "text": [
      "Metal Oxidation State:  2\n",
      "Total System Charge:  2\n",
      "Total N Unpaired Electrons (spin):  0\n"
     ]
    }
   ],
   "source": [
    "key = list(ls_fe2_dict.keys())[0]\n",
    "print('Metal Oxidation State: ',ls_fe2_dict[key]['metal_ox'])\n",
    "print('Total System Charge: ',ls_fe2_dict[key]['total_charge'])\n",
    "print('Total N Unpaired Electrons (spin): ',ls_fe2_dict[key]['calc_n_unpaired_electrons'])"
   ]
  },
  {
   "cell_type": "markdown",
   "id": "242a7b4b",
   "metadata": {},
   "source": [
    "# LS Fe2+ Looks good - how about LS Fe3+?\n",
    "\n",
    "Here, we again copy the input dictionary:"
   ]
  },
  {
   "cell_type": "code",
   "execution_count": 34,
   "id": "30e0b597",
   "metadata": {},
   "outputs": [],
   "source": [
    "# How about for LS Fe3+ ?\n",
    "fe3_ls_inputDict = copy.deepcopy(new_inputDict)"
   ]
  },
  {
   "cell_type": "markdown",
   "id": "050d0171",
   "metadata": {},
   "source": [
    "To highlight that Architector automatically determines the closest chemically-relevant spin, we will again assign the spin of LS Fe3+ to 0, when we know there is at least 1 unpaired electron (meaning LS should be 1!)"
   ]
  },
  {
   "cell_type": "code",
   "execution_count": 35,
   "id": "fda69330",
   "metadata": {
    "scrolled": true
   },
   "outputs": [
    {
     "data": {
      "text/plain": [
       "{'core': {'metal': 'Fe', 'coreCN': 6, 'smiles': '[Fe]'},\n",
       " 'ligands': [{'smiles': 'O', 'coordList': [0]},\n",
       "  {'smiles': 'O', 'coordList': [0]},\n",
       "  {'smiles': 'O', 'coordList': [0]},\n",
       "  {'smiles': 'O', 'coordList': [0]},\n",
       "  {'smiles': 'O', 'coordList': [0]},\n",
       "  {'smiles': 'O', 'coordList': [0]}],\n",
       " 'parameters': {'metal_ox': 3,\n",
       "  'is_actinide': False,\n",
       "  'original_metal': 'Fe',\n",
       "  'metal_spin': 0}}"
      ]
     },
     "execution_count": 35,
     "metadata": {},
     "output_type": "execute_result"
    }
   ],
   "source": [
    "fe3_ls_inputDict['parameters']['metal_spin'] = 0\n",
    "fe3_ls_inputDict # Print out the assemble dictionary"
   ]
  },
  {
   "cell_type": "markdown",
   "id": "35ccf1b6",
   "metadata": {},
   "source": [
    "Now build the Fe3+ LS structure:"
   ]
  },
  {
   "cell_type": "code",
   "execution_count": 36,
   "id": "433755cc",
   "metadata": {
    "scrolled": true
   },
   "outputs": [
    {
     "name": "stdout",
     "output_type": "stream",
     "text": [
      "                 Step     Time          Energy         fmax\n",
      "*Force-consistent energies used in optimization.\n",
      "LBFGSLineSearch:    0 11:39:40     -862.949512*       7.6993\n",
      "LBFGSLineSearch:    1 11:39:40     -865.384459*       3.9280\n",
      "LBFGSLineSearch:    2 11:39:40     -867.556413*       4.4308\n",
      "LBFGSLineSearch:    3 11:39:40     -868.271421*       1.7757\n",
      "LBFGSLineSearch:    4 11:39:40     -869.439328*       2.7457\n",
      "LBFGSLineSearch:    5 11:39:40     -870.306467*       1.1144\n",
      "LBFGSLineSearch:    6 11:39:40     -870.409950*       0.5527\n",
      "LBFGSLineSearch:    7 11:39:40     -870.439686*       0.3569\n",
      "LBFGSLineSearch:    8 11:39:40     -870.458629*       0.4743\n",
      "LBFGSLineSearch:    9 11:39:40     -870.506606*       0.6758\n",
      "LBFGSLineSearch:   10 11:39:40     -870.597874*       0.9607\n",
      "LBFGSLineSearch:   11 11:39:41     -870.733749*       1.4896\n",
      "LBFGSLineSearch:   12 11:39:41     -871.044555*       1.5615\n",
      "LBFGSLineSearch:   13 11:39:41     -871.303803*       1.2222\n",
      "LBFGSLineSearch:   14 11:39:41     -871.485642*       1.1039\n",
      "LBFGSLineSearch:   15 11:39:41     -871.615743*       1.9687\n",
      "LBFGSLineSearch:   16 11:39:41     -871.738367*       1.4238\n",
      "LBFGSLineSearch:   17 11:39:41     -872.085943*       1.4170\n",
      "LBFGSLineSearch:   18 11:39:41     -872.282495*       1.0336\n",
      "LBFGSLineSearch:   19 11:39:41     -872.580553*       1.5652\n",
      "LBFGSLineSearch:   20 11:39:41     -872.858367*       1.4201\n",
      "LBFGSLineSearch:   21 11:39:41     -872.993547*       1.9384\n",
      "LBFGSLineSearch:   22 11:39:41     -873.194909*       1.2990\n",
      "LBFGSLineSearch:   23 11:39:41     -873.304240*       0.8113\n",
      "LBFGSLineSearch:   24 11:39:41     -873.350544*       0.7471\n",
      "LBFGSLineSearch:   25 11:39:41     -873.405232*       0.6767\n",
      "LBFGSLineSearch:   26 11:39:42     -873.451495*       0.5889\n",
      "LBFGSLineSearch:   27 11:39:42     -873.481889*       0.5555\n",
      "LBFGSLineSearch:   28 11:39:42     -873.502595*       0.4046\n",
      "LBFGSLineSearch:   29 11:39:42     -873.519204*       0.3669\n",
      "LBFGSLineSearch:   30 11:39:42     -873.533466*       0.2630\n",
      "LBFGSLineSearch:   31 11:39:42     -873.547324*       0.2061\n",
      "LBFGSLineSearch:   32 11:39:42     -873.553765*       0.2450\n",
      "LBFGSLineSearch:   33 11:39:42     -873.558104*       0.1964\n",
      "LBFGSLineSearch:   34 11:39:42     -873.562411*       0.1603\n",
      "LBFGSLineSearch:   35 11:39:42     -873.565293*       0.1692\n",
      "LBFGSLineSearch:   36 11:39:42     -873.567211*       0.1253\n",
      "LBFGSLineSearch:   37 11:39:42     -873.568477*       0.1112\n",
      "LBFGSLineSearch:   38 11:39:42     -873.570103*       0.1343\n",
      "LBFGSLineSearch:   39 11:39:42     -873.572946*       0.1573\n",
      "LBFGSLineSearch:   40 11:39:42     -873.574212*       0.0858\n",
      "                 Step     Time          Energy         fmax\n",
      "*Force-consistent energies used in optimization.\n",
      "LBFGSLineSearch:    0 11:39:44     -873.196022*       2.0188\n",
      "LBFGSLineSearch:    1 11:39:44     -873.349313*       0.4225\n",
      "LBFGSLineSearch:    2 11:39:44     -873.463928*       0.8707\n",
      "LBFGSLineSearch:    3 11:39:44     -873.518539*       0.5296\n",
      "LBFGSLineSearch:    4 11:39:44     -873.563621*       0.7049\n",
      "LBFGSLineSearch:    5 11:39:44     -873.603715*       0.2586\n",
      "LBFGSLineSearch:    6 11:39:44     -873.606095*       0.0873\n",
      "                 Step     Time          Energy         fmax\n",
      "*Force-consistent energies used in optimization.\n",
      "LBFGSLineSearch:    0 11:39:46     -869.767420*       3.9942\n",
      "LBFGSLineSearch:    1 11:39:46     -870.405659*       1.1769\n",
      "LBFGSLineSearch:    2 11:39:46     -870.990821*       1.4967\n",
      "LBFGSLineSearch:    3 11:39:46     -871.140994*       1.3598\n",
      "LBFGSLineSearch:    4 11:39:46     -871.471077*       1.6301\n",
      "LBFGSLineSearch:    5 11:39:46     -871.870120*       1.0560\n",
      "LBFGSLineSearch:    6 11:39:46     -871.913143*       0.5420\n",
      "LBFGSLineSearch:    7 11:39:46     -871.951741*       0.7464\n",
      "LBFGSLineSearch:    8 11:39:46     -871.983526*       0.2668\n",
      "LBFGSLineSearch:    9 11:39:46     -871.992659*       0.3923\n",
      "LBFGSLineSearch:   10 11:39:46     -872.017770*       0.3528\n",
      "LBFGSLineSearch:   11 11:39:47     -872.037400*       0.5256\n",
      "LBFGSLineSearch:   12 11:39:47     -872.049790*       0.3019\n",
      "LBFGSLineSearch:   13 11:39:47     -872.068632*       0.4501\n",
      "LBFGSLineSearch:   14 11:39:47     -872.086819*       0.2274\n",
      "LBFGSLineSearch:   15 11:39:47     -872.090398*       0.1912\n",
      "LBFGSLineSearch:   16 11:39:47     -872.096754*       0.2445\n",
      "LBFGSLineSearch:   17 11:39:47     -872.109534*       0.2214\n",
      "LBFGSLineSearch:   18 11:39:47     -872.113282*       0.1985\n",
      "LBFGSLineSearch:   19 11:39:47     -872.119326*       0.2980\n",
      "LBFGSLineSearch:   20 11:39:47     -872.134796*       0.3192\n",
      "LBFGSLineSearch:   21 11:39:47     -872.142679*       0.1940\n",
      "LBFGSLineSearch:   22 11:39:47     -872.148167*       0.2059\n",
      "LBFGSLineSearch:   23 11:39:47     -872.157233*       0.3237\n",
      "LBFGSLineSearch:   24 11:39:47     -872.166365*       0.2002\n",
      "LBFGSLineSearch:   25 11:39:47     -872.172773*       0.2156\n",
      "LBFGSLineSearch:   26 11:39:47     -872.177054*       0.2093\n",
      "LBFGSLineSearch:   27 11:39:48     -872.183364*       0.2775\n",
      "LBFGSLineSearch:   28 11:39:48     -872.195340*       0.4337\n",
      "LBFGSLineSearch:   29 11:39:48     -872.202915*       0.2070\n",
      "LBFGSLineSearch:   30 11:39:48     -872.209423*       0.4352\n",
      "LBFGSLineSearch:   31 11:39:48     -872.228859*       0.5117\n",
      "LBFGSLineSearch:   32 11:39:48     -872.271279*       0.5319\n",
      "LBFGSLineSearch:   33 11:39:48     -872.297987*       0.6899\n",
      "LBFGSLineSearch:   34 11:39:48     -872.332145*       0.6039\n",
      "LBFGSLineSearch:   35 11:39:48     -872.369655*       0.8642\n",
      "LBFGSLineSearch:   36 11:39:48     -872.407352*       0.6886\n",
      "LBFGSLineSearch:   37 11:39:48     -872.451292*       0.5286\n",
      "LBFGSLineSearch:   38 11:39:48     -872.467965*       0.5761\n",
      "LBFGSLineSearch:   39 11:39:48     -872.482427*       0.6656\n",
      "LBFGSLineSearch:   40 11:39:49     -872.516547*       0.5947\n",
      "LBFGSLineSearch:   41 11:39:49     -872.559986*       0.6433\n",
      "LBFGSLineSearch:   42 11:39:49     -872.581766*       0.4539\n",
      "LBFGSLineSearch:   43 11:39:49     -872.605989*       0.3872\n",
      "LBFGSLineSearch:   44 11:39:49     -872.623191*       0.2914\n",
      "LBFGSLineSearch:   45 11:39:49     -872.631831*       0.2418\n",
      "LBFGSLineSearch:   46 11:39:49     -872.641264*       0.3053\n",
      "LBFGSLineSearch:   47 11:39:49     -872.654732*       0.2465\n",
      "LBFGSLineSearch:   48 11:39:49     -872.663774*       0.2032\n",
      "LBFGSLineSearch:   49 11:39:49     -872.670673*       0.1775\n",
      "LBFGSLineSearch:   50 11:39:49     -872.673567*       0.1416\n",
      "LBFGSLineSearch:   51 11:39:49     -872.677874*       0.2409\n",
      "LBFGSLineSearch:   52 11:39:49     -872.690030*       0.4066\n",
      "LBFGSLineSearch:   53 11:39:49     -872.703165*       0.2068\n",
      "LBFGSLineSearch:   54 11:39:49     -872.710039*       0.1868\n",
      "LBFGSLineSearch:   55 11:39:49     -872.715691*       0.2035\n",
      "LBFGSLineSearch:   56 11:39:49     -872.719233*       0.1653\n",
      "LBFGSLineSearch:   57 11:39:49     -872.722504*       0.1316\n",
      "LBFGSLineSearch:   58 11:39:50     -872.724985*       0.1539\n",
      "LBFGSLineSearch:   59 11:39:50     -872.727471*       0.1207\n",
      "LBFGSLineSearch:   60 11:39:50     -872.730596*       0.1575\n",
      "LBFGSLineSearch:   61 11:39:50     -872.733543*       0.2343\n",
      "LBFGSLineSearch:   62 11:39:50     -872.736025*       0.1722\n",
      "LBFGSLineSearch:   63 11:39:50     -872.738231*       0.0900\n",
      "                 Step     Time          Energy         fmax\n",
      "*Force-consistent energies used in optimization.\n",
      "LBFGSLineSearch:    0 11:39:51     -871.067217*       2.9208\n",
      "LBFGSLineSearch:    1 11:39:52     -871.416656*       0.9057\n",
      "LBFGSLineSearch:    2 11:39:52     -871.762847*       1.4131\n",
      "LBFGSLineSearch:    3 11:39:52     -871.914425*       0.8146\n",
      "LBFGSLineSearch:    4 11:39:52     -872.077337*       0.9973\n",
      "LBFGSLineSearch:    5 11:39:52     -872.362932*       1.3986\n",
      "LBFGSLineSearch:    6 11:39:52     -872.406112*       0.3821\n",
      "LBFGSLineSearch:    7 11:39:52     -872.412439*       0.1876\n",
      "LBFGSLineSearch:    8 11:39:52     -872.418170*       0.2894\n",
      "LBFGSLineSearch:    9 11:39:52     -872.421976*       0.1214\n",
      "LBFGSLineSearch:   10 11:39:52     -872.424410*       0.1532\n",
      "LBFGSLineSearch:   11 11:39:52     -872.428896*       0.2291\n",
      "LBFGSLineSearch:   12 11:39:52     -872.432232*       0.1351\n",
      "LBFGSLineSearch:   13 11:39:52     -872.435481*       0.1680\n",
      "LBFGSLineSearch:   14 11:39:52     -872.440822*       0.1394\n",
      "LBFGSLineSearch:   15 11:39:52     -872.442736*       0.1211\n"
     ]
    },
    {
     "name": "stdout",
     "output_type": "stream",
     "text": [
      "LBFGSLineSearch:   16 11:39:52     -872.444646*       0.1146\n",
      "LBFGSLineSearch:   17 11:39:52     -872.449153*       0.2969\n",
      "LBFGSLineSearch:   18 11:39:52     -872.461410*       0.2580\n",
      "LBFGSLineSearch:   19 11:39:53     -872.465941*       0.1683\n",
      "LBFGSLineSearch:   20 11:39:53     -872.471443*       0.3672\n",
      "LBFGSLineSearch:   21 11:39:53     -872.476208*       0.2595\n",
      "LBFGSLineSearch:   22 11:39:53     -872.480219*       0.1110\n",
      "LBFGSLineSearch:   23 11:39:53     -872.484353*       0.2073\n",
      "LBFGSLineSearch:   24 11:39:53     -872.490995*       0.3222\n",
      "LBFGSLineSearch:   25 11:39:53     -872.504713*       0.6112\n",
      "LBFGSLineSearch:   26 11:39:53     -872.516341*       0.2704\n",
      "LBFGSLineSearch:   27 11:39:53     -872.525551*       0.2418\n",
      "LBFGSLineSearch:   28 11:39:53     -872.533802*       0.2879\n",
      "LBFGSLineSearch:   29 11:39:53     -872.548424*       0.4898\n",
      "LBFGSLineSearch:   30 11:39:53     -872.558071*       0.3862\n",
      "LBFGSLineSearch:   31 11:39:53     -872.566756*       0.6242\n",
      "LBFGSLineSearch:   32 11:39:53     -872.591188*       0.4297\n",
      "LBFGSLineSearch:   33 11:39:53     -872.611594*       0.5852\n",
      "LBFGSLineSearch:   34 11:39:53     -872.632091*       0.5585\n",
      "LBFGSLineSearch:   35 11:39:53     -872.650850*       0.6288\n",
      "LBFGSLineSearch:   36 11:39:53     -872.711823*       0.7140\n",
      "LBFGSLineSearch:   37 11:39:53     -872.745943*       0.5291\n",
      "LBFGSLineSearch:   38 11:39:53     -872.777425*       0.4067\n",
      "LBFGSLineSearch:   39 11:39:54     -872.798597*       0.4442\n",
      "LBFGSLineSearch:   40 11:39:54     -872.854074*       0.9098\n",
      "LBFGSLineSearch:   41 11:39:54     -872.940029*       0.9389\n",
      "LBFGSLineSearch:   42 11:39:54     -873.032985*       0.8546\n",
      "LBFGSLineSearch:   43 11:39:54     -873.084463*       0.8643\n",
      "LBFGSLineSearch:   44 11:39:54     -873.142826*       0.6809\n",
      "LBFGSLineSearch:   45 11:39:54     -873.225635*       1.2221\n",
      "LBFGSLineSearch:   46 11:39:54     -873.277074*       0.9656\n",
      "LBFGSLineSearch:   47 11:39:54     -873.307855*       0.4719\n",
      "LBFGSLineSearch:   48 11:39:54     -873.328328*       0.5450\n",
      "LBFGSLineSearch:   49 11:39:54     -873.343230*       0.4479\n",
      "LBFGSLineSearch:   50 11:39:54     -873.370703*       0.6362\n",
      "LBFGSLineSearch:   51 11:39:54     -873.421998*       0.6207\n",
      "LBFGSLineSearch:   52 11:39:54     -873.457280*       0.7671\n",
      "LBFGSLineSearch:   53 11:39:54     -873.485025*       0.4917\n",
      "LBFGSLineSearch:   54 11:39:54     -873.502620*       0.3488\n",
      "LBFGSLineSearch:   55 11:39:54     -873.514493*       0.2260\n",
      "LBFGSLineSearch:   56 11:39:54     -873.524134*       0.2409\n",
      "LBFGSLineSearch:   57 11:39:54     -873.530842*       0.2509\n",
      "LBFGSLineSearch:   58 11:39:55     -873.537315*       0.2655\n",
      "LBFGSLineSearch:   59 11:39:55     -873.542822*       0.1818\n",
      "LBFGSLineSearch:   60 11:39:55     -873.547379*       0.2217\n",
      "LBFGSLineSearch:   61 11:39:55     -873.552905*       0.2000\n",
      "LBFGSLineSearch:   62 11:39:55     -873.558873*       0.2169\n",
      "LBFGSLineSearch:   63 11:39:55     -873.563395*       0.1501\n",
      "LBFGSLineSearch:   64 11:39:55     -873.566744*       0.1765\n",
      "LBFGSLineSearch:   65 11:39:55     -873.570850*       0.2039\n",
      "LBFGSLineSearch:   66 11:39:55     -873.576438*       0.2557\n",
      "LBFGSLineSearch:   67 11:39:55     -873.579805*       0.1352\n",
      "LBFGSLineSearch:   68 11:39:55     -873.581727*       0.1235\n",
      "LBFGSLineSearch:   69 11:39:55     -873.584001*       0.1229\n",
      "LBFGSLineSearch:   70 11:39:55     -873.586152*       0.1205\n",
      "LBFGSLineSearch:   71 11:39:55     -873.588864*       0.1511\n",
      "LBFGSLineSearch:   72 11:39:55     -873.592526*       0.1757\n",
      "LBFGSLineSearch:   73 11:39:55     -873.595596*       0.1122\n",
      "LBFGSLineSearch:   74 11:39:55     -873.597512*       0.1125\n",
      "LBFGSLineSearch:   75 11:39:55     -873.599235*       0.1232\n",
      "LBFGSLineSearch:   76 11:39:55     -873.602287*       0.1000\n",
      "LBFGSLineSearch:   77 11:39:55     -873.603740*       0.1042\n",
      "LBFGSLineSearch:   78 11:39:55     -873.604540*       0.0632\n"
     ]
    }
   ],
   "source": [
    "ls_fe3_dict = build_complex(fe3_ls_inputDict)"
   ]
  },
  {
   "cell_type": "code",
   "execution_count": 37,
   "id": "ae96e069",
   "metadata": {},
   "outputs": [
    {
     "data": {
      "application/3dmoljs_load.v0": "<div id=\"3dmolviewer_16697471972636118\"  style=\"position: relative; width: 200px; height: 200px\">\n        <p id=\"3dmolwarning_16697471972636118\" style=\"background-color:#ffcccc;color:black\">You appear to be running in JupyterLab (or JavaScript failed to load for some other reason).  You need to install the 3dmol extension: <br>\n        <tt>jupyter labextension install jupyterlab_3dmol</tt></p>\n        </div>\n<script>\n\nvar loadScriptAsync = function(uri){\n  return new Promise((resolve, reject) => {\n    var tag = document.createElement('script');\n    tag.src = uri;\n    tag.async = true;\n    tag.onload = () => {\n      resolve();\n    };\n  var firstScriptTag = document.getElementsByTagName('script')[0];\n  firstScriptTag.parentNode.insertBefore(tag, firstScriptTag);\n});\n};\n\nif(typeof $3Dmolpromise === 'undefined') {\n$3Dmolpromise = null;\n  $3Dmolpromise = loadScriptAsync('https://cdn.jsdelivr.net/npm/3dmol@latest/build/3Dmol-min.min.js');\n}\n\nvar viewer_16697471972636118 = null;\nvar warn = document.getElementById(\"3dmolwarning_16697471972636118\");\nif(warn) {\n    warn.parentNode.removeChild(warn);\n}\n$3Dmolpromise.then(function() {\nviewer_16697471972636118 = $3Dmol.createViewer($(\"#3dmolviewer_16697471972636118\"),{backgroundColor:\"white\"});\nviewer_16697471972636118.zoomTo();\n\tviewer_16697471972636118.addModel(\"@<TRIPOS>MOLECULE\\ntmp.mol2\\n    19    18     1     0     0\\nSMALL\\nNoCharges\\n****\\nGenerated from Architector\\n\\n@<TRIPOS>ATOM\\n     1 Fe1      -0.0006    0.0015   -0.0034   Fe        1 RES1   0.0000\\n     2 O1       -0.0139    0.0056    2.0143   O.3       1 RES1   0.0000\\n     3 H1       -0.4232   -0.6547    2.5998   H         1 RES1   0.0000\\n     4 H2        0.4368    0.6195    2.6200   H         1 RES1   0.0000\\n     5 O2       -0.0162   -0.0027   -2.0139   O.3       1 RES1   0.0000\\n     6 H3       -0.1198   -0.7780   -2.5942   H         1 RES1   0.0000\\n     7 H4        0.1423    0.7450   -2.6174   H         1 RES1   0.0000\\n     8 O3        2.0128   -0.0019    0.0230   O.3       1 RES1   0.0000\\n     9 H5        2.5907    0.7791    0.0768   H         1 RES1   0.0000\\n    10 H6        2.6227   -0.7489   -0.1096   H         1 RES1   0.0000\\n    11 O4       -2.0137    0.0056   -0.0054   O.3       1 RES1   0.0000\\n    12 H7       -2.6209   -0.7475    0.1050   H         1 RES1   0.0000\\n    13 H8       -2.5942    0.7820   -0.0896   H         1 RES1   0.0000\\n    14 O5        0.0317    2.0923   -0.0088   O.3       1 RES1   0.0000\\n    15 H9       -0.1197    2.6942   -0.7539   H         1 RES1   0.0000\\n    16 H10       0.0896    2.6778    0.7631   H         1 RES1   0.0000\\n    17 O6        0.0002   -2.0931   -0.0231   O.3       1 RES1   0.0000\\n    18 H11       0.7534   -2.6853    0.1334   H         1 RES1   0.0000\\n    19 H12      -0.7581   -2.6904   -0.1160   H         1 RES1   0.0000\\n@<TRIPOS>BOND\\n     1     1     2    1\\n     2     1     5    1\\n     3     1     8    1\\n     4     1    11    1\\n     5     1    14    1\\n     6     1    17    1\\n     7     2     3    1\\n     8     2     4    1\\n     9     5     6    1\\n    10     5     7    1\\n    11     8     9    1\\n    12     8    10    1\\n    13    11    12    1\\n    14    11    13    1\\n    15    14    15    1\\n    16    14    16    1\\n    17    17    18    1\\n    18    17    19    1\\n@<TRIPOS>SUBSTRUCTURE\\n     1 RES1       19 GROUP             0 ****  ****    0  \\n\",\"mol2\");\n\tviewer_16697471972636118.setStyle({\"stick\": {\"colorscheme\": \"Jmol\"}});\n\tviewer_16697471972636118.zoomTo();\nviewer_16697471972636118.render();\n});\n</script>",
      "text/html": [
       "<div id=\"3dmolviewer_16697471972636118\"  style=\"position: relative; width: 200px; height: 200px\">\n",
       "        <p id=\"3dmolwarning_16697471972636118\" style=\"background-color:#ffcccc;color:black\">You appear to be running in JupyterLab (or JavaScript failed to load for some other reason).  You need to install the 3dmol extension: <br>\n",
       "        <tt>jupyter labextension install jupyterlab_3dmol</tt></p>\n",
       "        </div>\n",
       "<script>\n",
       "\n",
       "var loadScriptAsync = function(uri){\n",
       "  return new Promise((resolve, reject) => {\n",
       "    var tag = document.createElement('script');\n",
       "    tag.src = uri;\n",
       "    tag.async = true;\n",
       "    tag.onload = () => {\n",
       "      resolve();\n",
       "    };\n",
       "  var firstScriptTag = document.getElementsByTagName('script')[0];\n",
       "  firstScriptTag.parentNode.insertBefore(tag, firstScriptTag);\n",
       "});\n",
       "};\n",
       "\n",
       "if(typeof $3Dmolpromise === 'undefined') {\n",
       "$3Dmolpromise = null;\n",
       "  $3Dmolpromise = loadScriptAsync('https://cdn.jsdelivr.net/npm/3dmol@latest/build/3Dmol-min.min.js');\n",
       "}\n",
       "\n",
       "var viewer_16697471972636118 = null;\n",
       "var warn = document.getElementById(\"3dmolwarning_16697471972636118\");\n",
       "if(warn) {\n",
       "    warn.parentNode.removeChild(warn);\n",
       "}\n",
       "$3Dmolpromise.then(function() {\n",
       "viewer_16697471972636118 = $3Dmol.createViewer($(\"#3dmolviewer_16697471972636118\"),{backgroundColor:\"white\"});\n",
       "viewer_16697471972636118.zoomTo();\n",
       "\tviewer_16697471972636118.addModel(\"@<TRIPOS>MOLECULE\\ntmp.mol2\\n    19    18     1     0     0\\nSMALL\\nNoCharges\\n****\\nGenerated from Architector\\n\\n@<TRIPOS>ATOM\\n     1 Fe1      -0.0006    0.0015   -0.0034   Fe        1 RES1   0.0000\\n     2 O1       -0.0139    0.0056    2.0143   O.3       1 RES1   0.0000\\n     3 H1       -0.4232   -0.6547    2.5998   H         1 RES1   0.0000\\n     4 H2        0.4368    0.6195    2.6200   H         1 RES1   0.0000\\n     5 O2       -0.0162   -0.0027   -2.0139   O.3       1 RES1   0.0000\\n     6 H3       -0.1198   -0.7780   -2.5942   H         1 RES1   0.0000\\n     7 H4        0.1423    0.7450   -2.6174   H         1 RES1   0.0000\\n     8 O3        2.0128   -0.0019    0.0230   O.3       1 RES1   0.0000\\n     9 H5        2.5907    0.7791    0.0768   H         1 RES1   0.0000\\n    10 H6        2.6227   -0.7489   -0.1096   H         1 RES1   0.0000\\n    11 O4       -2.0137    0.0056   -0.0054   O.3       1 RES1   0.0000\\n    12 H7       -2.6209   -0.7475    0.1050   H         1 RES1   0.0000\\n    13 H8       -2.5942    0.7820   -0.0896   H         1 RES1   0.0000\\n    14 O5        0.0317    2.0923   -0.0088   O.3       1 RES1   0.0000\\n    15 H9       -0.1197    2.6942   -0.7539   H         1 RES1   0.0000\\n    16 H10       0.0896    2.6778    0.7631   H         1 RES1   0.0000\\n    17 O6        0.0002   -2.0931   -0.0231   O.3       1 RES1   0.0000\\n    18 H11       0.7534   -2.6853    0.1334   H         1 RES1   0.0000\\n    19 H12      -0.7581   -2.6904   -0.1160   H         1 RES1   0.0000\\n@<TRIPOS>BOND\\n     1     1     2    1\\n     2     1     5    1\\n     3     1     8    1\\n     4     1    11    1\\n     5     1    14    1\\n     6     1    17    1\\n     7     2     3    1\\n     8     2     4    1\\n     9     5     6    1\\n    10     5     7    1\\n    11     8     9    1\\n    12     8    10    1\\n    13    11    12    1\\n    14    11    13    1\\n    15    14    15    1\\n    16    14    16    1\\n    17    17    18    1\\n    18    17    19    1\\n@<TRIPOS>SUBSTRUCTURE\\n     1 RES1       19 GROUP             0 ****  ****    0  \\n\",\"mol2\");\n",
       "\tviewer_16697471972636118.setStyle({\"stick\": {\"colorscheme\": \"Jmol\"}});\n",
       "\tviewer_16697471972636118.zoomTo();\n",
       "viewer_16697471972636118.render();\n",
       "});\n",
       "</script>"
      ]
     },
     "metadata": {},
     "output_type": "display_data"
    }
   ],
   "source": [
    "view_structures(ls_fe3_dict)"
   ]
  },
  {
   "cell_type": "markdown",
   "id": "7cb80913",
   "metadata": {},
   "source": [
    "Note that we might be back to all three structures for LS Fe3+!\n",
    "\n",
    "Here, we will again check that spin and charge have been correctly assigned:"
   ]
  },
  {
   "cell_type": "code",
   "execution_count": 38,
   "id": "40ea37bb",
   "metadata": {},
   "outputs": [
    {
     "name": "stdout",
     "output_type": "stream",
     "text": [
      "Metal Oxidation State:  3\n",
      "Total System Charge:  3\n",
      "Total N Unpaired Electrons (spin):  1\n"
     ]
    }
   ],
   "source": [
    "key = list(ls_fe3_dict.keys())[0]\n",
    "print('Metal Oxidation State: ',ls_fe3_dict[key]['metal_ox'])\n",
    "print('Total System Charge: ',ls_fe3_dict[key]['total_charge'])\n",
    "print('Total N Unpaired Electrons (spin): ',ls_fe3_dict[key]['calc_n_unpaired_electrons'])"
   ]
  },
  {
   "cell_type": "markdown",
   "id": "0fe2d962",
   "metadata": {},
   "source": [
    "### Looks like low-spin Fe3+,  and that the 0 was automaticlaly shifted to 1 upaired electron for the Fe3+ system.\n",
    "\n",
    "If you try and assign an un-physical spin state Architector will automatically correct it to the closest possible physically-meaningful spin state!"
   ]
  },
  {
   "cell_type": "markdown",
   "id": "3a3a67b3",
   "metadata": {},
   "source": [
    "### Let's also examine the Fe-O bond distances in the LS configurations.\n",
    "\n",
    "Here we'd expect LS Fe-O bond lengths to be shorter than their HS counterparts!"
   ]
  },
  {
   "cell_type": "code",
   "execution_count": 39,
   "id": "1a02ceac",
   "metadata": {},
   "outputs": [
    {
     "name": "stdout",
     "output_type": "stream",
     "text": [
      "Average LS Fe2+-O distance (Angstroms):  2.1525566640554845\n"
     ]
    }
   ],
   "source": [
    "ls_fe2_key = list(ls_fe2_dict.keys())[0]\n",
    "ls_fe2_atoms = ls_fe2_dict[ls_fe2_key]['ase_atoms']\n",
    "ls_fe2_avg_dist = avg_fe_o_dist(ls_fe2_dict[ls_fe2_key]['ase_atoms'])\n",
    "print('Average LS Fe2+-O distance (Angstroms): ',ls_fe2_avg_dist)"
   ]
  },
  {
   "cell_type": "code",
   "execution_count": 40,
   "id": "d6317790",
   "metadata": {},
   "outputs": [
    {
     "name": "stdout",
     "output_type": "stream",
     "text": [
      "Average LS Fe3+-O distance (Angstroms):  2.0401222418948493\n"
     ]
    }
   ],
   "source": [
    "ls_fe3_key = list(ls_fe3_dict.keys())[0]\n",
    "ls_fe3_atoms = ls_fe3_dict[ls_fe3_key]['ase_atoms']\n",
    "ls_fe3_avg_dist = avg_fe_o_dist(ls_fe3_dict[ls_fe3_key]['ase_atoms'])\n",
    "print('Average LS Fe3+-O distance (Angstroms): ',ls_fe3_avg_dist)"
   ]
  },
  {
   "cell_type": "markdown",
   "id": "b3c9c447",
   "metadata": {},
   "source": [
    "### We see the same trend for Fe2+-O vs. Fe3+-O distances in the LS vs. HS! \n",
    "\n",
    "How about if we plot out all of these Fe-O distances for different oxidation states:"
   ]
  },
  {
   "cell_type": "code",
   "execution_count": 41,
   "id": "8dd6e597",
   "metadata": {},
   "outputs": [],
   "source": [
    "# Here, we'll use matplotib to generate a plot!\n",
    "import matplotlib.pyplot as plt"
   ]
  },
  {
   "cell_type": "markdown",
   "id": "b65c8d3b",
   "metadata": {},
   "source": [
    "Basic plotting with metal oxidation state and average distances:"
   ]
  },
  {
   "cell_type": "code",
   "execution_count": 42,
   "id": "f585e76a",
   "metadata": {},
   "outputs": [
    {
     "data": {
      "text/plain": [
       "Text(0, 0.5, 'Average Fe-O distance ($\\\\AA$)')"
      ]
     },
     "execution_count": 42,
     "metadata": {},
     "output_type": "execute_result"
    },
    {
     "data": {
      "image/png": "[encoded data removed]",
      "text/plain": [
       "<Figure size 640x480 with 1 Axes>"
      ]
     },
     "metadata": {},
     "output_type": "display_data"
    }
   ],
   "source": [
    "x = [2,3] # Oxidation states\n",
    "plt.scatter(x,[ls_fe2_avg_dist,ls_fe3_avg_dist],label='Low Spin',color='b')\n",
    "plt.scatter(x,[hs_fe2_avg_dist,hs_fe3_avg_dist],label='High Spin',color='r')\n",
    "plt.xlim(1.5,3.5)\n",
    "plt.xticks([2,3])\n",
    "plt.legend()\n",
    "plt.xlabel('Metal Oxidation State')\n",
    "plt.ylabel('Average Fe-O distance ($\\AA$)')"
   ]
  },
  {
   "cell_type": "markdown",
   "id": "14ad2fdf",
   "metadata": {},
   "source": [
    "## Looks exactly like what we'd expect from chemical intuition!\n",
    "\n",
    "The [XTB](https://xtb-docs.readthedocs.io/) methods Architector use in the background capture these chemical trends near-perfect!"
   ]
  },
  {
   "cell_type": "markdown",
   "id": "ab4acac3",
   "metadata": {},
   "source": [
    "## Finally, for any of these structures, we can write out potential structures to use in any external electronic structure code!\n",
    "\n",
    "Uncomment (remove the #s) and run the cell below to get a labelled .xyz file for LS Fe3+ - Hexa-Aqua!"
   ]
  },
  {
   "cell_type": "code",
   "execution_count": 43,
   "id": "21945133",
   "metadata": {},
   "outputs": [],
   "source": [
    "# label = list(ls_fe3_dict.keys())[0]\n",
    "# ase_atoms = ls_fe3_dict[label]['ase_atoms']\n",
    "# ase_atoms.write(label+'.xyz')"
   ]
  },
  {
   "cell_type": "markdown",
   "id": "52cebf1e",
   "metadata": {},
   "source": [
    "# Conclusion\n",
    "\n",
    "In this tutorial we used Fe Hexa Aqua as an example to learn 3 key basic features of Architector:\n",
    "\n",
    "**(A)** How to define basic input dictionaries for Architector.\n",
    "\n",
    "**(B)** How to understand and visualize outputs from Architector.\n",
    "\n",
    "**(C)** How to play with potentially important parameters for getting at chemical meaning."
   ]
  }
 ],
 "metadata": {
  "kernelspec": {
   "display_name": "Python 3 (ipykernel)",
   "language": "python",
   "name": "python3"
  },
  "language_info": {
   "codemirror_mode": {
    "name": "ipython",
    "version": 3
   },
   "file_extension": ".py",
   "mimetype": "text/x-python",
   "name": "python",
   "nbconvert_exporter": "python",
   "pygments_lexer": "ipython3",
   "version": "3.9.13"
  }
 },
 "nbformat": 4,
 "nbformat_minor": 5
}
