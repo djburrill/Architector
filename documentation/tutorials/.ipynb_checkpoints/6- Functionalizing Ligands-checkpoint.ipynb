{
 "cells": [
  {
   "cell_type": "markdown",
   "id": "32777a20",
   "metadata": {},
   "source": [
    "# 6 - Functionalizing Ligands "
   ]
  },
  {
   "cell_type": "code",
   "execution_count": null,
   "id": "7539b446",
   "metadata": {},
   "outputs": [],
   "source": [
    "# First, import useful packages again\n",
    "from architector.build_complex import build_complex # Build routine\n",
    "from architector.visualization import view_structures # Visualization\n",
    "import architector.io_obabel as io_obabel # Smiles routines!"
   ]
  },
  {
   "cell_type": "markdown",
   "id": "ec7edd3e",
   "metadata": {},
   "source": [
    "# Beyond normal ligands, functionality for functionalizing ligands has been added to architector.\n",
    "\n",
    "Fort this example we will be functionalizing bipyradine in a couple different ways to highlight this functionality."
   ]
  },
  {
   "cell_type": "code",
   "execution_count": null,
   "id": "497b9a3b",
   "metadata": {},
   "outputs": [],
   "source": [
    "# From 2 - here is the bipyradine smiles\n",
    "bipy_smiles = 'n1ccccc1-c2ccccn2'\n",
    "metal = 'Fe' # Initilize metal\n",
    "atoms = io_obabel.smiles2Atoms(bipy_smiles) # The smiles2Atoms directly converts smiles to a 3D structure\n",
    "# With the labelins=True option, the exact indices of the smiles are overlaid\n",
    "# Further, the size of the visualization can be shifted using w (width) and h (height) commands (default is 200x200)\n",
    "view_structures([atoms],labelinds=True,w=500,h=500) "
   ]
  },
  {
   "cell_type": "code",
   "execution_count": null,
   "id": "b82c97c3",
   "metadata": {},
   "outputs": [],
   "source": [
    "# Using this tool we can identify that the coordinating atoms will be the nitrogen atoms at index 0, and 11\n",
    "bipy_coordList = [0,11]\n",
    "# We can also Identify carbons to functionalize with the exact numbers required for functionalizations!\n",
    "functional_groups = [{'functional_group':'chloro','smiles_inds':[8,3]}]\n",
    "# Here we selected, 8 and 3, which are para to the coordinating Nitrogen groups.\n",
    "ligType = 'bi_cis'\n",
    "# And we know bipyradine is bidentate-cis"
   ]
  },
  {
   "cell_type": "code",
   "execution_count": null,
   "id": "21c46978",
   "metadata": {},
   "outputs": [],
   "source": [
    "# We now have what we need to make an Fe-Bipy complex with functionalizations\n",
    "lig_dict = {'smiles':bipy_smiles,'coordList':bipy_coordList,'ligType':ligType,'functionalizations':functional_groups}\n",
    "\n",
    "inputDict = {'core':{'metal':'Fe','coreType':'octahedral'},\n",
    "            'ligands':[lig_dict,lig_dict,lig_dict],\n",
    "            'parameters':{'assemble_method':'GFN-FF', # Switch to GFN-FF for faster assembly, \n",
    "                          'relax':False # Turn of relaxation for non-optimized structures\n",
    "                         }}\n",
    "out = build_complex(inputDict) # Might take a couple minutes"
   ]
  },
  {
   "cell_type": "code",
   "execution_count": null,
   "id": "d3a67657",
   "metadata": {},
   "outputs": [],
   "source": [
    "structs = [val['mol2string'] for key,val in out.items()]\n",
    "view_structures(structs,w=400,h=400)\n",
    "# Here, we can see the bipy has been functionalized at the desired positions for every atom"
   ]
  },
  {
   "cell_type": "code",
   "execution_count": null,
   "id": "6791eccf",
   "metadata": {},
   "outputs": [],
   "source": [
    "# Beyond this, we can create more than one type of functionalization\n",
    "functional_groups = [{'functional_group':'chloro','smiles_inds':[8,3]},\n",
    "                     {'functional_group':'bromo','smiles_inds':[2,9]}]\n",
    "# Here, we can put both chloro and bromo functionalizations at the para, and ortho-positions, respectively.\n",
    "lig_dict = {'smiles':bipy_smiles,'coordList':bipy_coordList,'ligType':ligType,\n",
    "            'functionalizations':functional_groups}\n",
    "inputDict = {'core':{'metal':'Fe','coreType':'octahedral'},\n",
    "            'ligands':[lig_dict], # If we only specify 1 ligand, it will fill the rest with waters\n",
    "            'parameters':{'assemble_method':'GFN-FF',\n",
    "                          'relax':False\n",
    "                         }}\n",
    "out = build_complex(inputDict) # Might take a couple minutes"
   ]
  },
  {
   "cell_type": "code",
   "execution_count": null,
   "id": "78c7300a",
   "metadata": {},
   "outputs": [],
   "source": [
    "structs = [val['mol2string'] for key,val in out.items()]\n",
    "view_structures(structs,w=400,h=400)\n",
    "# We can see architector does this generation quite rapidly!"
   ]
  },
  {
   "cell_type": "code",
   "execution_count": null,
   "id": "2626420f",
   "metadata": {},
   "outputs": [],
   "source": [
    "# Beyond this, we can put both functionalized and un-functionalized ligands on\n",
    "functional_groups = [{'functional_group':'CCCC','smiles_inds':[8,3]}]\n",
    "ligType = 'bi_cis'\n",
    "lig_dict = {'smiles':bipy_smiles,'coordList':bipy_coordList,'ligType':ligType, # Functionalized bipy\n",
    "            'functionalizations':functional_groups}\n",
    "lig_dict2 = {'smiles':bipy_smiles,'coordList':bipy_coordList,'ligType':ligType} # Unfunctionalized bipy\n",
    "inputDict = {'core':{'metal':'Fe','coreType':'octahedral'},\n",
    "            'ligands':[lig_dict,lig_dict2,lig_dict2],\n",
    "            'parameters':{'assemble_method':'GFN-FF',\n",
    "                          'relax':False\n",
    "                         }}\n",
    "out = build_complex(inputDict) # Might take a couple minutes"
   ]
  },
  {
   "cell_type": "code",
   "execution_count": null,
   "id": "7245d57c",
   "metadata": {},
   "outputs": [],
   "source": [
    "structs = [val['mol2string'] for key,val in out.items()]\n",
    "view_structures(structs,w=400,h=400)\n",
    "# We can see architecotr does this generation quite rapidly!"
   ]
  },
  {
   "cell_type": "code",
   "execution_count": null,
   "id": "11f1296d",
   "metadata": {
    "scrolled": true
   },
   "outputs": [],
   "source": [
    "# We can also no iterate over functional groups for testing things like Np(VI) complexes!\n",
    "l1 = {'smiles':'[O-2]','coordList':[0]} # Oxo group\n",
    "fgs = functional_groups = [{'functional_group':'trichloro','smiles_inds':[8,3]}] # CCCC is the smiles for butane\n",
    "l2 = {'smiles':bipy_smiles,'coordList':bipy_coordList,'ligType':ligType,'functionalizations':fgs}\n",
    "inputDict = {'core':{'metal':'Np','coreType':'octahedral'},\n",
    "            'ligands':[l1,l1,l2],\n",
    "            'parameters':{'assemble_method':'GFN2-xTB', \n",
    "                          'relax':False, \n",
    "                          'n_conformers':3,\n",
    "                          'skip_duplicate_tests':True # For complexes with similar ligands at \n",
    "                          # different symmetries, skipping duplicate checks is recommended\n",
    "                         }}\n",
    "out = build_complex(inputDict) # Potentially slower with actinides/lanthanides"
   ]
  },
  {
   "cell_type": "code",
   "execution_count": null,
   "id": "a9cbd56b",
   "metadata": {},
   "outputs": [],
   "source": [
    "structs = [val['mol2string'] for key,val in out.items()]\n",
    "view_structures(structs)\n",
    "# Lowest-energy structure is to the left"
   ]
  },
  {
   "cell_type": "markdown",
   "id": "ed12b9b2",
   "metadata": {},
   "source": [
    "# Some Functional groups are included by default. Otherwise they can be input as SMILES strings!\n",
    "\n",
    "Here, I will visualize all functional groups present by default in architector. Imagine for each that the "
   ]
  },
  {
   "cell_type": "code",
   "execution_count": null,
   "id": "d3701e09",
   "metadata": {},
   "outputs": [],
   "source": [
    "import architector.io_ptable as io_ptable"
   ]
  },
  {
   "cell_type": "code",
   "execution_count": null,
   "id": "36d771c6",
   "metadata": {},
   "outputs": [],
   "source": [
    "# Default functional groups and their SMILES strings\n",
    "io_ptable.functional_groups_dict"
   ]
  },
  {
   "cell_type": "code",
   "execution_count": null,
   "id": "c286d065",
   "metadata": {},
   "outputs": [],
   "source": [
    "def view_functaional_group(name, base_group='c1ccccc1', base_inds=[5]):\n",
    "    fgs = [{'functional_group':name,'smiles_inds':base_inds}]\n",
    "    OBmol = io_obabel.get_obmol_smiles(base_group, functionalizations=fgs)\n",
    "    new_smiles = io_obabel.get_smiles_obmol(OBmol)\n",
    "    ase_atoms = io_obabel.convert_obmol_ase(OBmol)\n",
    "    print('Name: {}\\t Functionalized_Smiles: {}'.format(name,new_smiles))\n",
    "    view_structures([ase_atoms])"
   ]
  },
  {
   "cell_type": "code",
   "execution_count": null,
   "id": "ec899b53",
   "metadata": {
    "scrolled": false
   },
   "outputs": [],
   "source": [
    "for key,val in io_ptable.functional_groups_dict.items():\n",
    "    view_functaional_group(key)"
   ]
  },
  {
   "cell_type": "code",
   "execution_count": null,
   "id": "25a1c595",
   "metadata": {},
   "outputs": [],
   "source": []
  }
 ],
 "metadata": {
  "kernelspec": {
   "display_name": "Python 3 (ipykernel)",
   "language": "python",
   "name": "python3"
  },
  "language_info": {
   "codemirror_mode": {
    "name": "ipython",
    "version": 3
   },
   "file_extension": ".py",
   "mimetype": "text/x-python",
   "name": "python",
   "nbconvert_exporter": "python",
   "pygments_lexer": "ipython3",
   "version": "3.9.7"
  }
 },
 "nbformat": 4,
 "nbformat_minor": 5
}
