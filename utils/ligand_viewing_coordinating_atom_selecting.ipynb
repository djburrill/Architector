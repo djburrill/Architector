{
 "cells": [
  {
   "cell_type": "code",
   "execution_count": null,
   "id": "cf852f80",
   "metadata": {},
   "outputs": [],
   "source": [
    "import architector.io_obabel as io_obabel\n",
    "from architector.visualization import view_structures"
   ]
  },
  {
   "cell_type": "code",
   "execution_count": null,
   "id": "80887019",
   "metadata": {},
   "outputs": [],
   "source": [
    "en_smiles = 'NCCN'\n",
    "ase_atoms = io_obabel.smiles2Atoms(en_smiles)"
   ]
  },
  {
   "cell_type": "code",
   "execution_count": null,
   "id": "a54679f7",
   "metadata": {},
   "outputs": [],
   "source": [
    "# With labelinds on the indices correspond to exactly \n",
    "# what would be recognized during structure generation\n",
    "view_structures([ase_atoms],labelinds=True,w=500,h=500)"
   ]
  },
  {
   "cell_type": "code",
   "execution_count": null,
   "id": "2196ee0f",
   "metadata": {},
   "outputs": [],
   "source": [
    "en_coordList = [0,3]\n",
    "en_ligType = 'bi_cis'"
   ]
  },
  {
   "cell_type": "code",
   "execution_count": null,
   "id": "2e8d54c4",
   "metadata": {},
   "outputs": [],
   "source": [
    "in_smiles = 'OC(=O)CN(CCN(CC(O)=O)CC(O)=O)CC(O)=O' # EDTA\n",
    "ase_atoms = io_obabel.smiles2Atoms(in_smiles)"
   ]
  },
  {
   "cell_type": "code",
   "execution_count": null,
   "id": "1a21d153",
   "metadata": {},
   "outputs": [],
   "source": [
    "# With labelinds on the indices correspond to exactly what would be recognized during structure generation\n",
    "view_structures([ase_atoms],labelinds=True,w=500,h=500)"
   ]
  },
  {
   "cell_type": "code",
   "execution_count": null,
   "id": "8138b3b7",
   "metadata": {},
   "outputs": [],
   "source": [
    "edta_coorlist = [4,7,2,11,15,19]\n",
    "edta_ligType = 'hexa_octahedral'"
   ]
  },
  {
   "cell_type": "code",
   "execution_count": null,
   "id": "eb17c05c",
   "metadata": {},
   "outputs": [],
   "source": [
    "# This can be done for whatever ligands you have!"
   ]
  },
  {
   "cell_type": "code",
   "execution_count": null,
   "id": "58a4fc48",
   "metadata": {},
   "outputs": [],
   "source": []
  }
 ],
 "metadata": {
  "kernelspec": {
   "display_name": "Python 3 (ipykernel)",
   "language": "python",
   "name": "python3"
  },
  "language_info": {
   "codemirror_mode": {
    "name": "ipython",
    "version": 3
   },
   "file_extension": ".py",
   "mimetype": "text/x-python",
   "name": "python",
   "nbconvert_exporter": "python",
   "pygments_lexer": "ipython3",
   "version": "3.9.7"
  }
 },
 "nbformat": 4,
 "nbformat_minor": 5
}
