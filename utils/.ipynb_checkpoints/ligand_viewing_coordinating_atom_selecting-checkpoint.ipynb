{
 "cells": [
  {
   "cell_type": "code",
   "execution_count": 1,
   "id": "cf852f80",
   "metadata": {},
   "outputs": [
    {
     "ename": "ModuleNotFoundError",
     "evalue": "No module named 'architector'",
     "output_type": "error",
     "traceback": [
      "\u001b[0;31m---------------------------------------------------------------------------\u001b[0m",
      "\u001b[0;31mModuleNotFoundError\u001b[0m                       Traceback (most recent call last)",
      "\u001b[0;32m<ipython-input-1-0d03542e7dc4>\u001b[0m in \u001b[0;36m<module>\u001b[0;34m\u001b[0m\n\u001b[0;32m----> 1\u001b[0;31m \u001b[0;32mimport\u001b[0m \u001b[0marchitector\u001b[0m\u001b[0;34m.\u001b[0m\u001b[0mio_obabel\u001b[0m \u001b[0;32mas\u001b[0m \u001b[0mio_obabel\u001b[0m\u001b[0;34m\u001b[0m\u001b[0;34m\u001b[0m\u001b[0m\n\u001b[0m\u001b[1;32m      2\u001b[0m \u001b[0;32mfrom\u001b[0m \u001b[0marchitector\u001b[0m\u001b[0;34m.\u001b[0m\u001b[0mvisualization\u001b[0m \u001b[0;32mimport\u001b[0m \u001b[0mview_structures\u001b[0m\u001b[0;34m\u001b[0m\u001b[0;34m\u001b[0m\u001b[0m\n",
      "\u001b[0;31mModuleNotFoundError\u001b[0m: No module named 'architector'"
     ]
    }
   ],
   "source": [
    "import architector.io_obabel as io_obabel\n",
    "from architector.visualization import view_structures"
   ]
  },
  {
   "cell_type": "code",
   "execution_count": 2,
   "id": "80887019",
   "metadata": {},
   "outputs": [],
   "source": [
    "en_smiles = 'NCCN'\n",
    "ase_atoms = io_obabel.smiles2Atoms(en_smiles)"
   ]
  },
  {
   "cell_type": "code",
   "execution_count": 7,
   "id": "a54679f7",
   "metadata": {},
   "outputs": [
    {
     "data": {
      "application/3dmoljs_load.v0": "<div id=\"3dmolviewer_1640203745044069\"  style=\"position: relative; width: 500px; height: 500px\">\n        <p id=\"3dmolwarning_1640203745044069\" style=\"background-color:#ffcccc;color:black\">You appear to be running in JupyterLab (or JavaScript failed to load for some other reason).  You need to install the 3dmol extension: <br>\n        <tt>jupyter labextension install jupyterlab_3dmol</tt></p>\n        </div>\n<script>\n\nvar loadScriptAsync = function(uri){\n  return new Promise((resolve, reject) => {\n    var tag = document.createElement('script');\n    tag.src = uri;\n    tag.async = true;\n    tag.onload = () => {\n      resolve();\n    };\n  var firstScriptTag = document.getElementsByTagName('script')[0];\n  firstScriptTag.parentNode.insertBefore(tag, firstScriptTag);\n});\n};\n\nif(typeof $3Dmolpromise === 'undefined') {\n$3Dmolpromise = null;\n  $3Dmolpromise = loadScriptAsync('https://3dmol.csb.pitt.edu/build/3Dmol.js');\n}\n\nvar viewer_1640203745044069 = null;\nvar warn = document.getElementById(\"3dmolwarning_1640203745044069\");\nif(warn) {\n    warn.parentNode.removeChild(warn);\n}\n$3Dmolpromise.then(function() {\nviewer_1640203745044069 = $3Dmol.createViewer($(\"#3dmolviewer_1640203745044069\"),{backgroundColor:\"white\"});\n\tviewer_1640203745044069.addModel(\"@<TRIPOS>MOLECULE\\ntmp.mol2\\n    12    11     1     0     0\\nSMALL\\nNoCharges\\n****\\nGenerated from Architector\\n\\n@<TRIPOS>ATOM\\n     1 N1        0.1803   -1.5757    0.0215   N.3       1 RES1   0.0000\\n     2 C1       -0.2471   -0.4630    0.8760   C.3       1 RES1   0.0000\\n     3 C2        0.1856    0.9117    0.3312   C.3       1 RES1   0.0000\\n     4 N2       -0.2074    1.1094   -1.0662   N.3       1 RES1   0.0000\\n     5 H1       -0.2958   -1.4731   -0.8753   H         1 RES1   0.0000\\n     6 H2        1.1757   -1.4889   -0.1725   H         1 RES1   0.0000\\n     7 H3       -1.3387   -0.4971    0.9679   H         1 RES1   0.0000\\n     8 H4        0.1671   -0.6029    1.8800   H         1 RES1   0.0000\\n     9 H5       -0.2597    1.6999    0.9477   H         1 RES1   0.0000\\n    10 H6        1.2748    1.0102    0.4064   H         1 RES1   0.0000\\n    11 H7        0.0895    2.0368   -1.3678   H         1 RES1   0.0000\\n    12 H8        0.2972    0.4477   -1.6541   H         1 RES1   0.0000\\n@<TRIPOS>BOND\\n     1     1     2    1\\n     2     1     5    1\\n     3     1     6    1\\n     4     2     3    1\\n     5     2     7    1\\n     6     2     8    1\\n     7     3     4    1\\n     8     3     9    1\\n     9     3    10    1\\n    10     4    11    1\\n    11     4    12    1\\n@<TRIPOS>SUBSTRUCTURE\\n     1 RES1       12 GROUP             0 ****  ****    0  \\n\",\"mol2\");\n\tviewer_1640203745044069.setStyle({\"stick\": {\"colorscheme\": \"Jmol\"}});\n\tviewer_1640203745044069.addLabel(\"0\",{\"position\": {\"x\": \"0.18025125740432635\", \"y\": \"-1.5756753813643924\", \"z\": \"0.021502434442595697\"}, \"backgroundColor\": \"'black'\", \"backgroundOpacity\": \"0.4\", \"fontOpacity\": \"1\", \"fontSize\": \"12\", \"fontColor\": \"white\", \"inFront\": \"true\"});\n\tviewer_1640203745044069.addLabel(\"1\",{\"position\": {\"x\": \"-0.24710874259567372\", \"y\": \"-0.4629753813643924\", \"z\": \"0.8760124344425957\"}, \"backgroundColor\": \"'black'\", \"backgroundOpacity\": \"0.4\", \"fontOpacity\": \"1\", \"fontSize\": \"12\", \"fontColor\": \"white\", \"inFront\": \"true\"});\n\tviewer_1640203745044069.addLabel(\"2\",{\"position\": {\"x\": \"0.18555125740432632\", \"y\": \"0.9117146186356075\", \"z\": \"0.3312224344425957\"}, \"backgroundColor\": \"'black'\", \"backgroundOpacity\": \"0.4\", \"fontOpacity\": \"1\", \"fontSize\": \"12\", \"fontColor\": \"white\", \"inFront\": \"true\"});\n\tviewer_1640203745044069.addLabel(\"3\",{\"position\": {\"x\": \"-0.20735874259567366\", \"y\": \"1.1093746186356075\", \"z\": \"-1.0662175655574042\"}, \"backgroundColor\": \"'black'\", \"backgroundOpacity\": \"0.4\", \"fontOpacity\": \"1\", \"fontSize\": \"12\", \"fontColor\": \"white\", \"inFront\": \"true\"});\n\tviewer_1640203745044069.addLabel(\"4\",{\"position\": {\"x\": \"-0.2957687425956737\", \"y\": \"-1.4730653813643924\", \"z\": \"-0.8753175655574044\"}, \"backgroundColor\": \"'black'\", \"backgroundOpacity\": \"0.4\", \"fontOpacity\": \"1\", \"fontSize\": \"12\", \"fontColor\": \"white\", \"inFront\": \"true\"});\n\tviewer_1640203745044069.addLabel(\"5\",{\"position\": {\"x\": \"1.1757412574043262\", \"y\": \"-1.4889253813643923\", \"z\": \"-0.1725475655574043\"}, \"backgroundColor\": \"'black'\", \"backgroundOpacity\": \"0.4\", \"fontOpacity\": \"1\", \"fontSize\": \"12\", \"fontColor\": \"white\", \"inFront\": \"true\"});\n\tviewer_1640203745044069.addLabel(\"6\",{\"position\": {\"x\": \"-1.3386987425956738\", \"y\": \"-0.49709538136439235\", \"z\": \"0.9679424344425958\"}, \"backgroundColor\": \"'black'\", \"backgroundOpacity\": \"0.4\", \"fontOpacity\": \"1\", \"fontSize\": \"12\", \"fontColor\": \"white\", \"inFront\": \"true\"});\n\tviewer_1640203745044069.addLabel(\"7\",{\"position\": {\"x\": \"0.16712125740432626\", \"y\": \"-0.6029353813643924\", \"z\": \"1.8800224344425958\"}, \"backgroundColor\": \"'black'\", \"backgroundOpacity\": \"0.4\", \"fontOpacity\": \"1\", \"fontSize\": \"12\", \"fontColor\": \"white\", \"inFront\": \"true\"});\n\tviewer_1640203745044069.addLabel(\"8\",{\"position\": {\"x\": \"-0.2597287425956737\", \"y\": \"1.6999146186356078\", \"z\": \"0.9476524344425956\"}, \"backgroundColor\": \"'black'\", \"backgroundOpacity\": \"0.4\", \"fontOpacity\": \"1\", \"fontSize\": \"12\", \"fontColor\": \"white\", \"inFront\": \"true\"});\n\tviewer_1640203745044069.addLabel(\"9\",{\"position\": {\"x\": \"1.2748112574043264\", \"y\": \"1.0102346186356077\", \"z\": \"0.4063524344425957\"}, \"backgroundColor\": \"'black'\", \"backgroundOpacity\": \"0.4\", \"fontOpacity\": \"1\", \"fontSize\": \"12\", \"fontColor\": \"white\", \"inFront\": \"true\"});\n\tviewer_1640203745044069.addLabel(\"10\",{\"position\": {\"x\": \"0.08950125740432635\", \"y\": \"2.0368046186356077\", \"z\": \"-1.3678175655574043\"}, \"backgroundColor\": \"'black'\", \"backgroundOpacity\": \"0.4\", \"fontOpacity\": \"1\", \"fontSize\": \"12\", \"fontColor\": \"white\", \"inFront\": \"true\"});\n\tviewer_1640203745044069.addLabel(\"11\",{\"position\": {\"x\": \"0.29720125740432624\", \"y\": \"0.44767461863560776\", \"z\": \"-1.6541175655574043\"}, \"backgroundColor\": \"'black'\", \"backgroundOpacity\": \"0.4\", \"fontOpacity\": \"1\", \"fontSize\": \"12\", \"fontColor\": \"white\", \"inFront\": \"true\"});\n\tviewer_1640203745044069.zoomTo();\nviewer_1640203745044069.render();\n});\n</script>",
      "text/html": [
       "<div id=\"3dmolviewer_1640203745044069\"  style=\"position: relative; width: 500px; height: 500px\">\n",
       "        <p id=\"3dmolwarning_1640203745044069\" style=\"background-color:#ffcccc;color:black\">You appear to be running in JupyterLab (or JavaScript failed to load for some other reason).  You need to install the 3dmol extension: <br>\n",
       "        <tt>jupyter labextension install jupyterlab_3dmol</tt></p>\n",
       "        </div>\n",
       "<script>\n",
       "\n",
       "var loadScriptAsync = function(uri){\n",
       "  return new Promise((resolve, reject) => {\n",
       "    var tag = document.createElement('script');\n",
       "    tag.src = uri;\n",
       "    tag.async = true;\n",
       "    tag.onload = () => {\n",
       "      resolve();\n",
       "    };\n",
       "  var firstScriptTag = document.getElementsByTagName('script')[0];\n",
       "  firstScriptTag.parentNode.insertBefore(tag, firstScriptTag);\n",
       "});\n",
       "};\n",
       "\n",
       "if(typeof $3Dmolpromise === 'undefined') {\n",
       "$3Dmolpromise = null;\n",
       "  $3Dmolpromise = loadScriptAsync('https://3dmol.csb.pitt.edu/build/3Dmol.js');\n",
       "}\n",
       "\n",
       "var viewer_1640203745044069 = null;\n",
       "var warn = document.getElementById(\"3dmolwarning_1640203745044069\");\n",
       "if(warn) {\n",
       "    warn.parentNode.removeChild(warn);\n",
       "}\n",
       "$3Dmolpromise.then(function() {\n",
       "viewer_1640203745044069 = $3Dmol.createViewer($(\"#3dmolviewer_1640203745044069\"),{backgroundColor:\"white\"});\n",
       "\tviewer_1640203745044069.addModel(\"@<TRIPOS>MOLECULE\\ntmp.mol2\\n    12    11     1     0     0\\nSMALL\\nNoCharges\\n****\\nGenerated from Architector\\n\\n@<TRIPOS>ATOM\\n     1 N1        0.1803   -1.5757    0.0215   N.3       1 RES1   0.0000\\n     2 C1       -0.2471   -0.4630    0.8760   C.3       1 RES1   0.0000\\n     3 C2        0.1856    0.9117    0.3312   C.3       1 RES1   0.0000\\n     4 N2       -0.2074    1.1094   -1.0662   N.3       1 RES1   0.0000\\n     5 H1       -0.2958   -1.4731   -0.8753   H         1 RES1   0.0000\\n     6 H2        1.1757   -1.4889   -0.1725   H         1 RES1   0.0000\\n     7 H3       -1.3387   -0.4971    0.9679   H         1 RES1   0.0000\\n     8 H4        0.1671   -0.6029    1.8800   H         1 RES1   0.0000\\n     9 H5       -0.2597    1.6999    0.9477   H         1 RES1   0.0000\\n    10 H6        1.2748    1.0102    0.4064   H         1 RES1   0.0000\\n    11 H7        0.0895    2.0368   -1.3678   H         1 RES1   0.0000\\n    12 H8        0.2972    0.4477   -1.6541   H         1 RES1   0.0000\\n@<TRIPOS>BOND\\n     1     1     2    1\\n     2     1     5    1\\n     3     1     6    1\\n     4     2     3    1\\n     5     2     7    1\\n     6     2     8    1\\n     7     3     4    1\\n     8     3     9    1\\n     9     3    10    1\\n    10     4    11    1\\n    11     4    12    1\\n@<TRIPOS>SUBSTRUCTURE\\n     1 RES1       12 GROUP             0 ****  ****    0  \\n\",\"mol2\");\n",
       "\tviewer_1640203745044069.setStyle({\"stick\": {\"colorscheme\": \"Jmol\"}});\n",
       "\tviewer_1640203745044069.addLabel(\"0\",{\"position\": {\"x\": \"0.18025125740432635\", \"y\": \"-1.5756753813643924\", \"z\": \"0.021502434442595697\"}, \"backgroundColor\": \"'black'\", \"backgroundOpacity\": \"0.4\", \"fontOpacity\": \"1\", \"fontSize\": \"12\", \"fontColor\": \"white\", \"inFront\": \"true\"});\n",
       "\tviewer_1640203745044069.addLabel(\"1\",{\"position\": {\"x\": \"-0.24710874259567372\", \"y\": \"-0.4629753813643924\", \"z\": \"0.8760124344425957\"}, \"backgroundColor\": \"'black'\", \"backgroundOpacity\": \"0.4\", \"fontOpacity\": \"1\", \"fontSize\": \"12\", \"fontColor\": \"white\", \"inFront\": \"true\"});\n",
       "\tviewer_1640203745044069.addLabel(\"2\",{\"position\": {\"x\": \"0.18555125740432632\", \"y\": \"0.9117146186356075\", \"z\": \"0.3312224344425957\"}, \"backgroundColor\": \"'black'\", \"backgroundOpacity\": \"0.4\", \"fontOpacity\": \"1\", \"fontSize\": \"12\", \"fontColor\": \"white\", \"inFront\": \"true\"});\n",
       "\tviewer_1640203745044069.addLabel(\"3\",{\"position\": {\"x\": \"-0.20735874259567366\", \"y\": \"1.1093746186356075\", \"z\": \"-1.0662175655574042\"}, \"backgroundColor\": \"'black'\", \"backgroundOpacity\": \"0.4\", \"fontOpacity\": \"1\", \"fontSize\": \"12\", \"fontColor\": \"white\", \"inFront\": \"true\"});\n",
       "\tviewer_1640203745044069.addLabel(\"4\",{\"position\": {\"x\": \"-0.2957687425956737\", \"y\": \"-1.4730653813643924\", \"z\": \"-0.8753175655574044\"}, \"backgroundColor\": \"'black'\", \"backgroundOpacity\": \"0.4\", \"fontOpacity\": \"1\", \"fontSize\": \"12\", \"fontColor\": \"white\", \"inFront\": \"true\"});\n",
       "\tviewer_1640203745044069.addLabel(\"5\",{\"position\": {\"x\": \"1.1757412574043262\", \"y\": \"-1.4889253813643923\", \"z\": \"-0.1725475655574043\"}, \"backgroundColor\": \"'black'\", \"backgroundOpacity\": \"0.4\", \"fontOpacity\": \"1\", \"fontSize\": \"12\", \"fontColor\": \"white\", \"inFront\": \"true\"});\n",
       "\tviewer_1640203745044069.addLabel(\"6\",{\"position\": {\"x\": \"-1.3386987425956738\", \"y\": \"-0.49709538136439235\", \"z\": \"0.9679424344425958\"}, \"backgroundColor\": \"'black'\", \"backgroundOpacity\": \"0.4\", \"fontOpacity\": \"1\", \"fontSize\": \"12\", \"fontColor\": \"white\", \"inFront\": \"true\"});\n",
       "\tviewer_1640203745044069.addLabel(\"7\",{\"position\": {\"x\": \"0.16712125740432626\", \"y\": \"-0.6029353813643924\", \"z\": \"1.8800224344425958\"}, \"backgroundColor\": \"'black'\", \"backgroundOpacity\": \"0.4\", \"fontOpacity\": \"1\", \"fontSize\": \"12\", \"fontColor\": \"white\", \"inFront\": \"true\"});\n",
       "\tviewer_1640203745044069.addLabel(\"8\",{\"position\": {\"x\": \"-0.2597287425956737\", \"y\": \"1.6999146186356078\", \"z\": \"0.9476524344425956\"}, \"backgroundColor\": \"'black'\", \"backgroundOpacity\": \"0.4\", \"fontOpacity\": \"1\", \"fontSize\": \"12\", \"fontColor\": \"white\", \"inFront\": \"true\"});\n",
       "\tviewer_1640203745044069.addLabel(\"9\",{\"position\": {\"x\": \"1.2748112574043264\", \"y\": \"1.0102346186356077\", \"z\": \"0.4063524344425957\"}, \"backgroundColor\": \"'black'\", \"backgroundOpacity\": \"0.4\", \"fontOpacity\": \"1\", \"fontSize\": \"12\", \"fontColor\": \"white\", \"inFront\": \"true\"});\n",
       "\tviewer_1640203745044069.addLabel(\"10\",{\"position\": {\"x\": \"0.08950125740432635\", \"y\": \"2.0368046186356077\", \"z\": \"-1.3678175655574043\"}, \"backgroundColor\": \"'black'\", \"backgroundOpacity\": \"0.4\", \"fontOpacity\": \"1\", \"fontSize\": \"12\", \"fontColor\": \"white\", \"inFront\": \"true\"});\n",
       "\tviewer_1640203745044069.addLabel(\"11\",{\"position\": {\"x\": \"0.29720125740432624\", \"y\": \"0.44767461863560776\", \"z\": \"-1.6541175655574043\"}, \"backgroundColor\": \"'black'\", \"backgroundOpacity\": \"0.4\", \"fontOpacity\": \"1\", \"fontSize\": \"12\", \"fontColor\": \"white\", \"inFront\": \"true\"});\n",
       "\tviewer_1640203745044069.zoomTo();\n",
       "viewer_1640203745044069.render();\n",
       "});\n",
       "</script>"
      ]
     },
     "metadata": {},
     "output_type": "display_data"
    }
   ],
   "source": [
    "# With labelinds on the indices correspond to exactly what would be recognized during structure generation\n",
    "view_structures([ase_atoms],labelinds=True,w=500,h=500)"
   ]
  },
  {
   "cell_type": "code",
   "execution_count": 5,
   "id": "2196ee0f",
   "metadata": {},
   "outputs": [],
   "source": [
    "en_coordList = [0,3]\n",
    "en_ligType = 'bi_cis'"
   ]
  },
  {
   "cell_type": "code",
   "execution_count": 8,
   "id": "2e8d54c4",
   "metadata": {},
   "outputs": [],
   "source": [
    "in_smiles = 'OC(=O)CN(CCN(CC(O)=O)CC(O)=O)CC(O)=O' # EDTA\n",
    "ase_atoms = io_obabel.smiles2Atoms(in_smiles)"
   ]
  },
  {
   "cell_type": "code",
   "execution_count": 9,
   "id": "1a21d153",
   "metadata": {},
   "outputs": [
    {
     "data": {
      "application/3dmoljs_load.v0": "<div id=\"3dmolviewer_16402037708321211\"  style=\"position: relative; width: 500px; height: 500px\">\n        <p id=\"3dmolwarning_16402037708321211\" style=\"background-color:#ffcccc;color:black\">You appear to be running in JupyterLab (or JavaScript failed to load for some other reason).  You need to install the 3dmol extension: <br>\n        <tt>jupyter labextension install jupyterlab_3dmol</tt></p>\n        </div>\n<script>\n\nvar loadScriptAsync = function(uri){\n  return new Promise((resolve, reject) => {\n    var tag = document.createElement('script');\n    tag.src = uri;\n    tag.async = true;\n    tag.onload = () => {\n      resolve();\n    };\n  var firstScriptTag = document.getElementsByTagName('script')[0];\n  firstScriptTag.parentNode.insertBefore(tag, firstScriptTag);\n});\n};\n\nif(typeof $3Dmolpromise === 'undefined') {\n$3Dmolpromise = null;\n  $3Dmolpromise = loadScriptAsync('https://3dmol.csb.pitt.edu/build/3Dmol.js');\n}\n\nvar viewer_16402037708321211 = null;\nvar warn = document.getElementById(\"3dmolwarning_16402037708321211\");\nif(warn) {\n    warn.parentNode.removeChild(warn);\n}\n$3Dmolpromise.then(function() {\nviewer_16402037708321211 = $3Dmol.createViewer($(\"#3dmolviewer_16402037708321211\"),{backgroundColor:\"white\"});\n\tviewer_16402037708321211.addModel(\"@<TRIPOS>MOLECULE\\ntmp.mol2\\n    36    35     1     0     0\\nSMALL\\nNoCharges\\n****\\nGenerated from Architector\\n\\n@<TRIPOS>ATOM\\n     1 O1        2.8660   -1.1959    3.3634   O.2       1 RES1   0.0000\\n     2 C1        2.1523   -0.2576    2.7037   C.3       1 RES1   0.0000\\n     3 O2        2.7011    0.7439    2.2745   O.2       1 RES1   0.0000\\n     4 C2        0.6805   -0.6246    2.5685   C.3       1 RES1   0.0000\\n     5 N1        0.3143   -1.1143    1.2016   N.3       1 RES1   0.0000\\n     6 C3       -1.1552   -1.3557    1.1574   C.3       1 RES1   0.0000\\n     7 C4       -1.9572   -0.1453    0.6035   C.3       1 RES1   0.0000\\n     8 N2       -2.1512   -0.2057   -0.8507   N.3       1 RES1   0.0000\\n     9 C5       -3.2274    0.6857   -1.3430   C.3       1 RES1   0.0000\\n    10 C6       -2.8639    2.1576   -1.3254   C.3       1 RES1   0.0000\\n    11 O3       -2.7020    2.6487   -2.5719   O.2       1 RES1   0.0000\\n    12 O4       -2.6215    2.8307   -0.3388   O.2       1 RES1   0.0000\\n    13 C7       -0.9392   -0.1858   -1.6943   C.3       1 RES1   0.0000\\n    14 C8       -0.0534    1.0523   -1.5744   C.3       1 RES1   0.0000\\n    15 O5        0.7170    1.0941   -0.4713   O.2       1 RES1   0.0000\\n    16 O6       -0.0244    1.9518   -2.4061   O.2       1 RES1   0.0000\\n    17 C9        1.0588   -2.3728    0.8816   C.3       1 RES1   0.0000\\n    18 C10       1.8825   -2.1708   -0.3853   C.3       1 RES1   0.0000\\n    19 O7        2.7616   -1.1560   -0.2794   O.2       1 RES1   0.0000\\n    20 O8        1.7642   -2.7920   -1.4299   O.2       1 RES1   0.0000\\n    21 H1        3.7809   -0.8454    3.3431   H         1 RES1   0.0000\\n    22 H2        0.4254   -1.3631    3.3397   H         1 RES1   0.0000\\n    23 H3        0.1178    0.2875    2.8031   H         1 RES1   0.0000\\n    24 H4       -1.4054   -2.2248    0.5351   H         1 RES1   0.0000\\n    25 H5       -1.5313   -1.6074    2.1585   H         1 RES1   0.0000\\n    26 H6       -2.9470   -0.2038    1.0764   H         1 RES1   0.0000\\n    27 H7       -1.5231    0.8043    0.9335   H         1 RES1   0.0000\\n    28 H8       -3.4987    0.3890   -2.3654   H         1 RES1   0.0000\\n    29 H9       -4.1446    0.5531   -0.7558   H         1 RES1   0.0000\\n    30 H10      -2.0937    3.4128   -2.4585   H         1 RES1   0.0000\\n    31 H11      -0.3307   -1.0732   -1.5104   H         1 RES1   0.0000\\n    32 H12      -1.2259   -0.2815   -2.7496   H         1 RES1   0.0000\\n    33 H13       0.6262    0.3063    0.1158   H         1 RES1   0.0000\\n    34 H14       1.7396   -2.6997    1.6732   H         1 RES1   0.0000\\n    35 H15       0.3910   -3.2230    0.7011   H         1 RES1   0.0000\\n    36 H16       3.1488   -1.0314   -1.1717   H         1 RES1   0.0000\\n@<TRIPOS>BOND\\n     1     1     2    1\\n     2     1    21    1\\n     3     2     3    1\\n     4     2     4    1\\n     5     4     5    1\\n     6     4    22    1\\n     7     4    23    1\\n     8     5     6    1\\n     9     5    17    1\\n    10     6     7    1\\n    11     6    24    1\\n    12     6    25    1\\n    13     7     8    1\\n    14     7    26    1\\n    15     7    27    1\\n    16     8     9    1\\n    17     8    13    1\\n    18     9    10    1\\n    19     9    28    1\\n    20     9    29    1\\n    21    10    11    1\\n    22    10    12    1\\n    23    11    30    1\\n    24    13    14    1\\n    25    13    31    1\\n    26    13    32    1\\n    27    14    15    1\\n    28    14    16    1\\n    29    15    33    1\\n    30    17    18    1\\n    31    17    34    1\\n    32    17    35    1\\n    33    18    19    1\\n    34    18    20    1\\n    35    19    36    1\\n@<TRIPOS>SUBSTRUCTURE\\n     1 RES1       36 GROUP             0 ****  ****    0  \\n\",\"mol2\");\n\tviewer_16402037708321211.setStyle({\"stick\": {\"colorscheme\": \"Jmol\"}});\n\tviewer_16402037708321211.addLabel(\"0\",{\"position\": {\"x\": \"2.8660113089062573\", \"y\": \"-1.1959462147725874\", \"z\": \"3.3634329730636052\"}, \"backgroundColor\": \"'black'\", \"backgroundOpacity\": \"0.4\", \"fontOpacity\": \"1\", \"fontSize\": \"12\", \"fontColor\": \"white\", \"inFront\": \"true\"});\n\tviewer_16402037708321211.addLabel(\"1\",{\"position\": {\"x\": \"2.152251308906257\", \"y\": \"-0.2576062147725876\", \"z\": \"2.7036529730636056\"}, \"backgroundColor\": \"'black'\", \"backgroundOpacity\": \"0.4\", \"fontOpacity\": \"1\", \"fontSize\": \"12\", \"fontColor\": \"white\", \"inFront\": \"true\"});\n\tviewer_16402037708321211.addLabel(\"2\",{\"position\": {\"x\": \"2.701121308906257\", \"y\": \"0.7439337852274124\", \"z\": \"2.2744629730636055\"}, \"backgroundColor\": \"'black'\", \"backgroundOpacity\": \"0.4\", \"fontOpacity\": \"1\", \"fontSize\": \"12\", \"fontColor\": \"white\", \"inFront\": \"true\"});\n\tviewer_16402037708321211.addLabel(\"3\",{\"position\": {\"x\": \"0.680461308906257\", \"y\": \"-0.6245862147725876\", \"z\": \"2.5684829730636056\"}, \"backgroundColor\": \"'black'\", \"backgroundOpacity\": \"0.4\", \"fontOpacity\": \"1\", \"fontSize\": \"12\", \"fontColor\": \"white\", \"inFront\": \"true\"});\n\tviewer_16402037708321211.addLabel(\"4\",{\"position\": {\"x\": \"0.314311308906257\", \"y\": \"-1.1143362147725875\", \"z\": \"1.2015829730636054\"}, \"backgroundColor\": \"'black'\", \"backgroundOpacity\": \"0.4\", \"fontOpacity\": \"1\", \"fontSize\": \"12\", \"fontColor\": \"white\", \"inFront\": \"true\"});\n\tviewer_16402037708321211.addLabel(\"5\",{\"position\": {\"x\": \"-1.1551986910937428\", \"y\": \"-1.3556662147725875\", \"z\": \"1.1574029730636055\"}, \"backgroundColor\": \"'black'\", \"backgroundOpacity\": \"0.4\", \"fontOpacity\": \"1\", \"fontSize\": \"12\", \"fontColor\": \"white\", \"inFront\": \"true\"});\n\tviewer_16402037708321211.addLabel(\"6\",{\"position\": {\"x\": \"-1.957158691093743\", \"y\": \"-0.14527621477258756\", \"z\": \"0.6034929730636054\"}, \"backgroundColor\": \"'black'\", \"backgroundOpacity\": \"0.4\", \"fontOpacity\": \"1\", \"fontSize\": \"12\", \"fontColor\": \"white\", \"inFront\": \"true\"});\n\tviewer_16402037708321211.addLabel(\"7\",{\"position\": {\"x\": \"-2.1512386910937433\", \"y\": \"-0.20570621477258755\", \"z\": \"-0.8507270269363945\"}, \"backgroundColor\": \"'black'\", \"backgroundOpacity\": \"0.4\", \"fontOpacity\": \"1\", \"fontSize\": \"12\", \"fontColor\": \"white\", \"inFront\": \"true\"});\n\tviewer_16402037708321211.addLabel(\"8\",{\"position\": {\"x\": \"-3.2274186910937432\", \"y\": \"0.6856837852274125\", \"z\": \"-1.3430070269363945\"}, \"backgroundColor\": \"'black'\", \"backgroundOpacity\": \"0.4\", \"fontOpacity\": \"1\", \"fontSize\": \"12\", \"fontColor\": \"white\", \"inFront\": \"true\"});\n\tviewer_16402037708321211.addLabel(\"9\",{\"position\": {\"x\": \"-2.863948691093743\", \"y\": \"2.1575537852274125\", \"z\": \"-1.325447026936395\"}, \"backgroundColor\": \"'black'\", \"backgroundOpacity\": \"0.4\", \"fontOpacity\": \"1\", \"fontSize\": \"12\", \"fontColor\": \"white\", \"inFront\": \"true\"});\n\tviewer_16402037708321211.addLabel(\"10\",{\"position\": {\"x\": \"-2.7020486910937436\", \"y\": \"2.6487137852274123\", \"z\": \"-2.5718970269363943\"}, \"backgroundColor\": \"'black'\", \"backgroundOpacity\": \"0.4\", \"fontOpacity\": \"1\", \"fontSize\": \"12\", \"fontColor\": \"white\", \"inFront\": \"true\"});\n\tviewer_16402037708321211.addLabel(\"11\",{\"position\": {\"x\": \"-2.6215386910937433\", \"y\": \"2.8307037852274126\", \"z\": \"-0.33875702693639465\"}, \"backgroundColor\": \"'black'\", \"backgroundOpacity\": \"0.4\", \"fontOpacity\": \"1\", \"fontSize\": \"12\", \"fontColor\": \"white\", \"inFront\": \"true\"});\n\tviewer_16402037708321211.addLabel(\"12\",{\"position\": {\"x\": \"-0.9391986910937431\", \"y\": \"-0.18581621477258758\", \"z\": \"-1.6943270269363948\"}, \"backgroundColor\": \"'black'\", \"backgroundOpacity\": \"0.4\", \"fontOpacity\": \"1\", \"fontSize\": \"12\", \"fontColor\": \"white\", \"inFront\": \"true\"});\n\tviewer_16402037708321211.addLabel(\"13\",{\"position\": {\"x\": \"-0.05342869109374293\", \"y\": \"1.0522837852274125\", \"z\": \"-1.5744070269363943\"}, \"backgroundColor\": \"'black'\", \"backgroundOpacity\": \"0.4\", \"fontOpacity\": \"1\", \"fontSize\": \"12\", \"fontColor\": \"white\", \"inFront\": \"true\"});\n\tviewer_16402037708321211.addLabel(\"14\",{\"position\": {\"x\": \"0.7170413089062571\", \"y\": \"1.0940737852274123\", \"z\": \"-0.47133702693639457\"}, \"backgroundColor\": \"'black'\", \"backgroundOpacity\": \"0.4\", \"fontOpacity\": \"1\", \"fontSize\": \"12\", \"fontColor\": \"white\", \"inFront\": \"true\"});\n\tviewer_16402037708321211.addLabel(\"15\",{\"position\": {\"x\": \"-0.024388691093742976\", \"y\": \"1.9518037852274124\", \"z\": \"-2.4060970269363944\"}, \"backgroundColor\": \"'black'\", \"backgroundOpacity\": \"0.4\", \"fontOpacity\": \"1\", \"fontSize\": \"12\", \"fontColor\": \"white\", \"inFront\": \"true\"});\n\tviewer_16402037708321211.addLabel(\"16\",{\"position\": {\"x\": \"1.058781308906257\", \"y\": \"-2.3727762147725873\", \"z\": \"0.8815529730636054\"}, \"backgroundColor\": \"'black'\", \"backgroundOpacity\": \"0.4\", \"fontOpacity\": \"1\", \"fontSize\": \"12\", \"fontColor\": \"white\", \"inFront\": \"true\"});\n\tviewer_16402037708321211.addLabel(\"17\",{\"position\": {\"x\": \"1.882471308906257\", \"y\": \"-2.1708162147725876\", \"z\": \"-0.38529702693639445\"}, \"backgroundColor\": \"'black'\", \"backgroundOpacity\": \"0.4\", \"fontOpacity\": \"1\", \"fontSize\": \"12\", \"fontColor\": \"white\", \"inFront\": \"true\"});\n\tviewer_16402037708321211.addLabel(\"18\",{\"position\": {\"x\": \"2.761561308906257\", \"y\": \"-1.1560062147725876\", \"z\": \"-0.27944702693639467\"}, \"backgroundColor\": \"'black'\", \"backgroundOpacity\": \"0.4\", \"fontOpacity\": \"1\", \"fontSize\": \"12\", \"fontColor\": \"white\", \"inFront\": \"true\"});\n\tviewer_16402037708321211.addLabel(\"19\",{\"position\": {\"x\": \"1.764181308906257\", \"y\": \"-2.7920062147725875\", \"z\": \"-1.4298770269363947\"}, \"backgroundColor\": \"'black'\", \"backgroundOpacity\": \"0.4\", \"fontOpacity\": \"1\", \"fontSize\": \"12\", \"fontColor\": \"white\", \"inFront\": \"true\"});\n\tviewer_16402037708321211.addLabel(\"20\",{\"position\": {\"x\": \"3.7809113089062567\", \"y\": \"-0.8453862147725876\", \"z\": \"3.3430829730636056\"}, \"backgroundColor\": \"'black'\", \"backgroundOpacity\": \"0.4\", \"fontOpacity\": \"1\", \"fontSize\": \"12\", \"fontColor\": \"white\", \"inFront\": \"true\"});\n\tviewer_16402037708321211.addLabel(\"21\",{\"position\": {\"x\": \"0.425411308906257\", \"y\": \"-1.3631062147725876\", \"z\": \"3.3397129730636053\"}, \"backgroundColor\": \"'black'\", \"backgroundOpacity\": \"0.4\", \"fontOpacity\": \"1\", \"fontSize\": \"12\", \"fontColor\": \"white\", \"inFront\": \"true\"});\n\tviewer_16402037708321211.addLabel(\"22\",{\"position\": {\"x\": \"0.11778130890625693\", \"y\": \"0.2874537852274124\", \"z\": \"2.8031229730636054\"}, \"backgroundColor\": \"'black'\", \"backgroundOpacity\": \"0.4\", \"fontOpacity\": \"1\", \"fontSize\": \"12\", \"fontColor\": \"white\", \"inFront\": \"true\"});\n\tviewer_16402037708321211.addLabel(\"23\",{\"position\": {\"x\": \"-1.4053886910937432\", \"y\": \"-2.2247862147725876\", \"z\": \"0.5351229730636056\"}, \"backgroundColor\": \"'black'\", \"backgroundOpacity\": \"0.4\", \"fontOpacity\": \"1\", \"fontSize\": \"12\", \"fontColor\": \"white\", \"inFront\": \"true\"});\n\tviewer_16402037708321211.addLabel(\"24\",{\"position\": {\"x\": \"-1.531318691093743\", \"y\": \"-1.6073862147725877\", \"z\": \"2.1585229730636053\"}, \"backgroundColor\": \"'black'\", \"backgroundOpacity\": \"0.4\", \"fontOpacity\": \"1\", \"fontSize\": \"12\", \"fontColor\": \"white\", \"inFront\": \"true\"});\n\tviewer_16402037708321211.addLabel(\"25\",{\"position\": {\"x\": \"-2.9469586910937435\", \"y\": \"-0.20380621477258754\", \"z\": \"1.0764129730636054\"}, \"backgroundColor\": \"'black'\", \"backgroundOpacity\": \"0.4\", \"fontOpacity\": \"1\", \"fontSize\": \"12\", \"fontColor\": \"white\", \"inFront\": \"true\"});\n\tviewer_16402037708321211.addLabel(\"26\",{\"position\": {\"x\": \"-1.523098691093743\", \"y\": \"0.8043437852274125\", \"z\": \"0.9335029730636055\"}, \"backgroundColor\": \"'black'\", \"backgroundOpacity\": \"0.4\", \"fontOpacity\": \"1\", \"fontSize\": \"12\", \"fontColor\": \"white\", \"inFront\": \"true\"});\n\tviewer_16402037708321211.addLabel(\"27\",{\"position\": {\"x\": \"-3.4987386910937435\", \"y\": \"0.3889637852274124\", \"z\": \"-2.365447026936395\"}, \"backgroundColor\": \"'black'\", \"backgroundOpacity\": \"0.4\", \"fontOpacity\": \"1\", \"fontSize\": \"12\", \"fontColor\": \"white\", \"inFront\": \"true\"});\n\tviewer_16402037708321211.addLabel(\"28\",{\"position\": {\"x\": \"-4.144608691093743\", \"y\": \"0.5530737852274124\", \"z\": \"-0.7558270269363945\"}, \"backgroundColor\": \"'black'\", \"backgroundOpacity\": \"0.4\", \"fontOpacity\": \"1\", \"fontSize\": \"12\", \"fontColor\": \"white\", \"inFront\": \"true\"});\n\tviewer_16402037708321211.addLabel(\"29\",{\"position\": {\"x\": \"-2.0936586910937427\", \"y\": \"3.412783785227412\", \"z\": \"-2.4585470269363947\"}, \"backgroundColor\": \"'black'\", \"backgroundOpacity\": \"0.4\", \"fontOpacity\": \"1\", \"fontSize\": \"12\", \"fontColor\": \"white\", \"inFront\": \"true\"});\n\tviewer_16402037708321211.addLabel(\"30\",{\"position\": {\"x\": \"-0.33067869109374315\", \"y\": \"-1.0731662147725876\", \"z\": \"-1.5103970269363947\"}, \"backgroundColor\": \"'black'\", \"backgroundOpacity\": \"0.4\", \"fontOpacity\": \"1\", \"fontSize\": \"12\", \"fontColor\": \"white\", \"inFront\": \"true\"});\n\tviewer_16402037708321211.addLabel(\"31\",{\"position\": {\"x\": \"-1.225928691093743\", \"y\": \"-0.28145621477258753\", \"z\": \"-2.749647026936395\"}, \"backgroundColor\": \"'black'\", \"backgroundOpacity\": \"0.4\", \"fontOpacity\": \"1\", \"fontSize\": \"12\", \"fontColor\": \"white\", \"inFront\": \"true\"});\n\tviewer_16402037708321211.addLabel(\"32\",{\"position\": {\"x\": \"0.626161308906257\", \"y\": \"0.3062837852274125\", \"z\": \"0.11575297306360532\"}, \"backgroundColor\": \"'black'\", \"backgroundOpacity\": \"0.4\", \"fontOpacity\": \"1\", \"fontSize\": \"12\", \"fontColor\": \"white\", \"inFront\": \"true\"});\n\tviewer_16402037708321211.addLabel(\"33\",{\"position\": {\"x\": \"1.739641308906257\", \"y\": \"-2.6996762147725875\", \"z\": \"1.6731729730636054\"}, \"backgroundColor\": \"'black'\", \"backgroundOpacity\": \"0.4\", \"fontOpacity\": \"1\", \"fontSize\": \"12\", \"fontColor\": \"white\", \"inFront\": \"true\"});\n\tviewer_16402037708321211.addLabel(\"34\",{\"position\": {\"x\": \"0.3910313089062569\", \"y\": \"-3.2230362147725877\", \"z\": \"0.7011029730636054\"}, \"backgroundColor\": \"'black'\", \"backgroundOpacity\": \"0.4\", \"fontOpacity\": \"1\", \"fontSize\": \"12\", \"fontColor\": \"white\", \"inFront\": \"true\"});\n\tviewer_16402037708321211.addLabel(\"35\",{\"position\": {\"x\": \"3.148751308906257\", \"y\": \"-1.0314062147725875\", \"z\": \"-1.1717370269363947\"}, \"backgroundColor\": \"'black'\", \"backgroundOpacity\": \"0.4\", \"fontOpacity\": \"1\", \"fontSize\": \"12\", \"fontColor\": \"white\", \"inFront\": \"true\"});\n\tviewer_16402037708321211.zoomTo();\nviewer_16402037708321211.render();\n});\n</script>",
      "text/html": [
       "<div id=\"3dmolviewer_16402037708321211\"  style=\"position: relative; width: 500px; height: 500px\">\n",
       "        <p id=\"3dmolwarning_16402037708321211\" style=\"background-color:#ffcccc;color:black\">You appear to be running in JupyterLab (or JavaScript failed to load for some other reason).  You need to install the 3dmol extension: <br>\n",
       "        <tt>jupyter labextension install jupyterlab_3dmol</tt></p>\n",
       "        </div>\n",
       "<script>\n",
       "\n",
       "var loadScriptAsync = function(uri){\n",
       "  return new Promise((resolve, reject) => {\n",
       "    var tag = document.createElement('script');\n",
       "    tag.src = uri;\n",
       "    tag.async = true;\n",
       "    tag.onload = () => {\n",
       "      resolve();\n",
       "    };\n",
       "  var firstScriptTag = document.getElementsByTagName('script')[0];\n",
       "  firstScriptTag.parentNode.insertBefore(tag, firstScriptTag);\n",
       "});\n",
       "};\n",
       "\n",
       "if(typeof $3Dmolpromise === 'undefined') {\n",
       "$3Dmolpromise = null;\n",
       "  $3Dmolpromise = loadScriptAsync('https://3dmol.csb.pitt.edu/build/3Dmol.js');\n",
       "}\n",
       "\n",
       "var viewer_16402037708321211 = null;\n",
       "var warn = document.getElementById(\"3dmolwarning_16402037708321211\");\n",
       "if(warn) {\n",
       "    warn.parentNode.removeChild(warn);\n",
       "}\n",
       "$3Dmolpromise.then(function() {\n",
       "viewer_16402037708321211 = $3Dmol.createViewer($(\"#3dmolviewer_16402037708321211\"),{backgroundColor:\"white\"});\n",
       "\tviewer_16402037708321211.addModel(\"@<TRIPOS>MOLECULE\\ntmp.mol2\\n    36    35     1     0     0\\nSMALL\\nNoCharges\\n****\\nGenerated from Architector\\n\\n@<TRIPOS>ATOM\\n     1 O1        2.8660   -1.1959    3.3634   O.2       1 RES1   0.0000\\n     2 C1        2.1523   -0.2576    2.7037   C.3       1 RES1   0.0000\\n     3 O2        2.7011    0.7439    2.2745   O.2       1 RES1   0.0000\\n     4 C2        0.6805   -0.6246    2.5685   C.3       1 RES1   0.0000\\n     5 N1        0.3143   -1.1143    1.2016   N.3       1 RES1   0.0000\\n     6 C3       -1.1552   -1.3557    1.1574   C.3       1 RES1   0.0000\\n     7 C4       -1.9572   -0.1453    0.6035   C.3       1 RES1   0.0000\\n     8 N2       -2.1512   -0.2057   -0.8507   N.3       1 RES1   0.0000\\n     9 C5       -3.2274    0.6857   -1.3430   C.3       1 RES1   0.0000\\n    10 C6       -2.8639    2.1576   -1.3254   C.3       1 RES1   0.0000\\n    11 O3       -2.7020    2.6487   -2.5719   O.2       1 RES1   0.0000\\n    12 O4       -2.6215    2.8307   -0.3388   O.2       1 RES1   0.0000\\n    13 C7       -0.9392   -0.1858   -1.6943   C.3       1 RES1   0.0000\\n    14 C8       -0.0534    1.0523   -1.5744   C.3       1 RES1   0.0000\\n    15 O5        0.7170    1.0941   -0.4713   O.2       1 RES1   0.0000\\n    16 O6       -0.0244    1.9518   -2.4061   O.2       1 RES1   0.0000\\n    17 C9        1.0588   -2.3728    0.8816   C.3       1 RES1   0.0000\\n    18 C10       1.8825   -2.1708   -0.3853   C.3       1 RES1   0.0000\\n    19 O7        2.7616   -1.1560   -0.2794   O.2       1 RES1   0.0000\\n    20 O8        1.7642   -2.7920   -1.4299   O.2       1 RES1   0.0000\\n    21 H1        3.7809   -0.8454    3.3431   H         1 RES1   0.0000\\n    22 H2        0.4254   -1.3631    3.3397   H         1 RES1   0.0000\\n    23 H3        0.1178    0.2875    2.8031   H         1 RES1   0.0000\\n    24 H4       -1.4054   -2.2248    0.5351   H         1 RES1   0.0000\\n    25 H5       -1.5313   -1.6074    2.1585   H         1 RES1   0.0000\\n    26 H6       -2.9470   -0.2038    1.0764   H         1 RES1   0.0000\\n    27 H7       -1.5231    0.8043    0.9335   H         1 RES1   0.0000\\n    28 H8       -3.4987    0.3890   -2.3654   H         1 RES1   0.0000\\n    29 H9       -4.1446    0.5531   -0.7558   H         1 RES1   0.0000\\n    30 H10      -2.0937    3.4128   -2.4585   H         1 RES1   0.0000\\n    31 H11      -0.3307   -1.0732   -1.5104   H         1 RES1   0.0000\\n    32 H12      -1.2259   -0.2815   -2.7496   H         1 RES1   0.0000\\n    33 H13       0.6262    0.3063    0.1158   H         1 RES1   0.0000\\n    34 H14       1.7396   -2.6997    1.6732   H         1 RES1   0.0000\\n    35 H15       0.3910   -3.2230    0.7011   H         1 RES1   0.0000\\n    36 H16       3.1488   -1.0314   -1.1717   H         1 RES1   0.0000\\n@<TRIPOS>BOND\\n     1     1     2    1\\n     2     1    21    1\\n     3     2     3    1\\n     4     2     4    1\\n     5     4     5    1\\n     6     4    22    1\\n     7     4    23    1\\n     8     5     6    1\\n     9     5    17    1\\n    10     6     7    1\\n    11     6    24    1\\n    12     6    25    1\\n    13     7     8    1\\n    14     7    26    1\\n    15     7    27    1\\n    16     8     9    1\\n    17     8    13    1\\n    18     9    10    1\\n    19     9    28    1\\n    20     9    29    1\\n    21    10    11    1\\n    22    10    12    1\\n    23    11    30    1\\n    24    13    14    1\\n    25    13    31    1\\n    26    13    32    1\\n    27    14    15    1\\n    28    14    16    1\\n    29    15    33    1\\n    30    17    18    1\\n    31    17    34    1\\n    32    17    35    1\\n    33    18    19    1\\n    34    18    20    1\\n    35    19    36    1\\n@<TRIPOS>SUBSTRUCTURE\\n     1 RES1       36 GROUP             0 ****  ****    0  \\n\",\"mol2\");\n",
       "\tviewer_16402037708321211.setStyle({\"stick\": {\"colorscheme\": \"Jmol\"}});\n",
       "\tviewer_16402037708321211.addLabel(\"0\",{\"position\": {\"x\": \"2.8660113089062573\", \"y\": \"-1.1959462147725874\", \"z\": \"3.3634329730636052\"}, \"backgroundColor\": \"'black'\", \"backgroundOpacity\": \"0.4\", \"fontOpacity\": \"1\", \"fontSize\": \"12\", \"fontColor\": \"white\", \"inFront\": \"true\"});\n",
       "\tviewer_16402037708321211.addLabel(\"1\",{\"position\": {\"x\": \"2.152251308906257\", \"y\": \"-0.2576062147725876\", \"z\": \"2.7036529730636056\"}, \"backgroundColor\": \"'black'\", \"backgroundOpacity\": \"0.4\", \"fontOpacity\": \"1\", \"fontSize\": \"12\", \"fontColor\": \"white\", \"inFront\": \"true\"});\n",
       "\tviewer_16402037708321211.addLabel(\"2\",{\"position\": {\"x\": \"2.701121308906257\", \"y\": \"0.7439337852274124\", \"z\": \"2.2744629730636055\"}, \"backgroundColor\": \"'black'\", \"backgroundOpacity\": \"0.4\", \"fontOpacity\": \"1\", \"fontSize\": \"12\", \"fontColor\": \"white\", \"inFront\": \"true\"});\n",
       "\tviewer_16402037708321211.addLabel(\"3\",{\"position\": {\"x\": \"0.680461308906257\", \"y\": \"-0.6245862147725876\", \"z\": \"2.5684829730636056\"}, \"backgroundColor\": \"'black'\", \"backgroundOpacity\": \"0.4\", \"fontOpacity\": \"1\", \"fontSize\": \"12\", \"fontColor\": \"white\", \"inFront\": \"true\"});\n",
       "\tviewer_16402037708321211.addLabel(\"4\",{\"position\": {\"x\": \"0.314311308906257\", \"y\": \"-1.1143362147725875\", \"z\": \"1.2015829730636054\"}, \"backgroundColor\": \"'black'\", \"backgroundOpacity\": \"0.4\", \"fontOpacity\": \"1\", \"fontSize\": \"12\", \"fontColor\": \"white\", \"inFront\": \"true\"});\n",
       "\tviewer_16402037708321211.addLabel(\"5\",{\"position\": {\"x\": \"-1.1551986910937428\", \"y\": \"-1.3556662147725875\", \"z\": \"1.1574029730636055\"}, \"backgroundColor\": \"'black'\", \"backgroundOpacity\": \"0.4\", \"fontOpacity\": \"1\", \"fontSize\": \"12\", \"fontColor\": \"white\", \"inFront\": \"true\"});\n",
       "\tviewer_16402037708321211.addLabel(\"6\",{\"position\": {\"x\": \"-1.957158691093743\", \"y\": \"-0.14527621477258756\", \"z\": \"0.6034929730636054\"}, \"backgroundColor\": \"'black'\", \"backgroundOpacity\": \"0.4\", \"fontOpacity\": \"1\", \"fontSize\": \"12\", \"fontColor\": \"white\", \"inFront\": \"true\"});\n",
       "\tviewer_16402037708321211.addLabel(\"7\",{\"position\": {\"x\": \"-2.1512386910937433\", \"y\": \"-0.20570621477258755\", \"z\": \"-0.8507270269363945\"}, \"backgroundColor\": \"'black'\", \"backgroundOpacity\": \"0.4\", \"fontOpacity\": \"1\", \"fontSize\": \"12\", \"fontColor\": \"white\", \"inFront\": \"true\"});\n",
       "\tviewer_16402037708321211.addLabel(\"8\",{\"position\": {\"x\": \"-3.2274186910937432\", \"y\": \"0.6856837852274125\", \"z\": \"-1.3430070269363945\"}, \"backgroundColor\": \"'black'\", \"backgroundOpacity\": \"0.4\", \"fontOpacity\": \"1\", \"fontSize\": \"12\", \"fontColor\": \"white\", \"inFront\": \"true\"});\n",
       "\tviewer_16402037708321211.addLabel(\"9\",{\"position\": {\"x\": \"-2.863948691093743\", \"y\": \"2.1575537852274125\", \"z\": \"-1.325447026936395\"}, \"backgroundColor\": \"'black'\", \"backgroundOpacity\": \"0.4\", \"fontOpacity\": \"1\", \"fontSize\": \"12\", \"fontColor\": \"white\", \"inFront\": \"true\"});\n",
       "\tviewer_16402037708321211.addLabel(\"10\",{\"position\": {\"x\": \"-2.7020486910937436\", \"y\": \"2.6487137852274123\", \"z\": \"-2.5718970269363943\"}, \"backgroundColor\": \"'black'\", \"backgroundOpacity\": \"0.4\", \"fontOpacity\": \"1\", \"fontSize\": \"12\", \"fontColor\": \"white\", \"inFront\": \"true\"});\n",
       "\tviewer_16402037708321211.addLabel(\"11\",{\"position\": {\"x\": \"-2.6215386910937433\", \"y\": \"2.8307037852274126\", \"z\": \"-0.33875702693639465\"}, \"backgroundColor\": \"'black'\", \"backgroundOpacity\": \"0.4\", \"fontOpacity\": \"1\", \"fontSize\": \"12\", \"fontColor\": \"white\", \"inFront\": \"true\"});\n",
       "\tviewer_16402037708321211.addLabel(\"12\",{\"position\": {\"x\": \"-0.9391986910937431\", \"y\": \"-0.18581621477258758\", \"z\": \"-1.6943270269363948\"}, \"backgroundColor\": \"'black'\", \"backgroundOpacity\": \"0.4\", \"fontOpacity\": \"1\", \"fontSize\": \"12\", \"fontColor\": \"white\", \"inFront\": \"true\"});\n",
       "\tviewer_16402037708321211.addLabel(\"13\",{\"position\": {\"x\": \"-0.05342869109374293\", \"y\": \"1.0522837852274125\", \"z\": \"-1.5744070269363943\"}, \"backgroundColor\": \"'black'\", \"backgroundOpacity\": \"0.4\", \"fontOpacity\": \"1\", \"fontSize\": \"12\", \"fontColor\": \"white\", \"inFront\": \"true\"});\n",
       "\tviewer_16402037708321211.addLabel(\"14\",{\"position\": {\"x\": \"0.7170413089062571\", \"y\": \"1.0940737852274123\", \"z\": \"-0.47133702693639457\"}, \"backgroundColor\": \"'black'\", \"backgroundOpacity\": \"0.4\", \"fontOpacity\": \"1\", \"fontSize\": \"12\", \"fontColor\": \"white\", \"inFront\": \"true\"});\n",
       "\tviewer_16402037708321211.addLabel(\"15\",{\"position\": {\"x\": \"-0.024388691093742976\", \"y\": \"1.9518037852274124\", \"z\": \"-2.4060970269363944\"}, \"backgroundColor\": \"'black'\", \"backgroundOpacity\": \"0.4\", \"fontOpacity\": \"1\", \"fontSize\": \"12\", \"fontColor\": \"white\", \"inFront\": \"true\"});\n",
       "\tviewer_16402037708321211.addLabel(\"16\",{\"position\": {\"x\": \"1.058781308906257\", \"y\": \"-2.3727762147725873\", \"z\": \"0.8815529730636054\"}, \"backgroundColor\": \"'black'\", \"backgroundOpacity\": \"0.4\", \"fontOpacity\": \"1\", \"fontSize\": \"12\", \"fontColor\": \"white\", \"inFront\": \"true\"});\n",
       "\tviewer_16402037708321211.addLabel(\"17\",{\"position\": {\"x\": \"1.882471308906257\", \"y\": \"-2.1708162147725876\", \"z\": \"-0.38529702693639445\"}, \"backgroundColor\": \"'black'\", \"backgroundOpacity\": \"0.4\", \"fontOpacity\": \"1\", \"fontSize\": \"12\", \"fontColor\": \"white\", \"inFront\": \"true\"});\n",
       "\tviewer_16402037708321211.addLabel(\"18\",{\"position\": {\"x\": \"2.761561308906257\", \"y\": \"-1.1560062147725876\", \"z\": \"-0.27944702693639467\"}, \"backgroundColor\": \"'black'\", \"backgroundOpacity\": \"0.4\", \"fontOpacity\": \"1\", \"fontSize\": \"12\", \"fontColor\": \"white\", \"inFront\": \"true\"});\n",
       "\tviewer_16402037708321211.addLabel(\"19\",{\"position\": {\"x\": \"1.764181308906257\", \"y\": \"-2.7920062147725875\", \"z\": \"-1.4298770269363947\"}, \"backgroundColor\": \"'black'\", \"backgroundOpacity\": \"0.4\", \"fontOpacity\": \"1\", \"fontSize\": \"12\", \"fontColor\": \"white\", \"inFront\": \"true\"});\n",
       "\tviewer_16402037708321211.addLabel(\"20\",{\"position\": {\"x\": \"3.7809113089062567\", \"y\": \"-0.8453862147725876\", \"z\": \"3.3430829730636056\"}, \"backgroundColor\": \"'black'\", \"backgroundOpacity\": \"0.4\", \"fontOpacity\": \"1\", \"fontSize\": \"12\", \"fontColor\": \"white\", \"inFront\": \"true\"});\n",
       "\tviewer_16402037708321211.addLabel(\"21\",{\"position\": {\"x\": \"0.425411308906257\", \"y\": \"-1.3631062147725876\", \"z\": \"3.3397129730636053\"}, \"backgroundColor\": \"'black'\", \"backgroundOpacity\": \"0.4\", \"fontOpacity\": \"1\", \"fontSize\": \"12\", \"fontColor\": \"white\", \"inFront\": \"true\"});\n",
       "\tviewer_16402037708321211.addLabel(\"22\",{\"position\": {\"x\": \"0.11778130890625693\", \"y\": \"0.2874537852274124\", \"z\": \"2.8031229730636054\"}, \"backgroundColor\": \"'black'\", \"backgroundOpacity\": \"0.4\", \"fontOpacity\": \"1\", \"fontSize\": \"12\", \"fontColor\": \"white\", \"inFront\": \"true\"});\n",
       "\tviewer_16402037708321211.addLabel(\"23\",{\"position\": {\"x\": \"-1.4053886910937432\", \"y\": \"-2.2247862147725876\", \"z\": \"0.5351229730636056\"}, \"backgroundColor\": \"'black'\", \"backgroundOpacity\": \"0.4\", \"fontOpacity\": \"1\", \"fontSize\": \"12\", \"fontColor\": \"white\", \"inFront\": \"true\"});\n",
       "\tviewer_16402037708321211.addLabel(\"24\",{\"position\": {\"x\": \"-1.531318691093743\", \"y\": \"-1.6073862147725877\", \"z\": \"2.1585229730636053\"}, \"backgroundColor\": \"'black'\", \"backgroundOpacity\": \"0.4\", \"fontOpacity\": \"1\", \"fontSize\": \"12\", \"fontColor\": \"white\", \"inFront\": \"true\"});\n",
       "\tviewer_16402037708321211.addLabel(\"25\",{\"position\": {\"x\": \"-2.9469586910937435\", \"y\": \"-0.20380621477258754\", \"z\": \"1.0764129730636054\"}, \"backgroundColor\": \"'black'\", \"backgroundOpacity\": \"0.4\", \"fontOpacity\": \"1\", \"fontSize\": \"12\", \"fontColor\": \"white\", \"inFront\": \"true\"});\n",
       "\tviewer_16402037708321211.addLabel(\"26\",{\"position\": {\"x\": \"-1.523098691093743\", \"y\": \"0.8043437852274125\", \"z\": \"0.9335029730636055\"}, \"backgroundColor\": \"'black'\", \"backgroundOpacity\": \"0.4\", \"fontOpacity\": \"1\", \"fontSize\": \"12\", \"fontColor\": \"white\", \"inFront\": \"true\"});\n",
       "\tviewer_16402037708321211.addLabel(\"27\",{\"position\": {\"x\": \"-3.4987386910937435\", \"y\": \"0.3889637852274124\", \"z\": \"-2.365447026936395\"}, \"backgroundColor\": \"'black'\", \"backgroundOpacity\": \"0.4\", \"fontOpacity\": \"1\", \"fontSize\": \"12\", \"fontColor\": \"white\", \"inFront\": \"true\"});\n",
       "\tviewer_16402037708321211.addLabel(\"28\",{\"position\": {\"x\": \"-4.144608691093743\", \"y\": \"0.5530737852274124\", \"z\": \"-0.7558270269363945\"}, \"backgroundColor\": \"'black'\", \"backgroundOpacity\": \"0.4\", \"fontOpacity\": \"1\", \"fontSize\": \"12\", \"fontColor\": \"white\", \"inFront\": \"true\"});\n",
       "\tviewer_16402037708321211.addLabel(\"29\",{\"position\": {\"x\": \"-2.0936586910937427\", \"y\": \"3.412783785227412\", \"z\": \"-2.4585470269363947\"}, \"backgroundColor\": \"'black'\", \"backgroundOpacity\": \"0.4\", \"fontOpacity\": \"1\", \"fontSize\": \"12\", \"fontColor\": \"white\", \"inFront\": \"true\"});\n",
       "\tviewer_16402037708321211.addLabel(\"30\",{\"position\": {\"x\": \"-0.33067869109374315\", \"y\": \"-1.0731662147725876\", \"z\": \"-1.5103970269363947\"}, \"backgroundColor\": \"'black'\", \"backgroundOpacity\": \"0.4\", \"fontOpacity\": \"1\", \"fontSize\": \"12\", \"fontColor\": \"white\", \"inFront\": \"true\"});\n",
       "\tviewer_16402037708321211.addLabel(\"31\",{\"position\": {\"x\": \"-1.225928691093743\", \"y\": \"-0.28145621477258753\", \"z\": \"-2.749647026936395\"}, \"backgroundColor\": \"'black'\", \"backgroundOpacity\": \"0.4\", \"fontOpacity\": \"1\", \"fontSize\": \"12\", \"fontColor\": \"white\", \"inFront\": \"true\"});\n",
       "\tviewer_16402037708321211.addLabel(\"32\",{\"position\": {\"x\": \"0.626161308906257\", \"y\": \"0.3062837852274125\", \"z\": \"0.11575297306360532\"}, \"backgroundColor\": \"'black'\", \"backgroundOpacity\": \"0.4\", \"fontOpacity\": \"1\", \"fontSize\": \"12\", \"fontColor\": \"white\", \"inFront\": \"true\"});\n",
       "\tviewer_16402037708321211.addLabel(\"33\",{\"position\": {\"x\": \"1.739641308906257\", \"y\": \"-2.6996762147725875\", \"z\": \"1.6731729730636054\"}, \"backgroundColor\": \"'black'\", \"backgroundOpacity\": \"0.4\", \"fontOpacity\": \"1\", \"fontSize\": \"12\", \"fontColor\": \"white\", \"inFront\": \"true\"});\n",
       "\tviewer_16402037708321211.addLabel(\"34\",{\"position\": {\"x\": \"0.3910313089062569\", \"y\": \"-3.2230362147725877\", \"z\": \"0.7011029730636054\"}, \"backgroundColor\": \"'black'\", \"backgroundOpacity\": \"0.4\", \"fontOpacity\": \"1\", \"fontSize\": \"12\", \"fontColor\": \"white\", \"inFront\": \"true\"});\n",
       "\tviewer_16402037708321211.addLabel(\"35\",{\"position\": {\"x\": \"3.148751308906257\", \"y\": \"-1.0314062147725875\", \"z\": \"-1.1717370269363947\"}, \"backgroundColor\": \"'black'\", \"backgroundOpacity\": \"0.4\", \"fontOpacity\": \"1\", \"fontSize\": \"12\", \"fontColor\": \"white\", \"inFront\": \"true\"});\n",
       "\tviewer_16402037708321211.zoomTo();\n",
       "viewer_16402037708321211.render();\n",
       "});\n",
       "</script>"
      ]
     },
     "metadata": {},
     "output_type": "display_data"
    }
   ],
   "source": [
    "# With labelinds on the indices correspond to exactly what would be recognized during structure generation\n",
    "view_structures([ase_atoms],labelinds=True,w=500,h=500)"
   ]
  },
  {
   "cell_type": "code",
   "execution_count": 10,
   "id": "8138b3b7",
   "metadata": {},
   "outputs": [],
   "source": [
    "edta_coorlist = [4,7,2,11,15,19]\n",
    "edta_ligType = 'hexa_octahedral'"
   ]
  },
  {
   "cell_type": "code",
   "execution_count": 11,
   "id": "eb17c05c",
   "metadata": {},
   "outputs": [],
   "source": [
    "# This can be done for whatever ligands you have!"
   ]
  },
  {
   "cell_type": "code",
   "execution_count": null,
   "id": "58a4fc48",
   "metadata": {},
   "outputs": [],
   "source": []
  }
 ],
 "metadata": {
  "kernelspec": {
   "display_name": "Python 3",
   "language": "python",
   "name": "python3"
  },
  "language_info": {
   "codemirror_mode": {
    "name": "ipython",
    "version": 3
   },
   "file_extension": ".py",
   "mimetype": "text/x-python",
   "name": "python",
   "nbconvert_exporter": "python",
   "pygments_lexer": "ipython3",
   "version": "3.8.8"
  }
 },
 "nbformat": 4,
 "nbformat_minor": 5
}
