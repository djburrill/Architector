{
 "cells": [
  {
   "cell_type": "markdown",
   "id": "4302c967",
   "metadata": {},
   "source": [
    "# 7 - Secondary Solvation Shell\n",
    "\n",
    "Beyond simple ligands searched from SMILES, we want to dig into functionalizations of ligands!\n",
    "\n",
    "In this tutorial we will look at the ligand functionalization routines in Architector, covering:\n",
    "\n",
    "**(A)** Viewing default functional groups present in architector by name!\n",
    "\n",
    "**(B)** Identifying functionalization sites on ligands.\n",
    "\n",
    "**(C)** Adding both single and multiple functionalizations to a single ligand."
   ]
  },
  {
   "cell_type": "code",
   "execution_count": 1,
   "id": "2a424827",
   "metadata": {},
   "outputs": [],
   "source": [
    "from architector import (build_complex,\n",
    "                        view_structures)"
   ]
  },
  {
   "cell_type": "code",
   "execution_count": 2,
   "id": "d3df2a8a",
   "metadata": {},
   "outputs": [],
   "source": [
    "inputDict = {'core':{'metal':'Fe','coreType':'octahedral'},\n",
    "            'ligands':[{'smiles':'O','coordList':[0]}],\n",
    "            'parameters':dict()}"
   ]
  },
  {
   "cell_type": "code",
   "execution_count": 3,
   "id": "693d1541",
   "metadata": {},
   "outputs": [
    {
     "name": "stdout",
     "output_type": "stream",
     "text": [
      "Total valid symmetries for core octahedral:  1\n",
      "GENERATING CONFORMATIONS for O\n",
      "CONFORMERS GENERATED for O\n",
      "ASSEMBLING COMPLEX\n",
      "LIGAND: O\n",
      "FINDING CORRECT CONFORMER\n",
      "LIGAND: O\n",
      "FINDING CORRECT CONFORMER\n",
      "LIGAND: O\n",
      "FINDING CORRECT CONFORMER\n",
      "LIGAND: O\n",
      "FINDING CORRECT CONFORMER\n",
      "LIGAND: O\n",
      "FINDING CORRECT CONFORMER\n",
      "LIGAND: O\n",
      "FINDING CORRECT CONFORMER\n",
      "Initial Sanity:  True\n",
      "Complex sanity after adding ligands:  True\n",
      "Complex class generated:  True\n",
      "OPTIMIZING MOLECULE\n",
      "                Step[ FC]     Time          Energy          fmax\n",
      "*Force-consistent energies used in optimization.\n",
      "BFGSLineSearch:    0[  0] 16:37:24     -867.170038*       4.4804\n",
      "BFGSLineSearch:    1[  2] 16:37:24     -868.184000*       1.3493\n",
      "BFGSLineSearch:    2[  3] 16:37:24     -869.721016*       1.7982\n",
      "BFGSLineSearch:    3[  4] 16:37:24     -870.628923*       3.0902\n",
      "BFGSLineSearch:    4[  6] 16:37:24     -871.176430*       0.6051\n",
      "BFGSLineSearch:    5[  8] 16:37:24     -871.201601*       0.5484\n",
      "BFGSLineSearch:    6[  9] 16:37:25     -871.269653*       0.3177\n",
      "BFGSLineSearch:    7[ 11] 16:37:25     -871.272075*       0.1762\n",
      "BFGSLineSearch:    8[ 12] 16:37:25     -871.274558*       0.0569\n",
      "ComplexSanity:  True\n"
     ]
    }
   ],
   "source": [
    "out = build_complex(inputDict)"
   ]
  },
  {
   "cell_type": "code",
   "execution_count": 4,
   "id": "05e712e2",
   "metadata": {},
   "outputs": [],
   "source": [
    "start = out[list(out.keys())[0]]['mol2string']"
   ]
  },
  {
   "cell_type": "code",
   "execution_count": 5,
   "id": "c107170d",
   "metadata": {},
   "outputs": [
    {
     "data": {
      "application/3dmoljs_load.v0": "<div id=\"3dmolviewer_1653345445079254\"  style=\"position: relative; width: 200px; height: 200px\">\n        <p id=\"3dmolwarning_1653345445079254\" style=\"background-color:#ffcccc;color:black\">You appear to be running in JupyterLab (or JavaScript failed to load for some other reason).  You need to install the 3dmol extension: <br>\n        <tt>jupyter labextension install jupyterlab_3dmol</tt></p>\n        </div>\n<script>\n\nvar loadScriptAsync = function(uri){\n  return new Promise((resolve, reject) => {\n    var tag = document.createElement('script');\n    tag.src = uri;\n    tag.async = true;\n    tag.onload = () => {\n      resolve();\n    };\n  var firstScriptTag = document.getElementsByTagName('script')[0];\n  firstScriptTag.parentNode.insertBefore(tag, firstScriptTag);\n});\n};\n\nif(typeof $3Dmolpromise === 'undefined') {\n$3Dmolpromise = null;\n  $3Dmolpromise = loadScriptAsync('https://3dmol.csb.pitt.edu/build/3Dmol.js');\n}\n\nvar viewer_1653345445079254 = null;\nvar warn = document.getElementById(\"3dmolwarning_1653345445079254\");\nif(warn) {\n    warn.parentNode.removeChild(warn);\n}\n$3Dmolpromise.then(function() {\nviewer_1653345445079254 = $3Dmol.createViewer($(\"#3dmolviewer_1653345445079254\"),{backgroundColor:\"white\"});\n\tviewer_1653345445079254.addModel(\"@<TRIPOS>MOLECULE\\ntmp.mol2\\n    19    18     1     0     0\\nSMALL\\nNoCharges\\n****\\nGenerated from Architector\\n\\n@<TRIPOS>ATOM\\n     1 Fe1       0.0000    0.0000    0.0000   Fe        1 RES1   0.0000\\n     2 O1       -0.0000    0.0000    2.3127   O.3       1 RES1   0.0000\\n     3 H1        0.5074    0.5711    2.9146   H         1 RES1   0.0000\\n     4 H2       -0.5074   -0.5711    2.9146   H         1 RES1   0.0000\\n     5 O2        2.3105    0.0089    0.0054   O.3       1 RES1   0.0000\\n     6 H3        2.9052    0.0022   -0.7653   H         1 RES1   0.0000\\n     7 H4        2.9155   -0.0170    0.7669   H         1 RES1   0.0000\\n     8 O3       -2.3105   -0.0089    0.0054   O.3       1 RES1   0.0000\\n     9 H5       -2.9155    0.0170    0.7669   H         1 RES1   0.0000\\n    10 H6       -2.9052   -0.0022   -0.7653   H         1 RES1   0.0000\\n    11 O4        0.0070    2.3093   -0.0168   O.3       1 RES1   0.0000\\n    12 H7        0.7702    2.9101   -0.0071   H         1 RES1   0.0000\\n    13 H8       -0.7614    2.9043    0.0093   H         1 RES1   0.0000\\n    14 O5       -0.0070   -2.3093   -0.0168   O.3       1 RES1   0.0000\\n    15 H9       -0.7702   -2.9101   -0.0071   H         1 RES1   0.0000\\n    16 H10       0.7614   -2.9043    0.0093   H         1 RES1   0.0000\\n    17 O6       -0.0000    0.0000   -2.3087   O.3       1 RES1   0.0000\\n    18 H11      -0.0017    0.7666   -2.9054   H         1 RES1   0.0000\\n    19 H12       0.0017   -0.7666   -2.9054   H         1 RES1   0.0000\\n@<TRIPOS>BOND\\n     1     1     2    1\\n     2     1     5    1\\n     3     1     8    1\\n     4     1    11    1\\n     5     1    14    1\\n     6     1    17    1\\n     7     2     3    1\\n     8     2     4    1\\n     9     5     6    1\\n    10     5     7    1\\n    11     8     9    1\\n    12     8    10    1\\n    13    11    12    1\\n    14    11    13    1\\n    15    14    15    1\\n    16    14    16    1\\n    17    17    18    1\\n    18    17    19    1\\n@<TRIPOS>SUBSTRUCTURE\\n     1 RES1       19 GROUP             0 ****  ****    0  \\n\",\"mol2\");\n\tviewer_1653345445079254.setStyle({\"stick\": {\"colorscheme\": \"Jmol\"}});\n\tviewer_1653345445079254.zoomTo();\nviewer_1653345445079254.render();\n});\n</script>",
      "text/html": [
       "<div id=\"3dmolviewer_1653345445079254\"  style=\"position: relative; width: 200px; height: 200px\">\n",
       "        <p id=\"3dmolwarning_1653345445079254\" style=\"background-color:#ffcccc;color:black\">You appear to be running in JupyterLab (or JavaScript failed to load for some other reason).  You need to install the 3dmol extension: <br>\n",
       "        <tt>jupyter labextension install jupyterlab_3dmol</tt></p>\n",
       "        </div>\n",
       "<script>\n",
       "\n",
       "var loadScriptAsync = function(uri){\n",
       "  return new Promise((resolve, reject) => {\n",
       "    var tag = document.createElement('script');\n",
       "    tag.src = uri;\n",
       "    tag.async = true;\n",
       "    tag.onload = () => {\n",
       "      resolve();\n",
       "    };\n",
       "  var firstScriptTag = document.getElementsByTagName('script')[0];\n",
       "  firstScriptTag.parentNode.insertBefore(tag, firstScriptTag);\n",
       "});\n",
       "};\n",
       "\n",
       "if(typeof $3Dmolpromise === 'undefined') {\n",
       "$3Dmolpromise = null;\n",
       "  $3Dmolpromise = loadScriptAsync('https://3dmol.csb.pitt.edu/build/3Dmol.js');\n",
       "}\n",
       "\n",
       "var viewer_1653345445079254 = null;\n",
       "var warn = document.getElementById(\"3dmolwarning_1653345445079254\");\n",
       "if(warn) {\n",
       "    warn.parentNode.removeChild(warn);\n",
       "}\n",
       "$3Dmolpromise.then(function() {\n",
       "viewer_1653345445079254 = $3Dmol.createViewer($(\"#3dmolviewer_1653345445079254\"),{backgroundColor:\"white\"});\n",
       "\tviewer_1653345445079254.addModel(\"@<TRIPOS>MOLECULE\\ntmp.mol2\\n    19    18     1     0     0\\nSMALL\\nNoCharges\\n****\\nGenerated from Architector\\n\\n@<TRIPOS>ATOM\\n     1 Fe1       0.0000    0.0000    0.0000   Fe        1 RES1   0.0000\\n     2 O1       -0.0000    0.0000    2.3127   O.3       1 RES1   0.0000\\n     3 H1        0.5074    0.5711    2.9146   H         1 RES1   0.0000\\n     4 H2       -0.5074   -0.5711    2.9146   H         1 RES1   0.0000\\n     5 O2        2.3105    0.0089    0.0054   O.3       1 RES1   0.0000\\n     6 H3        2.9052    0.0022   -0.7653   H         1 RES1   0.0000\\n     7 H4        2.9155   -0.0170    0.7669   H         1 RES1   0.0000\\n     8 O3       -2.3105   -0.0089    0.0054   O.3       1 RES1   0.0000\\n     9 H5       -2.9155    0.0170    0.7669   H         1 RES1   0.0000\\n    10 H6       -2.9052   -0.0022   -0.7653   H         1 RES1   0.0000\\n    11 O4        0.0070    2.3093   -0.0168   O.3       1 RES1   0.0000\\n    12 H7        0.7702    2.9101   -0.0071   H         1 RES1   0.0000\\n    13 H8       -0.7614    2.9043    0.0093   H         1 RES1   0.0000\\n    14 O5       -0.0070   -2.3093   -0.0168   O.3       1 RES1   0.0000\\n    15 H9       -0.7702   -2.9101   -0.0071   H         1 RES1   0.0000\\n    16 H10       0.7614   -2.9043    0.0093   H         1 RES1   0.0000\\n    17 O6       -0.0000    0.0000   -2.3087   O.3       1 RES1   0.0000\\n    18 H11      -0.0017    0.7666   -2.9054   H         1 RES1   0.0000\\n    19 H12       0.0017   -0.7666   -2.9054   H         1 RES1   0.0000\\n@<TRIPOS>BOND\\n     1     1     2    1\\n     2     1     5    1\\n     3     1     8    1\\n     4     1    11    1\\n     5     1    14    1\\n     6     1    17    1\\n     7     2     3    1\\n     8     2     4    1\\n     9     5     6    1\\n    10     5     7    1\\n    11     8     9    1\\n    12     8    10    1\\n    13    11    12    1\\n    14    11    13    1\\n    15    14    15    1\\n    16    14    16    1\\n    17    17    18    1\\n    18    17    19    1\\n@<TRIPOS>SUBSTRUCTURE\\n     1 RES1       19 GROUP             0 ****  ****    0  \\n\",\"mol2\");\n",
       "\tviewer_1653345445079254.setStyle({\"stick\": {\"colorscheme\": \"Jmol\"}});\n",
       "\tviewer_1653345445079254.zoomTo();\n",
       "viewer_1653345445079254.render();\n",
       "});\n",
       "</script>"
      ]
     },
     "metadata": {},
     "output_type": "display_data"
    }
   ],
   "source": [
    "view_structures(start)"
   ]
  },
  {
   "cell_type": "code",
   "execution_count": 6,
   "id": "b4a73928",
   "metadata": {},
   "outputs": [],
   "source": [
    "from architector.io_crest import add_explicit_solvents"
   ]
  },
  {
   "cell_type": "code",
   "execution_count": 7,
   "id": "1ce1b935",
   "metadata": {},
   "outputs": [
    {
     "name": "stderr",
     "output_type": "stream",
     "text": [
      "Note: The following floating-point exceptions are signalling: IEEE_DENORMAL\n",
      "ERROR STOP \n",
      "\n",
      "Error termination. Backtrace:\n",
      "#0  0x106a114dc\n",
      "#1  0x106a12395\n",
      "#2  0x106a13b04\n",
      "#3  0x10601e7e9\n",
      "#4  0x105fccac0\n",
      "#5  0x105fce65e\n",
      "#6  0x106125c9f\n",
      "#7  0x1061260fe\n"
     ]
    },
    {
     "ename": "CalledProcessError",
     "evalue": "Command 'crest solute.xyz --qcg solvent.xyz --chrg 3 --uhf 5 --nsolv 6 --T 12 --ensemble --alpb water --mdtime 50 --mddump 200 > crest.out' returned non-zero exit status 1.",
     "output_type": "error",
     "traceback": [
      "\u001b[0;31m---------------------------------------------------------------------------\u001b[0m",
      "\u001b[0;31mCalledProcessError\u001b[0m                        Traceback (most recent call last)",
      "\u001b[0;32m/var/folders/hm/58cd4wn126gg0_gbqn15c21800144l/T/ipykernel_40018/2338525459.py\u001b[0m in \u001b[0;36m<module>\u001b[0;34m\u001b[0m\n\u001b[0;32m----> 1\u001b[0;31m \u001b[0mstructs\u001b[0m\u001b[0;34m,\u001b[0m\u001b[0menergies\u001b[0m \u001b[0;34m=\u001b[0m \u001b[0madd_explicit_solvents\u001b[0m\u001b[0;34m(\u001b[0m\u001b[0mstart\u001b[0m\u001b[0;34m)\u001b[0m\u001b[0;34m\u001b[0m\u001b[0;34m\u001b[0m\u001b[0m\n\u001b[0m",
      "\u001b[0;32m~/software/architector/architector/io_crest.py\u001b[0m in \u001b[0;36madd_explicit_solvents\u001b[0;34m(complex_mol2string, n_solvents, solvent)\u001b[0m\n\u001b[1;32m    239\u001b[0m         \u001b[0mfile1\u001b[0m\u001b[0;34m.\u001b[0m\u001b[0mwrite\u001b[0m\u001b[0;34m(\u001b[0m\u001b[0mmolcontrol_str\u001b[0m\u001b[0;34m)\u001b[0m\u001b[0;34m\u001b[0m\u001b[0;34m\u001b[0m\u001b[0m\n\u001b[1;32m    240\u001b[0m \u001b[0;34m\u001b[0m\u001b[0m\n\u001b[0;32m--> 241\u001b[0;31m     \u001b[0msub\u001b[0m\u001b[0;34m.\u001b[0m\u001b[0mrun\u001b[0m\u001b[0;34m(\u001b[0m\u001b[0mexecStr\u001b[0m\u001b[0;34m,\u001b[0m\u001b[0mshell\u001b[0m\u001b[0;34m=\u001b[0m\u001b[0;32mTrue\u001b[0m\u001b[0;34m,\u001b[0m\u001b[0mcheck\u001b[0m\u001b[0;34m=\u001b[0m\u001b[0;32mTrue\u001b[0m\u001b[0;34m)\u001b[0m\u001b[0;34m\u001b[0m\u001b[0;34m\u001b[0m\u001b[0m\n\u001b[0m\u001b[1;32m    242\u001b[0m \u001b[0;34m\u001b[0m\u001b[0m\n\u001b[1;32m    243\u001b[0m     \u001b[0mconformerList\u001b[0m\u001b[0;34m,\u001b[0m \u001b[0mxtb_energies\u001b[0m \u001b[0;34m=\u001b[0m \u001b[0mread_conformers\u001b[0m\u001b[0;34m(\u001b[0m\u001b[0;34m\"final_ensemble.xyz\"\u001b[0m\u001b[0;34m)\u001b[0m\u001b[0;34m\u001b[0m\u001b[0;34m\u001b[0m\u001b[0m\n",
      "\u001b[0;32m/opt/anaconda3/envs/architector/lib/python3.9/subprocess.py\u001b[0m in \u001b[0;36mrun\u001b[0;34m(input, capture_output, timeout, check, *popenargs, **kwargs)\u001b[0m\n\u001b[1;32m    526\u001b[0m         \u001b[0mretcode\u001b[0m \u001b[0;34m=\u001b[0m \u001b[0mprocess\u001b[0m\u001b[0;34m.\u001b[0m\u001b[0mpoll\u001b[0m\u001b[0;34m(\u001b[0m\u001b[0;34m)\u001b[0m\u001b[0;34m\u001b[0m\u001b[0;34m\u001b[0m\u001b[0m\n\u001b[1;32m    527\u001b[0m         \u001b[0;32mif\u001b[0m \u001b[0mcheck\u001b[0m \u001b[0;32mand\u001b[0m \u001b[0mretcode\u001b[0m\u001b[0;34m:\u001b[0m\u001b[0;34m\u001b[0m\u001b[0;34m\u001b[0m\u001b[0m\n\u001b[0;32m--> 528\u001b[0;31m             raise CalledProcessError(retcode, process.args,\n\u001b[0m\u001b[1;32m    529\u001b[0m                                      output=stdout, stderr=stderr)\n\u001b[1;32m    530\u001b[0m     \u001b[0;32mreturn\u001b[0m \u001b[0mCompletedProcess\u001b[0m\u001b[0;34m(\u001b[0m\u001b[0mprocess\u001b[0m\u001b[0;34m.\u001b[0m\u001b[0margs\u001b[0m\u001b[0;34m,\u001b[0m \u001b[0mretcode\u001b[0m\u001b[0;34m,\u001b[0m \u001b[0mstdout\u001b[0m\u001b[0;34m,\u001b[0m \u001b[0mstderr\u001b[0m\u001b[0;34m)\u001b[0m\u001b[0;34m\u001b[0m\u001b[0;34m\u001b[0m\u001b[0m\n",
      "\u001b[0;31mCalledProcessError\u001b[0m: Command 'crest solute.xyz --qcg solvent.xyz --chrg 3 --uhf 5 --nsolv 6 --T 12 --ensemble --alpb water --mdtime 50 --mddump 200 > crest.out' returned non-zero exit status 1."
     ]
    }
   ],
   "source": [
    "structs,energies = add_explicit_solvents(start)"
   ]
  },
  {
   "cell_type": "code",
   "execution_count": null,
   "id": "4942d607",
   "metadata": {},
   "outputs": [],
   "source": [
    "ls"
   ]
  },
  {
   "cell_type": "code",
   "execution_count": null,
   "id": "e4904017",
   "metadata": {},
   "outputs": [],
   "source": []
  }
 ],
 "metadata": {
  "kernelspec": {
   "display_name": "Python 3 (ipykernel)",
   "language": "python",
   "name": "python3"
  },
  "language_info": {
   "codemirror_mode": {
    "name": "ipython",
    "version": 3
   },
   "file_extension": ".py",
   "mimetype": "text/x-python",
   "name": "python",
   "nbconvert_exporter": "python",
   "pygments_lexer": "ipython3",
   "version": "3.9.7"
  }
 },
 "nbformat": 4,
 "nbformat_minor": 5
}
